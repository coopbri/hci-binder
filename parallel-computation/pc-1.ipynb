{
 "cells": [
  {
   "cell_type": "markdown",
   "metadata": {},
   "source": [
    "# Parallel Computation\n",
    "## Parallelism\n",
    "*Lesson Developer: Eric Shook eshook@umn.edu*\n"
   ]
  },
  {
   "cell_type": "code",
   "execution_count": 1,
   "metadata": {
    "init_cell": true
   },
   "outputs": [
    {
     "data": {
      "text/html": [
       "\n",
       "    <script>\n",
       "        display = true; \n",
       "        function toggle() {\n",
       "            var input = $(\"div.input\");\n",
       "            if (display) { input.hide(); }\n",
       "            else { input.show(); }\n",
       "            display = !display;\n",
       "        }\n",
       "        $(document).ready(toggle);\n",
       "    </script>\n",
       "    \n",
       "    <form action=\"javascript:toggle()\">\n",
       "        <input type=\"submit\" value=\"Toggle raw code\">\n",
       "    </form>\n"
      ],
      "text/plain": [
       "<IPython.core.display.HTML object>"
      ]
     },
     "execution_count": 1,
     "metadata": {},
     "output_type": "execute_result"
    }
   ],
   "source": [
    "from IPython.display import HTML, IFrame, Javascript\n",
    "from ipywidgets import interactive\n",
    "import ipywidgets as widgets\n",
    "\n",
    "# hide code output\n",
    "HTML('''\n",
    "    <script>\n",
    "        display = true; \n",
    "        function toggle() {\n",
    "            var input = $(\"div.input\");\n",
    "            if (display) { input.hide(); }\n",
    "            else { input.show(); }\n",
    "            display = !display;\n",
    "        }\n",
    "        $(document).ready(toggle);\n",
    "    </script>\n",
    "    \n",
    "    <form action=\"javascript:toggle()\">\n",
    "        <input type=\"submit\" value=\"Toggle raw code\">\n",
    "    </form>\n",
    "''')"
   ]
  },
  {
   "cell_type": "markdown",
   "metadata": {},
   "source": [
    "### Purpose of Parallel Computation\n",
    "Almost every desktop computer, laptop computer, cellphone, and server has more that one processing **core** used to make sense of data, and they are called **multi-core processors.** These cores can help you find the nearest \"Hip Po Coffee\" location, estimate tomorrow's weather forecast, or calculate where stones thrown by a catapult will land. We use lots of terms for making sense of data: processing data, filtering data, querying data, analyzing data, data munging, and visualizing data are just a few examples. \n",
    "\n",
    "What if we have lots and lots of data? So much data that it takes one processing core hours, days, weeks, or even years to filter, query, analyze, or visualize it? Parallel computation is a special type of computation that enables multiple calculations to be performed simultanously using multiple processing cores.\n",
    "\n",
    "Before we get into parallel computation. First, let's have a little race."
   ]
  },
  {
   "cell_type": "markdown",
   "metadata": {},
   "source": [
    "### The race is on! How fast can you plant a field?\n",
    "\n",
    "Click on each cell to plant one seed. Let's see how fast you can do it.\n",
    "\n"
   ]
  },
  {
   "cell_type": "markdown",
   "metadata": {},
   "source": [
    "__TODO:__ Add completion message: \"Great job.\""
   ]
  },
  {
   "cell_type": "code",
   "execution_count": 7,
   "metadata": {
    "init_cell": true
   },
   "outputs": [
    {
     "data": {
      "text/html": [
       "\n",
       "        <iframe\n",
       "            width=\"600\"\n",
       "            height=\"350\"\n",
       "            src=\"field-manual.html\"\n",
       "            frameborder=\"0\"\n",
       "            allowfullscreen\n",
       "        ></iframe>\n",
       "        "
      ],
      "text/plain": [
       "<IPython.lib.display.IFrame at 0x7f1da4708990>"
      ]
     },
     "execution_count": 7,
     "metadata": {},
     "output_type": "execute_result"
    }
   ],
   "source": [
    "IFrame(\"field-manual.html\", width=\"600\", height=\"350\")"
   ]
  },
  {
   "cell_type": "markdown",
   "metadata": {},
   "source": [
    "### Meet Sam.\n",
    "\n",
    "Sam is grumpy and works alone. In fact, he will only do his work when no one else is in the field. "
   ]
  },
  {
   "cell_type": "markdown",
   "metadata": {},
   "source": [
    "__TODO:__ Add Sam D3 illustration (single farmer)"
   ]
  },
  {
   "cell_type": "code",
   "execution_count": 9,
   "metadata": {
    "init_cell": true
   },
   "outputs": [
    {
     "data": {
      "text/html": [
       "\n",
       "        <iframe\n",
       "            width=\"600\"\n",
       "            height=\"350\"\n",
       "            src=\"field-one.html\"\n",
       "            frameborder=\"0\"\n",
       "            allowfullscreen\n",
       "        ></iframe>\n",
       "        "
      ],
      "text/plain": [
       "<IPython.lib.display.IFrame at 0x7f1da470e310>"
      ]
     },
     "execution_count": 9,
     "metadata": {},
     "output_type": "execute_result"
    }
   ],
   "source": [
    "IFrame(\"field-one.html\", width=\"600\", height=\"350\")"
   ]
  },
  {
   "cell_type": "markdown",
   "metadata": {},
   "source": [
    "How quickly can Sam plant the entire field if he has all the seeds?\n",
    "\n",
    "Add input textbox to take in seconds."
   ]
  },
  {
   "cell_type": "markdown",
   "metadata": {},
   "source": [
    "What is the fundamental limitation in the planting time? Check all that apply\n",
    "\n",
    "Multiple checkboxes with a submit button:\n",
    "Sam's speed\n",
    "The number of spots to plant\n",
    "Sam's shoe color\n",
    "\n",
    "Top two are correct."
   ]
  },
  {
   "cell_type": "markdown",
   "metadata": {},
   "source": [
    "Sam's speed gives us an example of **processing speed.** How fast can a core process data? This is usually measured in clock cycles per second (or Hertz/Hz) and is the [Clock Rate](https://en.wikipedia.org/wiki/Clock_rate) of a processor. Today, most processors are between 1.8 and 3.0 Gigahertz/GHz. This means that processors have a clock speed between 1,800,000,000 to 3,000,000,000 clock cycles per second! The clock rate of a processor can tell you roughly how fast it can process data.\n",
    "\n",
    "The number of spots to plant gives us an example of **data to process.** How much data do we need to crunch before it is all done?\n",
    "\n",
    "Sam's shoe color is just a stylish choice so while it may help Sam feel cool. It won't get the field planted any faster."
   ]
  },
  {
   "cell_type": "markdown",
   "metadata": {},
   "source": [
    "How did you compare?\n",
    "\n",
    "**Show the time for person and time for sam.**\n",
    "\n",
    "Compared to Sam planting the field, I was: faster/slower/about the speed (dropdown menu with those 3 choices)"
   ]
  },
  {
   "cell_type": "markdown",
   "metadata": {},
   "source": [
    "Sam is an example of what is known as **serial computation**. He will only work alone and does his tasks one step at a time. When anyone learns how to program they learn how to write a program for serial computation. The next step in programming is **parallel computation.**"
   ]
  },
  {
   "cell_type": "markdown",
   "metadata": {},
   "source": [
    "### Meet Parker and Patricia. \n",
    "\n",
    "Parker and Patricia love to share, and they will work in the field at the same time. Move the BLUE? bar to adjust how many seeds they will each plant. Use the dropdown menu to adjust their planting speed.\n",
    "\n",
    "How quickly can Parker and Patricia plant the entire field if they split all the seeds evenly?\n"
   ]
  },
  {
   "cell_type": "code",
   "execution_count": 13,
   "metadata": {
    "init_cell": true
   },
   "outputs": [
    {
     "data": {
      "text/html": [
       "\n",
       "        <iframe\n",
       "            width=\"600\"\n",
       "            height=\"520\"\n",
       "            src=\"field-two.html\"\n",
       "            frameborder=\"0\"\n",
       "            allowfullscreen\n",
       "        ></iframe>\n",
       "        "
      ],
      "text/plain": [
       "<IPython.lib.display.IFrame at 0x7f1da47106d0>"
      ]
     },
     "execution_count": 13,
     "metadata": {},
     "output_type": "execute_result"
    }
   ],
   "source": [
    "IFrame(\"field-two.html\", width=\"600\", height=\"520\")"
   ]
  },
  {
   "cell_type": "markdown",
   "metadata": {},
   "source": [
    "When working together what is the fastest time that Parker and Patricia can plant the field?\n",
    "\n",
    "Slider with 0 to 20 seconds."
   ]
  },
  {
   "cell_type": "markdown",
   "metadata": {},
   "source": [
    "What is the slowest time?\n",
    "\n",
    "Slider with 0 to 20 seconds."
   ]
  },
  {
   "cell_type": "markdown",
   "metadata": {},
   "source": [
    "What is the difference between the fastest and slowest time?\n",
    "\n",
    "Textbox answer"
   ]
  },
  {
   "cell_type": "markdown",
   "metadata": {},
   "source": [
    "To get the fastest time in this scenario requires two things. First, both Parker and Patricia need to be moving as quickly as possible, which means they are going the same speed: fast. Second, they need to have the same amount of work. \n",
    "\n",
    "The first requirement gives us an example of **processing speed** that we learned about earlier.\n",
    "\n",
    "The second requirement gives us an example of **load balancing.** Load balancing ensures that each core is processing its fair share of data, which will make parallel computation faster. Just as we saw with Parker and Patricia if they are both working to plant their portion of the field simultaneously the entire field is planted faster. If only Patricia is planting the field and Parker is not helping, then it takes longer because she is doing all of the work and Parker is doing no work. This is improper load balancing. The same is true in parallel computation. If we have two or more cores that are capable of processing data and we only use one core, then the other cores are not helping to speed up the computation."
   ]
  },
  {
   "cell_type": "markdown",
   "metadata": {},
   "source": [
    "**Continue the journey: [Next Example](pc-2.ipynb)**"
   ]
  }
 ],
 "metadata": {
  "celltoolbar": "Initialization Cell",
  "kernelspec": {
   "display_name": "Python 3",
   "language": "python",
   "name": "python3"
  },
  "language_info": {
   "codemirror_mode": {
    "name": "ipython",
    "version": 3
   },
   "file_extension": ".py",
   "mimetype": "text/x-python",
   "name": "python",
   "nbconvert_exporter": "python",
   "pygments_lexer": "ipython3",
   "version": "3.7.4"
  }
 },
 "nbformat": 4,
 "nbformat_minor": 2
}
