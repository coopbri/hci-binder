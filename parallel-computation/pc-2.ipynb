{
 "cells": [
  {
   "cell_type": "markdown",
   "metadata": {},
   "source": [
    "# Parallel Computation\n",
    "## A Law of Parallel Computation\n",
    "*Lesson Developer: Eric Shook eshook@umn.edu*\n"
   ]
  },
  {
   "cell_type": "code",
   "execution_count": 5,
   "metadata": {
    "init_cell": true
   },
   "outputs": [
    {
     "data": {
      "text/html": [
       "\n",
       "    <script>\n",
       "        display = true; \n",
       "        function toggle() {\n",
       "            var input = $(\"div.input\");\n",
       "            if (display) { input.hide(); }\n",
       "            else { input.show(); }\n",
       "            display = !display;\n",
       "        }\n",
       "        $(document).ready(toggle);\n",
       "    </script>\n",
       "    \n",
       "    <form action=\"javascript:toggle()\">\n",
       "        <input type=\"submit\" value=\"Toggle raw code\">\n",
       "    </form>\n"
      ],
      "text/plain": [
       "<IPython.core.display.HTML object>"
      ]
     },
     "execution_count": 5,
     "metadata": {},
     "output_type": "execute_result"
    }
   ],
   "source": [
    "from IPython.display import HTML, IFrame, Javascript\n",
    "from ipywidgets import interactive\n",
    "import ipywidgets as widgets\n",
    "\n",
    "# hide code output\n",
    "HTML('''\n",
    "    <script>\n",
    "        display = true; \n",
    "        function toggle() {\n",
    "            var input = $(\"div.input\");\n",
    "            if (display) { input.hide(); }\n",
    "            else { input.show(); }\n",
    "            display = !display;\n",
    "        }\n",
    "        $(document).ready(toggle);\n",
    "    </script>\n",
    "    \n",
    "    <form action=\"javascript:toggle()\">\n",
    "        <input type=\"submit\" value=\"Toggle raw code\">\n",
    "    </form>\n",
    "''')"
   ]
  },
  {
   "cell_type": "markdown",
   "metadata": {},
   "source": [
    "### Serial and Parallel Computation\n",
    "\n",
    "Sometimes Sam needs something to do. What happens when Sam is responsible for planting some of the field and Parker and Patricia are responsible for planting the rest? Remember, Sam only works alone. So when Sam is planting then Parker and Patricia have to stay out of the field.\n",
    "\n",
    "TODO Add D3 element with Sam, Parker, and Patricia. Give them each a slice of the field. (No speed options here)"
   ]
  },
  {
   "cell_type": "code",
   "execution_count": 14,
   "metadata": {
    "init_cell": true
   },
   "outputs": [
    {
     "data": {
      "text/html": [
       "\n",
       "        <iframe\n",
       "            width=\"850\"\n",
       "            height=\"450\"\n",
       "            src=\"field-three.html\"\n",
       "            frameborder=\"0\"\n",
       "            allowfullscreen\n",
       "        ></iframe>\n",
       "        "
      ],
      "text/plain": [
       "<IPython.lib.display.IFrame at 0x7fcc68b82b90>"
      ]
     },
     "execution_count": 14,
     "metadata": {},
     "output_type": "execute_result"
    }
   ],
   "source": [
    "IFrame(\"field-three.html\", width=\"850\", height=\"450\")"
   ]
  },
  {
   "cell_type": "markdown",
   "metadata": {},
   "source": [
    "How fast is the field planted if they divide the field evenly? Everyone gets 1/3 of the field.\n",
    "\n",
    "TODO: Add Jupyter Slider with seconds 0-20.\n",
    "\n",
    "\n"
   ]
  },
  {
   "cell_type": "markdown",
   "metadata": {},
   "source": [
    "How fast can the field be planted? If you get to control how much, if any, of the field is planted by each person?\n",
    "\n",
    "<learn gets to slide the portions of field for each person.\n",
    "\n",
    "TODO: Add Jupyter Slider with seconds 0-20.\n",
    "\n"
   ]
  },
  {
   "cell_type": "markdown",
   "metadata": {},
   "source": [
    "How "
   ]
  },
  {
   "cell_type": "markdown",
   "metadata": {},
   "source": [
    "### Coordination\n",
    "\n",
    "In our first scenario with Parker and Patricia you moved the bar to determine how much work they each had to do. Generally, Parker and Patricia would need to coordinate their efforts. They might talk and say something like: \n",
    "\n",
    "> Meet in the middle? \n",
    "\n",
    "> Sure, sounds good! Then we'll get something to eat at Hip Po Restaurant.\n",
    "\n",
    "That short discussion is usually required for two or more people to coordinate their work. The more workers there are, generally the longer the discussion needed for them to coordinate their work. Notice that they are not working when they are having their conversation. In fact only one of them is talking at a time. The time it takes to coordinate workers such as Parker and Patricia adds to the overall time to complete the task. "
   ]
  },
  {
   "cell_type": "markdown",
   "metadata": {},
   "source": [
    "### Meet Sam.\n",
    "\n",
    "Sam is grumpy and works alone. In fact, he will only plant when no one else is in the field. "
   ]
  },
  {
   "cell_type": "code",
   "execution_count": null,
   "metadata": {},
   "outputs": [],
   "source": [
    "# TODO: Add Sam D3 illustration"
   ]
  },
  {
   "cell_type": "markdown",
   "metadata": {},
   "source": [
    "How quickly can Sam plant the entire field if he has all the seeds?\n",
    "\n",
    "Add input textbox to take in seconds."
   ]
  },
  {
   "cell_type": "markdown",
   "metadata": {},
   "source": [
    "What is the fundamental limitation in the planting time?\n",
    "\n",
    "Input textbox (Sam's speed)"
   ]
  },
  {
   "cell_type": "markdown",
   "metadata": {},
   "source": [
    "Sam's speed gives us an example of **processing speed.** How fast can a core process data? This is usually measured in clock cycles per second (or Hertz/Hz) and is the [Clock Rate](https://en.wikipedia.org/wiki/Clock_rate) of a processor. Today, most processors are between 1.8 and 2.5 Gigahertz/GHz. This means that processors have a clock speed between 1,800,000,000 to 2,500,000,000 clock cycles per second! The clock rate of a processor can tell you roughly how fast it can process data."
   ]
  },
  {
   "cell_type": "markdown",
   "metadata": {},
   "source": [
    "### Let's compare\n",
    "\n",
    "How did you compare to Sam?\n",
    "\n",
    "TODO: Add D3 plot with Sam's planting times and their planting time.\n",
    "\n",
    "Compared to Sam planting the field, I was: faster/slower/about the speed (dropdown menu with those 3 choices)\n",
    "\n"
   ]
  },
  {
   "cell_type": "markdown",
   "metadata": {},
   "source": [
    "Sam is an example of what is known as **serial computation**. He will only work alone and does his tasks one step at a time. When anyone learns how to program they learn how to write a program for serial computation. The next step in programming is **parallel computation.**"
   ]
  },
  {
   "cell_type": "markdown",
   "metadata": {},
   "source": [
    "### Meet Parker and Patricia. \n",
    "\n",
    "Parker and Patricia love to share, and they will work in the field at the same time planting seeds. Move the BLUE? bar to adjust how many seeds they will each plant. You can also adjust their planting speed.\n",
    "\n",
    "\n",
    "\n",
    "How quickly can Parker and Patricia plant the entire field if they split all the seeds evenly?\n"
   ]
  },
  {
   "cell_type": "markdown",
   "metadata": {},
   "source": [
    "When working together what is the fastest time that Parker and Patricia can plant the field?\n",
    "\n",
    "Slider with 0 to 20 seconds."
   ]
  },
  {
   "cell_type": "markdown",
   "metadata": {},
   "source": [
    "What is the slowest time?\n",
    "\n",
    "Slider with 0 to 20 seconds."
   ]
  },
  {
   "cell_type": "markdown",
   "metadata": {},
   "source": [
    "What is the difference between the fastest and slowest time?\n",
    "\n",
    "Input box."
   ]
  },
  {
   "cell_type": "markdown",
   "metadata": {},
   "source": [
    "To get the fastest time in this scenario requires two things. First, both Parker and Patricia need to be moving as quickly as possible, which means they are going the same speed: fast. Second, they need to have the same amount of work. \n",
    "\n",
    "The first requirement gives us an example of **processing speed** that we learned about earlier.\n",
    "\n",
    "The second requirement gives us an example of **load balancing.** Load balancing ensures that each core is processing its fair share of data, which will make parallel computation faster. Just as we saw with Parker and Patricia if they are both working to plant their portion of the field simultaneously the entire field is planted faster. If only Patricia is planting the field and Parker is not helping, then it takes longer because she is doing all of the work and Parker is doing no work. This is improper load balancing. The same is true in parallel computation. If we have two or more cores that are capable of processing data and we only use one core, then the other cores are not helping to speed up the computation."
   ]
  }
 ],
 "metadata": {
  "celltoolbar": "Initialization Cell",
  "kernelspec": {
   "display_name": "Python 3",
   "language": "python",
   "name": "python3"
  },
  "language_info": {
   "codemirror_mode": {
    "name": "ipython",
    "version": 3
   },
   "file_extension": ".py",
   "mimetype": "text/x-python",
   "name": "python",
   "nbconvert_exporter": "python",
   "pygments_lexer": "ipython3",
   "version": "3.7.4"
  }
 },
 "nbformat": 4,
 "nbformat_minor": 2
}
