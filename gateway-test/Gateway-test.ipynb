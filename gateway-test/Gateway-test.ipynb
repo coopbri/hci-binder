{
 "cells": [
  {
   "cell_type": "markdown",
   "metadata": {
    "slideshow": {
     "slide_type": "slide"
    }
   },
   "source": [
    "# Which came first?\n",
    "\n",
    "\n",
    "<a href=\"#/slide-1-0\" class=\"navigate-right\">![Chicken or Egg](chicken-egg.png)</a>\n",
    "\n",
    "<a href=\"#/slide-1-0\" class=\"navigate-right\">(Or click here if you can't decide ...)</a>"
   ]
  },
  {
   "cell_type": "markdown",
   "metadata": {
    "slideshow": {
     "slide_type": "slide"
    }
   },
   "source": [
    "## Okay, we aren't really sure.\n",
    "\n",
    "What we know for certain is that science came before cyberinfrastructure.\n",
    "\n",
    "![Science first, CI second](science-ci-timeline.png)\n",
    "\n",
    "(Technically, science says that the Egg came first - Wikipedia link)\n",
    "Hit [Space] to continue"
   ]
  },
  {
   "cell_type": "markdown",
   "metadata": {
    "slideshow": {
     "slide_type": "slide"
    }
   },
   "source": [
    "### What is Cyberinfrastructure (or CI)? A Science Enabler!\n",
    "Much like a catapult enables us to throw heavy things further than before.\n",
    "![Catapult throwing](throw-catapult.png)"
   ]
  },
  {
   "cell_type": "markdown",
   "metadata": {
    "slideshow": {
     "slide_type": "fragment"
    }
   },
   "source": [
    "Cyberinfrastructure enables scientists to solve problems that couldn't be solved before.\n",
    "![solving problems](ci-enabler.png)"
   ]
  },
  {
   "cell_type": "markdown",
   "metadata": {
    "slideshow": {
     "slide_type": "slide"
    }
   },
   "source": [
    "# But ...\n",
    "\n",
    "Before we learn more **about** the World of Cyberinfrastructure ...\n",
    "\n",
    "Let's give Cyberinfrastructure a go! (First, by learning a bit of coding)\n",
    "\n"
   ]
  },
  {
   "cell_type": "markdown",
   "metadata": {
    "slideshow": {
     "slide_type": "slide"
    }
   },
   "source": [
    "# Calculating fire damage in the Amazon Forest\n",
    "\n",
    "In 2019, major fires have destroyed a significant portion of the Amazon rainforest. To see the damage we will use a widely use the normalized difference vegetation index (NDVI) to analyzes whether an area has live green vegetation. NDVI uses the Near Infrared and Red bands of a satellite to see how much 'green'\n",
    "\n",
    "This piece of code will read in a satellite image. Now, let's write a piece of code to calculate NDVI. In the bottom of the code cell below write:\n",
    "\n",
    "` ndvi(image)`\n",
    "\n",
    "Then hover the mouse to the left of the code and click on the \"Run this Cell\" button. "
   ]
  },
  {
   "cell_type": "code",
   "execution_count": 1,
   "metadata": {
    "slideshow": {
     "slide_type": "fragment"
    }
   },
   "outputs": [
    {
     "data": {
      "text/plain": [
       "'Calculated NDVI.'"
      ]
     },
     "execution_count": 1,
     "metadata": {},
     "output_type": "execute_result"
    }
   ],
   "source": [
    "from hourofcistuff2 import *\n",
    "\n",
    "image = readimage2(\"satellite-image.tif\")\n",
    "\n",
    "# Write one line of code below that will calculate NDVI (hint look for the code above)\n",
    "ndvi(image)"
   ]
  },
  {
   "cell_type": "markdown",
   "metadata": {
    "slideshow": {
     "slide_type": "slide"
    }
   },
   "source": [
    "... Continue with Amazon and NDVI example to show the damage. Explain how Sentinel-2 is a satellite that provides the data and the whole spectrum from satellite to analysis to get to the scientist (you!) is CI..."
   ]
  },
  {
   "cell_type": "markdown",
   "metadata": {
    "slideshow": {
     "slide_type": "slide"
    }
   },
   "source": [
    "# You should also know ...\n",
    "\n",
    "... that you are already using cyberinfrastructure!"
   ]
  },
  {
   "cell_type": "markdown",
   "metadata": {
    "slideshow": {
     "slide_type": "slide"
    }
   },
   "source": [
    "## This thing you are using is a Jupyter Notebook\n",
    "\n",
    "A computational notebook that enables scientists to combine text, figures, code, and visualizations in a single document. It is the field notebook for computational and data scientists around the world.\n",
    "\n",
    "Currently, you are in 'Presentation mode' \n",
    "\n",
    "Clicking on the X in the upper left hand corner to see the regular Jupyter Notebook."
   ]
  },
  {
   "cell_type": "markdown",
   "metadata": {
    "slideshow": {
     "slide_type": "skip"
    }
   },
   "source": [
    "### Welcome to Jupyter Notebooks!\n",
    "\n",
    "As you can see, the content you already went through is part of this notebook. There are two primary components of a Jupyter Notebook. A Markdown cell (like the one you see right here) and a Code cell (like the one above that you wrote in for the NDVI calculation).\n",
    "\n",
    "Hour of CI lessons are a series of Jupyter Notebooks designed to engage you explore the world of cyberinfrastructure and help you become cyber literate.\n",
    "\n",
    "What is Cyber Literacy? <a href=\"Gateway-test2.ipynb\">Click here to move to the next section to learn more!</a>"
   ]
  }
 ],
 "metadata": {
  "celltoolbar": "Slideshow",
  "kernelspec": {
   "display_name": "Python 3",
   "language": "python",
   "name": "python3"
  },
  "language_info": {
   "codemirror_mode": {
    "name": "ipython",
    "version": 3
   },
   "file_extension": ".py",
   "mimetype": "text/x-python",
   "name": "python",
   "nbconvert_exporter": "python",
   "pygments_lexer": "ipython3",
   "version": "3.7.4"
  },
  "rise": {
   "auto_select": "none",
   "autolaunch": true
  }
 },
 "nbformat": 4,
 "nbformat_minor": 2
}
