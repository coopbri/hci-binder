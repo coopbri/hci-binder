{
 "cells": [
  {
   "cell_type": "markdown",
   "metadata": {},
   "source": [
    "# Cyberinfrastructure\n",
    "## The Origins\n",
    "*Lesson Developer: Craig A. Stewart stewart@iu.edu*\n"
   ]
  },
  {
   "cell_type": "code",
   "execution_count": 1,
   "metadata": {
    "init_cell": true
   },
   "outputs": [
    {
     "data": {
      "text/html": [
       "\n",
       "    <script>\n",
       "        display = true; \n",
       "        function toggle() {\n",
       "            var input = $(\"div.input\");\n",
       "            if (display) { input.hide(); }\n",
       "            else { input.show(); }\n",
       "            display = !display;\n",
       "        }\n",
       "        $(document).ready(toggle);\n",
       "    </script>\n",
       "    \n",
       "    <form action=\"javascript:toggle()\">\n",
       "        <input type=\"submit\" value=\"Toggle raw code\">\n",
       "    </form>\n"
      ],
      "text/plain": [
       "<IPython.core.display.HTML object>"
      ]
     },
     "execution_count": 1,
     "metadata": {},
     "output_type": "execute_result"
    }
   ],
   "source": [
    "from IPython.display import HTML, IFrame\n",
    "\n",
    "# hide code output\n",
    "HTML('''\n",
    "    <script>\n",
    "        display = true; \n",
    "        function toggle() {\n",
    "            var input = $(\"div.input\");\n",
    "            if (display) { input.hide(); }\n",
    "            else { input.show(); }\n",
    "            display = !display;\n",
    "        }\n",
    "        $(document).ready(toggle);\n",
    "    </script>\n",
    "    \n",
    "    <form action=\"javascript:toggle()\">\n",
    "        <input type=\"submit\" value=\"Toggle raw code\">\n",
    "    </form>\n",
    "''')"
   ]
  },
  {
   "cell_type": "markdown",
   "metadata": {},
   "source": [
    "For a long time (thousands of years) people talked about computation and computers.\n",
    "\n",
    "Then in 2003, the National Science Foundation decided that a new word was needed to talk about the infrastructure that was used to support the creation of knowledge.  \n",
    "\n",
    "Cyberinfrastructure\n",
    "\n",
    "Why? \n",
    "\n",
    "To understand what happened, let’s look a bit at the history of computation and computers\n"
   ]
  },
  {
   "cell_type": "markdown",
   "metadata": {},
   "source": [
    "### Early history of computation\n",
    "\n",
    "- During the time of the Roman empire (about 2,000 years ago), calculating where stones thrown by a catapult would land was an important mathematical problem.\n",
    "- Below is an example of a catapult, used by Rome and by  countries that invaded Rome.\n",
    "\n",
    "![catapult](https://upload.wikimedia.org/wikipedia/commons/1/18/Mang2.png)\n",
    "credit: https://commons.wikimedia.org/wiki/File:Mang2.png"
   ]
  },
  {
   "cell_type": "markdown",
   "metadata": {},
   "source": [
    "### Run some simulations of your own!\n",
    "\n",
    "- To get a sense for the number of parameters you need to consider to estimate the distance a boulder (payload ) is thrown by a catapult, you can run a simulation of a catapult. \n",
    "- Try it a few times!\n"
   ]
  },
  {
   "cell_type": "code",
   "execution_count": 2,
   "metadata": {
    "init_cell": true
   },
   "outputs": [
    {
     "data": {
      "text/html": [
       "\n",
       "        <iframe\n",
       "            width=\"984\"\n",
       "            height=\"570\"\n",
       "            src=\"catapult.html\"\n",
       "            frameborder=\"0\"\n",
       "            allowfullscreen\n",
       "        ></iframe>\n",
       "        "
      ],
      "text/plain": [
       "<IPython.lib.display.IFrame at 0x7f82ac3b0c50>"
      ]
     },
     "execution_count": 2,
     "metadata": {},
     "output_type": "execute_result"
    }
   ],
   "source": [
    "IFrame(\"catapult.html\", width=984, height=570)"
   ]
  },
  {
   "cell_type": "markdown",
   "metadata": {},
   "source": [
    "### An early “computation device”\n",
    "\n",
    "- Archimedes was an important mathematician who made many discoveries. \n",
    "- He lived from 287 to 212 BC\n",
    "- He was valuable to the army of Carthage (which was at war with Rome during Archimedes lifetime) because he was very good at calculating where stones thrown by a catapult would land. This was a calculation that had essentially one number as output: how far the stone would go.\n",
    "\n",
    "<center>\n",
    "    <img src=\"https://upload.wikimedia.org/wikipedia/commons/e/e7/Domenico-Fetti_Archimedes_1620.jpg\" width=400>\n",
    "    Image credit: <a href=\"https://commons.wikimedia.org/wiki/File:Domenico-Fetti_Archimedes_1620.jpg\">https://commons.wikimedia.org/wiki/File:Domenico-Fetti_Archimedes_1620.jpg</a>\n",
    "</center>"
   ]
  },
  {
   "cell_type": "markdown",
   "metadata": {},
   "source": [
    "### Let’s think about the Input / Output requirements of calculating the distance a boulder is going to fly\n",
    "- Once a catapult is built, there are really just two parameters you can adjust that impact the distance:\n",
    "  - Mass of the projectile\n",
    "  - Amount of tension\n",
    "- Remembering that \n",
    "  - With one byte you can store numbers from 0 to 255\n",
    "  - And with four bytes you can store numbers up to 4,294,967,295\n",
    "- Let’s figure that maybe people were really precise with their measurements and the two input values might take four bytes each, and the one output value might take four bytes as well… what do you think the “I/O Rate” of Archimedes might have been?\n"
   ]
  },
  {
   "cell_type": "markdown",
   "metadata": {},
   "source": [
    "### Well, we don’t really know….\n",
    "\n",
    "because we don’t know how quickly Archimedes do calculations, or how he approximated results (he was, after all, trying to help soldiers crush other soldiers with rocks; he wasn’t doing brain surgery).\n",
    "\n",
    "But let’s figure maybe 1 calculation in 5 minutes and 1 Byte I/O per minute, tops, were the I/O rates for Archimedes as a human calculator\n"
   ]
  },
  {
   "cell_type": "markdown",
   "metadata": {},
   "source": [
    "### Later there were “calculating machines”\n",
    "\n",
    "- These are mechanical devices that performed calculations\n",
    "- The Chinese Abacus was very practical and skilled people using it were very fast\n",
    "- The Arithmometer, manufactured and sold in 1851, was the first commercially successful calculating machine for office use\n",
    "\n",
    "![Abacus](https://upload.wikimedia.org/wikipedia/commons/a/af/Abacus_6.png)\n",
    "credit: https://commons.wikimedia.org/wiki/File:Abacus_6.png\n",
    "\n",
    "![Arithomemeter](https://upload.wikimedia.org/wikipedia/commons/5/59/Arithmometre.jpg)\n",
    "credit: https://en.wikipedia.org/wiki/Arithmometer\n"
   ]
  },
  {
   "cell_type": "markdown",
   "metadata": {},
   "source": [
    "### Try a virtual Abacus simulator and see how fast you can make it go!"
   ]
  },
  {
   "cell_type": "code",
   "execution_count": 3,
   "metadata": {
    "init_cell": true
   },
   "outputs": [
    {
     "data": {
      "text/html": [
       "\n",
       "        <iframe\n",
       "            width=\"600\"\n",
       "            height=\"475\"\n",
       "            src=\"abacus.html\"\n",
       "            frameborder=\"0\"\n",
       "            allowfullscreen\n",
       "        ></iframe>\n",
       "        "
      ],
      "text/plain": [
       "<IPython.lib.display.IFrame at 0x7f82afd27990>"
      ]
     },
     "execution_count": 3,
     "metadata": {},
     "output_type": "execute_result"
    }
   ],
   "source": [
    "IFrame(\"abacus.html\", width=600, height=475)"
   ]
  },
  {
   "cell_type": "markdown",
   "metadata": {},
   "source": [
    "- In 2012, Naofumi Ogasawara, a 22-year-old abacus instructor from Japan completed the task of calculating 10 sums of 10 10-digit numbers each in three minutes and 11 seconds. (http://www.recordholders.org/en/events/worldcup/2012/results.html; https://www.theguardian.com/science/alexs-adventures-in-numberland/2012/oct/10/mental-calculation-world-cup)\n",
    "- Calculate the calculation rate and I/O rate that the winner achieved\n",
    "\n"
   ]
  },
  {
   "cell_type": "markdown",
   "metadata": {},
   "source": [
    "### I/O rate for a really fast Abacus users\n",
    "\n",
    "- The input was 100 integers each of which could be represented by 2 bytes\n",
    "- The output was 10 integers each of which could be represented by 2 bytes\n",
    "- Each sum of 10 integers took 9 additions, so there were a total of 900 mathematical operations\n",
    "- The total calculation rate was approximately \n",
    "- To the total I/O rate was something like 220 bytes/190 seconds or between 1 and 2 bytes per second\n"
   ]
  },
  {
   "cell_type": "markdown",
   "metadata": {},
   "source": [
    "**Continue the journey: [Next Example](cyberinfrastructure-2.ipynb)**"
   ]
  }
 ],
 "metadata": {
  "celltoolbar": "Initialization Cell",
  "kernelspec": {
   "display_name": "Python 3",
   "language": "python",
   "name": "python3"
  },
  "language_info": {
   "codemirror_mode": {
    "name": "ipython",
    "version": 3
   },
   "file_extension": ".py",
   "mimetype": "text/x-python",
   "name": "python",
   "nbconvert_exporter": "python",
   "pygments_lexer": "ipython3",
   "version": "3.7.4"
  }
 },
 "nbformat": 4,
 "nbformat_minor": 2
}
