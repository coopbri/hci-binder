{
 "cells": [
  {
   "cell_type": "markdown",
   "metadata": {},
   "source": [
    "# Spatial Thinking\n",
    "## Spatial Cognition and Spatial Thinking\n",
    "*Lesson Developer: Michael Page michael.page@emory.edu*"
   ]
  },
  {
   "cell_type": "code",
   "execution_count": null,
   "metadata": {
    "init_cell": true
   },
   "outputs": [],
   "source": [
    "from IPython.display import HTML, IFrame\n",
    "\n",
    "# hide code output\n",
    "HTML('''\n",
    "    <script>\n",
    "        display = true; \n",
    "        function toggle() {\n",
    "            var input = $(\"div.input\");\n",
    "            if (display) { input.hide(); }\n",
    "            else { input.show(); }\n",
    "            display = !display;\n",
    "        }\n",
    "        $(document).ready(toggle);\n",
    "    </script>\n",
    "    \n",
    "    <form action=\"javascript:toggle()\">\n",
    "        <input type=\"submit\" value=\"Toggle raw code\">\n",
    "    </form>\n",
    "''')"
   ]
  },
  {
   "cell_type": "markdown",
   "metadata": {},
   "source": [
    "How is spatial thinking (problem-solving) different but connected to spatial cognition (awareness). In the process to create maps to explain spatial phenomena cartographers use a process called **cartographic abstraction**. Maps are an abstraction of reality therefore in the process of making a map the mapmaker uses spatial thinking to solve the process which involves selection, classification, generalization, and symbolization. In turning data into information on a map we would need to go through the process of **map algebra** to arrive to at a conclusion of what features we need for our map. This process will then allow us to consider some basic but key spatial concepts in spatial thinking and subsequently analysis. Let’s explore them ..."
   ]
  },
  {
   "cell_type": "markdown",
   "metadata": {},
   "source": [
    "### Key Spatial Concepts Terminology\n",
    "\n",
    "Please click on each box to see a definition and example.\n",
    "![standin for D3 interactive click boxes](st-image-3.png)\n",
    "\n",
    "TODO: Make D3 for this.\n",
    "TODO: Need actual examples from Michael here\n",
    "    \n"
   ]
  },
  {
   "cell_type": "markdown",
   "metadata": {},
   "source": [
    "Here are the definitions:\n",
    "Location - a particular place or position expressed by nominal or absolution means or based on site and situation [ Cologne or Köln or 50.936353, 6.956962 or Cologne spans the Rhine River in Western Germany and is the region's cultural hub ]\n",
    "\n",
    "Distance - the length of the space between two points [ Examples of Eucledian (path as the crow flies, Newark to JFK )  and Manhattan Distance  (path through network of streets, NYC ) ]\n",
    "\n",
    "Region - an area, especially part of a country or the world having definable characteristics but not always fixed boundaries [ political boundaries of Former Yugoslavia Region morphs into Linguistic Regions ]\n",
    "\n",
    "Scale - the relative size or extent of something  [ changing features on web map scaling, Tokyo, Japan ]\n",
    "\n",
    "Distribution - the way in which something is shared out among a group or spread over an area. [ the rise and fall of the Ottoman Empire ]\n",
    "\n",
    "Movement -  an act of moving [ air traffic visualization, US ]\n"
   ]
  },
  {
   "cell_type": "markdown",
   "metadata": {},
   "source": [
    "### Spatial Association\n",
    "\n",
    "The connectedness or relationship between and among variables over space. Spatial association means connectedness or relationship between and among variables over space. We can analyze the distribution patterns of two phenomena using a map overly and if the distributions are similar then we have a strong spatial association, if not, then its a weak association. In this example, we will use two data layers of the City of Atlanta, Georgia, major roads and current land use data and run code to place them on a web map to see if there is a strong association between commercial zoning and the roadways. \n",
    "\n",
    "\n",
    "TODO: We need these examples from Michael to create D3/webmaps."
   ]
  },
  {
   "cell_type": "markdown",
   "metadata": {},
   "source": [
    "**Continue the journey: [Next Example](st-3.ipynb)** (Need to create this notebook...)"
   ]
  }
 ],
 "metadata": {
  "celltoolbar": "Initialization Cell",
  "kernelspec": {
   "display_name": "Python 3",
   "language": "python",
   "name": "python3"
  },
  "language_info": {
   "codemirror_mode": {
    "name": "ipython",
    "version": 3
   },
   "file_extension": ".py",
   "mimetype": "text/x-python",
   "name": "python",
   "nbconvert_exporter": "python",
   "pygments_lexer": "ipython3",
   "version": "3.7.4"
  }
 },
 "nbformat": 4,
 "nbformat_minor": 2
}
