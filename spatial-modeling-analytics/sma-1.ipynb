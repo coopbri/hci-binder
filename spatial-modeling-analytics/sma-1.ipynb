{
 "cells": [
  {
   "cell_type": "markdown",
   "metadata": {},
   "source": [
    "# Spatial Modeling and Analytics\n",
    "## Overview\n",
    "*Lesson Developer: Nafiseh Haghtalab haghtala@msu.edu*\n"
   ]
  },
  {
   "cell_type": "markdown",
   "metadata": {},
   "source": [
    "# What does Spatial Modeling mean? \n",
    "Spatial modeling is an analytical process conducted in conjunction with a geographical information system (GIS) in order to describe basic processes and properties for a given set of spatial features.\n",
    "\n",
    "The objective of spatial modeling is to be able to study and simulate spatial objects or phenomena that occur in the real world and facilitate problem solving and planning.\n",
    "\n",
    "Spatial modeling is an essential process of spatial analysis. With the use of models or special rules and procedures for analyzing spatial data, it is used in conjunction with a GIS to properly analyze and visually lay out data for better understanding by human readers. Its visual nature helps researchers more quickly understand the data and reach conclusions that are difficult to formulate with simple numerical and textual data.\n",
    "\n",
    "Manipulation of information occurs in multiple steps, each representing a stage in a complex analysis procedure. Spatial modeling is object-oriented with coverage and concerned with how the physical world works or looks. The resulting model represents either a set of objects or real-world process.\n",
    "\n",
    "For example, spatial modeling can be used to analyze the projected path of tornadoes by layering a map with different spatial data, like roads, houses, the path of the tornado and even its intensity at different points. This allows researchers to determine a tornado's real path of destruction. When juxtaposed with other models from tornadoes that have affected the area, this model can be used to show path correlations and geographical factors.\n",
    "\n",
    "With that said, let's start with some basic and foundamental concepts in spatail modeling and analytics. "
   ]
  },
  {
   "cell_type": "markdown",
   "metadata": {},
   "source": [
    "\n",
    "# Activities based on daily life\n",
    "\n",
    "Imagine you want to do some specific activities during a day, for instance, you want to go to work, also do grocery shopping, gas up the car, pick up clothing, and take kids and dog to a park. How would you manage all these choir to be done in a very efficient and covenient way? \n",
    "So, now in the following example choose the most convenient way of doing all things. \n",
    "Perhaps the most conveniet way can be translated into: being in the closest distance from oneanother and being at the same route.\n",
    "Draw a line to connect the activities or number them. \n",
    "\n",
    "TODO: Add D3 element to connect the pieces.\n",
    "\n",
    "![standin for D3 interactive piece](sma-image-1.png)\n",
    "\n",
    "\n"
   ]
  },
  {
   "cell_type": "markdown",
   "metadata": {},
   "source": [
    "\n",
    "![congrats popup](congrats.png)\n",
    "In this example you learned and applied:\n",
    "\n",
    "- Proximity analysis\n",
    "- Decay rate in spatial data\n",
    "- Nearest neighbor analysis\n",
    "\n",
    "**Now let’s go through them one by one. **\n",
    "\n",
    "\n"
   ]
  },
  {
   "cell_type": "markdown",
   "metadata": {},
   "source": [
    "**Continue the journey: [Next Example](sma-2.ipynb)**"
   ]
  }
 ],
 "metadata": {
  "kernelspec": {
   "display_name": "Python 3",
   "language": "python",
   "name": "python3"
  },
  "language_info": {
   "codemirror_mode": {
    "name": "ipython",
    "version": 3
   },
   "file_extension": ".py",
   "mimetype": "text/x-python",
   "name": "python",
   "nbconvert_exporter": "python",
   "pygments_lexer": "ipython3",
   "version": "3.7.4"
  }
 },
 "nbformat": 4,
 "nbformat_minor": 2
}
