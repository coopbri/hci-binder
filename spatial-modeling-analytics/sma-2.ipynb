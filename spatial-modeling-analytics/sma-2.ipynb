{
 "cells": [
  {
   "cell_type": "markdown",
   "metadata": {},
   "source": [
    "# Spatial Modeling and Analytics\n",
    "## Proximity\n",
    "*Lesson Developer: Nafiseh Haghtalab haghtala@msu.edu*\n"
   ]
  },
  {
   "cell_type": "markdown",
   "metadata": {},
   "source": [
    "### Introduction\n",
    "\n",
    "Spatial analysis is a set of mathematical and usually statistical tools used to find order and patterns in spatial phenomena. \n",
    "\n",
    "spatial patterns found in spatial analysis help our understanding of not only spatial phenomena themselves but also their underlying structure, because spatial patterns are realization of interactions between spatial objects.  \n",
    "\n",
    "Once we understand the underlying structure of a spatial phenomenon, we can describe it using a mathematical framework which is called spatial modeling. \n",
    "using spatial models we can simulate spatial phenomena in computer environment. \n"
   ]
  },
  {
   "cell_type": "markdown",
   "metadata": {},
   "source": [
    "# Proximity Analysis\n",
    "Proximity Analysis is an analytical technique used to determine the relationship between a selected point and its neighbors.\n",
    "\n",
    "One of the most basic questions asked of spatial data analysis is **\"what's near what?\"** For example:\n",
    "- How close is this well to a landfill?\n",
    "- What is the distance between two locations?\n",
    "- What is the nearest or farthest feature from something?\n",
    "- What is the distance between each feature in a layer and the features in another layer?\n",
    "- What is the shortest street network route from some location to another?\n",
    "\n",
    "There are some methods that you can analyze the proximity of points and their neighbors. Let's find out. "
   ]
  },
  {
   "cell_type": "markdown",
   "metadata": {},
   "source": [
    "### A: Feature-based proximity methods\n",
    "\n",
    "#### 1) Buffer method:\n",
    "\n",
    "For feature data, the Proximity methods can be used to discover proximity relationships. Buffers are usually used to delineate protected zones around features or to show areas of influence. \n",
    "\n",
    "For example, you might buffer a school by one mile and use the buffer to select all the students that live more than one mile from the school to plan for their transportation to and from school. You could use the multi ring buffer tool to classify the areas around a feature into near, moderate distance, and long distance classes for an analysis. Buffers are sometimes used to clip data to a given study area or to exclude features within a critical distance of something from further consideration in an analysis. \n",
    "\n",
    "![Buffer images](sma-image-2.png)"
   ]
  },
  {
   "cell_type": "markdown",
   "metadata": {},
   "source": [
    "### Help with a flood\n",
    "\n",
    "If you are told that, there will be a flood around the river on this map and it will affect areas around 1 mile north and south of river, how would you define the areas that you should avoid? Please show it on the map. \n",
    "\n",
    "TODO: Add D3 element to make buffer of the flood on a map."
   ]
  },
  {
   "cell_type": "markdown",
   "metadata": {},
   "source": [
    "![congrats popup](congrats.png)\n",
    "\n",
    "You just learned the foundations of proximity analysis."
   ]
  },
  {
   "cell_type": "markdown",
   "metadata": {},
   "source": [
    "**Continue the journey: [Next Example](sma-3.ipynb)**"
   ]
  }
 ],
 "metadata": {
  "kernelspec": {
   "display_name": "Python 3",
   "language": "python",
   "name": "python3"
  },
  "language_info": {
   "codemirror_mode": {
    "name": "ipython",
    "version": 3
   },
   "file_extension": ".py",
   "mimetype": "text/x-python",
   "name": "python",
   "nbconvert_exporter": "python",
   "pygments_lexer": "ipython3",
   "version": "3.7.4"
  }
 },
 "nbformat": 4,
 "nbformat_minor": 2
}
