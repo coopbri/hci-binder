{
 "cells": [
  {
   "cell_type": "markdown",
   "metadata": {},
   "source": [
    "# Spatial Modeling and Analytics\n",
    "## Nearest Neighbour\n",
    "\n",
    "*Lesson Developer: Nafiseh Haghtalab haghtala@msu.edu*\n"
   ]
  },
  {
   "cell_type": "markdown",
   "metadata": {},
   "source": [
    "Let's start with another example. \n",
    "Two zonal maps of Detroit, MI are provided here. \n",
    "Left panel shows the poverty rates per neighbourhood and the right side shows the crime rate per neighbourhood. \n",
    "When you compare these two maps visually, what would you conclude? What relationship could you find between poverty rate and crime rate in Detroit? \n",
    "\n",
    "A: the most population of the safest neighbourhood live below poverty line.\n",
    "B: The crime rate is the highest in the neighbourhood in which at least 60% of the residents live below poverty line. \n",
    "C: wealth doesn’t matter in committing a crime. \n",
    "\n",
    "![poverty images](sma-image-10.png)    ![safety images](sma-image-11.png)\n",
    "\n",
    "TODO: Add D3 element to choose one of the options, then see the correct answer. \n",
    "\n",
    "\n"
   ]
  },
  {
   "cell_type": "markdown",
   "metadata": {},
   "source": [
    "![congrats popup](congrats.png)\n",
    "\n",
    "You just learned spatial correlation. \n",
    "\n",
    "Let’s read more about it. \n"
   ]
  },
  {
   "cell_type": "markdown",
   "metadata": {},
   "source": [
    "\n",
    "## Spatial correlation analysis:\n",
    "\n",
    "Spatial correlation is a measure that looks at the relationship between \"close\" spatial units. \n",
    "Correlation analysis is a method of statistical evaluation used to study the strength of a relationship between two variables. This particular type of analysis is useful when a researcher wants to establish if there are possible connections between variables. It is often misunderstood that correlation analysis determines cause and effect; however, this is not the case because other variables that are not present in the research may have impacted on the results.\n",
    "If correlation is found between two variables it means that when there is a systematic change in one variable, there is also a systematic change in the other; the variables alter together over a certain period of time. \n",
    "Positive correlation exists if one variable increases simultaneously with the other.\n",
    "Negative correlation exists if one variable decreases when the other increases.\n",
    "In the previous example, You see that, as the poverty rate goes higher, the crime rate goes higher too. So, you can find a positive correlation between poverty and crime rate in Detroit area. \n",
    "\n"
   ]
  },
  {
   "cell_type": "markdown",
   "metadata": {},
   "source": [
    "![correlation images](sma-image-12.png)\n",
    "\n",
    "Correlation analysis, and their associated graphics depicted above test the strength of the relationship between two variables. \n",
    "\n",
    "Regression analyses, on the other hand, make a stronger claim: they attempt to demonstrate the degree to which one or more variables potentially promote positive or negative change in another variable. (For more information about spatial regression analysis please visit:  \n",
    "\n",
    "https://onlinelibrary.wiley.com/doi/full/10.1111/j.1461-0248.2009.01422.x\n"
   ]
  },
  {
   "cell_type": "markdown",
   "metadata": {},
   "source": [
    "#### Find the correlation\n",
    "\n",
    "How is the correlation between population density and crime rate in Detroit area?\n",
    "A: Positive correlation.\n",
    "B: Negative correlation\n",
    "C: weak positive correlation\n",
    "D: No correlation\n",
    "\n",
    "\n",
    "\n",
    "![population image](sma-image-13.png)\n",
    "![safety image](sma-image-11.png)\n",
    "\n",
    "TODO: Add D3 element to choose one option. \n",
    "\n",
    "TODO: Add popup answer for the question. \n",
    "It is negative. \n",
    "the less population density in the neighbourhood, the more crime rate will be. \n",
    "In the other word, safest neighbourhoods are the most populated ones in Detroit area. \n",
    "\n",
    "\n"
   ]
  },
  {
   "cell_type": "markdown",
   "metadata": {},
   "source": [
    "![congrats popup](congrats.png)\n",
    "\n",
    "You just learned the foundations of spatial correlation analysis."
   ]
  }
 ],
 "metadata": {
  "kernelspec": {
   "display_name": "Python 3",
   "language": "python",
   "name": "python3"
  },
  "language_info": {
   "codemirror_mode": {
    "name": "ipython",
    "version": 3
   },
   "file_extension": ".py",
   "mimetype": "text/x-python",
   "name": "python",
   "nbconvert_exporter": "python",
   "pygments_lexer": "ipython3",
   "version": "3.7.4"
  }
 },
 "nbformat": 4,
 "nbformat_minor": 2
}
