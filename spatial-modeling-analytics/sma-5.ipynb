{
 "cells": [
  {
   "cell_type": "markdown",
   "metadata": {
    "slideshow": {
     "slide_type": "slide"
    }
   },
   "source": [
    "# Spatial Modeling and Analytics\n",
    "## Nearest Neighbor\n",
    "\n",
    "*Lesson Developer: Nafiseh Haghtalab haghtala@msu.edu*\n"
   ]
  },
  {
   "cell_type": "code",
   "execution_count": 4,
   "metadata": {
    "init_cell": true,
    "slideshow": {
     "slide_type": "skip"
    }
   },
   "outputs": [
    {
     "data": {
      "text/html": [
       "\n",
       "    <script>\n",
       "        display = true; \n",
       "        function toggle() {\n",
       "            var input = $(\"div.input\");\n",
       "            if (display) { input.hide(); }\n",
       "            else { input.show(); }\n",
       "            display = !display;\n",
       "        }\n",
       "        $(document).ready(toggle);\n",
       "    </script>\n",
       "    \n",
       "    <form action=\"javascript:toggle()\">\n",
       "        <input type=\"submit\" value=\"Toggle raw code\">\n",
       "    </form>\n"
      ],
      "text/plain": [
       "<IPython.core.display.HTML object>"
      ]
     },
     "execution_count": 4,
     "metadata": {},
     "output_type": "execute_result"
    }
   ],
   "source": [
    "from IPython.display import HTML, IFrame\n",
    "\n",
    "# hide code output\n",
    "HTML('''\n",
    "    <script>\n",
    "        display = true; \n",
    "        function toggle() {\n",
    "            var input = $(\"div.input\");\n",
    "            if (display) { input.hide(); }\n",
    "            else { input.show(); }\n",
    "            display = !display;\n",
    "        }\n",
    "        $(document).ready(toggle);\n",
    "    </script>\n",
    "    \n",
    "    <form action=\"javascript:toggle()\">\n",
    "        <input type=\"submit\" value=\"Toggle raw code\">\n",
    "    </form>\n",
    "''')"
   ]
  },
  {
   "cell_type": "markdown",
   "metadata": {
    "slideshow": {
     "slide_type": "slide"
    }
   },
   "source": [
    "Let's start with another example. \n",
    "Two zonal maps of Detroit, MI are provided here. \n",
    "Left panel shows the poverty rates per neighborhood and the right side shows the crime rate per neighborhood. \n",
    "When you compare these two maps visually, what would you conclude? What relationship could you find between poverty rate and crime rate in Detroit?\n",
    "\n",
    "![poverty images](sma-image-10.png)    ![safety images](sma-image-11.png)"
   ]
  },
  {
   "cell_type": "code",
   "execution_count": 5,
   "metadata": {
    "init_cell": true,
    "slideshow": {
     "slide_type": "fragment"
    }
   },
   "outputs": [
    {
     "data": {
      "application/vnd.jupyter.widget-view+json": {
       "model_id": "ab7eb010ba9c45b1aba04a0a36f9882e",
       "version_major": 2,
       "version_minor": 0
      },
      "text/plain": [
       "RadioButtons(layout=Layout(width='100%'), options=('Most of the population of the safest neighborhood live bel…"
      ]
     },
     "metadata": {},
     "output_type": "display_data"
    },
    {
     "data": {
      "application/vnd.jupyter.widget-view+json": {
       "model_id": "243817496cc2452aaf2d081e4567ce8b",
       "version_major": 2,
       "version_minor": 0
      },
      "text/plain": [
       "Button(description='Submit', icon='check', style=ButtonStyle())"
      ]
     },
     "metadata": {},
     "output_type": "display_data"
    },
    {
     "data": {
      "application/vnd.jupyter.widget-view+json": {
       "model_id": "873739275e50489db49a32cc5a53dd42",
       "version_major": 2,
       "version_minor": 0
      },
      "text/plain": [
       "Output()"
      ]
     },
     "metadata": {},
     "output_type": "display_data"
    }
   ],
   "source": [
    "# TODO: Hide text output display? Showing for demonstration\n",
    "from ipywidgets import Layout\n",
    "import ipywidgets as widgets\n",
    "\n",
    "# Radio buttons\n",
    "widget1 = widgets.RadioButtons(\n",
    "    layout = Layout(width='100%'),\n",
    "    options = ['Most of the population of the safest neighborhood live below poverty line',\n",
    "             'The crime rate is the highest in the neighborhood in which at least 60% of the residents live below poverty line',\n",
    "             'Wealth doesn’t matter in committing a crime'],\n",
    "    value = None\n",
    ")\n",
    "\n",
    "# Submit button\n",
    "button1 = widgets.Button(\n",
    "    description='Submit',\n",
    "    disabled=False,\n",
    "    button_style='',\n",
    "    icon='check'\n",
    ")\n",
    "\n",
    "# Output\n",
    "output1 = widgets.Output()\n",
    "\n",
    "# Display widgets together\n",
    "display(widget1, button1, output1)\n",
    "\n",
    "# Output function\n",
    "def out(b):\n",
    "    with output1:\n",
    "        output1.clear_output()\n",
    "        print(widget1.value)\n",
    "\n",
    "# Handle click event\n",
    "button1.on_click(out)"
   ]
  },
  {
   "cell_type": "markdown",
   "metadata": {
    "slideshow": {
     "slide_type": "slide"
    }
   },
   "source": [
    "![congrats popup](congrats.png)\n",
    "\n",
    "You just learned spatial correlation!\n",
    "\n",
    "Let’s read more about it. \n"
   ]
  },
  {
   "cell_type": "markdown",
   "metadata": {
    "slideshow": {
     "slide_type": "slide"
    }
   },
   "source": [
    "\n",
    "## Spatial correlation analysis:\n",
    "\n",
    "Spatial correlation is a measure that looks at the relationship between \"close\" spatial units. \n",
    "Correlation analysis is a method of statistical evaluation used to study the strength of a relationship between two variables. This particular type of analysis is useful when a researcher wants to establish if there are possible connections between variables. It is often misunderstood that correlation analysis determines cause and effect; however, this is not the case because other variables that are not present in the research may have impacted on the results.\n",
    "If correlation is found between two variables it means that when there is a systematic change in one variable, there is also a systematic change in the other; the variables alter together over a certain period of time. \n",
    "Positive correlation exists if one variable increases simultaneously with the other.\n",
    "Negative correlation exists if one variable decreases when the other increases.\n",
    "In the previous example, You see that, as the poverty rate goes higher, the crime rate goes higher too. So, you can find a positive correlation between poverty and crime rate in Detroit area. \n",
    "\n"
   ]
  },
  {
   "cell_type": "markdown",
   "metadata": {
    "slideshow": {
     "slide_type": "slide"
    }
   },
   "source": [
    "![correlation images](sma-image-12.png)\n",
    "\n",
    "Correlation analysis, and their associated graphics depicted above test the strength of the relationship between two variables. \n",
    "\n",
    "Regression analyses, on the other hand, make a stronger claim: they attempt to demonstrate the degree to which one or more variables potentially promote positive or negative change in another variable. (For more information about spatial regression analysis please visit:  \n",
    "\n",
    "https://onlinelibrary.wiley.com/doi/full/10.1111/j.1461-0248.2009.01422.x\n"
   ]
  },
  {
   "cell_type": "markdown",
   "metadata": {
    "slideshow": {
     "slide_type": "slide"
    }
   },
   "source": [
    "#### Find the correlation\n",
    "\n",
    "How is the correlation between population density and crime rate in Detroit area?<br>\n",
    "![population image](sma-image-13.png)    ![safety image](sma-image-11.png)"
   ]
  },
  {
   "cell_type": "code",
   "execution_count": 6,
   "metadata": {
    "init_cell": true,
    "slideshow": {
     "slide_type": "fragment"
    }
   },
   "outputs": [
    {
     "data": {
      "application/vnd.jupyter.widget-view+json": {
       "model_id": "7419753e314a4f66a5c8d828229fee36",
       "version_major": 2,
       "version_minor": 0
      },
      "text/plain": [
       "RadioButtons(options=('Positive correlation', 'Negative correlation', 'Weak positive correlation', 'No correla…"
      ]
     },
     "metadata": {},
     "output_type": "display_data"
    },
    {
     "data": {
      "application/vnd.jupyter.widget-view+json": {
       "model_id": "38cf57a42c88479eb59c259165eb59a8",
       "version_major": 2,
       "version_minor": 0
      },
      "text/plain": [
       "Button(description='Submit', icon='check', style=ButtonStyle())"
      ]
     },
     "metadata": {},
     "output_type": "display_data"
    },
    {
     "data": {
      "application/vnd.jupyter.widget-view+json": {
       "model_id": "cd83753b915f4227879c15119285de9b",
       "version_major": 2,
       "version_minor": 0
      },
      "text/plain": [
       "Output()"
      ]
     },
     "metadata": {},
     "output_type": "display_data"
    }
   ],
   "source": [
    "# TODO: Hide text output display? Showing for demonstration\n",
    "import ipywidgets as widgets\n",
    "\n",
    "# Radio buttons\n",
    "widget1 = widgets.RadioButtons(\n",
    "    options=['Positive correlation','Negative correlation','Weak positive correlation','No correlation'],\n",
    "    value = None\n",
    ")\n",
    "\n",
    "# Submit button\n",
    "button1 = widgets.Button(\n",
    "    description='Submit',\n",
    "    disabled=False,\n",
    "    button_style='',\n",
    "    icon='check'\n",
    ")\n",
    "\n",
    "# Output\n",
    "output1 = widgets.Output()\n",
    "\n",
    "# Display widgets together\n",
    "display(widget1, button1, output1)\n",
    "\n",
    "# Output function\n",
    "def out(b):\n",
    "    with output1:\n",
    "        output1.clear_output()\n",
    "        print(widget1.value)\n",
    "\n",
    "# Handle click event\n",
    "button1.on_click(out)"
   ]
  },
  {
   "cell_type": "markdown",
   "metadata": {
    "slideshow": {
     "slide_type": "skip"
    }
   },
   "source": [
    "TODO: Add popup answer for the question. \n",
    "It is negative. \n",
    "the less population density in the neighborhood, the more crime rate will be. \n",
    "In the other word, safest neighborhoods are the most populated ones in Detroit area."
   ]
  },
  {
   "cell_type": "markdown",
   "metadata": {
    "slideshow": {
     "slide_type": "slide"
    }
   },
   "source": [
    "![congrats popup](congrats.png)\n",
    "\n",
    "You just learned the foundations of spatial correlation analysis!"
   ]
  }
 ],
 "metadata": {
  "celltoolbar": "Slideshow",
  "kernelspec": {
   "display_name": "Python 3",
   "language": "python",
   "name": "python3"
  },
  "language_info": {
   "codemirror_mode": {
    "name": "ipython",
    "version": 3
   },
   "file_extension": ".py",
   "mimetype": "text/x-python",
   "name": "python",
   "nbconvert_exporter": "python",
   "pygments_lexer": "ipython3",
   "version": "3.7.4"
  }
 },
 "nbformat": 4,
 "nbformat_minor": 2
}
