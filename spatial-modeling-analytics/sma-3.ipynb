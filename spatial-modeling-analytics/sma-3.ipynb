{
 "cells": [
  {
   "cell_type": "markdown",
   "metadata": {},
   "source": [
    "# Spatial Modeling and Analytics\n",
    "## Proximity\n",
    "*Lesson Developer: Nafiseh Haghtalab haghtala@msu.edu*\n"
   ]
  },
  {
   "cell_type": "code",
   "execution_count": 1,
   "metadata": {
    "init_cell": true
   },
   "outputs": [
    {
     "data": {
      "text/html": [
       "\n",
       "    <script>\n",
       "        display = true; \n",
       "        function toggle() {\n",
       "            var input = $(\"div.input\");\n",
       "            if (display) { input.hide(); }\n",
       "            else { input.show(); }\n",
       "            display = !display;\n",
       "        }\n",
       "        $(document).ready(toggle);\n",
       "    </script>\n",
       "    \n",
       "    <form action=\"javascript:toggle()\">\n",
       "        <input type=\"submit\" value=\"Toggle raw code\">\n",
       "    </form>\n"
      ],
      "text/plain": [
       "<IPython.core.display.HTML object>"
      ]
     },
     "execution_count": 1,
     "metadata": {},
     "output_type": "execute_result"
    }
   ],
   "source": [
    "from IPython.display import HTML, IFrame\n",
    "\n",
    "# hide code output\n",
    "HTML('''\n",
    "    <script>\n",
    "        display = true; \n",
    "        function toggle() {\n",
    "            var input = $(\"div.input\");\n",
    "            if (display) { input.hide(); }\n",
    "            else { input.show(); }\n",
    "            display = !display;\n",
    "        }\n",
    "        $(document).ready(toggle);\n",
    "    </script>\n",
    "    \n",
    "    <form action=\"javascript:toggle()\">\n",
    "        <input type=\"submit\" value=\"Toggle raw code\">\n",
    "    </form>\n",
    "''')"
   ]
  },
  {
   "cell_type": "markdown",
   "metadata": {},
   "source": [
    "#### 2) Near Method:\n",
    "\n",
    "The near method is another feature-based proximity analysis method that calculates the distance from each point in one feature class to the nearest point or line feature in another feature class. You might use *Near* to find the closest stream for a set of wildlife observations or the closest bus stops to a set of tourist destinations. The Near method will also add the Feature Identifier and, optionally, coordinates of and the angle toward the nearest feature.\n",
    "\n",
    "Below is an example showing points near river features. The points are symbolized using graduated colors based on distance to a river, and they're labeled with the distance.\n",
    "\n",
    "![near images](sma-image-3.png)"
   ]
  },
  {
   "cell_type": "markdown",
   "metadata": {},
   "source": [
    "##### Find the closest gas station\n",
    "If you want to go to a gas station in this picture, which one would you choose? "
   ]
  },
  {
   "cell_type": "code",
   "execution_count": 2,
   "metadata": {
    "init_cell": true
   },
   "outputs": [
    {
     "data": {
      "text/html": [
       "\n",
       "        <iframe\n",
       "            width=\"700\"\n",
       "            height=\"500\"\n",
       "            src=\"fuel.html\"\n",
       "            frameborder=\"0\"\n",
       "            allowfullscreen\n",
       "        ></iframe>\n",
       "        "
      ],
      "text/plain": [
       "<IPython.lib.display.IFrame at 0x7fde704a0850>"
      ]
     },
     "execution_count": 2,
     "metadata": {},
     "output_type": "execute_result"
    }
   ],
   "source": [
    "IFrame(\"fuel.html\", width=700, height=500)"
   ]
  },
  {
   "cell_type": "markdown",
   "metadata": {},
   "source": [
    "What tool would you use to make this decision?"
   ]
  },
  {
   "cell_type": "code",
   "execution_count": 3,
   "metadata": {
    "init_cell": true
   },
   "outputs": [
    {
     "data": {
      "application/vnd.jupyter.widget-view+json": {
       "model_id": "021ceae825314e8d9c053ec177e8ae1b",
       "version_major": 2,
       "version_minor": 0
      },
      "text/plain": [
       "RadioButtons(options=('Single buffer', 'Multi-buffer ring', 'Near method'), value='Single buffer')"
      ]
     },
     "metadata": {},
     "output_type": "display_data"
    }
   ],
   "source": [
    "import ipywidgets as widgets\n",
    "widgets.RadioButtons(\n",
    "    options=['Single buffer', 'Multi-buffer ring', 'Near method']\n",
    ")"
   ]
  },
  {
   "cell_type": "markdown",
   "metadata": {},
   "source": [
    "#### 3) Distance Decay:\n",
    "\n",
    "Distance decay can be explained by **Waldo Tobler’s First Law of Geography**. This is the assertion that *“Everything is related to everything else, but near things are more related than distant things,”* and can be applied to a range of different geographical concepts, from human settlements, to geolinguistics, to ecology.\n",
    "\n",
    "For instance: If you are staying in a hotel based on this map, How far you are willing to travel?"
   ]
  },
  {
   "cell_type": "code",
   "execution_count": 4,
   "metadata": {
    "init_cell": true
   },
   "outputs": [
    {
     "data": {
      "application/vnd.jupyter.widget-view+json": {
       "model_id": "cbb03daccb03438989eeccc17ed53539",
       "version_major": 2,
       "version_minor": 0
      },
      "text/plain": [
       "RadioButtons(options=(\"If you don't have a car, not very far from hotel\", 'If you have a car, close to parking…"
      ]
     },
     "metadata": {},
     "output_type": "display_data"
    }
   ],
   "source": [
    "widgets.RadioButtons(\n",
    "    options=['If you don\\'t have a car, not very far from hotel',\n",
    "             'If you have a car, close to parking 2',\n",
    "             'Distance doesn\\'t matter']\n",
    ")"
   ]
  },
  {
   "cell_type": "markdown",
   "metadata": {},
   "source": [
    "![hotel image](sma-image-5.png)"
   ]
  },
  {
   "cell_type": "markdown",
   "metadata": {},
   "source": [
    "**Distance decay** is the idea that the farther away you are from goods or services, the less likely you are to make use of it. For example, if you live in a rural area, it’s less likely that you travel to a bigger city 100 miles even if it offers bigger and better goods and services.\n",
    "\n",
    "As the distance between two locales increases, the amount of activity between them decreases. Likewise, if you build a store in the middle of nowhere unconnected to transportation, no one will visit your store.\n",
    "\n",
    "The idea of distance decay has been applied since the beginning of human civilization. Farmers who water their field, they are going to keep their supply of water as the shortest route as possible. They don’t want the distance to be very far.\n"
   ]
  },
  {
   "cell_type": "markdown",
   "metadata": {},
   "source": [
    "#### Make a decision \n",
    "\n",
    "Think of going to a park or shopping and your experience of distance decay? How does *Waldo Tobler First Law of Geography* describes relationships between close and far things?\n",
    "\n",
    "Take the time to write down some of the stores you patronize, and if you are applying distance decay in your everyday life. Find some new stores on the map in your area, and picture how likely you are to travel to go there.\n",
    "\n",
    "![distane decay image](sma-image-6.png)\n",
    "\n",
    "TODO: Add a comment below or post here (Weblog or a page)"
   ]
  },
  {
   "cell_type": "markdown",
   "metadata": {},
   "source": [
    "![congrats popup](congrats.png)\n",
    "\n",
    "You just learned the foundations of proximity analysis!"
   ]
  },
  {
   "cell_type": "markdown",
   "metadata": {},
   "source": [
    "**Continue the journey: [Next Example](sma-4.ipynb)**"
   ]
  }
 ],
 "metadata": {
  "celltoolbar": "Initialization Cell",
  "kernelspec": {
   "display_name": "Python 3",
   "language": "python",
   "name": "python3"
  },
  "language_info": {
   "codemirror_mode": {
    "name": "ipython",
    "version": 3
   },
   "file_extension": ".py",
   "mimetype": "text/x-python",
   "name": "python",
   "nbconvert_exporter": "python",
   "pygments_lexer": "ipython3",
   "version": "3.7.4"
  }
 },
 "nbformat": 4,
 "nbformat_minor": 2
}
