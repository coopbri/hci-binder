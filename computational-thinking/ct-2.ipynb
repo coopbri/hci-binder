{
 "cells": [
  {
   "cell_type": "markdown",
   "metadata": {},
   "source": [
    "# Computational Thinking\n",
    "## Build a simulation\n",
    "*Lesson Developer: Aaron Weeden aweeden@shodor.org*\n"
   ]
  },
  {
   "cell_type": "code",
   "execution_count": null,
   "metadata": {
    "init_cell": true
   },
   "outputs": [],
   "source": [
    "from IPython.display import HTML, IFrame\n",
    "\n",
    "# hide code output\n",
    "HTML('''\n",
    "    <script>\n",
    "        display = true; \n",
    "        function toggle() {\n",
    "            var input = $(\"div.input\");\n",
    "            if (display) { input.hide(); }\n",
    "            else { input.show(); }\n",
    "            display = !display;\n",
    "        }\n",
    "        $(document).ready(toggle);\n",
    "    </script>\n",
    "    \n",
    "    <form action=\"javascript:toggle()\">\n",
    "        <input type=\"submit\" value=\"Toggle raw code\">\n",
    "    </form>\n",
    "''')"
   ]
  },
  {
   "cell_type": "markdown",
   "metadata": {},
   "source": [
    "TODO: We will need to work together to do this second part.\n",
    "    I'm thinking something like NetLogo/Python high level functions to do some basic simulation pieces.\n",
    "    \n",
    "    \n",
    "Try to sketch out what the code functions might look li9ke to get this to function and we can discuss what we can do with D3 to achieve it."
   ]
  }
 ],
 "metadata": {
  "celltoolbar": "Initialization Cell",
  "kernelspec": {
   "display_name": "Python 3",
   "language": "python",
   "name": "python3"
  },
  "language_info": {
   "codemirror_mode": {
    "name": "ipython",
    "version": 3
   },
   "file_extension": ".py",
   "mimetype": "text/x-python",
   "name": "python",
   "nbconvert_exporter": "python",
   "pygments_lexer": "ipython3",
   "version": "3.7.4"
  }
 },
 "nbformat": 4,
 "nbformat_minor": 2
}
