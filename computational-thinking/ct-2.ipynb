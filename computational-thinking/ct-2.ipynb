{
 "cells": [
  {
   "cell_type": "markdown",
   "metadata": {},
   "source": [
    "# Computational Thinking\n",
    "## Build a simulation\n",
    "*Lesson Developer: Aaron Weeden aweeden@shodor.org*\n"
   ]
  },
  {
   "cell_type": "markdown",
   "metadata": {},
   "source": [
    "TODO: We will need to work together to do this second part.\n",
    "    I'm thinking something like NetLogo/Python high level functions to do some basic simulation pieces.\n",
    "    \n",
    "    \n",
    "Try to sketch out what the code functions might look li9ke to get this to function and we can discuss what we can do with D3 to achieve it."
   ]
  }
 ],
 "metadata": {
  "kernelspec": {
   "display_name": "Python 3",
   "language": "python",
   "name": "python3"
  },
  "language_info": {
   "codemirror_mode": {
    "name": "ipython",
    "version": 3
   },
   "file_extension": ".py",
   "mimetype": "text/x-python",
   "name": "python",
   "nbconvert_exporter": "python",
   "pygments_lexer": "ipython3",
   "version": "3.7.0"
  }
 },
 "nbformat": 4,
 "nbformat_minor": 2
}
