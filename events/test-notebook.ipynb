{
 "cells": [
  {
   "cell_type": "code",
   "execution_count": 1,
   "metadata": {
    "init_cell": true
   },
   "outputs": [
    {
     "data": {
      "application/javascript": [
       "// listen for data from iframe\n",
       "var data = [];\n",
       "window.addEventListener(\"message\", function(e) {\n",
       "    // parse data received from iframe\n",
       "    var kernel = IPython.notebook.kernel;\n",
       "    var key = e.message ? \"message\" : \"data\";\n",
       "    data = e[key];\n",
       "    var command = key + \" = \\\"\" + data + \"\\\"\";\n",
       "    kernel.execute(command);\n",
       "\n",
       "    // execute third cell\n",
       "    Jupyter.notebook.execute_cells([2]);\n",
       "}, false);\n"
      ],
      "text/plain": [
       "<IPython.core.display.Javascript object>"
      ]
     },
     "metadata": {},
     "output_type": "display_data"
    }
   ],
   "source": [
    "%%javascript\n",
    "// listen for data from iframe\n",
    "var data = [];\n",
    "window.addEventListener(\"message\", function(e) {\n",
    "    // parse data received from iframe\n",
    "    var kernel = IPython.notebook.kernel;\n",
    "    var key = e.message ? \"message\" : \"data\";\n",
    "    data = e[key];\n",
    "    var command = key + \" = \\\"\" + data + \"\\\"\";\n",
    "    kernel.execute(command);\n",
    "\n",
    "    // execute third cell\n",
    "    Jupyter.notebook.execute_cells([2]);\n",
    "}, false);"
   ]
  },
  {
   "cell_type": "code",
   "execution_count": 2,
   "metadata": {
    "init_cell": true
   },
   "outputs": [
    {
     "data": {
      "text/html": [
       "\n",
       "        <iframe\n",
       "            width=\"260\"\n",
       "            height=\"110\"\n",
       "            src=\"test-widget.html\"\n",
       "            frameborder=\"0\"\n",
       "            allowfullscreen\n",
       "        ></iframe>\n",
       "        "
      ],
      "text/plain": [
       "<IPython.lib.display.IFrame at 0x7f7d74036c70>"
      ]
     },
     "execution_count": 2,
     "metadata": {},
     "output_type": "execute_result"
    }
   ],
   "source": [
    "from IPython.display import IFrame\n",
    "\n",
    "# Load example D3 widget\n",
    "IFrame(\"test-widget.html\", width=260, height=110)"
   ]
  },
  {
   "cell_type": "code",
   "execution_count": 25,
   "metadata": {
    "init_cell": true
   },
   "outputs": [
    {
     "name": "stdout",
     "output_type": "stream",
     "text": [
      "Shapes clicked: [object Object]\n"
     ]
    }
   ],
   "source": [
    "try:\n",
    "    print(\"Shapes clicked: \" + data)\n",
    "except:\n",
    "    print(\"No data yet\")"
   ]
  }
 ],
 "metadata": {
  "celltoolbar": "Initialization Cell",
  "kernelspec": {
   "display_name": "Python 3",
   "language": "python",
   "name": "python3"
  },
  "language_info": {
   "codemirror_mode": {
    "name": "ipython",
    "version": 3
   },
   "file_extension": ".py",
   "mimetype": "text/x-python",
   "name": "python",
   "nbconvert_exporter": "python",
   "pygments_lexer": "ipython3",
   "version": "3.8.1"
  }
 },
 "nbformat": 4,
 "nbformat_minor": 2
}
