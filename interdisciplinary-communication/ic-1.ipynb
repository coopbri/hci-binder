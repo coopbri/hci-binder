{
 "cells": [
  {
   "cell_type": "markdown",
   "metadata": {},
   "source": [
    "# Interdisciplinary Communication\n",
    "## Overview\n",
    "### Welcome to the Hour of CyberInfrastructure Interdisciplinary Communication Notebook\n",
    "\n",
    "Throughout this lesson, you'll think about how we communicate scientific concepts, what makes learning, thinking, or discussing those concepts easy or difficult, and how your understanding of concepts might differ from someone with a different background and experience than your own.\n",
    "\n",
    "Remember to follow the directions for each section as you go through the notebooks.\n",
    "\n",
    "*Lesson Developer: Forrest Bowlick fbowlick@umass.edu*"
   ]
  },
  {
   "cell_type": "code",
   "execution_count": 1,
   "metadata": {
    "init_cell": true
   },
   "outputs": [
    {
     "data": {
      "text/html": [
       "\n",
       "    <script>\n",
       "        display = true; \n",
       "        function toggle() {\n",
       "            var input = $(\"div.input\");\n",
       "            if (display) { input.hide(); }\n",
       "            else { input.show(); }\n",
       "            display = !display;\n",
       "        }\n",
       "        $(document).ready(toggle);\n",
       "    </script>\n",
       "    \n",
       "    <form action=\"javascript:toggle()\">\n",
       "        <input type=\"submit\" value=\"Toggle raw code\">\n",
       "    </form>\n"
      ],
      "text/plain": [
       "<IPython.core.display.HTML object>"
      ]
     },
     "execution_count": 1,
     "metadata": {},
     "output_type": "execute_result"
    }
   ],
   "source": [
    "from IPython.display import HTML, IFrame, Javascript\n",
    "\n",
    "# hide code output\n",
    "HTML('''\n",
    "    <script>\n",
    "        display = true; \n",
    "        function toggle() {\n",
    "            var input = $(\"div.input\");\n",
    "            if (display) { input.hide(); }\n",
    "            else { input.show(); }\n",
    "            display = !display;\n",
    "        }\n",
    "        $(document).ready(toggle);\n",
    "    </script>\n",
    "    \n",
    "    <form action=\"javascript:toggle()\">\n",
    "        <input type=\"submit\" value=\"Toggle raw code\">\n",
    "    </form>\n",
    "''')"
   ]
  },
  {
   "cell_type": "markdown",
   "metadata": {},
   "source": [
    "# Word Clouds\n",
    "\n",
    "Let's start off by considering some word clouds. Word clouds are graphic representations of the content in a body of text. In this case, you'll see a word cloud generated from an article on Cyber Literacy in GIScience (hyperlink: https://www.tandfonline.com/doi/full/10.1080/00330124.2018.1518720). \n",
    "\n",
    "This word cloud has removed common 'dictionary' words, like 'the' or 'and', so the remaining words are core ideas, topics, and concepts in the work."
   ]
  },
  {
   "cell_type": "markdown",
   "metadata": {},
   "source": [
    "__TODO__: Two cells directly below are executed with a blank output -- hide output"
   ]
  },
  {
   "cell_type": "code",
   "execution_count": 2,
   "metadata": {
    "init_cell": true
   },
   "outputs": [
    {
     "data": {
      "application/javascript": [
       "// listen for word arrays from each iframe\n",
       "var data = [];\n",
       "window.addEventListener(\"message\", function(e) {\n",
       "    // parse data received from iframe\n",
       "    var kernel = IPython.notebook.kernel;\n",
       "    var key = e.message ? \"message\" : \"data\";\n",
       "    data += \",\" + e[key].join(', ');\n",
       "    var command = key + \" = \\\"\" + data + \"\\\"\";\n",
       "    kernel.execute(command);\n",
       "\n",
       "    // store unknown words\n",
       "    var cell = Jupyter.notebook.get_cell(6).execute();\n",
       "    \n",
       "    // display second copy of word cloud (if not displayed already)\n",
       "    var cloud_two = Jupyter.notebook.get_cell(10);\n",
       "    if (cloud_two.output_area.outputs.length === 0) {\n",
       "        Jupyter.notebook.execute_cells([10]);\n",
       "    }\n",
       "    \n",
       "    // store known words\n",
       "    cell = Jupyter.notebook.get_cell(7);\n",
       "    cell.execute();\n",
       "}, false);\n"
      ],
      "text/plain": [
       "<IPython.core.display.Javascript object>"
      ]
     },
     "metadata": {},
     "output_type": "display_data"
    }
   ],
   "source": [
    "%%javascript\n",
    "// listen for word arrays from each iframe\n",
    "var data = [];\n",
    "window.addEventListener(\"message\", function(e) {\n",
    "    // parse data received from iframe\n",
    "    var kernel = IPython.notebook.kernel;\n",
    "    var key = e.message ? \"message\" : \"data\";\n",
    "    data += \",\" + e[key].join(', ');\n",
    "    var command = key + \" = \\\"\" + data + \"\\\"\";\n",
    "    kernel.execute(command);\n",
    "\n",
    "    // store unknown words\n",
    "    var cell = Jupyter.notebook.get_cell(6).execute();\n",
    "    \n",
    "    // display second copy of word cloud (if not displayed already)\n",
    "    var cloud_two = Jupyter.notebook.get_cell(10);\n",
    "    if (cloud_two.output_area.outputs.length === 0) {\n",
    "        Jupyter.notebook.execute_cells([10]);\n",
    "    }\n",
    "    \n",
    "    // store known words\n",
    "    cell = Jupyter.notebook.get_cell(7);\n",
    "    cell.execute();\n",
    "}, false);"
   ]
  },
  {
   "cell_type": "code",
   "execution_count": null,
   "metadata": {},
   "outputs": [],
   "source": [
    "# runs after words are selected in iframe\n",
    "try:\n",
    "    unknown = data\n",
    "except NameError:\n",
    "    unknown = \"\"\n",
    "\n",
    "Javascript(\"Jupyter.notebook.execute_cells([14])\")"
   ]
  },
  {
   "cell_type": "code",
<<<<<<< HEAD
   "execution_count": 8,
=======
   "execution_count": 21,
>>>>>>> aeff9ba321938a24aac334b345dfd233e31abdbc
   "metadata": {
    "scrolled": true
   },
   "outputs": [
    {
     "data": {
      "application/javascript": [
       "Jupyter.notebook.execute_cells([16])"
      ],
      "text/plain": [
       "<IPython.core.display.Javascript object>"
      ]
     },
<<<<<<< HEAD
     "execution_count": 8,
=======
     "execution_count": 21,
>>>>>>> aeff9ba321938a24aac334b345dfd233e31abdbc
     "metadata": {},
     "output_type": "execute_result"
    }
   ],
   "source": [
    "# runs after words are selected in iframe\n",
    "try:\n",
    "    known = data\n",
    "except NameError:\n",
    "    known = \"\"\n",
    "\n",
    "Javascript(\"Jupyter.notebook.execute_cells([16])\")"
   ]
  },
  {
   "cell_type": "code",
   "execution_count": 3,
   "metadata": {
    "init_cell": true,
    "scrolled": false
   },
   "outputs": [
    {
     "data": {
      "text/html": [
       "\n",
       "        <iframe\n",
       "            width=\"980\"\n",
       "            height=\"740\"\n",
       "            src=\"wordcloud-phase1.html\"\n",
       "            frameborder=\"0\"\n",
       "            allowfullscreen\n",
       "        ></iframe>\n",
       "        "
      ],
      "text/plain": [
<<<<<<< HEAD
       "<IPython.lib.display.IFrame at 0x5f06050>"
=======
       "<IPython.lib.display.IFrame at 0x64f5070>"
>>>>>>> aeff9ba321938a24aac334b345dfd233e31abdbc
      ]
     },
     "execution_count": 3,
     "metadata": {},
     "output_type": "execute_result"
    }
   ],
   "source": [
    "IFrame(\"wordcloud-phase1.html\", width=\"980\", height=\"740\")"
   ]
  },
  {
   "cell_type": "markdown",
   "metadata": {},
   "source": [
    "Think about which of these words you've seen before in classes, working on projects, in your daily life, and so forth. Also, think about which of these words are new or unfamiliar. \n",
    "\n",
    "After considering these words for a while, click on three words that you don’t feel confident you know the definition for.\n",
    "\n",
    "<br>"
   ]
  },
  {
   "cell_type": "code",
   "execution_count": null,
   "metadata": {},
   "outputs": [],
   "source": [
    "# Runs after three words are selected in first iframe\n",
    "IFrame(\"wordcloud-phase2.html\", width=\"980\", height=\"740\")"
   ]
  },
  {
   "cell_type": "markdown",
   "metadata": {},
   "source": [
    "__TODO__: Probably only run this cell after the second cloud pops up, or integrate the text into the iframe or something else to that effect\n",
    "\n",
    "Here are the words again. Now, click on three words you feel confident you know the definition for.\n",
    "\n",
    "<br>"
   ]
  },
  {
   "cell_type": "markdown",
   "metadata": {},
   "source": [
    "Let's look at the words you selected in these word clouds."
   ]
  },
  {
   "cell_type": "markdown",
   "metadata": {},
   "source": [
    "Here are the words you clicked on that you are not confident about:"
   ]
  },
  {
   "cell_type": "code",
   "execution_count": null,
   "metadata": {},
   "outputs": [],
   "source": [
    "# Runs after three words are selected in first iframe\n",
    "# TODO: hide and clean up code. Convert list to markdown possibly?\n",
    "words = [n.strip() for n in unknown.split(',')]\n",
    "    \n",
    "for num, word in enumerate(words[1:4]):\n",
    "    print(num+1, word)"
   ]
  },
  {
   "cell_type": "markdown",
   "metadata": {},
   "source": [
    "And here are the words you clicked on that you are confident about:"
   ]
  },
  {
   "cell_type": "code",
   "execution_count": null,
   "metadata": {},
   "outputs": [],
   "source": [
    "# Runs after three words are selected in second iframe\n",
    "# TODO: hide and clean up code. Convert list to markdown possibly?\n",
    "words = [n.strip() for n in unknown.split(',')]\n",
    "\n",
    "for num, word in enumerate(words[4:7]):\n",
    "    print(num+1, word)"
   ]
  },
  {
   "cell_type": "markdown",
   "metadata": {},
   "source": [
    "Do you notice any similarities in the words you picked in each group? Does anything seem to connect those terms or ideas? Depending on what you picked, you might've revealed some of your own expertise or skill, or shown an area where you don't have a lot of practice."
   ]
  },
  {
   "cell_type": "markdown",
   "metadata": {},
   "source": [
    "### Defining Comfortable Terms"
   ]
  },
  {
   "cell_type": "markdown",
   "metadata": {},
   "source": [
    "Let's focus on the terms you were comfortable with. Each term is listed below with its own definition box. For each term, write out <b>your</b> definition of the term - no dictionaries, please! - and we'll compare that with a more formal definition later."
   ]
  },
  {
   "cell_type": "code",
   "execution_count": 4,
   "metadata": {
    "init_cell": true
   },
   "outputs": [
    {
     "name": "stdout",
     "output_type": "stream",
     "text": [
      "Provide your definition of topic 1\n"
     ]
    },
    {
     "data": {
      "application/vnd.jupyter.widget-view+json": {
<<<<<<< HEAD
       "model_id": "42cb764e43eb4f6686220e76174512f4",
=======
       "model_id": "521a724abdd148b9be26c098288cda36",
>>>>>>> aeff9ba321938a24aac334b345dfd233e31abdbc
       "version_major": 2,
       "version_minor": 0
      },
      "text/plain": [
       "Text(value='Topic1', description='Definition:', placeholder='Your definition')"
      ]
     },
     "metadata": {},
     "output_type": "display_data"
    }
   ],
   "source": [
    "# TODO: This will be cleaned up and hidden.\n",
    "import ipywidgets as widgets\n",
    "print(\"Provide your definition of topic 1\")\n",
    "\n",
    "widgets.Text(\n",
    "    value='Topic1',\n",
    "    placeholder='Your definition',\n",
    "    description='Definition:',\n",
    "    disabled=False\n",
    ")\n"
   ]
  },
  {
   "cell_type": "code",
   "execution_count": 5,
   "metadata": {
    "init_cell": true
   },
   "outputs": [
    {
     "name": "stdout",
     "output_type": "stream",
     "text": [
      "Provide your definition of topic 2\n"
     ]
    },
    {
     "data": {
      "application/vnd.jupyter.widget-view+json": {
<<<<<<< HEAD
       "model_id": "c1b1f5df3e8344b482ab0b9e1bf5c95a",
=======
       "model_id": "076e58271f6d40dabffeb79df7972ee5",
>>>>>>> aeff9ba321938a24aac334b345dfd233e31abdbc
       "version_major": 2,
       "version_minor": 0
      },
      "text/plain": [
       "Text(value='Topic2', description='Definition:', placeholder='Your definition')"
      ]
     },
     "metadata": {},
     "output_type": "display_data"
    }
   ],
   "source": [
    "# TODO: This will be cleaned up and hidden.\n",
    "import ipywidgets as widgets\n",
    "print(\"Provide your definition of topic 2\")\n",
    "\n",
    "widgets.Text(\n",
    "    value='Topic2',\n",
    "    placeholder='Your definition',\n",
    "    description='Definition:',\n",
    "    disabled=False\n",
    ")\n"
   ]
  },
  {
   "cell_type": "code",
   "execution_count": 6,
   "metadata": {
    "init_cell": true
   },
   "outputs": [
    {
     "name": "stdout",
     "output_type": "stream",
     "text": [
      "Provide your definition of topic 3\n"
     ]
    },
    {
     "data": {
      "application/vnd.jupyter.widget-view+json": {
<<<<<<< HEAD
       "model_id": "0ff1712f49a440e591e23fbf2d7294a2",
=======
       "model_id": "47927cf0721c4765a983ed2e6bbb9e63",
>>>>>>> aeff9ba321938a24aac334b345dfd233e31abdbc
       "version_major": 2,
       "version_minor": 0
      },
      "text/plain": [
       "Text(value='Topic3', description='Definition:', placeholder='Your definition')"
      ]
     },
     "metadata": {},
     "output_type": "display_data"
    }
   ],
   "source": [
    "# TODO: This will be cleaned up and hidden.\n",
    "import ipywidgets as widgets\n",
    "print(\"Provide your definition of topic 3\")\n",
    "\n",
    "widgets.Text(\n",
    "    value='Topic3',\n",
    "    placeholder='Your definition',\n",
    "    description='Definition:',\n",
    "    disabled=False\n",
    ")\n"
   ]
  },
  {
   "cell_type": "markdown",
   "metadata": {},
   "source": [
    "### Compare\n",
    "\n",
    "Consider the definitions between your definitions and ours. Notice any similarities? Any differences?\n",
    "\n",
    "TODO: Add some interactive pieces that shows definitions side-by-side or in a list.\n",
    "\n",
    "TODO: Depending on capabilities, either learners highlight (using a tool like in Word) similarities in the definitions, or it is done automatically.\n",
    "\n",
    "Depending on your experience and expertise, you might define terms differently. At the same time, you might need to use different types of definitions when talking to people with different backgrounds and expertise"
   ]
  },
  {
   "cell_type": "markdown",
   "metadata": {},
   "source": [
    "![congrats popup](congrats.png)\n",
    "You just learned about Jargon!"
   ]
  },
  {
   "cell_type": "markdown",
   "metadata": {},
   "source": [
    "**Continue the journey: [Next Example](ic-2.ipynb)**"
   ]
  }
 ],
 "metadata": {
  "celltoolbar": "Initialization Cell",
  "kernelspec": {
   "display_name": "Python 3",
   "language": "python",
   "name": "python3"
  },
  "language_info": {
   "codemirror_mode": {
    "name": "ipython",
    "version": 3
   },
   "file_extension": ".py",
   "mimetype": "text/x-python",
   "name": "python",
   "nbconvert_exporter": "python",
   "pygments_lexer": "ipython3",
   "version": "3.7.4"
  }
 },
 "nbformat": 4,
 "nbformat_minor": 2
}
