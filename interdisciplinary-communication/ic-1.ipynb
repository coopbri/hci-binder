{
 "cells": [
  {
   "cell_type": "markdown",
   "metadata": {},
   "source": [
    "# Interdisciplinary Communication\n",
    "## Overview\n",
    "### Welcome to the Hour of CyberInfrastructure Interdisciplinary Communication Notebook\n",
    "\n",
    "Throughout this lesson, you'll think about how we communicate scientific concepts, what makes learning, thinking, or discussing those concepts easy or difficult, and how your understanding of concepts might differ from someone with a different background and experience than your own.\n",
    "\n",
    "Remember to run each cell, and follow the directions for each section as you go through the notebooks.\n",
    "\n",
    "*Lesson Developer: Forrest Bowlick fbowlick@umass.edu*"
   ]
  },
  {
   "cell_type": "code",
   "execution_count": 1,
   "metadata": {
    "init_cell": true
   },
   "outputs": [
    {
     "data": {
      "text/html": [
       "\n",
       "    <script>\n",
       "        display = true; \n",
       "        function toggle() {\n",
       "            var input = $(\"div.input\");\n",
       "            if (display) { input.hide(); }\n",
       "            else { input.show(); }\n",
       "            display = !display;\n",
       "        }\n",
       "        $(document).ready(toggle);\n",
       "    </script>\n",
       "    \n",
       "    <form action=\"javascript:toggle()\">\n",
       "        <input type=\"submit\" value=\"Toggle raw code\">\n",
       "    </form>\n"
      ],
      "text/plain": [
       "<IPython.core.display.HTML object>"
      ]
     },
     "execution_count": 1,
     "metadata": {},
     "output_type": "execute_result"
    }
   ],
   "source": [
    "from IPython.display import HTML, IFrame, Javascript\n",
    "\n",
    "# hide code output\n",
    "HTML('''\n",
    "    <script>\n",
    "        display = true; \n",
    "        function toggle() {\n",
    "            var input = $(\"div.input\");\n",
    "            if (display) { input.hide(); }\n",
    "            else { input.show(); }\n",
    "            display = !display;\n",
    "        }\n",
    "        $(document).ready(toggle);\n",
    "    </script>\n",
    "    \n",
    "    <form action=\"javascript:toggle()\">\n",
    "        <input type=\"submit\" value=\"Toggle raw code\">\n",
    "    </form>\n",
    "''')"
   ]
  },
  {
   "cell_type": "markdown",
   "metadata": {},
   "source": [
    "# Word Clouds\n",
    "\n",
    "Let's start off by considering some word clouds. Word clouds are graphic representations of the content in a body of text. In this case, you'll see a word cloud generated from an article on Cyber Literacy in GIScience (hyperlink: https://www.tandfonline.com/doi/full/10.1080/00330124.2018.1518720). \n",
    "\n",
    "This word cloud has removed common 'dictionary' words, like 'the' or 'and', so the remaining words are core ideas, topics, and concepts in the work."
   ]
  },
  {
   "cell_type": "markdown",
   "metadata": {},
   "source": [
    "~~TO DO: Run this cell to make the word cloud appear!~~"
   ]
  },
  {
   "cell_type": "markdown",
   "metadata": {},
   "source": [
    "__TODO__: Two cells directly below are executed with a blank output -- hide output"
   ]
  },
  {
   "cell_type": "code",
   "execution_count": 2,
   "metadata": {
    "init_cell": true
   },
   "outputs": [
    {
     "data": {
      "application/javascript": [
       "// listen for word arrays from each iframe\n",
       "var data = [];\n",
       "window.addEventListener(\"message\", function(e) {\n",
       "    // parse data received from iframe\n",
       "    var kernel = IPython.notebook.kernel;\n",
       "    var key = e.message ? \"message\" : \"data\";\n",
       "    data += \",\" + e[key].join(', ');\n",
       "    var command = key + \" = \\\"\" + data + \"\\\"\";\n",
       "    kernel.execute(command);\n",
       "\n",
       "    // store unknown words\n",
       "    var cell = Jupyter.notebook.get_cell(6);\n",
       "    cell.execute();\n",
       "    \n",
       "    // display second copy of word cloud (if not displayed already)\n",
       "    var cloud_two = Jupyter.notebook.get_cell(10);\n",
       "    if (cloud_two.output_area.outputs.length === 0) {\n",
       "        Jupyter.notebook.execute_cells([10]);\n",
       "    }\n",
       "    \n",
       "    // store known words\n",
       "    cell = Jupyter.notebook.get_cell(7);\n",
       "    cell.execute();\n",
       "}, false);\n"
      ],
      "text/plain": [
       "<IPython.core.display.Javascript object>"
      ]
     },
     "metadata": {},
     "output_type": "display_data"
    }
   ],
   "source": [
    "%%javascript\n",
    "// listen for word arrays from each iframe\n",
    "var data = [];\n",
    "window.addEventListener(\"message\", function(e) {\n",
    "    // parse data received from iframe\n",
    "    var kernel = IPython.notebook.kernel;\n",
    "    var key = e.message ? \"message\" : \"data\";\n",
    "    data += \",\" + e[key].join(', ');\n",
    "    var command = key + \" = \\\"\" + data + \"\\\"\";\n",
    "    kernel.execute(command);\n",
    "\n",
    "    // store unknown words\n",
    "    var cell = Jupyter.notebook.get_cell(6);\n",
    "    cell.execute();\n",
    "    \n",
    "    // display second copy of word cloud (if not displayed already)\n",
    "    var cloud_two = Jupyter.notebook.get_cell(10);\n",
    "    if (cloud_two.output_area.outputs.length === 0) {\n",
    "        Jupyter.notebook.execute_cells([10]);\n",
    "    }\n",
    "    \n",
    "    // store known words\n",
    "    cell = Jupyter.notebook.get_cell(7);\n",
    "    cell.execute();\n",
    "}, false);"
   ]
  },
  {
   "cell_type": "code",
   "execution_count": null,
   "metadata": {
    "scrolled": false
   },
   "outputs": [],
   "source": [
    "# runs after words are selected in iframe\n",
    "try:\n",
    "    unknown = data\n",
    "except NameError:\n",
    "    unknown = \"\"\n",
    "\n",
    "Javascript(\"Jupyter.notebook.execute_cells([14])\")"
   ]
  },
  {
   "cell_type": "code",
   "execution_count": null,
   "metadata": {
    "scrolled": true
   },
   "outputs": [],
   "source": [
    "# runs after words are selected in iframe\n",
    "try:\n",
    "    known = data\n",
    "except NameError:\n",
    "    known = \"\"\n",
    "\n",
    "Javascript(\"Jupyter.notebook.execute_cells([16])\")"
   ]
  },
  {
   "cell_type": "code",
   "execution_count": 3,
   "metadata": {
    "init_cell": true
   },
   "outputs": [
    {
     "data": {
      "text/html": [
       "\n",
       "        <iframe\n",
       "            width=\"980\"\n",
       "            height=\"740\"\n",
       "            src=\"wordcloud-phase1.html\"\n",
       "            frameborder=\"0\"\n",
       "            allowfullscreen\n",
       "        ></iframe>\n",
       "        "
      ],
      "text/plain": [
       "<IPython.lib.display.IFrame at 0x5cf8f30>"
      ]
     },
     "execution_count": 3,
     "metadata": {},
     "output_type": "execute_result"
    }
   ],
   "source": [
    "IFrame(\"wordcloud-phase1.html\", width=\"980\", height=\"740\")"
   ]
  },
  {
   "cell_type": "markdown",
   "metadata": {},
   "source": [
    "Think about which of these words you've seen before in classes, working on projects, in your daily life, and so forth. Also, think about which of these words are new or unfamiliar. \n",
    "\n",
    "After considering these words for a while, click on three words that you don’t feel confident you know the definition for.\n",
    "\n",
    "<br>"
   ]
  },
  {
   "cell_type": "code",
   "execution_count": null,
   "metadata": {},
   "outputs": [],
   "source": [
    "# Runs after three words are selected in first iframe\n",
    "IFrame(\"wordcloud-phase2.html\", width=\"980\", height=\"740\")"
   ]
  },
  {
   "cell_type": "markdown",
   "metadata": {},
   "source": [
    "__TODO__: Probably only run this cell after the second cloud pops up, or integrate the text into the iframe or something else to that effect\n",
    "\n",
    "Here are the words again. Now, click on three words you feel confident you know the definition for.\n",
    "\n",
    "<br>"
   ]
  },
  {
   "cell_type": "markdown",
   "metadata": {},
   "source": [
    "Let's look at the words you selected in these word clouds."
   ]
  },
  {
   "cell_type": "markdown",
   "metadata": {},
   "source": [
    "Here are the words you clicked on that you are not confident about:"
   ]
  },
  {
   "cell_type": "code",
   "execution_count": null,
   "metadata": {},
   "outputs": [],
   "source": [
    "# Runs after three words are selected in first iframe\n",
    "# TODO: hide and clean up code. Convert list to markdown possibly?\n",
    "words = [n.strip() for n in unknown.split(',')]\n",
    "    \n",
    "for num, word in enumerate(words[1:4]):\n",
    "    print(num+1, word)"
   ]
  },
  {
   "cell_type": "markdown",
   "metadata": {},
   "source": [
    "And here are the words you clicked on that you are confident about:"
   ]
  },
  {
   "cell_type": "code",
   "execution_count": null,
   "metadata": {},
   "outputs": [],
   "source": [
    "# Runs after three words are selected in second iframe\n",
    "# TODO: hide and clean up code. Convert list to markdown possibly?\n",
    "words = [n.strip() for n in unknown.split(',')]\n",
    "\n",
    "for num, word in enumerate(words[4:7]):\n",
    "    print(num+1, word)"
   ]
  },
  {
   "cell_type": "markdown",
   "metadata": {},
   "source": [
    "Do you notice any similarities in the words you picked in each group? Does anything seem to connect those terms or ideas? Depending on what you picked, you might've revealed some of your own expertise or skill, or shown an area where you don't have a lot of practice."
   ]
  },
  {
   "cell_type": "markdown",
   "metadata": {},
   "source": [
    "### Defining Comfortable Terms"
   ]
  },
  {
   "cell_type": "markdown",
   "metadata": {},
   "source": [
    "Let's focus on the terms you were comfortable with. Each term is listed below with its own definition box. For each term, write out <b>your</b> definition of the term - no dictionaries, please! - and we'll compare that with a more formal definition later."
   ]
  },
  {
   "cell_type": "code",
   "execution_count": 4,
   "metadata": {
    "init_cell": true
   },
   "outputs": [
    {
     "name": "stdout",
     "output_type": "stream",
     "text": [
      "Provide your definition of topic 1\n"
     ]
    },
    {
     "data": {
      "application/vnd.jupyter.widget-view+json": {
       "model_id": "980269260552439fbc1765f176913c34",
       "version_major": 2,
       "version_minor": 0
      },
      "text/plain": [
       "interactive(children=(Text(value='', description='Definition:', placeholder='Topic 1 definition'), Output()), …"
      ]
     },
     "metadata": {},
     "output_type": "display_data"
    }
   ],
   "source": [
    "# TODO: This will be cleaned up and hidden.\n",
    "from ipywidgets import interact\n",
    "import ipywidgets as widgets\n",
    "print(\"Provide your definition of topic 1\")\n",
    "\n",
    "interact(lambda x:x, x=\n",
    "widgets.Text(\n",
    "    placeholder='Topic 1 definition',\n",
    "    description='Definition:',\n",
    "    disabled=False\n",
    "));"
   ]
  },
  {
   "cell_type": "code",
   "execution_count": 5,
   "metadata": {
    "init_cell": true
   },
   "outputs": [
    {
     "name": "stdout",
     "output_type": "stream",
     "text": [
      "Provide your definition of topic 2\n"
     ]
    },
    {
     "data": {
      "application/vnd.jupyter.widget-view+json": {
       "model_id": "9b346c4af30344169279964068c092c3",
       "version_major": 2,
       "version_minor": 0
      },
      "text/plain": [
       "interactive(children=(Text(value='', description='Definition:', placeholder='Topic 2 definition'), Output()), …"
      ]
     },
     "metadata": {},
     "output_type": "display_data"
    }
   ],
   "source": [
    "# TODO: This will be cleaned up and hidden.\n",
    "print(\"Provide your definition of topic 2\")\n",
    "\n",
    "interact(lambda x:x, x=\n",
    "widgets.Text(\n",
    "    placeholder='Topic 2 definition',\n",
    "    description='Definition:',\n",
    "    disabled=False\n",
    "));"
   ]
  },
  {
   "cell_type": "code",
   "execution_count": 6,
   "metadata": {
    "init_cell": true
   },
   "outputs": [
    {
     "name": "stdout",
     "output_type": "stream",
     "text": [
      "Provide your definition of topic 3\n"
     ]
    },
    {
     "data": {
      "application/vnd.jupyter.widget-view+json": {
       "model_id": "eab9c7d18b824635a83c2f87e0cc92f3",
       "version_major": 2,
       "version_minor": 0
      },
      "text/plain": [
       "interactive(children=(Text(value='', description='Definition:', placeholder='Topic 3 definition'), Output()), …"
      ]
     },
     "metadata": {},
     "output_type": "display_data"
    }
   ],
   "source": [
    "# TODO: This will be cleaned up and hidden.\n",
    "print(\"Provide your definition of topic 3\")\n",
    "\n",
    "interact(lambda x:x, x=\n",
    "widgets.Text(\n",
    "    placeholder='Topic 3 definition',\n",
    "    description='Definition:',\n",
    "    disabled=False\n",
    "));"
   ]
  },
  {
   "cell_type": "markdown",
   "metadata": {},
   "source": [
    "### Compare\n",
    "\n",
    "Consider the definitions between your definitions and ours. Notice any similarities? Any differences?\n",
    "\n",
    "TODO: Add some interactive pieces that shows definitions side-by-side or in a list.\n",
    "\n",
    "TODO: Depending on capabilities, either learners highlight (using a tool like in Word) similarities in the definitions, or it is done automatically.\n",
    "\n",
    "Depending on your experience and expertise, you might define terms differently. At the same time, you might need to use different types of definitions when talking to people with different backgrounds and expertise"
   ]
  },
  {
   "cell_type": "markdown",
   "metadata": {},
   "source": [
    "![congrats popup](congrats.png)\n",
    "You just learned about Jargon!"
   ]
  },
  {
   "cell_type": "markdown",
   "metadata": {},
   "source": [
    "**Continue the journey: [Next Example](ic-2.ipynb)**"
   ]
  }
 ],
 "metadata": {
  "celltoolbar": "Initialization Cell",
  "kernelspec": {
   "display_name": "Python 3",
   "language": "python",
   "name": "python3"
  },
  "language_info": {
   "codemirror_mode": {
    "name": "ipython",
    "version": 3
   },
   "file_extension": ".py",
   "mimetype": "text/x-python",
   "name": "python",
   "nbconvert_exporter": "python",
   "pygments_lexer": "ipython3",
   "version": "3.7.4"
  },
  "widgets": {
   "application/vnd.jupyter.widget-state+json": {
    "state": {
     "0b82417fe32646e893a15f458783af6c": {
      "model_module": "@jupyter-widgets/base",
      "model_module_version": "1.2.0",
      "model_name": "LayoutModel",
      "state": {}
     },
     "1291d23d7e494f0c85464166f02dab38": {
      "model_module": "@jupyter-widgets/base",
      "model_module_version": "1.2.0",
      "model_name": "LayoutModel",
      "state": {}
     },
     "1b8d4912ad814e3d968aa0d9047014de": {
      "model_module": "@jupyter-widgets/base",
      "model_module_version": "1.2.0",
      "model_name": "LayoutModel",
      "state": {}
     },
     "1d010c42ec0346cca0e95e3f4d5b1c5c": {
      "model_module": "@jupyter-widgets/base",
      "model_module_version": "1.2.0",
      "model_name": "LayoutModel",
      "state": {}
     },
     "1f9c6d3f3f8344489b8789975b39a570": {
      "model_module": "@jupyter-widgets/controls",
      "model_module_version": "1.5.0",
      "model_name": "TextModel",
      "state": {
       "description": "Definition:",
       "layout": "IPY_MODEL_1b8d4912ad814e3d968aa0d9047014de",
       "placeholder": "Topic 3 definition",
       "style": "IPY_MODEL_d9b9003c99c446fdb895d4c53c8c061c"
      }
     },
     "2672720583184d06b0787ab9e6b95480": {
      "model_module": "@jupyter-widgets/controls",
      "model_module_version": "1.5.0",
      "model_name": "DescriptionStyleModel",
      "state": {
       "description_width": ""
      }
     },
     "31f6c798888e42b2ba4ab67b781f981e": {
      "model_module": "@jupyter-widgets/output",
      "model_module_version": "1.0.0",
      "model_name": "OutputModel",
      "state": {
       "layout": "IPY_MODEL_1d010c42ec0346cca0e95e3f4d5b1c5c",
       "outputs": [
        {
         "data": {
          "text/plain": "''"
         },
         "metadata": {},
         "output_type": "display_data"
        }
       ]
      }
     },
     "3a715fdec27545d9a90383429a108962": {
      "model_module": "@jupyter-widgets/output",
      "model_module_version": "1.0.0",
      "model_name": "OutputModel",
      "state": {
       "layout": "IPY_MODEL_639534eeec1b4f20bcebf3e9166d6638",
       "outputs": [
        {
         "data": {
          "text/plain": "''"
         },
         "metadata": {},
         "output_type": "display_data"
        }
       ]
      }
     },
     "3b4e812ca4894495a175fe8357485f42": {
      "model_module": "@jupyter-widgets/output",
      "model_module_version": "1.0.0",
      "model_name": "OutputModel",
      "state": {
       "layout": "IPY_MODEL_c09a3600993140ed8691c6abbfb44362",
       "outputs": [
        {
         "data": {
          "text/plain": "''"
         },
         "metadata": {},
         "output_type": "display_data"
        }
       ]
      }
     },
     "3f6c23887e304f46b654dce8fb3bc3ee": {
      "model_module": "@jupyter-widgets/base",
      "model_module_version": "1.2.0",
      "model_name": "LayoutModel",
      "state": {}
     },
     "42a6042558ff4d7e9d71d4210e1a6ec7": {
      "model_module": "@jupyter-widgets/controls",
      "model_module_version": "1.5.0",
      "model_name": "VBoxModel",
      "state": {
       "_dom_classes": [
        "widget-interact"
       ],
       "children": [
        "IPY_MODEL_9e9ca3d5db7b4ceb90205b0ba73ae090",
        "IPY_MODEL_8007acb7a3be48aca9e04f4a18c3198b"
       ],
       "layout": "IPY_MODEL_776661aff4534407a7fc92358a572239"
      }
     },
     "42ec16d0e4ad462cb5e7099eaa74169a": {
      "model_module": "@jupyter-widgets/base",
      "model_module_version": "1.2.0",
      "model_name": "LayoutModel",
      "state": {}
     },
     "517a46a2cf5b4a3285694faaf51c293f": {
      "model_module": "@jupyter-widgets/base",
      "model_module_version": "1.2.0",
      "model_name": "LayoutModel",
      "state": {}
     },
     "5504b45490cb433598d4fd17de1d034a": {
      "model_module": "@jupyter-widgets/output",
      "model_module_version": "1.0.0",
      "model_name": "OutputModel",
      "state": {
       "layout": "IPY_MODEL_daa3a91039a64d8a8db358a4aec4d4b7",
       "outputs": [
        {
         "data": {
          "text/plain": "''"
         },
         "metadata": {},
         "output_type": "display_data"
        }
       ]
      }
     },
     "5bebf52af5ff4d4a93bda7242229b537": {
      "model_module": "@jupyter-widgets/controls",
      "model_module_version": "1.5.0",
      "model_name": "DescriptionStyleModel",
      "state": {
       "description_width": ""
      }
     },
     "639534eeec1b4f20bcebf3e9166d6638": {
      "model_module": "@jupyter-widgets/base",
      "model_module_version": "1.2.0",
      "model_name": "LayoutModel",
      "state": {}
     },
     "6c25f62911e0411f95fcabe7ef3d1e15": {
      "model_module": "@jupyter-widgets/base",
      "model_module_version": "1.2.0",
      "model_name": "LayoutModel",
      "state": {}
     },
     "71d0d1cd16b54b82b641889a654fc4f8": {
      "model_module": "@jupyter-widgets/output",
      "model_module_version": "1.0.0",
      "model_name": "OutputModel",
      "state": {
       "layout": "IPY_MODEL_f339d8dead4d457bb25e2d8c6dfb17b9",
       "outputs": [
        {
         "data": {
          "text/plain": "''"
         },
         "metadata": {},
         "output_type": "display_data"
        }
       ]
      }
     },
     "72a07c0037624ae59be050e839b4f818": {
      "model_module": "@jupyter-widgets/base",
      "model_module_version": "1.2.0",
      "model_name": "LayoutModel",
      "state": {}
     },
     "72a6aaa485694107a760660b1f92c892": {
      "model_module": "@jupyter-widgets/controls",
      "model_module_version": "1.5.0",
      "model_name": "TextModel",
      "state": {
       "description": "Definition:",
       "layout": "IPY_MODEL_517a46a2cf5b4a3285694faaf51c293f",
       "placeholder": "Topic 2 definition",
       "style": "IPY_MODEL_5bebf52af5ff4d4a93bda7242229b537"
      }
     },
     "747097da12134e41a3c9f90f6e6a9b6b": {
      "model_module": "@jupyter-widgets/controls",
      "model_module_version": "1.5.0",
      "model_name": "VBoxModel",
      "state": {
       "_dom_classes": [
        "widget-interact"
       ],
       "children": [
        "IPY_MODEL_9b3badff9cf14ddab00756b78bf17917",
        "IPY_MODEL_71d0d1cd16b54b82b641889a654fc4f8"
       ],
       "layout": "IPY_MODEL_7f0e86bd584d46cfaa3dae5b709a018b"
      }
     },
     "776661aff4534407a7fc92358a572239": {
      "model_module": "@jupyter-widgets/base",
      "model_module_version": "1.2.0",
      "model_name": "LayoutModel",
      "state": {}
     },
     "7f0e86bd584d46cfaa3dae5b709a018b": {
      "model_module": "@jupyter-widgets/base",
      "model_module_version": "1.2.0",
      "model_name": "LayoutModel",
      "state": {}
     },
     "8007acb7a3be48aca9e04f4a18c3198b": {
      "model_module": "@jupyter-widgets/output",
      "model_module_version": "1.0.0",
      "model_name": "OutputModel",
      "state": {
       "layout": "IPY_MODEL_94fa9b378736400f9f8f9b2d10aa433f",
       "outputs": [
        {
         "data": {
          "text/plain": "''"
         },
         "metadata": {},
         "output_type": "display_data"
        }
       ]
      }
     },
     "82becfd3ee874cbdbb9b90e4a08a22c6": {
      "model_module": "@jupyter-widgets/output",
      "model_module_version": "1.0.0",
      "model_name": "OutputModel",
      "state": {
       "layout": "IPY_MODEL_3f6c23887e304f46b654dce8fb3bc3ee",
       "outputs": [
        {
         "data": {
          "text/plain": "''"
         },
         "metadata": {},
         "output_type": "display_data"
        }
       ]
      }
     },
     "85293233a1ac4c51a9ab76ace72e9c5e": {
      "model_module": "@jupyter-widgets/controls",
      "model_module_version": "1.5.0",
      "model_name": "TextModel",
      "state": {
       "description": "Definition:",
       "layout": "IPY_MODEL_9fbc806354f049368ebf2a10da2e0230",
       "placeholder": "Topic 2 definition",
       "style": "IPY_MODEL_2672720583184d06b0787ab9e6b95480"
      }
     },
     "881afe4fc5304cc79caac0fa600f5b42": {
      "model_module": "@jupyter-widgets/controls",
      "model_module_version": "1.5.0",
      "model_name": "TextModel",
      "state": {
       "description": "Definition:",
       "layout": "IPY_MODEL_8898295691fb433d8b5db5af64b38ec1",
       "placeholder": "Topic 1 definition",
       "style": "IPY_MODEL_a27fdd0d38874ce19b706e63b4f5a725"
      }
     },
     "8822698114c244e096da9be9d02eafb9": {
      "model_module": "@jupyter-widgets/controls",
      "model_module_version": "1.5.0",
      "model_name": "TextModel",
      "state": {
       "description": "Definition:",
       "layout": "IPY_MODEL_72a07c0037624ae59be050e839b4f818",
       "placeholder": "Topic 1 definition",
       "style": "IPY_MODEL_89537a80877546708dbbf862dd81f9cc"
      }
     },
     "8898295691fb433d8b5db5af64b38ec1": {
      "model_module": "@jupyter-widgets/base",
      "model_module_version": "1.2.0",
      "model_name": "LayoutModel",
      "state": {}
     },
     "89307e429556482696ba5f3d93ee1490": {
      "model_module": "@jupyter-widgets/base",
      "model_module_version": "1.2.0",
      "model_name": "LayoutModel",
      "state": {}
     },
     "89537a80877546708dbbf862dd81f9cc": {
      "model_module": "@jupyter-widgets/controls",
      "model_module_version": "1.5.0",
      "model_name": "DescriptionStyleModel",
      "state": {
       "description_width": ""
      }
     },
     "94fa9b378736400f9f8f9b2d10aa433f": {
      "model_module": "@jupyter-widgets/base",
      "model_module_version": "1.2.0",
      "model_name": "LayoutModel",
      "state": {}
     },
     "980269260552439fbc1765f176913c34": {
      "model_module": "@jupyter-widgets/controls",
      "model_module_version": "1.5.0",
      "model_name": "VBoxModel",
      "state": {
       "_dom_classes": [
        "widget-interact"
       ],
       "children": [
        "IPY_MODEL_881afe4fc5304cc79caac0fa600f5b42",
        "IPY_MODEL_31f6c798888e42b2ba4ab67b781f981e"
       ],
       "layout": "IPY_MODEL_fca6f45a55f141aaa19bd0bcab324e86"
      }
     },
     "9b346c4af30344169279964068c092c3": {
      "model_module": "@jupyter-widgets/controls",
      "model_module_version": "1.5.0",
      "model_name": "VBoxModel",
      "state": {
       "_dom_classes": [
        "widget-interact"
       ],
       "children": [
        "IPY_MODEL_85293233a1ac4c51a9ab76ace72e9c5e",
        "IPY_MODEL_3b4e812ca4894495a175fe8357485f42"
       ],
       "layout": "IPY_MODEL_1291d23d7e494f0c85464166f02dab38"
      }
     },
     "9b3badff9cf14ddab00756b78bf17917": {
      "model_module": "@jupyter-widgets/controls",
      "model_module_version": "1.5.0",
      "model_name": "TextModel",
      "state": {
       "description": "Definition:",
       "layout": "IPY_MODEL_f981e1f5a2e9416d941019039de215b8",
       "placeholder": "Topic 2 definition",
       "style": "IPY_MODEL_f964c5b4d1894542acf01b08def0753f"
      }
     },
     "9e9ca3d5db7b4ceb90205b0ba73ae090": {
      "model_module": "@jupyter-widgets/controls",
      "model_module_version": "1.5.0",
      "model_name": "TextModel",
      "state": {
       "description": "Definition:",
       "layout": "IPY_MODEL_aa7c2ffc28204074bf17eef9b30b65f1",
       "placeholder": "Topic 1 definition",
       "style": "IPY_MODEL_d5b9d4addde74579bc9ebf6e1ebbb26c"
      }
     },
     "9fbc806354f049368ebf2a10da2e0230": {
      "model_module": "@jupyter-widgets/base",
      "model_module_version": "1.2.0",
      "model_name": "LayoutModel",
      "state": {}
     },
     "a27fdd0d38874ce19b706e63b4f5a725": {
      "model_module": "@jupyter-widgets/controls",
      "model_module_version": "1.5.0",
      "model_name": "DescriptionStyleModel",
      "state": {
       "description_width": ""
      }
     },
     "a3ee08938b8446809e2b1c0016c8739a": {
      "model_module": "@jupyter-widgets/output",
      "model_module_version": "1.0.0",
      "model_name": "OutputModel",
      "state": {
       "layout": "IPY_MODEL_89307e429556482696ba5f3d93ee1490",
       "outputs": [
        {
         "data": {
          "text/plain": "''"
         },
         "metadata": {},
         "output_type": "display_data"
        }
       ]
      }
     },
     "a988b49a6f154b69b539974f0611a521": {
      "model_module": "@jupyter-widgets/base",
      "model_module_version": "1.2.0",
      "model_name": "LayoutModel",
      "state": {}
     },
     "aa7c2ffc28204074bf17eef9b30b65f1": {
      "model_module": "@jupyter-widgets/base",
      "model_module_version": "1.2.0",
      "model_name": "LayoutModel",
      "state": {}
     },
     "ab58a65b44514adc93607ca4ae8a1d6a": {
      "model_module": "@jupyter-widgets/output",
      "model_module_version": "1.0.0",
      "model_name": "OutputModel",
      "state": {
       "layout": "IPY_MODEL_a988b49a6f154b69b539974f0611a521",
       "outputs": [
        {
         "data": {
          "text/plain": "''"
         },
         "metadata": {},
         "output_type": "display_data"
        }
       ]
      }
     },
     "ac33427a78c04bb0a09054e022a487c3": {
      "model_module": "@jupyter-widgets/controls",
      "model_module_version": "1.5.0",
      "model_name": "VBoxModel",
      "state": {
       "_dom_classes": [
        "widget-interact"
       ],
       "children": [
        "IPY_MODEL_72a6aaa485694107a760660b1f92c892",
        "IPY_MODEL_a3ee08938b8446809e2b1c0016c8739a"
       ],
       "layout": "IPY_MODEL_42ec16d0e4ad462cb5e7099eaa74169a"
      }
     },
     "ae2a4e3a60f342fa9ebff0eb29494224": {
      "model_module": "@jupyter-widgets/controls",
      "model_module_version": "1.5.0",
      "model_name": "TextModel",
      "state": {
       "description": "Definition:",
       "layout": "IPY_MODEL_db1250f4d02c4587b4952609d3357653",
       "placeholder": "Topic 3 definition",
       "style": "IPY_MODEL_f80b3e397e2546498ff0e85e22644bd9"
      }
     },
     "b03648a1ad79452b950bc499452b1bb5": {
      "model_module": "@jupyter-widgets/base",
      "model_module_version": "1.2.0",
      "model_name": "LayoutModel",
      "state": {}
     },
     "c09a3600993140ed8691c6abbfb44362": {
      "model_module": "@jupyter-widgets/base",
      "model_module_version": "1.2.0",
      "model_name": "LayoutModel",
      "state": {}
     },
     "d19a12d0b78f451e9ae1b95119d0b0e3": {
      "model_module": "@jupyter-widgets/base",
      "model_module_version": "1.2.0",
      "model_name": "LayoutModel",
      "state": {}
     },
     "d5b9d4addde74579bc9ebf6e1ebbb26c": {
      "model_module": "@jupyter-widgets/controls",
      "model_module_version": "1.5.0",
      "model_name": "DescriptionStyleModel",
      "state": {
       "description_width": ""
      }
     },
     "d6cf785b751e4cd5b9bac440e77de5ca": {
      "model_module": "@jupyter-widgets/controls",
      "model_module_version": "1.5.0",
      "model_name": "VBoxModel",
      "state": {
       "_dom_classes": [
        "widget-interact"
       ],
       "children": [
        "IPY_MODEL_8822698114c244e096da9be9d02eafb9",
        "IPY_MODEL_ab58a65b44514adc93607ca4ae8a1d6a"
       ],
       "layout": "IPY_MODEL_6c25f62911e0411f95fcabe7ef3d1e15"
      }
     },
     "d9b9003c99c446fdb895d4c53c8c061c": {
      "model_module": "@jupyter-widgets/controls",
      "model_module_version": "1.5.0",
      "model_name": "DescriptionStyleModel",
      "state": {
       "description_width": ""
      }
     },
     "da9596ed772e451a8bc5c8cf8f821515": {
      "model_module": "@jupyter-widgets/controls",
      "model_module_version": "1.5.0",
      "model_name": "VBoxModel",
      "state": {
       "_dom_classes": [
        "widget-interact"
       ],
       "children": [
        "IPY_MODEL_1f9c6d3f3f8344489b8789975b39a570",
        "IPY_MODEL_82becfd3ee874cbdbb9b90e4a08a22c6"
       ],
       "layout": "IPY_MODEL_d19a12d0b78f451e9ae1b95119d0b0e3"
      }
     },
     "daa3a91039a64d8a8db358a4aec4d4b7": {
      "model_module": "@jupyter-widgets/base",
      "model_module_version": "1.2.0",
      "model_name": "LayoutModel",
      "state": {}
     },
     "db1250f4d02c4587b4952609d3357653": {
      "model_module": "@jupyter-widgets/base",
      "model_module_version": "1.2.0",
      "model_name": "LayoutModel",
      "state": {}
     },
     "e34ff437bbf649cab2ceb27027db5c8e": {
      "model_module": "@jupyter-widgets/controls",
      "model_module_version": "1.5.0",
      "model_name": "DescriptionStyleModel",
      "state": {
       "description_width": ""
      }
     },
     "eab9c7d18b824635a83c2f87e0cc92f3": {
      "model_module": "@jupyter-widgets/controls",
      "model_module_version": "1.5.0",
      "model_name": "VBoxModel",
      "state": {
       "_dom_classes": [
        "widget-interact"
       ],
       "children": [
        "IPY_MODEL_ae2a4e3a60f342fa9ebff0eb29494224",
        "IPY_MODEL_5504b45490cb433598d4fd17de1d034a"
       ],
       "layout": "IPY_MODEL_0b82417fe32646e893a15f458783af6c"
      }
     },
     "f339d8dead4d457bb25e2d8c6dfb17b9": {
      "model_module": "@jupyter-widgets/base",
      "model_module_version": "1.2.0",
      "model_name": "LayoutModel",
      "state": {}
     },
     "f3a56df057de44c1beb864e4f0c3297f": {
      "model_module": "@jupyter-widgets/controls",
      "model_module_version": "1.5.0",
      "model_name": "VBoxModel",
      "state": {
       "_dom_classes": [
        "widget-interact"
       ],
       "children": [
        "IPY_MODEL_f4198cb46b4047e5ac70ef8698f8711c",
        "IPY_MODEL_3a715fdec27545d9a90383429a108962"
       ],
       "layout": "IPY_MODEL_ffb6322f4cb04c7c905a7b3add3d3847"
      }
     },
     "f4198cb46b4047e5ac70ef8698f8711c": {
      "model_module": "@jupyter-widgets/controls",
      "model_module_version": "1.5.0",
      "model_name": "TextModel",
      "state": {
       "description": "Definition:",
       "layout": "IPY_MODEL_b03648a1ad79452b950bc499452b1bb5",
       "placeholder": "Topic 3 definition",
       "style": "IPY_MODEL_e34ff437bbf649cab2ceb27027db5c8e"
      }
     },
     "f80b3e397e2546498ff0e85e22644bd9": {
      "model_module": "@jupyter-widgets/controls",
      "model_module_version": "1.5.0",
      "model_name": "DescriptionStyleModel",
      "state": {
       "description_width": ""
      }
     },
     "f964c5b4d1894542acf01b08def0753f": {
      "model_module": "@jupyter-widgets/controls",
      "model_module_version": "1.5.0",
      "model_name": "DescriptionStyleModel",
      "state": {
       "description_width": ""
      }
     },
     "f981e1f5a2e9416d941019039de215b8": {
      "model_module": "@jupyter-widgets/base",
      "model_module_version": "1.2.0",
      "model_name": "LayoutModel",
      "state": {}
     },
     "fca6f45a55f141aaa19bd0bcab324e86": {
      "model_module": "@jupyter-widgets/base",
      "model_module_version": "1.2.0",
      "model_name": "LayoutModel",
      "state": {}
     },
     "ffb6322f4cb04c7c905a7b3add3d3847": {
      "model_module": "@jupyter-widgets/base",
      "model_module_version": "1.2.0",
      "model_name": "LayoutModel",
      "state": {}
     }
    },
    "version_major": 2,
    "version_minor": 0
   }
  }
 },
 "nbformat": 4,
 "nbformat_minor": 2
}
