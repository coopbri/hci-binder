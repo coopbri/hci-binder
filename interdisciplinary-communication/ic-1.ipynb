{
 "cells": [
  {
   "cell_type": "markdown",
   "metadata": {},
   "source": [
    "# Interdisciplinary Communication\n",
    "## Overview\n",
    "### Welcome to the Hour of Cyberinfrastructure Interdisciplinary Communication Notebook\n",
    "\n",
    "Throughout this lesson, you'll think about how we communicate scientific concepts, what makes learning, thinking, or discussing those concepts easy or difficult, and how your understanding of concepts might differ from someone with a different background and experience than your own.\n",
    "\n",
    "Remember to run each cell, and follow the directions for each section as you go through the notebooks.\n",
    "\n",
    "*Lesson Developer: Forrest Bowlick fbowlick@umass.edu*"
   ]
  },
  {
   "cell_type": "code",
   "execution_count": 5,
   "metadata": {
    "init_cell": true
   },
   "outputs": [
    {
     "data": {
      "text/html": [
       "\n",
       "    <script>\n",
       "        display = true; \n",
       "        function toggle() {\n",
       "            var input = $(\"div.input\");\n",
       "            if (display) { input.hide(); }\n",
       "            else { input.show(); }\n",
       "            display = !display;\n",
       "        }\n",
       "        $(document).ready(toggle);\n",
       "    </script>\n",
       "    \n",
       "    <form action=\"javascript:toggle()\">\n",
       "        <input type=\"submit\" value=\"Toggle raw code\">\n",
       "    </form>\n"
      ],
      "text/plain": [
       "<IPython.core.display.HTML object>"
      ]
     },
     "execution_count": 5,
     "metadata": {},
     "output_type": "execute_result"
    }
   ],
   "source": [
    "from IPython.display import HTML, IFrame, Javascript\n",
    "\n",
    "# hide code output\n",
    "HTML('''\n",
    "    <script>\n",
    "        display = true; \n",
    "        function toggle() {\n",
    "            var input = $(\"div.input\");\n",
    "            if (display) { input.hide(); }\n",
    "            else { input.show(); }\n",
    "            display = !display;\n",
    "        }\n",
    "        $(document).ready(toggle);\n",
    "    </script>\n",
    "    \n",
    "    <form action=\"javascript:toggle()\">\n",
    "        <input type=\"submit\" value=\"Toggle raw code\">\n",
    "    </form>\n",
    "''')"
   ]
  },
  {
   "cell_type": "markdown",
   "metadata": {},
   "source": [
    "# Word Clouds\n",
    "\n",
    "Let's start off by considering some word clouds. Word clouds are graphic representations of the content in a body of text. In this case, you'll see a word cloud generated from an article on Cyber Literacy in GIScience (hyperlink: https://www.tandfonline.com/doi/full/10.1080/00330124.2018.1518720). \n",
    "\n",
    "This word cloud has removed common 'dictionary' words, like 'the' or 'and', so the remaining words are core ideas, topics, and concepts in the work."
   ]
  },
  {
   "cell_type": "markdown",
   "metadata": {},
   "source": [
    "__TODO__: Two cells directly below are executed with a blank output -- hide output"
   ]
  },
  {
   "cell_type": "code",
   "execution_count": 6,
   "metadata": {
    "init_cell": true
   },
   "outputs": [
    {
     "data": {
      "application/javascript": [
       "// listen for word arrays from each iframe\n",
       "var data = [];\n",
       "window.addEventListener(\"message\", function(e) {\n",
       "    // parse data received from iframe\n",
       "    var kernel = IPython.notebook.kernel;\n",
       "    var key = e.message ? \"message\" : \"data\";\n",
       "    data += \",\" + e[key].join(', ');\n",
       "    var command = key + \" = \\\"\" + data + \"\\\"\";\n",
       "    kernel.execute(command);\n",
       "\n",
       "    // store unknown words\n",
       "    var cell = Jupyter.notebook.get_cell(5);\n",
       "    cell.execute();\n",
       "    \n",
       "    // display second copy of word cloud (if not displayed already)\n",
       "    var cloud_two = Jupyter.notebook.get_cell(9);\n",
       "    if (cloud_two.output_area.outputs.length === 0) {\n",
       "        Jupyter.notebook.execute_cells([9]);\n",
       "    }\n",
       "    \n",
       "    // store known words\n",
       "    cell = Jupyter.notebook.get_cell(6);\n",
       "    cell.execute();\n",
       "}, false);\n"
      ],
      "text/plain": [
       "<IPython.core.display.Javascript object>"
      ]
     },
     "metadata": {},
     "output_type": "display_data"
    }
   ],
   "source": [
    "%%javascript\n",
    "// listen for word arrays from each iframe\n",
    "var data = [];\n",
    "window.addEventListener(\"message\", function(e) {\n",
    "    // parse data received from iframe\n",
    "    var kernel = IPython.notebook.kernel;\n",
    "    var key = e.message ? \"message\" : \"data\";\n",
    "    data += \",\" + e[key].join(', ');\n",
    "    var command = key + \" = \\\"\" + data + \"\\\"\";\n",
    "    kernel.execute(command);\n",
    "\n",
    "    // store unknown words\n",
    "    var cell = Jupyter.notebook.get_cell(5);\n",
    "    cell.execute();\n",
    "    \n",
    "    // display second copy of word cloud (if not displayed already)\n",
    "    var cloud_two = Jupyter.notebook.get_cell(9);\n",
    "    if (cloud_two.output_area.outputs.length === 0) {\n",
    "        Jupyter.notebook.execute_cells([9]);\n",
    "    }\n",
    "    \n",
    "    // store known words\n",
    "    cell = Jupyter.notebook.get_cell(6);\n",
    "    cell.execute();\n",
    "}, false);"
   ]
  },
  {
   "cell_type": "code",
   "execution_count": null,
   "metadata": {
    "scrolled": false
   },
   "outputs": [],
   "source": [
    "# runs after words are selected in iframe\n",
    "try:\n",
    "    unknown = data\n",
    "except NameError:\n",
    "    unknown = \"\"\n",
    "\n",
    "Javascript(\"Jupyter.notebook.execute_cells([13])\")"
   ]
  },
  {
   "cell_type": "code",
   "execution_count": null,
   "metadata": {
    "scrolled": true
   },
   "outputs": [],
   "source": [
    "# runs after words are selected in iframe\n",
    "try:\n",
    "    known = data\n",
    "except NameError:\n",
    "    known = \"\"\n",
    "\n",
    "Javascript(\"Jupyter.notebook.execute_cells([15])\")"
   ]
  },
  {
   "cell_type": "code",
   "execution_count": 7,
   "metadata": {
    "init_cell": true,
    "scrolled": false
   },
   "outputs": [
    {
     "data": {
      "text/html": [
       "\n",
       "        <iframe\n",
       "            width=\"750\"\n",
       "            height=\"520\"\n",
       "            src=\"wordcloud-phase1.html\"\n",
       "            frameborder=\"0\"\n",
       "            allowfullscreen\n",
       "        ></iframe>\n",
       "        "
      ],
      "text/plain": [
       "<IPython.lib.display.IFrame at 0x7f9ee6791510>"
      ]
     },
     "execution_count": 7,
     "metadata": {},
     "output_type": "execute_result"
    }
   ],
   "source": [
    "# TODO: \"Tighten\" word cloud to make it look more cohesive (fit into more of a rectangle)\n",
    "IFrame(\"wordcloud-phase1.html\", width=\"750\", height=\"520\")"
   ]
  },
  {
   "cell_type": "markdown",
   "metadata": {},
   "source": [
    "Think about which of these words you've seen before in classes, working on projects, in your daily life, and so forth. Also, think about which of these words are new or unfamiliar. \n",
    "\n",
    "After considering these words for a while, click on three words that you don’t feel confident you know the definition for.\n",
    "\n",
    "<br>"
   ]
  },
  {
   "cell_type": "code",
   "execution_count": null,
   "metadata": {},
   "outputs": [],
   "source": [
    "# Runs after three words are selected in first iframe\n",
    "# TODO: \"Tighten\" word cloud to make it look more cohesive (fit into more of a rectangle)\n",
    "IFrame(\"wordcloud-phase2.html\", width=\"750\", height=\"520\")"
   ]
  },
  {
   "cell_type": "markdown",
   "metadata": {},
   "source": [
    "__TODO__: Probably only run this cell after the second cloud pops up, or integrate the text into the iframe or something else to that effect\n",
    "\n",
    "Here are the words again. Now, click on three words you feel confident you know the definition for.\n",
    "\n",
    "<br>"
   ]
  },
  {
   "cell_type": "markdown",
   "metadata": {},
   "source": [
    "Let's look at the words you selected in these word clouds."
   ]
  },
  {
   "cell_type": "markdown",
   "metadata": {},
   "source": [
    "Here are the words you clicked on that you are not confident about:"
   ]
  },
  {
   "cell_type": "code",
   "execution_count": null,
   "metadata": {
    "scrolled": false
   },
   "outputs": [],
   "source": [
    "# Runs after three words are selected in first iframe\n",
    "# TODO: hide and clean up code. Convert list to markdown possibly?\n",
    "words = [n.strip() for n in unknown.split(',')]\n",
    "    \n",
    "for num, word in enumerate(words[1:4]):\n",
    "    print(num+1, word)"
   ]
  },
  {
   "cell_type": "markdown",
   "metadata": {},
   "source": [
    "And here are the words you clicked on that you are confident about:"
   ]
  },
  {
   "cell_type": "code",
   "execution_count": null,
   "metadata": {},
   "outputs": [],
   "source": [
    "# Runs after three words are selected in second iframe\n",
    "# TODO: hide and clean up code. Convert list to markdown possibly?\n",
    "words = [n.strip() for n in unknown.split(',')]\n",
    "\n",
    "for num, word in enumerate(words[4:7]):\n",
    "    print(num+1, word)\n",
    "    \n",
    "# Execute cells asking for user definition\n",
    "Javascript(\"Jupyter.notebook.execute_cells([19,20,21])\")"
   ]
  },
  {
   "cell_type": "markdown",
   "metadata": {},
   "source": [
    "Do you notice any similarities in the words you picked in each group? Does anything seem to connect those terms or ideas? Depending on what you picked, you might've revealed some of your own expertise or skill, or shown an area where you don't have a lot of practice."
   ]
  },
  {
   "cell_type": "markdown",
   "metadata": {},
   "source": [
    "### Defining Comfortable Terms"
   ]
  },
  {
   "cell_type": "markdown",
   "metadata": {},
   "source": [
    "Let's focus on the terms you were comfortable with. Each term is listed below with its own definition box. For each term, write out <b>your</b> definition of the term - no dictionaries, please! - and we'll compare that with a more formal definition later."
   ]
  },
  {
   "cell_type": "code",
   "execution_count": null,
   "metadata": {},
   "outputs": [],
   "source": [
    "from ipywidgets import interactive\n",
    "import ipywidgets as widgets\n",
    "print(\"Provide your definition of \\\"\" + words[4] + \"\\\":\")\n",
    "\n",
    "# Text widget\n",
    "t1 = widgets.Text(\n",
    "    placeholder = \"\\\"\" + words[4] + \"\\\"\" + \" definition\",\n",
    "    description = \"Definition:\",\n",
    "    value=None,\n",
    "    disabled=False\n",
    ")\n",
    "\n",
    "# Submit button\n",
    "b1 = widgets.Button(\n",
    "        description='Submit',\n",
    "        disabled=False,\n",
    "        button_style='',\n",
    "        icon='check'\n",
    ")\n",
    "\n",
    "# Output\n",
    "out1 = widgets.Output()\n",
    "\n",
    "# Display widgets together\n",
    "display(t1, b1, out1)\n",
    "\n",
    "# Output function\n",
    "def out(b):\n",
    "    with out1:\n",
    "        out1.clear_output()\n",
    "        print(\"Your definition: \" + t1.value)\n",
    "        \n",
    "        # Execute cell that fetches stored definition and compare\n",
    "        # NOTE: This doesn't actually work, I think because of the scope of the call of Jupyter.notebook.\n",
    "        # Working on alternative solutions\n",
    "        Javascript(\"Jupyter.notebook.execute_cells(IPython.notebook.get_selected_index()+5)\")\n",
    "\n",
    "# Handle click event\n",
    "b1.on_click(out)"
   ]
  },
  {
   "cell_type": "code",
   "execution_count": null,
   "metadata": {},
   "outputs": [],
   "source": [
    "print(\"Provide your definition of \\\"\" + words[5] + \"\\\":\")\n",
    "\n",
    "# Text widget\n",
    "t2 = widgets.Text(\n",
    "    placeholder = \"\\\"\" + words[5] + \"\\\"\" + \" definition\",\n",
    "    description = \"Definition:\",\n",
    "    value=None,\n",
    "    disabled=False\n",
    ")\n",
    "\n",
    "# Submit button\n",
    "b2 = widgets.Button(\n",
    "        description='Submit',\n",
    "        disabled=False,\n",
    "        button_style='',\n",
    "        icon='check'\n",
    ")\n",
    "\n",
    "# Output\n",
    "out2 = widgets.Output()\n",
    "\n",
    "# Display widgets together\n",
    "display(t2, b2, out2)\n",
    "\n",
    "# Output function\n",
    "def out(b):\n",
    "    with out2:\n",
    "        out2.clear_output()\n",
    "        print(\"Your definition: \" + t2.value)\n",
    "        \n",
    "        # Execute cell that fetches stored definition and compare\n",
    "        # NOTE: This doesn't actually work, I think because of the scope of the call of Jupyter.notebook.\n",
    "        # Working on alternative solutions\n",
    "        Javascript(\"Jupyter.notebook.execute_cells(Jupyter.notebook.get_selected_index()+5)\")\n",
    "        \n",
    "# Handle click event\n",
    "b2.on_click(out)"
   ]
  },
  {
   "cell_type": "code",
   "execution_count": null,
   "metadata": {},
   "outputs": [],
   "source": [
    "print(\"Provide your definition of \\\"\" + words[6] + \"\\\":\")\n",
    "\n",
    "# Text widget\n",
    "t3 = widgets.Text(\n",
    "    placeholder = \"\\\"\" + words[6] + \"\\\"\" + \" definition\",\n",
    "    description = \"Definition:\",\n",
    "    value=None,\n",
    "    disabled=False\n",
    ")\n",
    "\n",
    "# Submit button\n",
    "b3 = widgets.Button(\n",
    "        description='Submit',\n",
    "        disabled=False,\n",
    "        button_style='',\n",
    "        icon='check'\n",
    ")\n",
    "\n",
    "# Output\n",
    "out3 = widgets.Output()\n",
    "\n",
    "# Display widgets together\n",
    "display(t3, b3, out3)\n",
    "\n",
    "# Output function\n",
    "def out(b):\n",
    "    with out3:\n",
    "        out3.clear_output()\n",
    "        print(\"Your definition: \" + t3.value)\n",
    "\n",
    "        # Execute cell that fetches stored definition and compare\n",
    "        # NOTE: This doesn't actually work, I think because of the scope of the call of Jupyter.notebook.\n",
    "        # Working on alternative solutions\n",
    "        Javascript(\"Jupyter.notebook.execute_cells(Jupyter.notebook.get_selected_index()+5)\")\n",
    "        \n",
    "# Handle click event\n",
    "b3.on_click(out)"
   ]
  },
  {
   "cell_type": "markdown",
   "metadata": {},
   "source": [
    "### Compare\n",
    "\n",
    "Consider the definitions between your definitions and ours. Notice any similarities? Any differences?\n",
    "\n",
    "TODO: Add some interactive pieces that shows definitions side-by-side or in a list.\n",
    "\n",
    "TODO: Depending on capabilities, either learners highlight (using a tool like in Word) similarities in the definitions, or it is done automatically.\n",
    "\n",
    "Depending on your experience and expertise, you might define terms differently. At the same time, you might need to use different types of definitions when talking to people with different backgrounds and expertise"
   ]
  },
  {
   "cell_type": "code",
   "execution_count": 8,
   "metadata": {
    "init_cell": true
   },
   "outputs": [],
   "source": [
    "# TODO: FILL DEFINITION FOR \"CYBERINFRASTRUCTURE\" KEY\n",
    "\n",
    "definitions = {\n",
    "    \"spatial\": \"of, relating to, or involved in the perception of relationships in space\",\n",
    "    \"https\": \"hyper-text transfer protocol\",\n",
    "    \"geospatial\": \"relating to or denoting data that is associated with a particular location\",\n",
    "    \"parallel computing\": \"a type of computation in which many calculations or execution of processes are carried out simultaneously\",\n",
    "    \"gis\": \"geographic information science\",\n",
    "    \"geography\": \"a field of science devoted to the study of the lands, features, inhabitants, and phenomena of the Earth\",\n",
    "    \"cyberinfrastructure\": \"-------[NEED TO FILL]-------\",\n",
    "    \"cybergis\": \"A multidisciplinary field with a focus on computational and data-intensive geospatial problem-solving\",\n",
    "    \"interdisciplinary\": \"relating to more than one branch of knowledge\",\n",
    "    \"curriculum\": \"a set of courses constituting an area of specialization\",\n",
    "    \"communication\": \"a process by which information is exchanged between individuals through a common system of symbols, signs, or behavior\",\n",
    "    \"programming\": \"The process of developing and implementing various sets of instructions to enable a computer to do a certain task\",\n",
    "    \"abstraction\": \"the process of removing physical, spatial, or temporal details or attributes in the study of objects or systems in order to focus attention on details of higher importance\",\n",
    "    \"cyberliteracy\": \"the ability to understand and use established and emerging technologies to transform all forms and magnitudes of geospatial data into information for interdisciplinary problem solving\",\n",
    "    \"cognition\": \"the mental action or process of acquiring knowledge and understanding through thought, experience, and the senses\",\n",
    "    \"spatiotemporal\": \"belonging to both space and time, or time-space\",\n",
    "    \"interoperability\": \"the ability of computer systems or software to exchange and make use of information\",\n",
    "    \"geocomputing\": \"the process of applying computing technology to geographical problems\",\n",
    "    \"geovisualization\": \"the process of interactively visualizing geographic information in any of the steps in spatial analyses\",\n",
    "    \"reproducibility\": \"the extent to which consistent results are obtained when an experiment is repeated\"\n",
    "}"
   ]
  },
  {
   "cell_type": "code",
   "execution_count": null,
   "metadata": {},
   "outputs": [],
   "source": [
    "# TODO: Fix automatic execution (see note in definition widget code)\n",
    "print(\"\\nThe first term selected was \" + \"\\\"\" + words[4] + \"\\\".\")\n",
    "print(\"Your definition: \" + t1.value)\n",
    "print(\"Web definition: \" + definitions[words[4]])"
   ]
  },
  {
   "cell_type": "code",
   "execution_count": null,
   "metadata": {},
   "outputs": [],
   "source": [
    "# TODO: Fix automatic execution (see note in definition widget code)\n",
    "print(\"\\nThe second term selected was \" + \"\\\"\" + words[5] + \"\\\".\")\n",
    "print(\"Your definition: \" + t2.value)\n",
    "print(\"Web definition: \" + definitions[words[5]])"
   ]
  },
  {
   "cell_type": "code",
   "execution_count": null,
   "metadata": {},
   "outputs": [],
   "source": [
    "# TODO: Fix automatic execution (see note in definition widget code)\n",
    "print(\"\\nThe third term selected was \" + \"\\\"\" + words[6] + \"\\\".\")\n",
    "print(\"Your definition: \" + t3.value)\n",
    "print(\"Web definition: \" + definitions[words[6]])"
   ]
  },
  {
   "cell_type": "markdown",
   "metadata": {},
   "source": [
    "![congrats popup](congrats.png)\n",
    "You just learned about Jargon!"
   ]
  },
  {
   "cell_type": "markdown",
   "metadata": {},
   "source": [
    "**Continue the journey: [Next Example](ic-2.ipynb)**"
   ]
  }
 ],
 "metadata": {
  "celltoolbar": "Initialization Cell",
  "kernelspec": {
   "display_name": "Python 3",
   "language": "python",
   "name": "python3"
  },
  "language_info": {
   "codemirror_mode": {
    "name": "ipython",
    "version": 3
   },
   "file_extension": ".py",
   "mimetype": "text/x-python",
   "name": "python",
   "nbconvert_exporter": "python",
   "pygments_lexer": "ipython3",
   "version": "3.7.4"
  },
  "widgets": {
   "application/vnd.jupyter.widget-state+json": {
    "state": {
     "067ec038b01a4e4c85f3e9b91381f10f": {
      "model_module": "@jupyter-widgets/output",
      "model_module_version": "1.0.0",
      "model_name": "OutputModel",
      "state": {
       "layout": "IPY_MODEL_f0db7b48a7c44b9f8cc2fe548cbe5d84"
      }
     },
     "0aae2514bcbc4d0f80aba8307be05906": {
      "model_module": "@jupyter-widgets/controls",
      "model_module_version": "1.5.0",
      "model_name": "DescriptionStyleModel",
      "state": {
       "description_width": ""
      }
     },
     "0bfc50f6631e4c468096d7ea9ac0ad8b": {
      "model_module": "@jupyter-widgets/base",
      "model_module_version": "1.2.0",
      "model_name": "LayoutModel",
      "state": {}
     },
     "12c896ec4aed46cbae75a9d2fbdbb70d": {
      "model_module": "@jupyter-widgets/base",
      "model_module_version": "1.2.0",
      "model_name": "LayoutModel",
      "state": {}
     },
     "1803a03c6c2d4db382b392df110abdbe": {
      "model_module": "@jupyter-widgets/base",
      "model_module_version": "1.2.0",
      "model_name": "LayoutModel",
      "state": {}
     },
     "18a877da93df4b2bbd7ab8a367c5190a": {
      "model_module": "@jupyter-widgets/controls",
      "model_module_version": "1.5.0",
      "model_name": "TextModel",
      "state": {
       "description": "Definition:",
       "layout": "IPY_MODEL_78fb7fec75494cfab3b581f4d8052b6f",
       "placeholder": "Term 3 definition",
       "style": "IPY_MODEL_7094742e05ae4fbeb8083a434ca1d009"
      }
     },
     "19a3192224e2468ab0e620883bff50bf": {
      "model_module": "@jupyter-widgets/output",
      "model_module_version": "1.0.0",
      "model_name": "OutputModel",
      "state": {
       "layout": "IPY_MODEL_40851d5ec4814a06a5b40ee0654074a5"
      }
     },
     "1be166c13acd4736ba2ef785999727d0": {
      "model_module": "@jupyter-widgets/base",
      "model_module_version": "1.2.0",
      "model_name": "LayoutModel",
      "state": {}
     },
     "1d077ffea48740e3984f004b75981956": {
      "model_module": "@jupyter-widgets/controls",
      "model_module_version": "1.5.0",
      "model_name": "TextModel",
      "state": {
       "description": "Definition:",
       "layout": "IPY_MODEL_69f8cfcdf7b84dbd90677deecddbc88d",
       "placeholder": "Term 2 definition",
       "style": "IPY_MODEL_0aae2514bcbc4d0f80aba8307be05906"
      }
     },
     "223acef779274cc8b5020afeffb49dc0": {
      "model_module": "@jupyter-widgets/output",
      "model_module_version": "1.0.0",
      "model_name": "OutputModel",
      "state": {
       "layout": "IPY_MODEL_12c896ec4aed46cbae75a9d2fbdbb70d"
      }
     },
     "26e86bac1cd14759b373885342e17daf": {
      "model_module": "@jupyter-widgets/controls",
      "model_module_version": "1.5.0",
      "model_name": "TextModel",
      "state": {
       "description": "Definition:",
       "layout": "IPY_MODEL_d027e889436747b2990960222569ce4e",
       "placeholder": "Term 2 definition",
       "style": "IPY_MODEL_7d99e4f32df94abc9b9061e3d608c900"
      }
     },
     "27a182ea9e1c408f97922edb42dfba94": {
      "model_module": "@jupyter-widgets/controls",
      "model_module_version": "1.5.0",
      "model_name": "VBoxModel",
      "state": {
       "_dom_classes": [
        "widget-interact"
       ],
       "children": [
        "IPY_MODEL_18a877da93df4b2bbd7ab8a367c5190a",
        "IPY_MODEL_cd1c28574810420eaf1f2ba32c33f232"
       ],
       "layout": "IPY_MODEL_5fddd220a77e4e4bbb336ba3d84b5b64"
      }
     },
     "297ce44638094c2fb556193304eec2f7": {
      "model_module": "@jupyter-widgets/controls",
      "model_module_version": "1.5.0",
      "model_name": "DescriptionStyleModel",
      "state": {
       "description_width": ""
      }
     },
     "2be80342dbdf468baea3e5ba79ef6262": {
      "model_module": "@jupyter-widgets/base",
      "model_module_version": "1.2.0",
      "model_name": "LayoutModel",
      "state": {}
     },
     "2ca1d112a8da4890bc0b64e594f97aae": {
      "model_module": "@jupyter-widgets/controls",
      "model_module_version": "1.5.0",
      "model_name": "VBoxModel",
      "state": {
       "_dom_classes": [
        "widget-interact"
       ],
       "children": [
        "IPY_MODEL_6a9e774fdaef40c3a16ea5bcec8a0342",
        "IPY_MODEL_32860e5326ef41d9960c9cbb2acf6ead"
       ],
       "layout": "IPY_MODEL_a90dc82a053a4d06bb411580051ece1e"
      }
     },
     "2cebb90fda3c4bae83c9edafae2d4126": {
      "model_module": "@jupyter-widgets/base",
      "model_module_version": "1.2.0",
      "model_name": "LayoutModel",
      "state": {}
     },
     "2ff5f974424a4c0bb9f17ee268eae702": {
      "model_module": "@jupyter-widgets/output",
      "model_module_version": "1.0.0",
      "model_name": "OutputModel",
      "state": {
       "layout": "IPY_MODEL_f5481fd6dfc0444c9388d9751f4ddcf0"
      }
     },
     "32860e5326ef41d9960c9cbb2acf6ead": {
      "model_module": "@jupyter-widgets/output",
      "model_module_version": "1.0.0",
      "model_name": "OutputModel",
      "state": {
       "layout": "IPY_MODEL_2be80342dbdf468baea3e5ba79ef6262"
      }
     },
     "34849d626c154dcdb9b2fe338182a8b7": {
      "model_module": "@jupyter-widgets/controls",
      "model_module_version": "1.5.0",
      "model_name": "TextModel",
      "state": {
       "description": "Definition:",
       "layout": "IPY_MODEL_b43b3de8210346c28cb45ed539d1a486",
       "placeholder": "Term 1 definition",
       "style": "IPY_MODEL_fdaaf571591346d09e99c9b680fa68df"
      }
     },
     "40851d5ec4814a06a5b40ee0654074a5": {
      "model_module": "@jupyter-widgets/base",
      "model_module_version": "1.2.0",
      "model_name": "LayoutModel",
      "state": {}
     },
     "413d15d57b564b498ecfb153dc6c2732": {
      "model_module": "@jupyter-widgets/base",
      "model_module_version": "1.2.0",
      "model_name": "LayoutModel",
      "state": {}
     },
     "41c569f5aed84c7d8c8afe150e85ac41": {
      "model_module": "@jupyter-widgets/controls",
      "model_module_version": "1.5.0",
      "model_name": "VBoxModel",
      "state": {
       "_dom_classes": [
        "widget-interact"
       ],
       "children": [
        "IPY_MODEL_d75cb070e48f44b0b69172ae0fcdad27",
        "IPY_MODEL_54b50645d76440e4b24cd7da1d751087"
       ],
       "layout": "IPY_MODEL_9285e71fb7fc46d6b1fc83e813695173"
      }
     },
     "42adb448d2bf44eabf42e3988bfde588": {
      "model_module": "@jupyter-widgets/output",
      "model_module_version": "1.0.0",
      "model_name": "OutputModel",
      "state": {
       "layout": "IPY_MODEL_0bfc50f6631e4c468096d7ea9ac0ad8b"
      }
     },
     "4d84cf672e0345cd833dbaceff97453f": {
      "model_module": "@jupyter-widgets/controls",
      "model_module_version": "1.5.0",
      "model_name": "TextModel",
      "state": {
       "description": "Definition:",
       "layout": "IPY_MODEL_ec477da9e69c42daa876468c086e309e",
       "placeholder": "Term 2 definition",
       "style": "IPY_MODEL_297ce44638094c2fb556193304eec2f7"
      }
     },
     "4ded9fd4a4124a21bd6b81c568277e69": {
      "model_module": "@jupyter-widgets/base",
      "model_module_version": "1.2.0",
      "model_name": "LayoutModel",
      "state": {}
     },
     "54b50645d76440e4b24cd7da1d751087": {
      "model_module": "@jupyter-widgets/output",
      "model_module_version": "1.0.0",
      "model_name": "OutputModel",
      "state": {
       "layout": "IPY_MODEL_2cebb90fda3c4bae83c9edafae2d4126"
      }
     },
     "57080f56d90b448691719f982c86bcc8": {
      "model_module": "@jupyter-widgets/controls",
      "model_module_version": "1.5.0",
      "model_name": "DescriptionStyleModel",
      "state": {
       "description_width": ""
      }
     },
     "5fddd220a77e4e4bbb336ba3d84b5b64": {
      "model_module": "@jupyter-widgets/base",
      "model_module_version": "1.2.0",
      "model_name": "LayoutModel",
      "state": {}
     },
     "608e861d73614f4889effa666d4dc216": {
      "model_module": "@jupyter-widgets/base",
      "model_module_version": "1.2.0",
      "model_name": "LayoutModel",
      "state": {}
     },
     "69f8cfcdf7b84dbd90677deecddbc88d": {
      "model_module": "@jupyter-widgets/base",
      "model_module_version": "1.2.0",
      "model_name": "LayoutModel",
      "state": {}
     },
     "6a9e774fdaef40c3a16ea5bcec8a0342": {
      "model_module": "@jupyter-widgets/controls",
      "model_module_version": "1.5.0",
      "model_name": "TextModel",
      "state": {
       "description": "Definition:",
       "layout": "IPY_MODEL_894f1d5af17142ceab6779cbdf828966",
       "placeholder": "Term 3 definition",
       "style": "IPY_MODEL_97bfc4ba5aba4d44ad48635cdbf70ec4"
      }
     },
     "6ac82692d3c645ce8f31c020cce12a2e": {
      "model_module": "@jupyter-widgets/base",
      "model_module_version": "1.2.0",
      "model_name": "LayoutModel",
      "state": {}
     },
     "7094742e05ae4fbeb8083a434ca1d009": {
      "model_module": "@jupyter-widgets/controls",
      "model_module_version": "1.5.0",
      "model_name": "DescriptionStyleModel",
      "state": {
       "description_width": ""
      }
     },
     "766b84b8ff4f47f689c1c64ba31ff1f3": {
      "model_module": "@jupyter-widgets/output",
      "model_module_version": "1.0.0",
      "model_name": "OutputModel",
      "state": {
       "layout": "IPY_MODEL_6ac82692d3c645ce8f31c020cce12a2e"
      }
     },
     "78fb7fec75494cfab3b581f4d8052b6f": {
      "model_module": "@jupyter-widgets/base",
      "model_module_version": "1.2.0",
      "model_name": "LayoutModel",
      "state": {}
     },
     "7a2dad2d88c24de4bbeb6de3bf0f12d8": {
      "model_module": "@jupyter-widgets/controls",
      "model_module_version": "1.5.0",
      "model_name": "VBoxModel",
      "state": {
       "_dom_classes": [
        "widget-interact"
       ],
       "children": [
        "IPY_MODEL_be769da90c0044728e1f0f4f63a29ae0",
        "IPY_MODEL_223acef779274cc8b5020afeffb49dc0"
       ],
       "layout": "IPY_MODEL_c940004e959e46e7bbfd18bb1221f93b"
      }
     },
     "7d99e4f32df94abc9b9061e3d608c900": {
      "model_module": "@jupyter-widgets/controls",
      "model_module_version": "1.5.0",
      "model_name": "DescriptionStyleModel",
      "state": {
       "description_width": ""
      }
     },
     "83567998ee0045a2b8d25adb2caabb97": {
      "model_module": "@jupyter-widgets/base",
      "model_module_version": "1.2.0",
      "model_name": "LayoutModel",
      "state": {}
     },
     "894f1d5af17142ceab6779cbdf828966": {
      "model_module": "@jupyter-widgets/base",
      "model_module_version": "1.2.0",
      "model_name": "LayoutModel",
      "state": {}
     },
     "9285e71fb7fc46d6b1fc83e813695173": {
      "model_module": "@jupyter-widgets/base",
      "model_module_version": "1.2.0",
      "model_name": "LayoutModel",
      "state": {}
     },
     "97bfc4ba5aba4d44ad48635cdbf70ec4": {
      "model_module": "@jupyter-widgets/controls",
      "model_module_version": "1.5.0",
      "model_name": "DescriptionStyleModel",
      "state": {
       "description_width": ""
      }
     },
     "9e92880654ea4a03a9263a7c707795c2": {
      "model_module": "@jupyter-widgets/controls",
      "model_module_version": "1.5.0",
      "model_name": "DescriptionStyleModel",
      "state": {
       "description_width": ""
      }
     },
     "a08bb06175554f4694f1a66d55419c82": {
      "model_module": "@jupyter-widgets/base",
      "model_module_version": "1.2.0",
      "model_name": "LayoutModel",
      "state": {}
     },
     "a23f55a069374b5abdf97f8ac0583d13": {
      "model_module": "@jupyter-widgets/controls",
      "model_module_version": "1.5.0",
      "model_name": "VBoxModel",
      "state": {
       "_dom_classes": [
        "widget-interact"
       ],
       "children": [
        "IPY_MODEL_34849d626c154dcdb9b2fe338182a8b7",
        "IPY_MODEL_19a3192224e2468ab0e620883bff50bf"
       ],
       "layout": "IPY_MODEL_413d15d57b564b498ecfb153dc6c2732"
      }
     },
     "a90dc82a053a4d06bb411580051ece1e": {
      "model_module": "@jupyter-widgets/base",
      "model_module_version": "1.2.0",
      "model_name": "LayoutModel",
      "state": {}
     },
     "b43b3de8210346c28cb45ed539d1a486": {
      "model_module": "@jupyter-widgets/base",
      "model_module_version": "1.2.0",
      "model_name": "LayoutModel",
      "state": {}
     },
     "be769da90c0044728e1f0f4f63a29ae0": {
      "model_module": "@jupyter-widgets/controls",
      "model_module_version": "1.5.0",
      "model_name": "TextModel",
      "state": {
       "description": "Definition:",
       "layout": "IPY_MODEL_ea3768e2753c474a947d129f9a634b40",
       "placeholder": "Term 1 definition",
       "style": "IPY_MODEL_9e92880654ea4a03a9263a7c707795c2"
      }
     },
     "c940004e959e46e7bbfd18bb1221f93b": {
      "model_module": "@jupyter-widgets/base",
      "model_module_version": "1.2.0",
      "model_name": "LayoutModel",
      "state": {}
     },
     "cd1c28574810420eaf1f2ba32c33f232": {
      "model_module": "@jupyter-widgets/output",
      "model_module_version": "1.0.0",
      "model_name": "OutputModel",
      "state": {
       "layout": "IPY_MODEL_a08bb06175554f4694f1a66d55419c82"
      }
     },
     "cd1dad905f15410ba37531d11654db1c": {
      "model_module": "@jupyter-widgets/controls",
      "model_module_version": "1.5.0",
      "model_name": "DescriptionStyleModel",
      "state": {
       "description_width": ""
      }
     },
     "cea83f02fe314860ab01fc6732729db9": {
      "model_module": "@jupyter-widgets/controls",
      "model_module_version": "1.5.0",
      "model_name": "VBoxModel",
      "state": {
       "_dom_classes": [
        "widget-interact"
       ],
       "children": [
        "IPY_MODEL_4d84cf672e0345cd833dbaceff97453f",
        "IPY_MODEL_067ec038b01a4e4c85f3e9b91381f10f"
       ],
       "layout": "IPY_MODEL_1be166c13acd4736ba2ef785999727d0"
      }
     },
     "d027e889436747b2990960222569ce4e": {
      "model_module": "@jupyter-widgets/base",
      "model_module_version": "1.2.0",
      "model_name": "LayoutModel",
      "state": {}
     },
     "d75cb070e48f44b0b69172ae0fcdad27": {
      "model_module": "@jupyter-widgets/controls",
      "model_module_version": "1.5.0",
      "model_name": "TextModel",
      "state": {
       "description": "Definition:",
       "layout": "IPY_MODEL_1803a03c6c2d4db382b392df110abdbe",
       "placeholder": "Term 3 definition",
       "style": "IPY_MODEL_57080f56d90b448691719f982c86bcc8"
      }
     },
     "db2b10abb5244779b5c60903199e6028": {
      "model_module": "@jupyter-widgets/controls",
      "model_module_version": "1.5.0",
      "model_name": "VBoxModel",
      "state": {
       "_dom_classes": [
        "widget-interact"
       ],
       "children": [
        "IPY_MODEL_eb71102a2297453f9541f78eceb9a250",
        "IPY_MODEL_42adb448d2bf44eabf42e3988bfde588"
       ],
       "layout": "IPY_MODEL_4ded9fd4a4124a21bd6b81c568277e69"
      }
     },
     "e0d48d1474e94d6fb600e11d4abfaf29": {
      "model_module": "@jupyter-widgets/controls",
      "model_module_version": "1.5.0",
      "model_name": "VBoxModel",
      "state": {
       "_dom_classes": [
        "widget-interact"
       ],
       "children": [
        "IPY_MODEL_1d077ffea48740e3984f004b75981956",
        "IPY_MODEL_2ff5f974424a4c0bb9f17ee268eae702"
       ],
       "layout": "IPY_MODEL_608e861d73614f4889effa666d4dc216"
      }
     },
     "ea3768e2753c474a947d129f9a634b40": {
      "model_module": "@jupyter-widgets/base",
      "model_module_version": "1.2.0",
      "model_name": "LayoutModel",
      "state": {}
     },
     "eb71102a2297453f9541f78eceb9a250": {
      "model_module": "@jupyter-widgets/controls",
      "model_module_version": "1.5.0",
      "model_name": "TextModel",
      "state": {
       "description": "Definition:",
       "layout": "IPY_MODEL_83567998ee0045a2b8d25adb2caabb97",
       "placeholder": "Term 1 definition",
       "style": "IPY_MODEL_cd1dad905f15410ba37531d11654db1c"
      }
     },
     "ec477da9e69c42daa876468c086e309e": {
      "model_module": "@jupyter-widgets/base",
      "model_module_version": "1.2.0",
      "model_name": "LayoutModel",
      "state": {}
     },
     "ee822eda703446d3ae4ac9af71332d8a": {
      "model_module": "@jupyter-widgets/controls",
      "model_module_version": "1.5.0",
      "model_name": "VBoxModel",
      "state": {
       "_dom_classes": [
        "widget-interact"
       ],
       "children": [
        "IPY_MODEL_26e86bac1cd14759b373885342e17daf",
        "IPY_MODEL_766b84b8ff4f47f689c1c64ba31ff1f3"
       ],
       "layout": "IPY_MODEL_f521d509fcad4f5682befdad4ce1f04b"
      }
     },
     "f0db7b48a7c44b9f8cc2fe548cbe5d84": {
      "model_module": "@jupyter-widgets/base",
      "model_module_version": "1.2.0",
      "model_name": "LayoutModel",
      "state": {}
     },
     "f521d509fcad4f5682befdad4ce1f04b": {
      "model_module": "@jupyter-widgets/base",
      "model_module_version": "1.2.0",
      "model_name": "LayoutModel",
      "state": {}
     },
     "f5481fd6dfc0444c9388d9751f4ddcf0": {
      "model_module": "@jupyter-widgets/base",
      "model_module_version": "1.2.0",
      "model_name": "LayoutModel",
      "state": {}
     },
     "fdaaf571591346d09e99c9b680fa68df": {
      "model_module": "@jupyter-widgets/controls",
      "model_module_version": "1.5.0",
      "model_name": "DescriptionStyleModel",
      "state": {
       "description_width": ""
      }
     }
    },
    "version_major": 2,
    "version_minor": 0
   }
  }
 },
 "nbformat": 4,
 "nbformat_minor": 2
}
