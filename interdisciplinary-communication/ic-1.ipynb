{
 "cells": [
  {
   "cell_type": "markdown",
   "metadata": {},
   "source": [
    "# Interdisciplinary Communication\n",
    "## Overview\n",
    "### Welcome to the Hour of CyberInfrastructure Interdisciplinary Communication Notebook\n",
    "\n",
    "Throughout this lesson, you'll think about how we communicate scientific concepts, what makes learning, thinking, or discussing those concepts easy or difficult, and how your understanding of concepts might differ from someone with a different background and experience than your own.\n",
    "\n",
    "Remember to run each cell, and follow the directions for each section as you go through the notebooks.\n",
    "\n",
    "*Lesson Developer: Forrest Bowlick fbowlick@umass.edu*"
   ]
  },
  {
   "cell_type": "code",
   "execution_count": 1,
   "metadata": {
    "init_cell": true
   },
   "outputs": [
    {
     "data": {
      "text/html": [
       "\n",
       "    <script>\n",
       "        display = true; \n",
       "        function toggle() {\n",
       "            var input = $(\"div.input\");\n",
       "            if (display) { input.hide(); }\n",
       "            else { input.show(); }\n",
       "            display = !display;\n",
       "        }\n",
       "        $(document).ready(toggle);\n",
       "    </script>\n",
       "    \n",
       "    <form action=\"javascript:toggle()\">\n",
       "        <input type=\"submit\" value=\"Toggle raw code\">\n",
       "    </form>\n"
      ],
      "text/plain": [
       "<IPython.core.display.HTML object>"
      ]
     },
     "execution_count": 1,
     "metadata": {},
     "output_type": "execute_result"
    }
   ],
   "source": [
    "from IPython.display import HTML, IFrame, Javascript\n",
    "\n",
    "# hide code output\n",
    "HTML('''\n",
    "    <script>\n",
    "        display = true; \n",
    "        function toggle() {\n",
    "            var input = $(\"div.input\");\n",
    "            if (display) { input.hide(); }\n",
    "            else { input.show(); }\n",
    "            display = !display;\n",
    "        }\n",
    "        $(document).ready(toggle);\n",
    "    </script>\n",
    "    \n",
    "    <form action=\"javascript:toggle()\">\n",
    "        <input type=\"submit\" value=\"Toggle raw code\">\n",
    "    </form>\n",
    "''')"
   ]
  },
  {
   "cell_type": "markdown",
   "metadata": {},
   "source": [
    "# Word Clouds\n",
    "\n",
    "Let's start off by considering some word clouds. Word clouds are graphic representations of the content in a body of text. In this case, you'll see a word cloud generated from an article on Cyber Literacy in GIScience (hyperlink: https://www.tandfonline.com/doi/full/10.1080/00330124.2018.1518720). \n",
    "\n",
    "This word cloud has removed common 'dictionary' words, like 'the' or 'and', so the remaining words are core ideas, topics, and concepts in the work."
   ]
  },
  {
   "cell_type": "markdown",
   "metadata": {},
   "source": [
    "~~TO DO: Run this cell to make the word cloud appear!~~"
   ]
  },
  {
   "cell_type": "markdown",
   "metadata": {},
   "source": [
    "__TODO__: Two cells directly below are executed with a blank output -- hide output"
   ]
  },
  {
   "cell_type": "code",
   "execution_count": 2,
   "metadata": {
    "init_cell": true
   },
   "outputs": [
    {
     "data": {
      "application/javascript": [
       "// listen for word arrays from each iframe\n",
       "var data = [];\n",
       "window.addEventListener(\"message\", function(e) {\n",
       "    // parse data received from iframe\n",
       "    var kernel = IPython.notebook.kernel;\n",
       "    var key = e.message ? \"message\" : \"data\";\n",
       "    data += \",\" + e[key].join(', ');\n",
       "    var command = key + \" = \\\"\" + data + \"\\\"\";\n",
       "    kernel.execute(command);\n",
       "\n",
       "    // store unknown words\n",
       "    var cell = Jupyter.notebook.get_cell(6);\n",
       "    cell.execute();\n",
       "    \n",
       "    // display second copy of word cloud (if not displayed already)\n",
       "    var cloud_two = Jupyter.notebook.get_cell(10);\n",
       "    if (cloud_two.output_area.outputs.length === 0) {\n",
       "        Jupyter.notebook.execute_cells([10]);\n",
       "    }\n",
       "    \n",
       "    // store known words\n",
       "    cell = Jupyter.notebook.get_cell(7);\n",
       "    cell.execute();\n",
       "}, false);\n"
      ],
      "text/plain": [
       "<IPython.core.display.Javascript object>"
      ]
     },
     "metadata": {},
     "output_type": "display_data"
    }
   ],
   "source": [
    "%%javascript\n",
    "// listen for word arrays from each iframe\n",
    "var data = [];\n",
    "window.addEventListener(\"message\", function(e) {\n",
    "    // parse data received from iframe\n",
    "    var kernel = IPython.notebook.kernel;\n",
    "    var key = e.message ? \"message\" : \"data\";\n",
    "    data += \",\" + e[key].join(', ');\n",
    "    var command = key + \" = \\\"\" + data + \"\\\"\";\n",
    "    kernel.execute(command);\n",
    "\n",
    "    // store unknown words\n",
    "    var cell = Jupyter.notebook.get_cell(6);\n",
    "    cell.execute();\n",
    "    \n",
    "    // display second copy of word cloud (if not displayed already)\n",
    "    var cloud_two = Jupyter.notebook.get_cell(10);\n",
    "    if (cloud_two.output_area.outputs.length === 0) {\n",
    "        Jupyter.notebook.execute_cells([10]);\n",
    "    }\n",
    "    \n",
    "    // store known words\n",
    "    cell = Jupyter.notebook.get_cell(7);\n",
    "    cell.execute();\n",
    "}, false);"
   ]
  },
  {
   "cell_type": "code",
   "execution_count": null,
   "metadata": {
    "scrolled": false
   },
   "outputs": [],
   "source": [
    "# runs after words are selected in iframe\n",
    "try:\n",
    "    unknown = data\n",
    "except NameError:\n",
    "    unknown = \"\"\n",
    "\n",
    "Javascript(\"Jupyter.notebook.execute_cells([14])\")"
   ]
  },
  {
   "cell_type": "code",
   "execution_count": null,
   "metadata": {
    "scrolled": true
   },
   "outputs": [],
   "source": [
    "# runs after words are selected in iframe\n",
    "try:\n",
    "    known = data\n",
    "except NameError:\n",
    "    known = \"\"\n",
    "\n",
    "Javascript(\"Jupyter.notebook.execute_cells([16])\")"
   ]
  },
  {
   "cell_type": "code",
   "execution_count": 3,
   "metadata": {
    "init_cell": true
   },
   "outputs": [
    {
     "data": {
      "text/html": [
       "\n",
       "        <iframe\n",
       "            width=\"980\"\n",
       "            height=\"740\"\n",
       "            src=\"wordcloud-phase1.html\"\n",
       "            frameborder=\"0\"\n",
       "            allowfullscreen\n",
       "        ></iframe>\n",
       "        "
      ],
      "text/plain": [
       "<IPython.lib.display.IFrame at 0x59c1090>"
      ]
     },
     "execution_count": 3,
     "metadata": {},
     "output_type": "execute_result"
    }
   ],
   "source": [
    "IFrame(\"wordcloud-phase1.html\", width=\"980\", height=\"740\")"
   ]
  },
  {
   "cell_type": "markdown",
   "metadata": {},
   "source": [
    "Think about which of these words you've seen before in classes, working on projects, in your daily life, and so forth. Also, think about which of these words are new or unfamiliar. \n",
    "\n",
    "After considering these words for a while, click on three words that you don’t feel confident you know the definition for.\n",
    "\n",
    "<br>"
   ]
  },
  {
   "cell_type": "code",
   "execution_count": null,
   "metadata": {},
   "outputs": [],
   "source": [
    "# Runs after three words are selected in first iframe\n",
    "IFrame(\"wordcloud-phase2.html\", width=\"980\", height=\"740\")"
   ]
  },
  {
   "cell_type": "markdown",
   "metadata": {},
   "source": [
    "__TODO__: Probably only run this cell after the second cloud pops up, or integrate the text into the iframe or something else to that effect\n",
    "\n",
    "Here are the words again. Now, click on three words you feel confident you know the definition for.\n",
    "\n",
    "<br>"
   ]
  },
  {
   "cell_type": "markdown",
   "metadata": {},
   "source": [
    "Let's look at the words you selected in these word clouds."
   ]
  },
  {
   "cell_type": "markdown",
   "metadata": {},
   "source": [
    "Here are the words you clicked on that you are not confident about:"
   ]
  },
  {
   "cell_type": "code",
   "execution_count": null,
   "metadata": {},
   "outputs": [],
   "source": [
    "# Runs after three words are selected in first iframe\n",
    "# TODO: hide and clean up code. Convert list to markdown possibly?\n",
    "words = [n.strip() for n in unknown.split(',')]\n",
    "    \n",
    "for num, word in enumerate(words[1:4]):\n",
    "    print(num+1, word)"
   ]
  },
  {
   "cell_type": "markdown",
   "metadata": {},
   "source": [
    "And here are the words you clicked on that you are confident about:"
   ]
  },
  {
   "cell_type": "code",
   "execution_count": null,
   "metadata": {},
   "outputs": [],
   "source": [
    "# Runs after three words are selected in second iframe\n",
    "# TODO: hide and clean up code. Convert list to markdown possibly?\n",
    "words = [n.strip() for n in unknown.split(',')]\n",
    "\n",
    "for num, word in enumerate(words[4:7]):\n",
    "    print(num+1, word)"
   ]
  },
  {
   "cell_type": "markdown",
   "metadata": {},
   "source": [
    "Do you notice any similarities in the words you picked in each group? Does anything seem to connect those terms or ideas? Depending on what you picked, you might've revealed some of your own expertise or skill, or shown an area where you don't have a lot of practice."
   ]
  },
  {
   "cell_type": "markdown",
   "metadata": {},
   "source": [
    "### Defining Comfortable Terms"
   ]
  },
  {
   "cell_type": "markdown",
   "metadata": {},
   "source": [
    "Let's focus on the terms you were comfortable with. Each term is listed below with its own definition box. For each term, write out <b>your</b> definition of the term - no dictionaries, please! - and we'll compare that with a more formal definition later."
   ]
  },
  {
   "cell_type": "code",
   "execution_count": 4,
   "metadata": {
    "init_cell": true
   },
   "outputs": [
    {
     "name": "stdout",
     "output_type": "stream",
     "text": [
      "Provide your definition of term 1.\n"
     ]
    },
    {
     "data": {
      "application/vnd.jupyter.widget-view+json": {
       "model_id": "19dd4df2ae6446b1b00c079866ea2037",
       "version_major": 2,
       "version_minor": 0
      },
      "text/plain": [
       "interactive(children=(Text(value='', description='Definition:', placeholder='Term 1 definition'), Output()), _…"
      ]
     },
     "metadata": {},
     "output_type": "display_data"
    }
   ],
   "source": [
    "# TODO: This will be cleaned up and hidden.\n",
    "from ipywidgets import interactive\n",
    "import ipywidgets as widgets\n",
    "print(\"Provide your definition of term 1.\")\n",
    "\n",
    "t1 = interactive(lambda x:x, x=\n",
    "widgets.Text(\n",
    "    placeholder='Term 1 definition',\n",
    "    description='Definition:',\n",
    "    disabled=False\n",
    "));\n",
    "display(t1)"
   ]
  },
  {
   "cell_type": "code",
   "execution_count": 5,
   "metadata": {
    "init_cell": true
   },
   "outputs": [
    {
     "name": "stdout",
     "output_type": "stream",
     "text": [
      "Provide your definition of term 2.\n"
     ]
    },
    {
     "data": {
      "application/vnd.jupyter.widget-view+json": {
       "model_id": "330e44a100e348c9b45373109aee36a2",
       "version_major": 2,
       "version_minor": 0
      },
      "text/plain": [
       "interactive(children=(Text(value='', description='Definition:', placeholder='Term 2 definition'), Output()), _…"
      ]
     },
     "metadata": {},
     "output_type": "display_data"
    }
   ],
   "source": [
    "# TODO: This will be cleaned up and hidden.\n",
    "print(\"Provide your definition of term 2.\")\n",
    "\n",
    "t2 = interactive(lambda x:x, x=\n",
    "    widgets.Text(\n",
    "        placeholder='Term 2 definition',\n",
    "        description='Definition:',\n",
    "        disabled=False\n",
    "));\n",
    "display(t2)"
   ]
  },
  {
   "cell_type": "code",
   "execution_count": 6,
   "metadata": {
    "init_cell": true
   },
   "outputs": [
    {
     "name": "stdout",
     "output_type": "stream",
     "text": [
      "Provide your definition of term 3.\n"
     ]
    },
    {
     "data": {
      "application/vnd.jupyter.widget-view+json": {
       "model_id": "b03df658896041f9b949642c45e900de",
       "version_major": 2,
       "version_minor": 0
      },
      "text/plain": [
       "interactive(children=(Text(value='', description='Definition:', placeholder='Term 3 definition'), Output()), _…"
      ]
     },
     "metadata": {},
     "output_type": "display_data"
    }
   ],
   "source": [
    "# TODO: This will be cleaned up and hidden.\n",
    "print(\"Provide your definition of term 3.\")\n",
    "\n",
    "t3 = interactive(lambda x:x, x=\n",
    "widgets.Text(\n",
    "    placeholder='Term 3 definition',\n",
    "    description='Definition:',\n",
    "    disabled=False\n",
    "));\n",
    "display(t3)"
   ]
  },
  {
   "cell_type": "markdown",
   "metadata": {},
   "source": [
    "### Compare\n",
    "\n",
    "Consider the definitions between your definitions and ours. Notice any similarities? Any differences?\n",
    "\n",
    "TODO: Add some interactive pieces that shows definitions side-by-side or in a list.\n",
    "\n",
    "TODO: Depending on capabilities, either learners highlight (using a tool like in Word) similarities in the definitions, or it is done automatically.\n",
    "\n",
    "Depending on your experience and expertise, you might define terms differently. At the same time, you might need to use different types of definitions when talking to people with different backgrounds and expertise"
   ]
  },
  {
   "cell_type": "markdown",
   "metadata": {},
   "source": [
    "![congrats popup](congrats.png)\n",
    "You just learned about Jargon!"
   ]
  },
  {
   "cell_type": "markdown",
   "metadata": {},
   "source": [
    "**Continue the journey: [Next Example](ic-2.ipynb)**"
   ]
  }
 ],
 "metadata": {
  "celltoolbar": "Initialization Cell",
  "kernelspec": {
   "display_name": "Python 3",
   "language": "python",
   "name": "python3"
  },
  "language_info": {
   "codemirror_mode": {
    "name": "ipython",
    "version": 3
   },
   "file_extension": ".py",
   "mimetype": "text/x-python",
   "name": "python",
   "nbconvert_exporter": "python",
   "pygments_lexer": "ipython3",
   "version": "3.7.4"
  },
  "widgets": {
   "application/vnd.jupyter.widget-state+json": {
    "state": {
     "02a09516ba7a456e8bad622f2cd44af4": {
      "model_module": "@jupyter-widgets/output",
      "model_module_version": "1.0.0",
      "model_name": "OutputModel",
      "state": {
       "layout": "IPY_MODEL_0a98bf4fed214121ab925c48ae955967"
      }
     },
     "0442365440684d73a59893f25fadd504": {
      "model_module": "@jupyter-widgets/controls",
      "model_module_version": "1.5.0",
      "model_name": "DescriptionStyleModel",
      "state": {
       "description_width": ""
      }
     },
     "0806a1f616cf482e93e1cb6c638eab83": {
      "model_module": "@jupyter-widgets/base",
      "model_module_version": "1.2.0",
      "model_name": "LayoutModel",
      "state": {}
     },
     "0a98bf4fed214121ab925c48ae955967": {
      "model_module": "@jupyter-widgets/base",
      "model_module_version": "1.2.0",
      "model_name": "LayoutModel",
      "state": {}
     },
     "0c2c10840a6d4e779d26e2ba97e952b8": {
      "model_module": "@jupyter-widgets/base",
      "model_module_version": "1.2.0",
      "model_name": "LayoutModel",
      "state": {}
     },
     "0d797852a78d4841b03f2c033aa7dca6": {
      "model_module": "@jupyter-widgets/base",
      "model_module_version": "1.2.0",
      "model_name": "LayoutModel",
      "state": {}
     },
     "12b482fe8ff24099b8194456d1e4b516": {
      "model_module": "@jupyter-widgets/controls",
      "model_module_version": "1.5.0",
      "model_name": "DescriptionStyleModel",
      "state": {
       "description_width": ""
      }
     },
     "19dd4df2ae6446b1b00c079866ea2037": {
      "model_module": "@jupyter-widgets/controls",
      "model_module_version": "1.5.0",
      "model_name": "VBoxModel",
      "state": {
       "_dom_classes": [
        "widget-interact"
       ],
       "children": [
        "IPY_MODEL_a95ac70468f34a63a1da9b95740ece94",
        "IPY_MODEL_239a3fdf527d4223bddd960717c6777d"
       ],
       "layout": "IPY_MODEL_92f32935f8cd44f8a62a9c6974891f0f"
      }
     },
     "1f95f583b0dc471c988414d1da2b1e04": {
      "model_module": "@jupyter-widgets/controls",
      "model_module_version": "1.5.0",
      "model_name": "TextModel",
      "state": {
       "description": "Definition:",
       "layout": "IPY_MODEL_68ab071e099645caacca5279ed84c9f4",
       "placeholder": "Term 2 definition",
       "style": "IPY_MODEL_88fd3683e02d4afdb4c3f03bc3614267"
      }
     },
     "22071610a50d4c058617ad89bf1a5bab": {
      "model_module": "@jupyter-widgets/base",
      "model_module_version": "1.2.0",
      "model_name": "LayoutModel",
      "state": {}
     },
     "238b473776b9491c8b4481753f08ede9": {
      "model_module": "@jupyter-widgets/base",
      "model_module_version": "1.2.0",
      "model_name": "LayoutModel",
      "state": {}
     },
     "239a3fdf527d4223bddd960717c6777d": {
      "model_module": "@jupyter-widgets/output",
      "model_module_version": "1.0.0",
      "model_name": "OutputModel",
      "state": {
       "layout": "IPY_MODEL_cf382e8516294aa68d28cb0b27029e87"
      }
     },
     "266ba7ce02f74fd49085fb533047225c": {
      "model_module": "@jupyter-widgets/controls",
      "model_module_version": "1.5.0",
      "model_name": "VBoxModel",
      "state": {
       "_dom_classes": [
        "widget-interact"
       ],
       "children": [
        "IPY_MODEL_fb7779fd535c4adc90cb63ce612a0bf5",
        "IPY_MODEL_02a09516ba7a456e8bad622f2cd44af4"
       ],
       "layout": "IPY_MODEL_59a5a5309b28468c8447f81e5ddadcc0"
      }
     },
     "2aebe9b19b344ce9a536c3a01266261d": {
      "model_module": "@jupyter-widgets/base",
      "model_module_version": "1.2.0",
      "model_name": "LayoutModel",
      "state": {}
     },
     "3026a28b7a09473690904389c07bc2a9": {
      "model_module": "@jupyter-widgets/base",
      "model_module_version": "1.2.0",
      "model_name": "LayoutModel",
      "state": {}
     },
     "330e44a100e348c9b45373109aee36a2": {
      "model_module": "@jupyter-widgets/controls",
      "model_module_version": "1.5.0",
      "model_name": "VBoxModel",
      "state": {
       "_dom_classes": [
        "widget-interact"
       ],
       "children": [
        "IPY_MODEL_b8735b16943944cbbfde7b0e07716d7b",
        "IPY_MODEL_b80b60e39bba4809b683fb4d4576694f"
       ],
       "layout": "IPY_MODEL_764434718c964b6b893e18ab4ef72d2c"
      }
     },
     "3b125649d2f549718acbd3e00ea63733": {
      "model_module": "@jupyter-widgets/output",
      "model_module_version": "1.0.0",
      "model_name": "OutputModel",
      "state": {
       "layout": "IPY_MODEL_0c2c10840a6d4e779d26e2ba97e952b8"
      }
     },
     "4a5f43b952ca4ee8a58e187ef048f748": {
      "model_module": "@jupyter-widgets/base",
      "model_module_version": "1.2.0",
      "model_name": "LayoutModel",
      "state": {}
     },
     "4d16b0e7281948de960b0a157e111349": {
      "model_module": "@jupyter-widgets/controls",
      "model_module_version": "1.5.0",
      "model_name": "DescriptionStyleModel",
      "state": {
       "description_width": ""
      }
     },
     "4e86b89de55845dfba7777e8b07efde6": {
      "model_module": "@jupyter-widgets/base",
      "model_module_version": "1.2.0",
      "model_name": "LayoutModel",
      "state": {}
     },
     "53382b2dd57a4a70b92bc7f41b413ba1": {
      "model_module": "@jupyter-widgets/base",
      "model_module_version": "1.2.0",
      "model_name": "LayoutModel",
      "state": {}
     },
     "553a69c355d84d32b3efcf22730be0cd": {
      "model_module": "@jupyter-widgets/base",
      "model_module_version": "1.2.0",
      "model_name": "LayoutModel",
      "state": {}
     },
     "59a5a5309b28468c8447f81e5ddadcc0": {
      "model_module": "@jupyter-widgets/base",
      "model_module_version": "1.2.0",
      "model_name": "LayoutModel",
      "state": {}
     },
     "59be7586c3f649d5a6f57a40fdd7df51": {
      "model_module": "@jupyter-widgets/base",
      "model_module_version": "1.2.0",
      "model_name": "LayoutModel",
      "state": {}
     },
     "60fb4c8210264ad5af8950757436b051": {
      "model_module": "@jupyter-widgets/output",
      "model_module_version": "1.0.0",
      "model_name": "OutputModel",
      "state": {
       "layout": "IPY_MODEL_d3b43b0ac88749ceb15d22ea0ce09402"
      }
     },
     "65e07fdf31d94fc8958d1c89b81fd546": {
      "model_module": "@jupyter-widgets/base",
      "model_module_version": "1.2.0",
      "model_name": "LayoutModel",
      "state": {}
     },
     "68ab071e099645caacca5279ed84c9f4": {
      "model_module": "@jupyter-widgets/base",
      "model_module_version": "1.2.0",
      "model_name": "LayoutModel",
      "state": {}
     },
     "6abba757a3f543e780bbaff6ff6c8f84": {
      "model_module": "@jupyter-widgets/controls",
      "model_module_version": "1.5.0",
      "model_name": "TextModel",
      "state": {
       "description": "Definition:",
       "layout": "IPY_MODEL_65e07fdf31d94fc8958d1c89b81fd546",
       "placeholder": "Term 3 definition",
       "style": "IPY_MODEL_0442365440684d73a59893f25fadd504"
      }
     },
     "6c499f66d09a43dbb949239af6aedb7a": {
      "model_module": "@jupyter-widgets/controls",
      "model_module_version": "1.5.0",
      "model_name": "VBoxModel",
      "state": {
       "_dom_classes": [
        "widget-interact"
       ],
       "children": [
        "IPY_MODEL_e9616b3d98c741aca75f1d15afc6e5ba",
        "IPY_MODEL_dc00cee9f16c4bd6b60d48d43877125f"
       ],
       "layout": "IPY_MODEL_53382b2dd57a4a70b92bc7f41b413ba1"
      }
     },
     "7579d42fbe39435a8937eca154a52327": {
      "model_module": "@jupyter-widgets/controls",
      "model_module_version": "1.5.0",
      "model_name": "TextModel",
      "state": {
       "description": "Definition:",
       "layout": "IPY_MODEL_4a5f43b952ca4ee8a58e187ef048f748",
       "placeholder": "Term 1 definition",
       "style": "IPY_MODEL_9d67fa735def42c3ba4608745575b9af"
      }
     },
     "764434718c964b6b893e18ab4ef72d2c": {
      "model_module": "@jupyter-widgets/base",
      "model_module_version": "1.2.0",
      "model_name": "LayoutModel",
      "state": {}
     },
     "7b11a246458841b280cf082c33651a2f": {
      "model_module": "@jupyter-widgets/controls",
      "model_module_version": "1.5.0",
      "model_name": "DescriptionStyleModel",
      "state": {
       "description_width": ""
      }
     },
     "8028d5810f3946639f46f668ef6b2b98": {
      "model_module": "@jupyter-widgets/output",
      "model_module_version": "1.0.0",
      "model_name": "OutputModel",
      "state": {
       "layout": "IPY_MODEL_4e86b89de55845dfba7777e8b07efde6"
      }
     },
     "83ceb9f1f4cf4d1ca63655536d738f0a": {
      "model_module": "@jupyter-widgets/controls",
      "model_module_version": "1.5.0",
      "model_name": "DescriptionStyleModel",
      "state": {
       "description_width": ""
      }
     },
     "88fd3683e02d4afdb4c3f03bc3614267": {
      "model_module": "@jupyter-widgets/controls",
      "model_module_version": "1.5.0",
      "model_name": "DescriptionStyleModel",
      "state": {
       "description_width": ""
      }
     },
     "891be100e64c4783aecdce3e7b8e9c82": {
      "model_module": "@jupyter-widgets/controls",
      "model_module_version": "1.5.0",
      "model_name": "TextModel",
      "state": {
       "description": "Definition:",
       "layout": "IPY_MODEL_553a69c355d84d32b3efcf22730be0cd",
       "placeholder": "Term 1 definition",
       "style": "IPY_MODEL_a58498b2755f42c5a1a0b7591ba77b23"
      }
     },
     "8a7c769244f94d33bd29432851b15283": {
      "model_module": "@jupyter-widgets/base",
      "model_module_version": "1.2.0",
      "model_name": "LayoutModel",
      "state": {}
     },
     "92f32935f8cd44f8a62a9c6974891f0f": {
      "model_module": "@jupyter-widgets/base",
      "model_module_version": "1.2.0",
      "model_name": "LayoutModel",
      "state": {}
     },
     "98009f4597164c7f972a2f7b8300f25d": {
      "model_module": "@jupyter-widgets/base",
      "model_module_version": "1.2.0",
      "model_name": "LayoutModel",
      "state": {}
     },
     "9ad87e2fa11848b99880da8dbe174c80": {
      "model_module": "@jupyter-widgets/output",
      "model_module_version": "1.0.0",
      "model_name": "OutputModel",
      "state": {
       "layout": "IPY_MODEL_9fc7701f101141feb18ed0675af952ad"
      }
     },
     "9d67fa735def42c3ba4608745575b9af": {
      "model_module": "@jupyter-widgets/controls",
      "model_module_version": "1.5.0",
      "model_name": "DescriptionStyleModel",
      "state": {
       "description_width": ""
      }
     },
     "9fc7701f101141feb18ed0675af952ad": {
      "model_module": "@jupyter-widgets/base",
      "model_module_version": "1.2.0",
      "model_name": "LayoutModel",
      "state": {}
     },
     "a58498b2755f42c5a1a0b7591ba77b23": {
      "model_module": "@jupyter-widgets/controls",
      "model_module_version": "1.5.0",
      "model_name": "DescriptionStyleModel",
      "state": {
       "description_width": ""
      }
     },
     "a95ac70468f34a63a1da9b95740ece94": {
      "model_module": "@jupyter-widgets/controls",
      "model_module_version": "1.5.0",
      "model_name": "TextModel",
      "state": {
       "description": "Definition:",
       "layout": "IPY_MODEL_ddce8dba9cb045bd86a7a003e0159f2f",
       "placeholder": "Term 1 definition",
       "style": "IPY_MODEL_12b482fe8ff24099b8194456d1e4b516"
      }
     },
     "b03df658896041f9b949642c45e900de": {
      "model_module": "@jupyter-widgets/controls",
      "model_module_version": "1.5.0",
      "model_name": "VBoxModel",
      "state": {
       "_dom_classes": [
        "widget-interact"
       ],
       "children": [
        "IPY_MODEL_f61e5982390a4c43acbe523ea1158701",
        "IPY_MODEL_9ad87e2fa11848b99880da8dbe174c80"
       ],
       "layout": "IPY_MODEL_0806a1f616cf482e93e1cb6c638eab83"
      }
     },
     "b80b60e39bba4809b683fb4d4576694f": {
      "model_module": "@jupyter-widgets/output",
      "model_module_version": "1.0.0",
      "model_name": "OutputModel",
      "state": {
       "layout": "IPY_MODEL_98009f4597164c7f972a2f7b8300f25d"
      }
     },
     "b8735b16943944cbbfde7b0e07716d7b": {
      "model_module": "@jupyter-widgets/controls",
      "model_module_version": "1.5.0",
      "model_name": "TextModel",
      "state": {
       "description": "Definition:",
       "layout": "IPY_MODEL_ec538ed6f2394c74962c86c227863d73",
       "placeholder": "Term 2 definition",
       "style": "IPY_MODEL_f3faddef04ad47e3bba8c6b9e01f24af"
      }
     },
     "b8b9750443ec41c9896266afa3418362": {
      "model_module": "@jupyter-widgets/controls",
      "model_module_version": "1.5.0",
      "model_name": "VBoxModel",
      "state": {
       "_dom_classes": [
        "widget-interact"
       ],
       "children": [
        "IPY_MODEL_7579d42fbe39435a8937eca154a52327",
        "IPY_MODEL_8028d5810f3946639f46f668ef6b2b98"
       ],
       "layout": "IPY_MODEL_0d797852a78d4841b03f2c033aa7dca6"
      }
     },
     "c16c7938449a49739cce497c022f2d13": {
      "model_module": "@jupyter-widgets/controls",
      "model_module_version": "1.5.0",
      "model_name": "VBoxModel",
      "state": {
       "_dom_classes": [
        "widget-interact"
       ],
       "children": [
        "IPY_MODEL_6abba757a3f543e780bbaff6ff6c8f84",
        "IPY_MODEL_e8c1d70f86134ac6b4543321bd0061ef"
       ],
       "layout": "IPY_MODEL_e456d66808b64dd4add235486971ac18"
      }
     },
     "c4d8406495554e1d88a6206ae9417f05": {
      "model_module": "@jupyter-widgets/controls",
      "model_module_version": "1.5.0",
      "model_name": "VBoxModel",
      "state": {
       "_dom_classes": [
        "widget-interact"
       ],
       "children": [
        "IPY_MODEL_891be100e64c4783aecdce3e7b8e9c82",
        "IPY_MODEL_3b125649d2f549718acbd3e00ea63733"
       ],
       "layout": "IPY_MODEL_3026a28b7a09473690904389c07bc2a9"
      }
     },
     "ca3c2ab528964bdeb1766c0e20712f94": {
      "model_module": "@jupyter-widgets/base",
      "model_module_version": "1.2.0",
      "model_name": "LayoutModel",
      "state": {}
     },
     "cf382e8516294aa68d28cb0b27029e87": {
      "model_module": "@jupyter-widgets/base",
      "model_module_version": "1.2.0",
      "model_name": "LayoutModel",
      "state": {}
     },
     "d3b43b0ac88749ceb15d22ea0ce09402": {
      "model_module": "@jupyter-widgets/base",
      "model_module_version": "1.2.0",
      "model_name": "LayoutModel",
      "state": {}
     },
     "dc00cee9f16c4bd6b60d48d43877125f": {
      "model_module": "@jupyter-widgets/output",
      "model_module_version": "1.0.0",
      "model_name": "OutputModel",
      "state": {
       "layout": "IPY_MODEL_8a7c769244f94d33bd29432851b15283"
      }
     },
     "ddce8dba9cb045bd86a7a003e0159f2f": {
      "model_module": "@jupyter-widgets/base",
      "model_module_version": "1.2.0",
      "model_name": "LayoutModel",
      "state": {}
     },
     "e456d66808b64dd4add235486971ac18": {
      "model_module": "@jupyter-widgets/base",
      "model_module_version": "1.2.0",
      "model_name": "LayoutModel",
      "state": {}
     },
     "e8c1d70f86134ac6b4543321bd0061ef": {
      "model_module": "@jupyter-widgets/output",
      "model_module_version": "1.0.0",
      "model_name": "OutputModel",
      "state": {
       "layout": "IPY_MODEL_22071610a50d4c058617ad89bf1a5bab"
      }
     },
     "e9616b3d98c741aca75f1d15afc6e5ba": {
      "model_module": "@jupyter-widgets/controls",
      "model_module_version": "1.5.0",
      "model_name": "TextModel",
      "state": {
       "description": "Definition:",
       "layout": "IPY_MODEL_59be7586c3f649d5a6f57a40fdd7df51",
       "placeholder": "Term 3 definition",
       "style": "IPY_MODEL_4d16b0e7281948de960b0a157e111349"
      }
     },
     "e9f05db15b5f4b429dcedddd24f89c22": {
      "model_module": "@jupyter-widgets/controls",
      "model_module_version": "1.5.0",
      "model_name": "VBoxModel",
      "state": {
       "_dom_classes": [
        "widget-interact"
       ],
       "children": [
        "IPY_MODEL_1f95f583b0dc471c988414d1da2b1e04",
        "IPY_MODEL_60fb4c8210264ad5af8950757436b051"
       ],
       "layout": "IPY_MODEL_238b473776b9491c8b4481753f08ede9"
      }
     },
     "ec538ed6f2394c74962c86c227863d73": {
      "model_module": "@jupyter-widgets/base",
      "model_module_version": "1.2.0",
      "model_name": "LayoutModel",
      "state": {}
     },
     "f3faddef04ad47e3bba8c6b9e01f24af": {
      "model_module": "@jupyter-widgets/controls",
      "model_module_version": "1.5.0",
      "model_name": "DescriptionStyleModel",
      "state": {
       "description_width": ""
      }
     },
     "f61e5982390a4c43acbe523ea1158701": {
      "model_module": "@jupyter-widgets/controls",
      "model_module_version": "1.5.0",
      "model_name": "TextModel",
      "state": {
       "description": "Definition:",
       "layout": "IPY_MODEL_ca3c2ab528964bdeb1766c0e20712f94",
       "placeholder": "Term 3 definition",
       "style": "IPY_MODEL_83ceb9f1f4cf4d1ca63655536d738f0a"
      }
     },
     "fb7779fd535c4adc90cb63ce612a0bf5": {
      "model_module": "@jupyter-widgets/controls",
      "model_module_version": "1.5.0",
      "model_name": "TextModel",
      "state": {
       "description": "Definition:",
       "layout": "IPY_MODEL_2aebe9b19b344ce9a536c3a01266261d",
       "placeholder": "Term 2 definition",
       "style": "IPY_MODEL_7b11a246458841b280cf082c33651a2f"
      }
     }
    },
    "version_major": 2,
    "version_minor": 0
   }
  }
 },
 "nbformat": 4,
 "nbformat_minor": 2
}
