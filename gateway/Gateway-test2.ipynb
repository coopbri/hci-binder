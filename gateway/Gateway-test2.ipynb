{
 "cells": [
  {
   "cell_type": "markdown",
   "metadata": {
    "slideshow": {
     "slide_type": "slide"
    }
   },
   "source": [
    "# Python Primer for Non-Programmers\n",
    "\n",
    "\n",
    "Cyberinfrastructure is powered by computers and advanced technologies. We use **computer programs** written in **programming languages** to communicate with these technologies. A popular programming language for scientists around the world is called **Python**. You will learn the basics of Python and start on the path to becoming a programming superstar!\n",
    "\n",
    "\n"
   ]
  },
  {
   "cell_type": "markdown",
   "metadata": {
    "slideshow": {
     "slide_type": "slide"
    }
   },
   "source": [
    "## A Python Statement\n",
    "\n",
    "This is a Python Statement.\n",
    "\n",
    "```python\n",
    "mystring = \"Hello World!\"\n",
    "```\n",
    "\n",
    "> **Statement**\n",
    ">\n",
    "> A statement is a single command that tells the computer to do something. \n",
    "\n"
   ]
  },
  {
   "cell_type": "markdown",
   "metadata": {
    "slideshow": {
     "slide_type": "slide"
    }
   },
   "source": [
    "## Statement Breakdown\n",
    "\n",
    "mystring is a Variable.\n",
    "\n",
    "```python\n",
    "mystring = \"Hello World!\"\n",
    "```\n",
    "\n",
    "> **Variable**\n",
    ">\n",
    "> Variables can hold values (think back to math class).  \n",
    "> They can be referred by a name such as x, name, or this_is_a_variable.\n"
   ]
  },
  {
   "cell_type": "markdown",
   "metadata": {
    "slideshow": {
     "slide_type": "slide"
    }
   },
   "source": [
    "## Statement Breakdown\n",
    "\n",
    "Assignment using =\n",
    "\n",
    "```python\n",
    "mystring = \"Hello World!\"\n",
    "```\n",
    "\n",
    "> **Assignment**\n",
    ">\n",
    "> The equals sign assigns the value:\n",
    ">\n",
    ">  **\"Hello World!\"**\n",
    ">  \n",
    "> to the variable:\n",
    "> \n",
    "> **mystring**"
   ]
  },
  {
   "cell_type": "markdown",
   "metadata": {
    "slideshow": {
     "slide_type": "slide"
    }
   },
   "source": [
    "## Statement Breakdown\n",
    "\n",
    "\"Hello World\" is a Value.\n",
    "\n",
    "```python\n",
    "mystring = \"Hello World!\"\n",
    "```\n",
    "\n",
    "> **Value**\n",
    "> \n",
    "> Variable values can be:\n",
    ">  \n",
    "> quoted strings such as \"hello\"\n",
    ">  \n",
    "> or\n",
    ">  \n",
    "> numbers such as 123 or 3.14\n",
    "\n"
   ]
  },
  {
   "cell_type": "markdown",
   "metadata": {
    "slideshow": {
     "slide_type": "slide"
    }
   },
   "source": [
    "## Let's try it! \n",
    "\n",
    "Move your mouse to the left of the Python statement and click on the play button (see below).\n",
    "![play button](supplementary/play-button.png \"What the Play button looks like\")"
   ]
  },
  {
   "cell_type": "code",
   "execution_count": null,
   "metadata": {
    "slideshow": {
     "slide_type": "-"
    }
   },
   "outputs": [],
   "source": [
    "mystring = \"Hello World!\""
   ]
  },
  {
   "cell_type": "markdown",
   "metadata": {
    "slideshow": {
     "slide_type": "fragment"
    }
   },
   "source": [
    "### Nothing?\n",
    "Well, not exactly."
   ]
  },
  {
   "cell_type": "markdown",
   "metadata": {
    "slideshow": {
     "slide_type": "slide"
    }
   },
   "source": [
    "## A foundational rule in computing\n",
    "\n",
    "> The computer does __exactly__ what you tell it to do!\n",
    "\n",
    "## A foundational challenge in computing\n",
    "\n",
    "> This isn't necessarily what you **want** it to do!\n"
   ]
  },
  {
   "cell_type": "markdown",
   "metadata": {
    "slideshow": {
     "slide_type": "slide"
    }
   },
   "source": [
    "## So what did we tell it to do?!\n",
    "\n",
    "Our code:\n",
    "\n",
    "```python\n",
    "mystring = \"Hello World!\"\n",
    "```\n",
    "\n",
    "Remember, the statement breakdown explanation. \n",
    "\n",
    "We assigned the value \"Hello World!\" to the variable mystring.\n",
    "\n",
    "That's it.\n"
   ]
  },
  {
   "cell_type": "markdown",
   "metadata": {
    "slideshow": {
     "slide_type": "slide"
    }
   },
   "source": [
    "## So let's make it do a bit more.\n",
    "\n",
    "If we add one more statement, we can see some results.\n",
    "\n",
    "```python\n",
    "mystring = \"Hello World!\"\n",
    "print(mystring)\n",
    "```"
   ]
  },
  {
   "cell_type": "markdown",
   "metadata": {
    "slideshow": {
     "slide_type": "slide"
    }
   },
   "source": [
    "## Statement Breakdown: Function Call\n",
    "\n",
    "print is a function call.\n",
    "\n",
    "```python\n",
    "print(mystring)\n",
    "```\n",
    "\n",
    "> **Function call**\n",
    "> \n",
    "> A function is a defined piece of Python code that can be called upon \n",
    "> such as a 'print' function that prints information to the screen.\n",
    "> Each function name is followed by parentheses.\n",
    ">\n",
    "> *function_name(arguments)*"
   ]
  },
  {
   "cell_type": "markdown",
   "metadata": {
    "slideshow": {
     "slide_type": "slide"
    }
   },
   "source": [
    "## Statement Breakdown: Function Call\n",
    "\n",
    "mystring is an argument.\n",
    "\n",
    "```python\n",
    "print(mystring)\n",
    "```\n",
    "\n",
    "> **Arguments**\n",
    "> \n",
    "> Arguments also known as parameters are passed into functions. \n",
    "> This argument is a variable, but strings and numbers can also be arguments.\n",
    ">\n",
    "> *(myvar, \"string 1\" , 2345, 3.14)*\n"
   ]
  },
  {
   "cell_type": "markdown",
   "metadata": {
    "slideshow": {
     "slide_type": "slide"
    }
   },
   "source": [
    "## Let's try it! \n",
    "\n",
    "Move your mouse to the left of the Python statement and click on the play button (see below).\n",
    "![play button](supplementary/play-button.png \"What the Play button looks like\")"
   ]
  },
  {
   "cell_type": "code",
   "execution_count": null,
   "metadata": {
    "slideshow": {
     "slide_type": "-"
    }
   },
   "outputs": [],
   "source": [
    "mystring = \"Hello World!\"\n",
    "print(mystring)"
   ]
  },
  {
   "cell_type": "markdown",
   "metadata": {
    "slideshow": {
     "slide_type": "slide"
    }
   },
   "source": [
    "### Success!\n",
    "We told the computer to assign \"Hello World\" to mystring, and then print it to the screen."
   ]
  },
  {
   "cell_type": "markdown",
   "metadata": {
    "slideshow": {
     "slide_type": "slide"
    }
   },
   "source": [
    "# Your First Program\n",
    "\n",
    "The classic program that every programmer makes is a simple statement to the world.\n",
    "\n",
    "> Hello World!\n",
    "\n",
    "```python\n",
    "print(\"Hello World!\")\n",
    "```\n",
    "\n",
    "Below, is a code box. Type the Python code above into the code box below and click \"Run\"\n",
    "![play button](supplementary/play-button.png \"What the Play button looks like\")\n",
    "\n",
    "\n"
   ]
  },
  {
   "cell_type": "code",
   "execution_count": null,
   "metadata": {
    "slideshow": {
     "slide_type": "-"
    }
   },
   "outputs": [],
   "source": [
    "print(\"Hello World!\")"
   ]
  },
  {
   "cell_type": "markdown",
   "metadata": {
    "slideshow": {
     "slide_type": "slide"
    }
   },
   "source": [
    "# Congratulations!\n",
    "\n",
    "You are officially a programmer."
   ]
  },
  {
   "cell_type": "markdown",
   "metadata": {
    "slideshow": {
     "slide_type": "slide"
    }
   },
   "source": [
    "## You can modify your code to say something new.\n",
    "\n",
    "How about ... \n",
    "\n",
    "```python\n",
    "print(\"Hello World of Cyberinfrastructure, I am here!\")\n",
    "```"
   ]
  },
  {
   "cell_type": "code",
   "execution_count": null,
   "metadata": {
    "slideshow": {
     "slide_type": "-"
    }
   },
   "outputs": [],
   "source": [
    "print(\"Hello World of Cyberinfrastructure, I am here!\")"
   ]
  },
  {
   "cell_type": "markdown",
   "metadata": {
    "slideshow": {
     "slide_type": "slide"
    }
   },
   "source": [
    "Now that you are a programmer, you can apply powerful geospatial modeling and analytics.\n",
    "\n",
    "<a href=\"Gateway-test3.ipynb\">Click here to move to the next section to learn more!</a>"
   ]
  }
 ],
 "metadata": {
  "celltoolbar": "Slideshow",
  "kernelspec": {
   "display_name": "Python 3",
   "language": "python",
   "name": "python3"
  },
  "language_info": {
   "codemirror_mode": {
    "name": "ipython",
    "version": 3
   },
   "file_extension": ".py",
   "mimetype": "text/x-python",
   "name": "python",
   "nbconvert_exporter": "python",
   "pygments_lexer": "ipython3",
   "version": "3.7.0"
  },
  "rise": {
   "auto_select": "none",
   "autolaunch": true
  }
 },
 "nbformat": 4,
 "nbformat_minor": 2
}
