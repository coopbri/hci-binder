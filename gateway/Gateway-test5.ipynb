{
 "cells": [
  {
   "cell_type": "markdown",
   "metadata": {
    "slideshow": {
     "slide_type": "slide"
    }
   },
   "source": [
    "# What is in the World of Cyberinfrastructure?\n",
    "\n",
    "To become a user of cyberinfrastructure (CI) to solve geospatial problems you must first know what it is all about.\n",
    "You need to become 'Cyber Literate' to solve geospatial problems, but what does that mean?\n",
    "\n",
    "### Cyber Literacy for GIScience\n",
    "\n",
    "> The ability to understand and use established and emerging technologies to transform all forms and magnitudes of geospatial data into information for interdisciplinary problem solving."
   ]
  },
  {
   "cell_type": "markdown",
   "metadata": {
    "slideshow": {
     "slide_type": "slide"
    }
   },
   "source": [
    "## These slides will walk learners through Cyber Literacy for GIScience using pictures.\n",
    "This will enable us to explain each topic area in the context of all the other ones.\n",
    "We may be able to put in a teaser for each area to encourage learners to explore all of them.\n",
    "\n",
    "![cyber literacy](supplementary/cyber-lit-drawing-1.png)"
   ]
  }
 ],
 "metadata": {
  "celltoolbar": "Slideshow",
  "kernelspec": {
   "display_name": "Python 3",
   "language": "python",
   "name": "python3"
  },
  "language_info": {
   "codemirror_mode": {
    "name": "ipython",
    "version": 3
   },
   "file_extension": ".py",
   "mimetype": "text/x-python",
   "name": "python",
   "nbconvert_exporter": "python",
   "pygments_lexer": "ipython3",
   "version": "3.7.0"
  },
  "rise": {
   "auto_select": "none",
   "autolaunch": true
  }
 },
 "nbformat": 4,
 "nbformat_minor": 2
}
