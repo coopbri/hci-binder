{
 "cells": [
  {
   "cell_type": "markdown",
   "metadata": {
    "slideshow": {
     "slide_type": "slide"
    }
   },
   "source": [
    "# Calculating fire damage in the Amazon Forest\n",
    "\n",
    "In 2019, major fires have destroyed a significant portion of the Amazon rainforest. To better understand the damage we will use the normalized difference vegetation index (NDVI) to analyzes whether an area has live green vegetation. NDVI uses the Near Infrared and Red bands of a satellite to see how much 'green' ... (More write upl here).\n",
    "\n",
    "```python\n",
    "ndvi(image)\n",
    "```\n",
    "\n",
    "This piece of code will read in a satellite image. Now, let's write a piece of code to calculate NDVI. In the bottom of the code cell below write:\n",
    "\n",
    "\n",
    "Then hover the mouse to the left of the code and click on the \"Run this Cell\" button. "
   ]
  },
  {
   "cell_type": "markdown",
   "metadata": {
    "slideshow": {
     "slide_type": "slide"
    }
   },
   "source": [
    "## Will add slides to build up the to code in the next slide ...\n",
    "... These (to be created slides) will continue with Amazon and NDVI example to show the damage. Explain how Sentinel-2 is a satellite that provides the data and the whole spectrum from satellite to analysis to get to the scientist (you!) is CI...\n",
    "\n",
    "Lots of opportunities for learners to try running code."
   ]
  },
  {
   "cell_type": "markdown",
   "metadata": {
    "slideshow": {
     "slide_type": "slide"
    }
   },
   "source": [
    "## Let's try it! \n",
    "\n",
    "Move your mouse to the left of the Python statement and click on the play button (see below).\n",
    "![play button](supplementary/play-button.png \"What the Play button looks like\")"
   ]
  },
  {
   "cell_type": "code",
   "execution_count": null,
   "metadata": {
    "slideshow": {
     "slide_type": "-"
    }
   },
   "outputs": [],
   "source": [
    "# Currently this code does nothing.\n",
    "from hourofcistuff2 import *\n",
    "\n",
    "# Read in the TIF file and store in an image variable\n",
    "image = readimage2(\"satellite-image.tif\")\n",
    "\n",
    "# Write one line of code below that will calculate NDVI (hint look for the code above)\n",
    "ndvi_image = ndvi(image)\n",
    "\n",
    "# Let's take a look at the image.\n",
    "#view(ndvi_image)\n",
    "ndvi_image"
   ]
  },
  {
   "cell_type": "markdown",
   "metadata": {
    "slideshow": {
     "slide_type": "slide"
    }
   },
   "source": [
    "Now that you have tried some foundational analyticals to study wildfire, let's see how cyberinfrastructure fits into all this.\n",
    "More specifically, you will learn how the Hour of CI can help you attain Cyber Literacy for GIScience.\n",
    "\n",
    "<a href=\"Gateway-test4.ipynb\">Click here to move to the next section to learn more!</a>"
   ]
  }
 ],
 "metadata": {
  "celltoolbar": "Slideshow",
  "kernelspec": {
   "display_name": "Python 3",
   "language": "python",
   "name": "python3"
  },
  "language_info": {
   "codemirror_mode": {
    "name": "ipython",
    "version": 3
   },
   "file_extension": ".py",
   "mimetype": "text/x-python",
   "name": "python",
   "nbconvert_exporter": "python",
   "pygments_lexer": "ipython3",
   "version": "3.8.0"
  }
 },
 "nbformat": 4,
 "nbformat_minor": 2
}
