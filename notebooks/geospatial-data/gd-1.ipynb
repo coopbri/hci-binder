{
 "cells": [
  {
   "cell_type": "markdown",
   "metadata": {
    "slideshow": {
     "slide_type": "slide"
    }
   },
   "source": [
    "# Geospatial Data\n",
    "\n",
    "*Lesson Developer: Coline Dony cdony@aag.org*\n"
   ]
  },
  {
   "cell_type": "code",
   "execution_count": 8,
   "metadata": {
    "init_cell": true,
    "slideshow": {
     "slide_type": "skip"
    }
   },
   "outputs": [
    {
     "data": {
      "text/html": [
       "\n",
       "    <script>\n",
       "        display = true; \n",
       "        function toggle() {\n",
       "            var input = $(\"div.input\");\n",
       "            if (display) { input.hide(); }\n",
       "            else { input.show(); }\n",
       "            display = !display;\n",
       "        }\n",
       "        $(document).ready(toggle);\n",
       "    </script>\n",
       "    \n",
       "    <form action=\"javascript:toggle()\">\n",
       "        <input type=\"submit\" value=\"Toggle raw code\">\n",
       "    </form>\n"
      ],
      "text/plain": [
       "<IPython.core.display.HTML object>"
      ]
     },
     "execution_count": 8,
     "metadata": {},
     "output_type": "execute_result"
    }
   ],
   "source": [
    "from IPython.display import HTML, IFrame\n",
    "import ipywidgets as widgets\n",
    "from ipywidgets import Layout\n",
    "\n",
    "# hide code output\n",
    "HTML('''\n",
    "    <script>\n",
    "        display = true; \n",
    "        function toggle() {\n",
    "            var input = $(\"div.input\");\n",
    "            if (display) { input.hide(); }\n",
    "            else { input.show(); }\n",
    "            display = !display;\n",
    "        }\n",
    "        $(document).ready(toggle);\n",
    "    </script>\n",
    "    \n",
    "    <form action=\"javascript:toggle()\">\n",
    "        <input type=\"submit\" value=\"Toggle raw code\">\n",
    "    </form>\n",
    "''')"
   ]
  },
  {
   "cell_type": "markdown",
   "metadata": {
    "slideshow": {
     "slide_type": "slide"
    }
   },
   "source": [
    "### How often do you ask yourself questions starting with \"Where.....\"?\n",
    "For example:\n",
    "- Where is my coat?\n",
    "- Where is my friend's house?\n",
    "- Where is our meeting place?\n",
    "- Where is the movie theater?"
   ]
  },
  {
   "cell_type": "code",
   "execution_count": 15,
   "metadata": {
    "slideshow": {
     "slide_type": "fragment"
    }
   },
   "outputs": [
    {
     "data": {
      "application/vnd.jupyter.widget-view+json": {
       "model_id": "121e17b107444b6089cc9fc8e8d7d737",
       "version_major": 2,
       "version_minor": 0
      },
      "text/plain": [
       "RadioButtons(description='How often do I ask myself WHERE questions:', layout=Layout(width='100%'), options=('…"
      ]
     },
     "metadata": {},
     "output_type": "display_data"
    },
    {
     "data": {
      "application/vnd.jupyter.widget-view+json": {
       "model_id": "33d3624b3a0240b19c8513394cd213fc",
       "version_major": 2,
       "version_minor": 0
      },
      "text/plain": [
       "Button(description='Submit', icon='check', style=ButtonStyle())"
      ]
     },
     "metadata": {},
     "output_type": "display_data"
    },
    {
     "data": {
      "application/vnd.jupyter.widget-view+json": {
       "model_id": "716e9c74cf864551a5c977879339aaba",
       "version_major": 2,
       "version_minor": 0
      },
      "text/plain": [
       "Output()"
      ]
     },
     "metadata": {},
     "output_type": "display_data"
    }
   ],
   "source": [
    "# Multiple choice question\n",
    "widget1 = widgets.RadioButtons(\n",
    "    options = ['never', 'monthly', 'daily', 'weekly', 'daily', 'hourly', 'all the time'],\n",
    "    description = 'How often do I ask myself WHERE questions:', style={'description_width': 'initial'},\n",
    "    layout = Layout(width='100%'),\n",
    "    value = None\n",
    ")\n",
    "\n",
    "# Submit button\n",
    "button1 = widgets.Button(\n",
    "    description = 'Submit',\n",
    "    disabled = False,\n",
    "    button_style = '',\n",
    "    icon = 'check'\n",
    ")\n",
    "\n",
    "# Output\n",
    "output1 = widgets.Output()\n",
    "\n",
    "# Display widgets together\n",
    "display(widget1, button1, output1)\n",
    "\n",
    "# Output function\n",
    "def out(b):\n",
    "    with output1:\n",
    "        output1.clear_output()\n",
    "        print(widget1.value)\n",
    "\n",
    "# Handle click event\n",
    "button1.on_click(out)"
   ]
  },
  {
   "cell_type": "markdown",
   "metadata": {
    "slideshow": {
     "slide_type": "fragment"
    }
   },
   "source": [
    "**Everyday**, we face WHERE-questions!\n",
    "\n",
    "### How do we answer our WHERE-questions?\n",
    "Sometimes we use our brain's spatial memory and sometimes we have to rely on maps (paper or online) to help us navigate to these locations.\n",
    "\n",
    "Can you picture a day without access to maps (paper or online)? This lesson is about our need to label things with a location, so we can find them again or share where they are with others."
   ]
  },
  {
   "cell_type": "markdown",
   "metadata": {
    "slideshow": {
     "slide_type": "slide"
    }
   },
   "source": [
    "### Can you drag each symbol to its correct location?"
   ]
  },
  {
   "cell_type": "code",
   "execution_count": 9,
   "metadata": {
    "init_cell": true,
    "slideshow": {
     "slide_type": "fragment"
    }
   },
   "outputs": [
    {
     "data": {
      "text/html": [
       "\n",
       "        <iframe\n",
       "            width=\"970\"\n",
       "            height=\"530\"\n",
       "            src=\"supplementary/grid-1.html\"\n",
       "            frameborder=\"0\"\n",
       "            allowfullscreen\n",
       "        ></iframe>\n",
       "        "
      ],
      "text/plain": [
       "<IPython.lib.display.IFrame at 0x7f8d543203d0>"
      ]
     },
     "execution_count": 9,
     "metadata": {},
     "output_type": "execute_result"
    }
   ],
   "source": [
    "IFrame(\"supplementary/grid-1.html\", width=970, height=530)"
   ]
  },
  {
   "cell_type": "markdown",
   "metadata": {
    "slideshow": {
     "slide_type": "slide"
    }
   },
   "source": [
    "### Can you drag each symbol with this coordinate system?\n",
    "This may be a little less easy, but use the same thinking as before!"
   ]
  },
  {
   "cell_type": "code",
   "execution_count": 10,
   "metadata": {
    "init_cell": true,
    "slideshow": {
     "slide_type": "fragment"
    }
   },
   "outputs": [
    {
     "data": {
      "text/html": [
       "\n",
       "        <iframe\n",
       "            width=\"970\"\n",
       "            height=\"530\"\n",
       "            src=\"supplementary/grid-2.html\"\n",
       "            frameborder=\"0\"\n",
       "            allowfullscreen\n",
       "        ></iframe>\n",
       "        "
      ],
      "text/plain": [
       "<IPython.lib.display.IFrame at 0x7f8d54320f40>"
      ]
     },
     "execution_count": 10,
     "metadata": {},
     "output_type": "execute_result"
    }
   ],
   "source": [
    "IFrame(\"supplementary/grid-2.html\", width=970, height=530)"
   ]
  },
  {
   "cell_type": "markdown",
   "metadata": {
    "slideshow": {
     "slide_type": "slide"
    }
   },
   "source": [
    "### Coordinate systems are everywhere\n",
    "They are used to label the location of things, so that we can find them again!\n",
    "\n",
    "This dresser, for example, has a coordinate system!\n",
    "- Your stuffed hippo is in the lower right drawer, go get it!\n",
    "- Stuffed hippo **coordinates**: (lower drawer, right drawer)"
   ]
  },
  {
   "cell_type": "code",
   "execution_count": 11,
   "metadata": {
    "init_cell": true,
    "slideshow": {
     "slide_type": "fragment"
    }
   },
   "outputs": [
    {
     "data": {
      "text/html": [
       "\n",
       "        <iframe\n",
       "            width=\"620\"\n",
       "            height=\"630\"\n",
       "            src=\"supplementary/dresser.html\"\n",
       "            frameborder=\"0\"\n",
       "            allowfullscreen\n",
       "        ></iframe>\n",
       "        "
      ],
      "text/plain": [
       "<IPython.lib.display.IFrame at 0x7f8d54320e80>"
      ]
     },
     "execution_count": 11,
     "metadata": {},
     "output_type": "execute_result"
    }
   ],
   "source": [
    "IFrame(\"supplementary/dresser.html\", width=620, height=630)"
   ]
  },
  {
   "cell_type": "markdown",
   "metadata": {
    "slideshow": {
     "slide_type": "slide"
    }
   },
   "source": [
    "This library too, has a coordinate system!\n",
    "- The book about hippos you want to read is in isle 1A on the upper shelf. Go get it!\n",
    "- Hippo book **coordinates**: (1A isle, upper shelf)"
   ]
  },
  {
   "cell_type": "code",
   "execution_count": 12,
   "metadata": {
    "init_cell": true,
    "slideshow": {
     "slide_type": "fragment"
    }
   },
   "outputs": [
    {
     "data": {
      "text/html": [
       "\n",
       "        <iframe\n",
       "            width=\"620\"\n",
       "            height=\"430\"\n",
       "            src=\"supplementary/bookshelf.html\"\n",
       "            frameborder=\"0\"\n",
       "            allowfullscreen\n",
       "        ></iframe>\n",
       "        "
      ],
      "text/plain": [
       "<IPython.lib.display.IFrame at 0x7f8d543206a0>"
      ]
     },
     "execution_count": 12,
     "metadata": {},
     "output_type": "execute_result"
    }
   ],
   "source": [
    "IFrame(\"supplementary/bookshelf.html\", width=620, height=430)"
   ]
  },
  {
   "cell_type": "markdown",
   "metadata": {
    "slideshow": {
     "slide_type": "slide"
    }
   },
   "source": [
    "Some **coordinate systems** get used so frequently that they are sometimes given names!\n",
    "\n",
    "The **“Cartesian” coordinate system**, for example, was thought of by René Descartes.\n",
    "\n",
    "## Can you draw the trajectory of the hippo?\n",
    "- The hippo's trajectory cooridnates are: `[(-4,6), (0,5), (3,-2)]`"
   ]
  },
  {
   "cell_type": "code",
   "execution_count": 13,
   "metadata": {
    "init_cell": true,
    "slideshow": {
     "slide_type": "fragment"
    }
   },
   "outputs": [
    {
     "data": {
      "text/html": [
       "\n",
       "        <iframe\n",
       "            width=\"620\"\n",
       "            height=\"540\"\n",
       "            src=\"supplementary/cartesian.html\"\n",
       "            frameborder=\"0\"\n",
       "            allowfullscreen\n",
       "        ></iframe>\n",
       "        "
      ],
      "text/plain": [
       "<IPython.lib.display.IFrame at 0x7f8d54320970>"
      ]
     },
     "execution_count": 13,
     "metadata": {},
     "output_type": "execute_result"
    }
   ],
   "source": [
    "IFrame(\"supplementary/cartesian.html\", width=620, height=540)"
   ]
  },
  {
   "cell_type": "markdown",
   "metadata": {
    "slideshow": {
     "slide_type": "slide"
    }
   },
   "source": [
    "## Can you find the location of hippos on this world map?\n",
    "- There is a hippo family at coordinates (30°E, 15°N)"
   ]
  },
  {
   "cell_type": "code",
   "execution_count": 14,
   "metadata": {
    "init_cell": true,
    "scrolled": false,
    "slideshow": {
     "slide_type": "fragment"
    }
   },
   "outputs": [
    {
     "data": {
      "text/html": [
       "\n",
       "        <iframe\n",
       "            width=\"650\"\n",
       "            height=\"530\"\n",
       "            src=\"supplementary/geodetic.html\"\n",
       "            frameborder=\"0\"\n",
       "            allowfullscreen\n",
       "        ></iframe>\n",
       "        "
      ],
      "text/plain": [
       "<IPython.lib.display.IFrame at 0x7f8d543270d0>"
      ]
     },
     "execution_count": 14,
     "metadata": {},
     "output_type": "execute_result"
    }
   ],
   "source": [
    "IFrame(\"supplementary/geodetic.html\", width=650, height=530)"
   ]
  },
  {
   "cell_type": "markdown",
   "metadata": {
    "slideshow": {
     "slide_type": "fragment"
    }
   },
   "source": [
    "### World Geodetic System (or WGS for short)\n",
    "This cooridnate system was developed by geographers. It is the underlying coordinate system used to locate many many things on Earth, and it is the underlying system for Google Maps.\n",
    "\n",
    "The first number in WGS coordinates is referred to as LATITUDE.\n",
    "Click on the first WGS coordinate.\n",
    "\n",
    "The second number in WGS coordinates is reffered to as LONGITUDE.\n",
    "There is a hippo family at (30°E, 15°N)"
   ]
  },
  {
   "cell_type": "markdown",
   "metadata": {
    "slideshow": {
     "slide_type": "slide"
    }
   },
   "source": [
    "**Continue the journey: [Next Example](gd-2.ipynb)**"
   ]
  }
 ],
 "metadata": {
  "celltoolbar": "Initialization Cell",
  "kernelspec": {
   "display_name": "Python 3",
   "language": "python",
   "name": "python3"
  },
  "language_info": {
   "codemirror_mode": {
    "name": "ipython",
    "version": 3
   },
   "file_extension": ".py",
   "mimetype": "text/x-python",
   "name": "python",
   "nbconvert_exporter": "python",
   "pygments_lexer": "ipython3",
   "version": "3.8.0"
  },
  "widgets": {
   "application/vnd.jupyter.widget-state+json": {
    "state": {
     "0e7f461855bc4350aa68208ac9254348": {
      "model_module": "@jupyter-widgets/controls",
      "model_module_version": "1.5.0",
      "model_name": "DescriptionStyleModel",
      "state": {
       "description_width": "initial"
      }
     },
     "121e17b107444b6089cc9fc8e8d7d737": {
      "model_module": "@jupyter-widgets/controls",
      "model_module_version": "1.5.0",
      "model_name": "RadioButtonsModel",
      "state": {
       "_options_labels": [
        "never",
        "monthly",
        "daily",
        "weekly",
        "daily",
        "hourly",
        "all the time"
       ],
       "description": "How often do I ask myself WHERE questions:",
       "index": null,
       "layout": "IPY_MODEL_135c26ab5f4d453ca5ea7ff09d1cce75",
       "style": "IPY_MODEL_22afafc7556a4b9e85e8846d4e650e46"
      }
     },
     "135c26ab5f4d453ca5ea7ff09d1cce75": {
      "model_module": "@jupyter-widgets/base",
      "model_module_version": "1.2.0",
      "model_name": "LayoutModel",
      "state": {
       "width": "100%"
      }
     },
     "22afafc7556a4b9e85e8846d4e650e46": {
      "model_module": "@jupyter-widgets/controls",
      "model_module_version": "1.5.0",
      "model_name": "DescriptionStyleModel",
      "state": {
       "description_width": "initial"
      }
     },
     "261de694be28484faf5201ca73aded32": {
      "model_module": "@jupyter-widgets/base",
      "model_module_version": "1.2.0",
      "model_name": "LayoutModel",
      "state": {}
     },
     "2907625391854c0b96c75b9448aa4064": {
      "model_module": "@jupyter-widgets/base",
      "model_module_version": "1.2.0",
      "model_name": "LayoutModel",
      "state": {}
     },
     "2dd4e93e762a4b2780bc3bfd77c5dc93": {
      "model_module": "@jupyter-widgets/base",
      "model_module_version": "1.2.0",
      "model_name": "LayoutModel",
      "state": {}
     },
     "33d3624b3a0240b19c8513394cd213fc": {
      "model_module": "@jupyter-widgets/controls",
      "model_module_version": "1.5.0",
      "model_name": "ButtonModel",
      "state": {
       "description": "Submit",
       "icon": "check",
       "layout": "IPY_MODEL_2907625391854c0b96c75b9448aa4064",
       "style": "IPY_MODEL_6571f402dc914926861ee6c5b4de8262"
      }
     },
     "4754a6af2faa4ecba1fe47ed668fe87a": {
      "model_module": "@jupyter-widgets/controls",
      "model_module_version": "1.5.0",
      "model_name": "DescriptionStyleModel",
      "state": {
       "description_width": "initial"
      }
     },
     "6571f402dc914926861ee6c5b4de8262": {
      "model_module": "@jupyter-widgets/controls",
      "model_module_version": "1.5.0",
      "model_name": "ButtonStyleModel",
      "state": {}
     },
     "6a8fa73485384141baa960e3eb5212dd": {
      "model_module": "@jupyter-widgets/controls",
      "model_module_version": "1.5.0",
      "model_name": "ButtonStyleModel",
      "state": {}
     },
     "716e9c74cf864551a5c977879339aaba": {
      "model_module": "@jupyter-widgets/output",
      "model_module_version": "1.0.0",
      "model_name": "OutputModel",
      "state": {
       "layout": "IPY_MODEL_cac5d53acf5a481a924b8cb3af5ea79f"
      }
     },
     "76256673849f488ab7a424dced3a1476": {
      "model_module": "@jupyter-widgets/controls",
      "model_module_version": "1.5.0",
      "model_name": "DescriptionStyleModel",
      "state": {
       "description_width": "initial"
      }
     },
     "765cf8ab23ab45cfabf2c1686f1541af": {
      "model_module": "@jupyter-widgets/controls",
      "model_module_version": "1.5.0",
      "model_name": "RadioButtonsModel",
      "state": {
       "_options_labels": [
        "never",
        "monthly",
        "daily",
        "weekly",
        "daily",
        "hourly",
        "all the time"
       ],
       "description": "How often do I ask myself WHERE questions:",
       "index": null,
       "layout": "IPY_MODEL_db2a2fe7cd084ccb9ef5089de992d06b",
       "style": "IPY_MODEL_0e7f461855bc4350aa68208ac9254348"
      }
     },
     "87d2fd8c071d4ee18118414f2f1cc490": {
      "model_module": "@jupyter-widgets/controls",
      "model_module_version": "1.5.0",
      "model_name": "ButtonModel",
      "state": {
       "description": "Submit",
       "icon": "check",
       "layout": "IPY_MODEL_261de694be28484faf5201ca73aded32",
       "style": "IPY_MODEL_6a8fa73485384141baa960e3eb5212dd"
      }
     },
     "941ed3a5c43b4c85acde7fa29f1d17b3": {
      "model_module": "@jupyter-widgets/controls",
      "model_module_version": "1.5.0",
      "model_name": "RadioButtonsModel",
      "state": {
       "_options_labels": [
        "never",
        "monthly",
        "daily",
        "weekly",
        "daily",
        "hourly",
        "all the time"
       ],
       "description": "How often do I ask myself WHERE questions:",
       "index": null,
       "layout": "IPY_MODEL_d13fa77556934d4bb8d39fb3071111ed",
       "style": "IPY_MODEL_4754a6af2faa4ecba1fe47ed668fe87a"
      }
     },
     "94b4ce267ddf4a73a0d183bc97f4f25e": {
      "model_module": "@jupyter-widgets/base",
      "model_module_version": "1.2.0",
      "model_name": "LayoutModel",
      "state": {}
     },
     "984d5ea610cb4789bcd012b1b4f92b09": {
      "model_module": "@jupyter-widgets/controls",
      "model_module_version": "1.5.0",
      "model_name": "ButtonStyleModel",
      "state": {}
     },
     "98aa370c1adf454f96d888bc02bc2b0d": {
      "model_module": "@jupyter-widgets/controls",
      "model_module_version": "1.5.0",
      "model_name": "RadioButtonsModel",
      "state": {
       "_options_labels": [
        "never",
        "monthly",
        "daily",
        "weekly",
        "daily",
        "hourly",
        "all the time"
       ],
       "description": "How often do I ask myself WHERE questions:",
       "index": null,
       "layout": "IPY_MODEL_c95a2624f9ec463d92dc93d66d676ec9",
       "style": "IPY_MODEL_76256673849f488ab7a424dced3a1476"
      }
     },
     "9a9e0fae73d940a6a559e9687689dce3": {
      "model_module": "@jupyter-widgets/controls",
      "model_module_version": "1.5.0",
      "model_name": "ButtonModel",
      "state": {
       "description": "Submit",
       "icon": "check",
       "layout": "IPY_MODEL_ab3313ecb3ae4e588371d051d029caec",
       "style": "IPY_MODEL_f1c1ad9626be4d0a8e4a61e7af2a0075"
      }
     },
     "ab3313ecb3ae4e588371d051d029caec": {
      "model_module": "@jupyter-widgets/base",
      "model_module_version": "1.2.0",
      "model_name": "LayoutModel",
      "state": {}
     },
     "b857a69e089b4d0eaf33040a5c816556": {
      "model_module": "@jupyter-widgets/output",
      "model_module_version": "1.0.0",
      "model_name": "OutputModel",
      "state": {
       "layout": "IPY_MODEL_2dd4e93e762a4b2780bc3bfd77c5dc93"
      }
     },
     "b9493096b4bf400e963ede6da4823548": {
      "model_module": "@jupyter-widgets/base",
      "model_module_version": "1.2.0",
      "model_name": "LayoutModel",
      "state": {}
     },
     "c95a2624f9ec463d92dc93d66d676ec9": {
      "model_module": "@jupyter-widgets/base",
      "model_module_version": "1.2.0",
      "model_name": "LayoutModel",
      "state": {
       "width": "100%"
      }
     },
     "cac5d53acf5a481a924b8cb3af5ea79f": {
      "model_module": "@jupyter-widgets/base",
      "model_module_version": "1.2.0",
      "model_name": "LayoutModel",
      "state": {}
     },
     "d13fa77556934d4bb8d39fb3071111ed": {
      "model_module": "@jupyter-widgets/base",
      "model_module_version": "1.2.0",
      "model_name": "LayoutModel",
      "state": {
       "width": "100%"
      }
     },
     "db2a2fe7cd084ccb9ef5089de992d06b": {
      "model_module": "@jupyter-widgets/base",
      "model_module_version": "1.2.0",
      "model_name": "LayoutModel",
      "state": {
       "width": "100%"
      }
     },
     "e1475fa6c5964d0f82148dbc7d8aaa31": {
      "model_module": "@jupyter-widgets/base",
      "model_module_version": "1.2.0",
      "model_name": "LayoutModel",
      "state": {}
     },
     "e28e310af1164881a0caebaa06278fbd": {
      "model_module": "@jupyter-widgets/controls",
      "model_module_version": "1.5.0",
      "model_name": "ButtonModel",
      "state": {
       "description": "Submit",
       "icon": "check",
       "layout": "IPY_MODEL_b9493096b4bf400e963ede6da4823548",
       "style": "IPY_MODEL_984d5ea610cb4789bcd012b1b4f92b09"
      }
     },
     "ebec6db9c5774f6caabab8f41f33b8c8": {
      "model_module": "@jupyter-widgets/output",
      "model_module_version": "1.0.0",
      "model_name": "OutputModel",
      "state": {
       "layout": "IPY_MODEL_e1475fa6c5964d0f82148dbc7d8aaa31"
      }
     },
     "f1c1ad9626be4d0a8e4a61e7af2a0075": {
      "model_module": "@jupyter-widgets/controls",
      "model_module_version": "1.5.0",
      "model_name": "ButtonStyleModel",
      "state": {}
     },
     "f212a57e2e6e47d485446e94d1809d6f": {
      "model_module": "@jupyter-widgets/output",
      "model_module_version": "1.0.0",
      "model_name": "OutputModel",
      "state": {
       "layout": "IPY_MODEL_94b4ce267ddf4a73a0d183bc97f4f25e"
      }
     }
    },
    "version_major": 2,
    "version_minor": 0
   }
  }
 },
 "nbformat": 4,
 "nbformat_minor": 2
}
