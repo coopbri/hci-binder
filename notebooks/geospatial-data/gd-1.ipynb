{
 "cells": [
  {
   "cell_type": "markdown",
   "metadata": {
    "slideshow": {
     "slide_type": "slide"
    }
   },
   "source": [
    "# Geospatial Data\n",
    "\n",
    "*Lesson Developer: Coline Dony cdony@aag.org*\n"
   ]
  },
  {
   "cell_type": "code",
   "execution_count": 36,
   "metadata": {
    "init_cell": true,
    "slideshow": {
     "slide_type": "skip"
    }
   },
   "outputs": [
    {
     "data": {
      "text/html": [
       "\n",
       "    <script>\n",
       "        display = true; \n",
       "        function toggle() {\n",
       "            var input = $(\"div.input\");\n",
       "            if (display) { input.hide(); }\n",
       "            else { input.show(); }\n",
       "            display = !display;\n",
       "        }\n",
       "        $(document).ready(toggle);\n",
       "    </script>\n",
       "    \n",
       "    <!-- Hide output indicators (e.g. `Out [4]:`) -->\n",
       "    <style>\n",
       "        .output_prompt{opacity:0;}\n",
       "    </style>\n",
       "    \n",
       "    <form action=\"javascript:toggle()\">\n",
       "        <input type=\"submit\" value=\"Toggle raw code\">\n",
       "    </form>\n"
      ],
      "text/plain": [
       "<IPython.core.display.HTML object>"
      ]
     },
     "execution_count": 36,
     "metadata": {},
     "output_type": "execute_result"
    }
   ],
   "source": [
    "from IPython.display import HTML, IFrame\n",
    "import ipywidgets as widgets\n",
    "from ipywidgets import Layout\n",
    "\n",
    "# hide code output\n",
    "HTML('''\n",
    "    <script>\n",
    "        display = true; \n",
    "        function toggle() {\n",
    "            var input = $(\"div.input\");\n",
    "            if (display) { input.hide(); }\n",
    "            else { input.show(); }\n",
    "            display = !display;\n",
    "        }\n",
    "        $(document).ready(toggle);\n",
    "    </script>\n",
    "    \n",
    "    <!-- Hide output indicators (e.g. `Out [4]:`) -->\n",
    "    <style>\n",
    "        .output_prompt{opacity:0;}\n",
    "    </style>\n",
    "    \n",
    "    <form action=\"javascript:toggle()\">\n",
    "        <input type=\"submit\" value=\"Toggle raw code\">\n",
    "    </form>\n",
    "''')"
   ]
  },
  {
   "cell_type": "markdown",
   "metadata": {
    "slideshow": {
     "slide_type": "slide"
    }
   },
   "source": [
    "### How often do you ask yourself questions starting with \"Where.....\"?\n",
    "For example:\n",
    "- Where is my coat?\n",
    "- Where is my friend's house?\n",
    "- Where is our meeting place?\n",
    "- Where is the movie theater?"
   ]
  },
  {
   "cell_type": "code",
   "execution_count": 37,
   "metadata": {
    "init_cell": true,
    "slideshow": {
     "slide_type": "fragment"
    }
   },
   "outputs": [
    {
     "data": {
      "application/vnd.jupyter.widget-view+json": {
       "model_id": "",
       "version_major": 2,
       "version_minor": 0
      },
      "text/plain": [
       "RadioButtons(description='How often do I ask myself WHERE questions:', layout=Layout(width='100%'), options=('…"
      ]
     },
     "metadata": {},
     "output_type": "display_data"
    },
    {
     "data": {
      "application/vnd.jupyter.widget-view+json": {
       "model_id": "",
       "version_major": 2,
       "version_minor": 0
      },
      "text/plain": [
       "Button(description='Submit', icon='check', style=ButtonStyle())"
      ]
     },
     "metadata": {},
     "output_type": "display_data"
    },
    {
     "data": {
      "application/vnd.jupyter.widget-view+json": {
       "model_id": "",
       "version_major": 2,
       "version_minor": 0
      },
      "text/plain": [
       "Output()"
      ]
     },
     "metadata": {},
     "output_type": "display_data"
    }
   ],
   "source": [
    "# Multiple choice question\n",
    "widget1 = widgets.RadioButtons(\n",
    "    options = ['never', 'monthly', 'daily', 'weekly', 'daily', 'hourly', 'all the time'],\n",
    "    description = 'How often do I ask myself WHERE questions:', style={'description_width': 'initial'},\n",
    "    layout = Layout(width='100%'),\n",
    "    value = None\n",
    ")\n",
    "\n",
    "# Submit button\n",
    "button1 = widgets.Button(\n",
    "    description = 'Submit',\n",
    "    disabled = False,\n",
    "    button_style = '',\n",
    "    icon = 'check'\n",
    ")\n",
    "\n",
    "# Output\n",
    "output1 = widgets.Output()\n",
    "\n",
    "# Display widgets together\n",
    "display(widget1, button1, output1)\n",
    "\n",
    "# Output function\n",
    "def out(b):\n",
    "    with output1:\n",
    "        output1.clear_output()\n",
    "        print(widget1.value)\n",
    "\n",
    "# Handle click event\n",
    "button1.on_click(out)"
   ]
  },
  {
   "cell_type": "markdown",
   "metadata": {
    "slideshow": {
     "slide_type": "slide"
    }
   },
   "source": [
    "**Everyday**, we face WHERE-questions!\n",
    "\n",
    "### How do we answer our WHERE-questions?\n",
    "Sometimes we use our brain's spatial memory and sometimes we have to rely on maps (paper or online) to help us navigate to these locations.\n",
    "\n",
    "How would your life be different if you had no access to maps (paper or online)? This lesson is about our need to label things with a location, so we can find them again or share where they are with others."
   ]
  },
  {
   "cell_type": "markdown",
   "metadata": {
    "slideshow": {
     "slide_type": "slide"
    },
    "variables": {
     "IFrame(\"supplementary/grid-1.html\", width=970, height=530)": "\n        <iframe\n            width=\"970\"\n            height=\"530\"\n            src=\"supplementary/grid-1.html\"\n            frameborder=\"0\"\n            allowfullscreen\n        ></iframe>\n        "
    }
   },
   "source": [
    "### Now, let’s try using descriptions to identify location.\n",
    "Drag each symbol to its correct location as shown in the table.\n",
    "\n",
    "{{IFrame(\"supplementary/grid-1.html\", width=970, height=530)}}"
   ]
  },
  {
   "cell_type": "markdown",
   "metadata": {
    "slideshow": {
     "slide_type": "slide"
    },
    "variables": {
     "IFrame(\"supplementary/grid-2.html\", width=970, height=530)": "\n        <iframe\n            width=\"970\"\n            height=\"530\"\n            src=\"supplementary/grid-2.html\"\n            frameborder=\"0\"\n            allowfullscreen\n        ></iframe>\n        "
    }
   },
   "source": [
    "### Let's use numeric coordinates this time.\n",
    "Drag each symbol to its correct location as shown in the table. This may be a little less easy, but use the same thinking as before!\n",
    "\n",
    "{{IFrame(\"supplementary/grid-2.html\", width=970, height=530)}}"
   ]
  },
  {
   "cell_type": "markdown",
   "metadata": {
    "slideshow": {
     "slide_type": "slide"
    },
    "variables": {
     "IFrame(\"supplementary/dresser.html\", width=620, height=630)": "\n        <iframe\n            width=\"620\"\n            height=\"630\"\n            src=\"supplementary/dresser.html\"\n            frameborder=\"0\"\n            allowfullscreen\n        ></iframe>\n        "
    }
   },
   "source": [
    "### Coordinate systems are everywhere\n",
    "They are used to label the location of things, so that we can find them again!\n",
    "\n",
    "This dresser, for example, has a coordinate system!\n",
    "- Your stuffed hippo is in the lower right drawer, go get it!\n",
    "- Stuffed hippo **coordinates**: (lower drawer, right drawer)\n",
    "\n",
    "{{IFrame(\"supplementary/dresser.html\", width=620, height=630)}}"
   ]
  },
  {
   "cell_type": "markdown",
   "metadata": {
    "slideshow": {
     "slide_type": "slide"
    },
    "variables": {
     "IFrame(\"supplementary/bookshelf.html\", width=620, height=430)": "\n        <iframe\n            width=\"620\"\n            height=\"430\"\n            src=\"supplementary/bookshelf.html\"\n            frameborder=\"0\"\n            allowfullscreen\n        ></iframe>\n        "
    }
   },
   "source": [
    "This library too, has a coordinate system!\n",
    "- The book about hippos you want to read is in aisle 1A on the upper shelf. Go get it!\n",
    "- Hippo book **coordinates**: (1A isle, upper shelf)\n",
    "\n",
    "{{IFrame(\"supplementary/bookshelf.html\", width=620, height=430)}}"
   ]
  },
  {
   "cell_type": "markdown",
   "metadata": {
    "slideshow": {
     "slide_type": "slide"
    },
    "variables": {
     "IFrame(\"supplementary/cartesian.html\", width=620, height=540)": "\n        <iframe\n            width=\"620\"\n            height=\"540\"\n            src=\"supplementary/cartesian.html\"\n            frameborder=\"0\"\n            allowfullscreen\n        ></iframe>\n        "
    }
   },
   "source": [
    "Some **coordinate systems** are used so frequently that they are given dedicated names!\n",
    "\n",
    "The **“Cartesian” coordinate system**, for example, was thought of by René Descartes.\n",
    "\n",
    "### Let’s try using the Cartesian coordinate system to draw the trajectory (path) of the hippo.\n",
    "- The hippo's trajectory coordinates are: `[(-4,6), (0,5), (3,-2)]`\n",
    "\n",
    "{{IFrame(\"supplementary/cartesian.html\", width=620, height=540)}}"
   ]
  },
  {
   "cell_type": "markdown",
   "metadata": {
    "slideshow": {
     "slide_type": "slide"
    },
    "variables": {
     "IFrame(\"supplementary/geodetic.html\", width=650, height=530)": "\n        <iframe\n            width=\"650\"\n            height=\"530\"\n            src=\"supplementary/geodetic.html\"\n            frameborder=\"0\"\n            allowfullscreen\n        ></iframe>\n        "
    }
   },
   "source": [
    "### Find the location of hippos on this world map!\n",
    "This map uses the World Geodetic System (WGS for short), which was developed by geographers. It is the coordinate system used to locate many things on Earth, and is the system used in Google Maps.\n",
    "\n",
    "The first number in WGS coordinates is referred to as **latitude**.\n",
    "\n",
    "The second number in WGS coordinates is reffered to as **longitude**.\n",
    "\n",
    "- There is a hippo family at coordinates (30°E, 15°N)\n",
    "\n",
    "{{IFrame(\"supplementary/geodetic.html\", width=650, height=530)}}"
   ]
  },
  {
   "cell_type": "markdown",
   "metadata": {
    "slideshow": {
     "slide_type": "slide"
    }
   },
   "source": [
    "**Continue the journey: [Next Example](gd-2.ipynb)**"
   ]
  }
 ],
 "metadata": {
  "celltoolbar": "Slideshow",
  "kernelspec": {
   "display_name": "Python 3",
   "language": "python",
   "name": "python3"
  },
  "language_info": {
   "codemirror_mode": {
    "name": "ipython",
    "version": 3
   },
   "file_extension": ".py",
   "mimetype": "text/x-python",
   "name": "python",
   "nbconvert_exporter": "python",
   "pygments_lexer": "ipython3",
   "version": "3.8.1"
  },
  "rise": {
   "autolaunch": true
  }
 },
 "nbformat": 4,
 "nbformat_minor": 2
}
