{
 "cells": [
  {
   "cell_type": "markdown",
   "metadata": {
    "slideshow": {
     "slide_type": "slide"
    }
   },
   "source": [
    "# Geospatial Data\n",
    "\n",
    "*Lesson Developer: Coline Dony cdony@aag.org*\n"
   ]
  },
  {
   "cell_type": "code",
   "execution_count": 20,
   "metadata": {
    "init_cell": true,
    "slideshow": {
     "slide_type": "skip"
    }
   },
   "outputs": [
    {
     "data": {
      "text/html": [
       "\n",
       "    <script>\n",
       "        display = true; \n",
       "        function toggle() {\n",
       "            var input = $(\"div.input\");\n",
       "            if (display) { input.hide(); }\n",
       "            else { input.show(); }\n",
       "            display = !display;\n",
       "        }\n",
       "        $(document).ready(toggle);\n",
       "    </script>\n",
       "    \n",
       "    <form action=\"javascript:toggle()\">\n",
       "        <input type=\"submit\" value=\"Toggle raw code\">\n",
       "    </form>\n"
      ],
      "text/plain": [
       "<IPython.core.display.HTML object>"
      ]
     },
     "execution_count": 20,
     "metadata": {},
     "output_type": "execute_result"
    }
   ],
   "source": [
    "from IPython.display import HTML, IFrame\n",
    "import ipywidgets as widgets\n",
    "from ipywidgets import Layout\n",
    "\n",
    "# hide code output\n",
    "HTML('''\n",
    "    <script>\n",
    "        display = true; \n",
    "        function toggle() {\n",
    "            var input = $(\"div.input\");\n",
    "            if (display) { input.hide(); }\n",
    "            else { input.show(); }\n",
    "            display = !display;\n",
    "        }\n",
    "        $(document).ready(toggle);\n",
    "    </script>\n",
    "    \n",
    "    <form action=\"javascript:toggle()\">\n",
    "        <input type=\"submit\" value=\"Toggle raw code\">\n",
    "    </form>\n",
    "''')"
   ]
  },
  {
   "cell_type": "markdown",
   "metadata": {
    "slideshow": {
     "slide_type": "slide"
    }
   },
   "source": [
    "### How often do you ask yourself questions starting with \"Where.....\"?\n",
    "For example:\n",
    "- Where is my coat?\n",
    "- Where is my friend's house?\n",
    "- Where is our meeting place?\n",
    "- Where is the movie theater?"
   ]
  },
  {
   "cell_type": "code",
   "execution_count": 21,
   "metadata": {
    "init_cell": true,
    "slideshow": {
     "slide_type": "fragment"
    }
   },
   "outputs": [
    {
     "data": {
      "application/vnd.jupyter.widget-view+json": {
       "model_id": "",
       "version_major": 2,
       "version_minor": 0
      },
      "text/plain": [
       "RadioButtons(description='How often do I ask myself WHERE questions:', layout=Layout(width='100%'), options=('…"
      ]
     },
     "metadata": {},
     "output_type": "display_data"
    },
    {
     "data": {
      "application/vnd.jupyter.widget-view+json": {
       "model_id": "",
       "version_major": 2,
       "version_minor": 0
      },
      "text/plain": [
       "Button(description='Submit', icon='check', style=ButtonStyle())"
      ]
     },
     "metadata": {},
     "output_type": "display_data"
    },
    {
     "data": {
      "application/vnd.jupyter.widget-view+json": {
       "model_id": "",
       "version_major": 2,
       "version_minor": 0
      },
      "text/plain": [
       "Output()"
      ]
     },
     "metadata": {},
     "output_type": "display_data"
    }
   ],
   "source": [
    "# Multiple choice question\n",
    "widget1 = widgets.RadioButtons(\n",
    "    options = ['never', 'monthly', 'daily', 'weekly', 'daily', 'hourly', 'all the time'],\n",
    "    description = 'How often do I ask myself WHERE questions:', style={'description_width': 'initial'},\n",
    "    layout = Layout(width='100%'),\n",
    "    value = None\n",
    ")\n",
    "\n",
    "# Submit button\n",
    "button1 = widgets.Button(\n",
    "    description='Submit',\n",
    "    disabled=False,\n",
    "    button_style='',\n",
    "    icon='check'\n",
    ")\n",
    "\n",
    "# Output\n",
    "output1 = widgets.Output()\n",
    "\n",
    "# Display widgets together\n",
    "display(widget1, button1, output1)\n",
    "\n",
    "# Output function\n",
    "def out(b):\n",
    "    with output1:\n",
    "        output1.clear_output()\n",
    "        print(widget1.value)\n",
    "\n",
    "# Handle click event\n",
    "button1.on_click(out)"
   ]
  },
  {
   "cell_type": "markdown",
   "metadata": {
    "slideshow": {
     "slide_type": "fragment"
    }
   },
   "source": [
    "**Everyday**, we face WHERE-questions!\n",
    "\n",
    "### How do we answer our WHERE-questions?\n",
    "Sometimes we use our brain's spatial memory and sometimes we have to rely on maps (paper or online) to help us navigate to these locations.\n",
    "\n",
    "Can you picture a day without access to maps (paper or online)? This lesson is about our need to label things with a location, so we can find them again or share where they are with others."
   ]
  },
  {
   "cell_type": "markdown",
   "metadata": {
    "slideshow": {
     "slide_type": "slide"
    }
   },
   "source": [
    "### Can you drag each symbol to its correct location?"
   ]
  },
  {
   "cell_type": "code",
   "execution_count": 22,
   "metadata": {
    "init_cell": true,
    "slideshow": {
     "slide_type": "fragment"
    }
   },
   "outputs": [
    {
     "data": {
      "text/html": [
       "\n",
       "        <iframe\n",
       "            width=\"970\"\n",
       "            height=\"490\"\n",
       "            src=\"supplementary/grid-1.html\"\n",
       "            frameborder=\"0\"\n",
       "            allowfullscreen\n",
       "        ></iframe>\n",
       "        "
      ],
      "text/plain": [
       "<IPython.lib.display.IFrame at 0x7fb3442383a0>"
      ]
     },
     "execution_count": 22,
     "metadata": {},
     "output_type": "execute_result"
    }
   ],
   "source": [
    "IFrame(\"supplementary/grid-1.html\", width=970, height=490)"
   ]
  },
  {
   "cell_type": "markdown",
   "metadata": {
    "slideshow": {
     "slide_type": "slide"
    }
   },
   "source": [
    "### Can you drag each symbol with this coordinate system?\n",
    "This may be a little less easy, but use the same thinking as before!"
   ]
  },
  {
   "cell_type": "code",
   "execution_count": 23,
   "metadata": {
    "init_cell": true,
    "slideshow": {
     "slide_type": "fragment"
    }
   },
   "outputs": [
    {
     "data": {
      "text/html": [
       "\n",
       "        <iframe\n",
       "            width=\"970\"\n",
       "            height=\"490\"\n",
       "            src=\"supplementary/grid-2.html\"\n",
       "            frameborder=\"0\"\n",
       "            allowfullscreen\n",
       "        ></iframe>\n",
       "        "
      ],
      "text/plain": [
       "<IPython.lib.display.IFrame at 0x7fb344238220>"
      ]
     },
     "execution_count": 23,
     "metadata": {},
     "output_type": "execute_result"
    }
   ],
   "source": [
    "IFrame(\"supplementary/grid-2.html\", width=970, height=490)"
   ]
  },
  {
   "cell_type": "markdown",
   "metadata": {
    "slideshow": {
     "slide_type": "slide"
    }
   },
   "source": [
    "### Coordinate systems are everywhere\n",
    "They are used to label the location of things, so that we can find them again!\n",
    "\n",
    "This dresser, for example, has a coordinate system!\n",
    "- Your stuffed hippo is in the lower right drawer, go get it!\n",
    "- Stuffed hippo **coordinates**: (lower drawer, right drawer)"
   ]
  },
  {
   "cell_type": "code",
   "execution_count": 24,
   "metadata": {
    "init_cell": true,
    "slideshow": {
     "slide_type": "fragment"
    }
   },
   "outputs": [
    {
     "data": {
      "text/html": [
       "\n",
       "        <iframe\n",
       "            width=\"620\"\n",
       "            height=\"630\"\n",
       "            src=\"supplementary/dresser.html\"\n",
       "            frameborder=\"0\"\n",
       "            allowfullscreen\n",
       "        ></iframe>\n",
       "        "
      ],
      "text/plain": [
       "<IPython.lib.display.IFrame at 0x7fb3441e91f0>"
      ]
     },
     "execution_count": 24,
     "metadata": {},
     "output_type": "execute_result"
    }
   ],
   "source": [
    "IFrame(\"supplementary/dresser.html\", width=620, height=630)"
   ]
  },
  {
   "cell_type": "markdown",
   "metadata": {
    "slideshow": {
     "slide_type": "slide"
    }
   },
   "source": [
    "This library too, has a coordinate system!\n",
    "- The book about hippos you want to read is in isle 1A on the upper shelf. Go get it!\n",
    "- Hippo book **coordinates**: (1A isle, upper shelf)"
   ]
  },
  {
   "cell_type": "code",
   "execution_count": 25,
   "metadata": {
    "init_cell": true,
    "slideshow": {
     "slide_type": "fragment"
    }
   },
   "outputs": [
    {
     "data": {
      "text/html": [
       "\n",
       "        <iframe\n",
       "            width=\"620\"\n",
       "            height=\"420\"\n",
       "            src=\"supplementary/bookshelf.html\"\n",
       "            frameborder=\"0\"\n",
       "            allowfullscreen\n",
       "        ></iframe>\n",
       "        "
      ],
      "text/plain": [
       "<IPython.lib.display.IFrame at 0x7fb344238a00>"
      ]
     },
     "execution_count": 25,
     "metadata": {},
     "output_type": "execute_result"
    }
   ],
   "source": [
    "IFrame(\"supplementary/bookshelf.html\", width=620, height=420)"
   ]
  },
  {
   "cell_type": "markdown",
   "metadata": {
    "slideshow": {
     "slide_type": "slide"
    }
   },
   "source": [
    "Some **coordinate systems** get used so frequently that they are sometimes given names!\n",
    "\n",
    "The **“Cartesian” coordinate system**, for example, was thought of by René Descartes.\n",
    "\n",
    "## Can you draw the trajectory of the hippo?\n",
    "- The hippo's trajectory cooridnates are: `[(-4,6), (0,5), (3,-2)]`"
   ]
  },
  {
   "cell_type": "code",
   "execution_count": 26,
   "metadata": {
    "init_cell": true,
    "slideshow": {
     "slide_type": "fragment"
    }
   },
   "outputs": [
    {
     "data": {
      "text/html": [
       "\n",
       "        <iframe\n",
       "            width=\"620\"\n",
       "            height=\"530\"\n",
       "            src=\"supplementary/cartesian.html\"\n",
       "            frameborder=\"0\"\n",
       "            allowfullscreen\n",
       "        ></iframe>\n",
       "        "
      ],
      "text/plain": [
       "<IPython.lib.display.IFrame at 0x7fb3441e9760>"
      ]
     },
     "execution_count": 26,
     "metadata": {},
     "output_type": "execute_result"
    }
   ],
   "source": [
    "IFrame(\"supplementary/cartesian.html\", width=620, height=530)"
   ]
  },
  {
   "cell_type": "markdown",
   "metadata": {
    "slideshow": {
     "slide_type": "slide"
    }
   },
   "source": [
    "## Can you find the location of hippos on this world map?\n",
    "- There is a hippo family at coordinates (30°E, 15°N)"
   ]
  },
  {
   "cell_type": "code",
   "execution_count": 27,
   "metadata": {
    "init_cell": true,
    "scrolled": false,
    "slideshow": {
     "slide_type": "fragment"
    }
   },
   "outputs": [
    {
     "data": {
      "text/html": [
       "\n",
       "        <iframe\n",
       "            width=\"650\"\n",
       "            height=\"530\"\n",
       "            src=\"supplementary/geodetic.html\"\n",
       "            frameborder=\"0\"\n",
       "            allowfullscreen\n",
       "        ></iframe>\n",
       "        "
      ],
      "text/plain": [
       "<IPython.lib.display.IFrame at 0x7fb344238af0>"
      ]
     },
     "execution_count": 27,
     "metadata": {},
     "output_type": "execute_result"
    }
   ],
   "source": [
    "IFrame(\"supplementary/geodetic.html\", width=650, height=530)"
   ]
  },
  {
   "cell_type": "markdown",
   "metadata": {
    "slideshow": {
     "slide_type": "fragment"
    }
   },
   "source": [
    "### World Geodetic System (or WGS for short)\n",
    "This cooridnate system was developed by geographers. It is the underlying coordinate system used to locate many many things on Earth, and it is the underlying system for Google Maps.\n",
    "\n",
    "The first number in WGS coordinates is referred to as LATITUDE.\n",
    "Click on the first WGS coordinate.\n",
    "\n",
    "The second number in WGS coordinates is reffered to as LONGITUDE.\n",
    "There is a hippo family at (30°E, 15°N)"
   ]
  },
  {
   "cell_type": "markdown",
   "metadata": {
    "slideshow": {
     "slide_type": "slide"
    }
   },
   "source": [
    "**Continue the journey: [Next Example](gd-2.ipynb)**"
   ]
  }
 ],
 "metadata": {
  "celltoolbar": "Initialization Cell",
  "kernelspec": {
   "display_name": "Python 3",
   "language": "python",
   "name": "python3"
  },
  "language_info": {
   "codemirror_mode": {
    "name": "ipython",
    "version": 3
   },
   "file_extension": ".py",
   "mimetype": "text/x-python",
   "name": "python",
   "nbconvert_exporter": "python",
   "pygments_lexer": "ipython3",
   "version": "3.8.0"
  },
  "rise": {
   "autolaunch": true
  },
  "widgets": {
   "application/vnd.jupyter.widget-state+json": {
    "state": {
     "00ef61c31ff84514a48fc2902d19a360": {
      "model_module": "@jupyter-widgets/controls",
      "model_module_version": "1.5.0",
      "model_name": "DescriptionStyleModel",
      "state": {
       "description_width": "initial"
      }
     },
     "0155506b66ce421e81cd755331b4226a": {
      "model_module": "@jupyter-widgets/base",
      "model_module_version": "1.2.0",
      "model_name": "LayoutModel",
      "state": {}
     },
     "020f56fc98a84c98abc94e3814ad211f": {
      "model_module": "@jupyter-widgets/output",
      "model_module_version": "1.0.0",
      "model_name": "OutputModel",
      "state": {
       "layout": "IPY_MODEL_bc352e5bfcda44e2b66be5f746acc5a4"
      }
     },
     "066fd3a00de94deb84b8448058e9ccd7": {
      "model_module": "@jupyter-widgets/controls",
      "model_module_version": "1.5.0",
      "model_name": "ButtonStyleModel",
      "state": {}
     },
     "06ec7007291e4aae9e3ab2396f782add": {
      "model_module": "@jupyter-widgets/controls",
      "model_module_version": "1.5.0",
      "model_name": "ButtonModel",
      "state": {
       "description": "Submit",
       "icon": "check",
       "layout": "IPY_MODEL_7aff36ae271840e6bd5633344c2dd9a1",
       "style": "IPY_MODEL_f93b09957c8c450c97f3191fec8b5419"
      }
     },
     "074c874f8fc740e4adf8c6e48dac8e81": {
      "model_module": "@jupyter-widgets/output",
      "model_module_version": "1.0.0",
      "model_name": "OutputModel",
      "state": {
       "layout": "IPY_MODEL_98d3ac2f62e6492981687f18fa905a47"
      }
     },
     "0833c9148a6c4bdf8ad5b5d578c2012e": {
      "model_module": "@jupyter-widgets/base",
      "model_module_version": "1.2.0",
      "model_name": "LayoutModel",
      "state": {}
     },
     "08371d529b5a4ceeb493ccf3223ae099": {
      "model_module": "@jupyter-widgets/controls",
      "model_module_version": "1.5.0",
      "model_name": "DescriptionStyleModel",
      "state": {
       "description_width": ""
      }
     },
     "083a0b632c1d4fc79d8d1717db5961a3": {
      "model_module": "@jupyter-widgets/controls",
      "model_module_version": "1.5.0",
      "model_name": "RadioButtonsModel",
      "state": {
       "_options_labels": [
        "never",
        "monthly",
        "daily",
        "weekly",
        "daily",
        "hourly",
        "all the time"
       ],
       "index": 0,
       "layout": "IPY_MODEL_4297c2de604f4a3daabed72cffb35bbf",
       "style": "IPY_MODEL_83880419099e47778bbb8a13aeedb298"
      }
     },
     "08a6ec0f01fa4faab2c9ddde14f94cff": {
      "model_module": "@jupyter-widgets/base",
      "model_module_version": "1.2.0",
      "model_name": "LayoutModel",
      "state": {}
     },
     "08b74ec473cf4ea98a6b44f05a92441b": {
      "model_module": "@jupyter-widgets/output",
      "model_module_version": "1.0.0",
      "model_name": "OutputModel",
      "state": {
       "layout": "IPY_MODEL_4c6e79a2b4764604bd3caa604721f3b0"
      }
     },
     "08f61f2f773b4d66b3116d74491ae927": {
      "model_module": "@jupyter-widgets/base",
      "model_module_version": "1.2.0",
      "model_name": "LayoutModel",
      "state": {}
     },
     "0bcf101bf5fa49039a391c53915e8191": {
      "model_module": "@jupyter-widgets/controls",
      "model_module_version": "1.5.0",
      "model_name": "ButtonStyleModel",
      "state": {}
     },
     "0c6492c47248495ba2d5a52d4f1e2b15": {
      "model_module": "@jupyter-widgets/controls",
      "model_module_version": "1.5.0",
      "model_name": "ButtonModel",
      "state": {
       "description": "Submit",
       "icon": "check",
       "layout": "IPY_MODEL_08a6ec0f01fa4faab2c9ddde14f94cff",
       "style": "IPY_MODEL_d10bcfa512334e7e87eaf5eb89830761"
      }
     },
     "0d140667f47a41dbbd33850c65429efe": {
      "model_module": "@jupyter-widgets/controls",
      "model_module_version": "1.5.0",
      "model_name": "RadioButtonsModel",
      "state": {
       "_options_labels": [
        "never",
        "monthly",
        "daily",
        "weekly",
        "daily",
        "hourly",
        "all the time"
       ],
       "description": "How often do I ask myself WHERE questions:",
       "index": 0,
       "layout": "IPY_MODEL_53ca47bd10854c9794a8940a77254209",
       "style": "IPY_MODEL_ce1058c29575480585beec041cba0cbb"
      }
     },
     "0dee6f5108db44a39468e82e6671382a": {
      "model_module": "@jupyter-widgets/base",
      "model_module_version": "1.2.0",
      "model_name": "LayoutModel",
      "state": {
       "width": "100%"
      }
     },
     "100757012616406eb96bfe27aa577daf": {
      "model_module": "@jupyter-widgets/output",
      "model_module_version": "1.0.0",
      "model_name": "OutputModel",
      "state": {
       "layout": "IPY_MODEL_efb020dcf826458e9f69f312606c7093"
      }
     },
     "11d9502d6a2646b5b66d942555632940": {
      "model_module": "@jupyter-widgets/base",
      "model_module_version": "1.2.0",
      "model_name": "LayoutModel",
      "state": {}
     },
     "134a0a6d7d8d410c9e4d75cf6d70b64f": {
      "model_module": "@jupyter-widgets/base",
      "model_module_version": "1.2.0",
      "model_name": "LayoutModel",
      "state": {}
     },
     "140f1b43600b4b3bace845633387cef2": {
      "model_module": "@jupyter-widgets/base",
      "model_module_version": "1.2.0",
      "model_name": "LayoutModel",
      "state": {}
     },
     "15fef55a2eda4ab9bfcac34fe10eb62f": {
      "model_module": "@jupyter-widgets/controls",
      "model_module_version": "1.5.0",
      "model_name": "RadioButtonsModel",
      "state": {
       "_options_labels": [
        "never",
        "monthly",
        "daily",
        "weekly",
        "daily",
        "hourly",
        "all the time"
       ],
       "description": "How often do I ask myself WHERE questions:",
       "index": null,
       "layout": "IPY_MODEL_b7dd2adf5c9e41f4989526e0ec951e91",
       "style": "IPY_MODEL_00ef61c31ff84514a48fc2902d19a360"
      }
     },
     "161200c1c6da4c70a5038d9f4513326e": {
      "model_module": "@jupyter-widgets/controls",
      "model_module_version": "1.5.0",
      "model_name": "RadioButtonsModel",
      "state": {
       "_options_labels": [
        "never",
        "monthly",
        "daily",
        "weekly",
        "daily",
        "hourly",
        "all the time"
       ],
       "description": "How often do I ask myself WHERE questions:",
       "index": null,
       "layout": "IPY_MODEL_82a2210ee9944023831391b98cc89014",
       "style": "IPY_MODEL_fff2655d2eaf4b429e399dda482e1e1c"
      }
     },
     "1616fa3179964e50b139ccb965540253": {
      "model_module": "@jupyter-widgets/controls",
      "model_module_version": "1.5.0",
      "model_name": "DescriptionStyleModel",
      "state": {
       "description_width": ""
      }
     },
     "1683b71cecd7406c9b6b3d741ffa5f8d": {
      "model_module": "@jupyter-widgets/controls",
      "model_module_version": "1.5.0",
      "model_name": "ButtonStyleModel",
      "state": {}
     },
     "174c4c94c1ae4260974b94e509d177db": {
      "model_module": "@jupyter-widgets/controls",
      "model_module_version": "1.5.0",
      "model_name": "ButtonStyleModel",
      "state": {}
     },
     "1ab9d19978534e29b8b9151ecda71e5c": {
      "model_module": "@jupyter-widgets/controls",
      "model_module_version": "1.5.0",
      "model_name": "RadioButtonsModel",
      "state": {
       "_options_labels": [
        "never",
        "monthly",
        "daily",
        "weekly",
        "daily",
        "hourly",
        "all the time"
       ],
       "description": "How often do I ask myself WHERE questions:",
       "index": null,
       "layout": "IPY_MODEL_4f9a21691b804e7eb264515c4f7e82ff",
       "style": "IPY_MODEL_631835eacda74c45b263b887e5958aee"
      }
     },
     "1ac2b09114f8473b8bb26177a33712b4": {
      "model_module": "@jupyter-widgets/base",
      "model_module_version": "1.2.0",
      "model_name": "LayoutModel",
      "state": {}
     },
     "1adfcc7f6f954123bd21baf1bf5d909e": {
      "model_module": "@jupyter-widgets/base",
      "model_module_version": "1.2.0",
      "model_name": "LayoutModel",
      "state": {}
     },
     "1b482b7ab0e84998b872c1e38c3b6562": {
      "model_module": "@jupyter-widgets/controls",
      "model_module_version": "1.5.0",
      "model_name": "RadioButtonsModel",
      "state": {
       "_options_labels": [
        "never",
        "monthly",
        "daily",
        "weekly",
        "daily",
        "hourly",
        "all the time"
       ],
       "description": "How often do I ask myself WHERE questions:",
       "index": null,
       "layout": "IPY_MODEL_cdce7eec200742b8891f1396709c0615",
       "style": "IPY_MODEL_f1e91e48842a488f96ce53b76f4ce8d5"
      }
     },
     "1b65a444d8ec4e59904f6820ed0ca620": {
      "model_module": "@jupyter-widgets/base",
      "model_module_version": "1.2.0",
      "model_name": "LayoutModel",
      "state": {}
     },
     "1bf0e9303dc0422abe43a1f32a053e58": {
      "model_module": "@jupyter-widgets/controls",
      "model_module_version": "1.5.0",
      "model_name": "ButtonModel",
      "state": {
       "description": "Submit",
       "icon": "check",
       "layout": "IPY_MODEL_7d05b00f86824c2f898410db66d17b5b",
       "style": "IPY_MODEL_1683b71cecd7406c9b6b3d741ffa5f8d"
      }
     },
     "1c96a9ce040a4de981806939dedaa60c": {
      "model_module": "@jupyter-widgets/output",
      "model_module_version": "1.0.0",
      "model_name": "OutputModel",
      "state": {
       "layout": "IPY_MODEL_d89c4dc6b8ec4d079ecfd9f2570e6e36"
      }
     },
     "1caabd79646b44d9bb75f7a705ab7764": {
      "model_module": "@jupyter-widgets/controls",
      "model_module_version": "1.5.0",
      "model_name": "RadioButtonsModel",
      "state": {
       "_options_labels": [
        "never",
        "monthly",
        "daily",
        "weekly",
        "daily",
        "hourly",
        "all the time"
       ],
       "description": "How often do I ask myself WHERE questions:",
       "index": null,
       "layout": "IPY_MODEL_c771b6498adc434cad8635431f8d8ffc",
       "style": "IPY_MODEL_c03cf37f969341e88d359064929daf73"
      }
     },
     "1cd86deb0669403789e81aa9bd19544c": {
      "model_module": "@jupyter-widgets/controls",
      "model_module_version": "1.5.0",
      "model_name": "RadioButtonsModel",
      "state": {
       "_options_labels": [
        "never",
        "monthly",
        "daily",
        "weekly",
        "daily",
        "hourly",
        "all the time"
       ],
       "description": "How often do I ask myself WHERE questions:",
       "index": 0,
       "layout": "IPY_MODEL_34cb33e94aad450f96fa3f157f56b6a3",
       "style": "IPY_MODEL_d6e8c5dcdeff4f5ba681ec515e614ed2"
      }
     },
     "1e1630c763e24fcfa9be44954ee7e61f": {
      "model_module": "@jupyter-widgets/controls",
      "model_module_version": "1.5.0",
      "model_name": "DescriptionStyleModel",
      "state": {
       "description_width": ""
      }
     },
     "1e5d74cbcef148e1b57c792a90aaa021": {
      "model_module": "@jupyter-widgets/base",
      "model_module_version": "1.2.0",
      "model_name": "LayoutModel",
      "state": {
       "width": "100%"
      }
     },
     "1efd081757e743f58d315858bd401675": {
      "model_module": "@jupyter-widgets/base",
      "model_module_version": "1.2.0",
      "model_name": "LayoutModel",
      "state": {}
     },
     "1f13fece1a6c4579abbee97661b1d2f8": {
      "model_module": "@jupyter-widgets/controls",
      "model_module_version": "1.5.0",
      "model_name": "DescriptionStyleModel",
      "state": {
       "description_width": ""
      }
     },
     "1fa008223d374a9d8de2510acaccce6d": {
      "model_module": "@jupyter-widgets/controls",
      "model_module_version": "1.5.0",
      "model_name": "ButtonModel",
      "state": {
       "description": "Submit",
       "icon": "check",
       "layout": "IPY_MODEL_d468387bba504b57ab0c5564e95cb445",
       "style": "IPY_MODEL_b00e6b8e38ab4e5a9727b7abb5d98881"
      }
     },
     "1fb671e1ed7346d686f65082d850ab32": {
      "model_module": "@jupyter-widgets/controls",
      "model_module_version": "1.5.0",
      "model_name": "DescriptionStyleModel",
      "state": {
       "description_width": ""
      }
     },
     "1fe63e7a5e3e407794a14ef049cfbf2f": {
      "model_module": "@jupyter-widgets/base",
      "model_module_version": "1.2.0",
      "model_name": "LayoutModel",
      "state": {}
     },
     "23a2c1847a174a86a11d86c5f7c58b38": {
      "model_module": "@jupyter-widgets/base",
      "model_module_version": "1.2.0",
      "model_name": "LayoutModel",
      "state": {
       "width": "100%"
      }
     },
     "23ba3c55fb7149baa0416dc82bad0da7": {
      "model_module": "@jupyter-widgets/output",
      "model_module_version": "1.0.0",
      "model_name": "OutputModel",
      "state": {
       "layout": "IPY_MODEL_36c1d49e03f941869ec2a1da49ecfabe"
      }
     },
     "23c93459f53e4b2e9cfc692883e06c5c": {
      "model_module": "@jupyter-widgets/controls",
      "model_module_version": "1.5.0",
      "model_name": "DescriptionStyleModel",
      "state": {
       "description_width": "initial"
      }
     },
     "24b18916702644e99aa7c2ea5938a0bd": {
      "model_module": "@jupyter-widgets/controls",
      "model_module_version": "1.5.0",
      "model_name": "RadioButtonsModel",
      "state": {
       "_options_labels": [
        "never",
        "monthly",
        "daily",
        "weekly",
        "daily",
        "hourly",
        "all the time"
       ],
       "index": 0,
       "layout": "IPY_MODEL_11d9502d6a2646b5b66d942555632940",
       "style": "IPY_MODEL_08371d529b5a4ceeb493ccf3223ae099"
      }
     },
     "25c87e462b44490fb3ae98a02d4aebd0": {
      "model_module": "@jupyter-widgets/controls",
      "model_module_version": "1.5.0",
      "model_name": "DescriptionStyleModel",
      "state": {
       "description_width": ""
      }
     },
     "2609b2b7dfeb4595836b341d3a6f717f": {
      "model_module": "@jupyter-widgets/controls",
      "model_module_version": "1.5.0",
      "model_name": "ButtonModel",
      "state": {
       "description": "Submit",
       "icon": "check",
       "layout": "IPY_MODEL_fb06947b770f4dd3869fe442e4dc1bab",
       "style": "IPY_MODEL_f677efd92fc148f8a9a3e42b380fdea5"
      }
     },
     "26404ba8ef374c30a07263b83df69525": {
      "model_module": "@jupyter-widgets/controls",
      "model_module_version": "1.5.0",
      "model_name": "DescriptionStyleModel",
      "state": {
       "description_width": ""
      }
     },
     "26eb1abd773c47f68c43b770f330518b": {
      "model_module": "@jupyter-widgets/controls",
      "model_module_version": "1.5.0",
      "model_name": "DescriptionStyleModel",
      "state": {
       "description_width": ""
      }
     },
     "2898957a9f5c43aaa9ee684f5d7576f3": {
      "model_module": "@jupyter-widgets/base",
      "model_module_version": "1.2.0",
      "model_name": "LayoutModel",
      "state": {}
     },
     "28a2d778154a4cfbb20f1809bdb6467e": {
      "model_module": "@jupyter-widgets/controls",
      "model_module_version": "1.5.0",
      "model_name": "DescriptionStyleModel",
      "state": {
       "description_width": ""
      }
     },
     "2ac6a8b0950349759074c6a356a656e9": {
      "model_module": "@jupyter-widgets/base",
      "model_module_version": "1.2.0",
      "model_name": "LayoutModel",
      "state": {}
     },
     "2d2643168a9c487f9f00879744b374c6": {
      "model_module": "@jupyter-widgets/controls",
      "model_module_version": "1.5.0",
      "model_name": "RadioButtonsModel",
      "state": {
       "_options_labels": [
        "never",
        "monthly",
        "daily",
        "weekly",
        "daily",
        "hourly",
        "all the time"
       ],
       "index": 0,
       "layout": "IPY_MODEL_6351e0075fca42fd829c2975614eb1cc",
       "style": "IPY_MODEL_853c6fa139a2413e9f52cb94f06fbb38"
      }
     },
     "2e3bbd78de7646febcdfd23a07f370cf": {
      "model_module": "@jupyter-widgets/base",
      "model_module_version": "1.2.0",
      "model_name": "LayoutModel",
      "state": {}
     },
     "2eafcb05f0534fdb8c66406967e05567": {
      "model_module": "@jupyter-widgets/controls",
      "model_module_version": "1.5.0",
      "model_name": "DescriptionStyleModel",
      "state": {
       "description_width": "initial"
      }
     },
     "2fa30059bdcf47128edb4766972baa5b": {
      "model_module": "@jupyter-widgets/base",
      "model_module_version": "1.2.0",
      "model_name": "LayoutModel",
      "state": {}
     },
     "300689f68912429cacab3ab19c7256a5": {
      "model_module": "@jupyter-widgets/base",
      "model_module_version": "1.2.0",
      "model_name": "LayoutModel",
      "state": {}
     },
     "3091e0a8e98e49d48184cc0ec9d5bb42": {
      "model_module": "@jupyter-widgets/controls",
      "model_module_version": "1.5.0",
      "model_name": "RadioButtonsModel",
      "state": {
       "_options_labels": [
        "never",
        "monthly",
        "daily",
        "weekly",
        "daily",
        "hourly",
        "all the time"
       ],
       "description": "How often do I ask myself WHERE questions:",
       "index": 0,
       "layout": "IPY_MODEL_728776ea9ffd4ecbbb7c1640079d2947",
       "style": "IPY_MODEL_618b61054b7f48479193a8c463261632"
      }
     },
     "30b430831cb1417e976c9337a276cdd2": {
      "model_module": "@jupyter-widgets/controls",
      "model_module_version": "1.5.0",
      "model_name": "ButtonModel",
      "state": {
       "description": "Submit",
       "icon": "check",
       "layout": "IPY_MODEL_84ce6aba86664f88b8b15d9f06d998af",
       "style": "IPY_MODEL_acdf263bbc454a7eb312313e20d27991"
      }
     },
     "30cce9cd39ee49509bb2b3f9a3034b80": {
      "model_module": "@jupyter-widgets/base",
      "model_module_version": "1.2.0",
      "model_name": "LayoutModel",
      "state": {
       "width": "100%"
      }
     },
     "3237f0676b6243be8737fa816f41f571": {
      "model_module": "@jupyter-widgets/controls",
      "model_module_version": "1.5.0",
      "model_name": "ButtonModel",
      "state": {
       "description": "Submit",
       "icon": "check",
       "layout": "IPY_MODEL_77d46caf07104d56a95bacb764b7d436",
       "style": "IPY_MODEL_42c33b02ce8c4ccba02d63437917a7c1"
      }
     },
     "3239a9c62e4f438cba1290609c6073a0": {
      "model_module": "@jupyter-widgets/controls",
      "model_module_version": "1.5.0",
      "model_name": "RadioButtonsModel",
      "state": {
       "_options_labels": [
        "never",
        "monthly",
        "daily",
        "weekly",
        "daily",
        "hourly",
        "all the time"
       ],
       "description": "How often do I ask myself WHERE questions:",
       "index": 0,
       "layout": "IPY_MODEL_3ddd7546e9364300b71504562abebe42",
       "style": "IPY_MODEL_7e96fe0b13d44ff19c4a1ce90a1d749f"
      }
     },
     "3257dc43ba9b4a33afb8f37bccc8b19a": {
      "model_module": "@jupyter-widgets/controls",
      "model_module_version": "1.5.0",
      "model_name": "ButtonStyleModel",
      "state": {}
     },
     "32c537b9218b406d80ced1af610dd2a1": {
      "model_module": "@jupyter-widgets/controls",
      "model_module_version": "1.5.0",
      "model_name": "DescriptionStyleModel",
      "state": {
       "description_width": "initial"
      }
     },
     "3311b97769c04f36b07ca5e266a786b1": {
      "model_module": "@jupyter-widgets/controls",
      "model_module_version": "1.5.0",
      "model_name": "DescriptionStyleModel",
      "state": {
       "description_width": ""
      }
     },
     "3374d19f529b4c49aba193513db041a2": {
      "model_module": "@jupyter-widgets/base",
      "model_module_version": "1.2.0",
      "model_name": "LayoutModel",
      "state": {}
     },
     "33b1fe39ef0a40d7bf98d6aa5a3f32b9": {
      "model_module": "@jupyter-widgets/controls",
      "model_module_version": "1.5.0",
      "model_name": "ButtonStyleModel",
      "state": {}
     },
     "3400e9d39b0547fcace8229eb54e8fbe": {
      "model_module": "@jupyter-widgets/base",
      "model_module_version": "1.2.0",
      "model_name": "LayoutModel",
      "state": {}
     },
     "34cb33e94aad450f96fa3f157f56b6a3": {
      "model_module": "@jupyter-widgets/base",
      "model_module_version": "1.2.0",
      "model_name": "LayoutModel",
      "state": {
       "width": "100%"
      }
     },
     "35d4d0c8a88047a482817f372b79f2c9": {
      "model_module": "@jupyter-widgets/controls",
      "model_module_version": "1.5.0",
      "model_name": "ButtonStyleModel",
      "state": {}
     },
     "35d9d3db7a2d45be9d77fb2e5eff51bb": {
      "model_module": "@jupyter-widgets/controls",
      "model_module_version": "1.5.0",
      "model_name": "RadioButtonsModel",
      "state": {
       "_options_labels": [
        "never",
        "monthly",
        "daily",
        "weekly",
        "daily",
        "hourly",
        "all the time"
       ],
       "description": "How often do I ask myself WHERE questions:",
       "index": 0,
       "layout": "IPY_MODEL_e58f115e6b3b45a4941f48833917aaea",
       "style": "IPY_MODEL_5ce9edb7f4ed4a7485fa453e03c60471"
      }
     },
     "36a36e7ffb454b1c8c3f4397aed8aadc": {
      "model_module": "@jupyter-widgets/controls",
      "model_module_version": "1.5.0",
      "model_name": "ButtonStyleModel",
      "state": {}
     },
     "36c1d49e03f941869ec2a1da49ecfabe": {
      "model_module": "@jupyter-widgets/base",
      "model_module_version": "1.2.0",
      "model_name": "LayoutModel",
      "state": {}
     },
     "3723e165442a49db93517c667916fa44": {
      "model_module": "@jupyter-widgets/base",
      "model_module_version": "1.2.0",
      "model_name": "LayoutModel",
      "state": {}
     },
     "38aab2a7f4694559900c2e6dba909a8e": {
      "model_module": "@jupyter-widgets/controls",
      "model_module_version": "1.5.0",
      "model_name": "ButtonStyleModel",
      "state": {}
     },
     "3a2d922a1d96435c8efee2cefed7485a": {
      "model_module": "@jupyter-widgets/base",
      "model_module_version": "1.2.0",
      "model_name": "LayoutModel",
      "state": {
       "width": "100%"
      }
     },
     "3a7ab3b2f9ca47919b80f329600f52c6": {
      "model_module": "@jupyter-widgets/output",
      "model_module_version": "1.0.0",
      "model_name": "OutputModel",
      "state": {
       "layout": "IPY_MODEL_1fe63e7a5e3e407794a14ef049cfbf2f"
      }
     },
     "3a888a96462d4c7db0a0021212688007": {
      "model_module": "@jupyter-widgets/base",
      "model_module_version": "1.2.0",
      "model_name": "LayoutModel",
      "state": {}
     },
     "3b5b9861e12442779c6ad03cb2d93038": {
      "model_module": "@jupyter-widgets/base",
      "model_module_version": "1.2.0",
      "model_name": "LayoutModel",
      "state": {}
     },
     "3b9d8d4197b4488cba50182a9bd3fdfd": {
      "model_module": "@jupyter-widgets/controls",
      "model_module_version": "1.5.0",
      "model_name": "ButtonModel",
      "state": {
       "description": "Submit",
       "icon": "check",
       "layout": "IPY_MODEL_4f5ec0c9324d4835aece77732c3f19b0",
       "style": "IPY_MODEL_e811a23638ec4e89af4027930c662157"
      }
     },
     "3ddd7546e9364300b71504562abebe42": {
      "model_module": "@jupyter-widgets/base",
      "model_module_version": "1.2.0",
      "model_name": "LayoutModel",
      "state": {
       "width": "100%"
      }
     },
     "3de833dee5bc40d0836a240d00d164f5": {
      "model_module": "@jupyter-widgets/base",
      "model_module_version": "1.2.0",
      "model_name": "LayoutModel",
      "state": {}
     },
     "3f6f2aef30c14c15a4947539d8cfeb1d": {
      "model_module": "@jupyter-widgets/controls",
      "model_module_version": "1.5.0",
      "model_name": "RadioButtonsModel",
      "state": {
       "_options_labels": [
        "never",
        "monthly",
        "daily",
        "weekly",
        "daily",
        "hourly",
        "all the time"
       ],
       "description": "How often do I ask myself WHERE questions:",
       "index": 0,
       "layout": "IPY_MODEL_30cce9cd39ee49509bb2b3f9a3034b80",
       "style": "IPY_MODEL_9e8a7c9d415b43828b2979273206c0c4"
      }
     },
     "3f7e7287bfed4841963148c9968466c1": {
      "model_module": "@jupyter-widgets/output",
      "model_module_version": "1.0.0",
      "model_name": "OutputModel",
      "state": {
       "layout": "IPY_MODEL_3374d19f529b4c49aba193513db041a2"
      }
     },
     "401433ce9faf4c068f78e87bf9d1a0fa": {
      "model_module": "@jupyter-widgets/output",
      "model_module_version": "1.0.0",
      "model_name": "OutputModel",
      "state": {
       "layout": "IPY_MODEL_92c2b56b439f49cd82bc0934b98b18aa"
      }
     },
     "426c752d77ba47dd8a006daa003747f9": {
      "model_module": "@jupyter-widgets/controls",
      "model_module_version": "1.5.0",
      "model_name": "DescriptionStyleModel",
      "state": {
       "description_width": ""
      }
     },
     "4297c2de604f4a3daabed72cffb35bbf": {
      "model_module": "@jupyter-widgets/base",
      "model_module_version": "1.2.0",
      "model_name": "LayoutModel",
      "state": {}
     },
     "42c33b02ce8c4ccba02d63437917a7c1": {
      "model_module": "@jupyter-widgets/controls",
      "model_module_version": "1.5.0",
      "model_name": "ButtonStyleModel",
      "state": {}
     },
     "43ece9463b3e4d30bdf617df8386bd2a": {
      "model_module": "@jupyter-widgets/controls",
      "model_module_version": "1.5.0",
      "model_name": "ButtonStyleModel",
      "state": {}
     },
     "451c97b521bd4cb79732dc7fd4407555": {
      "model_module": "@jupyter-widgets/base",
      "model_module_version": "1.2.0",
      "model_name": "LayoutModel",
      "state": {}
     },
     "46a2201471ee409ea6cb0e79196343fe": {
      "model_module": "@jupyter-widgets/controls",
      "model_module_version": "1.5.0",
      "model_name": "ButtonStyleModel",
      "state": {}
     },
     "47b523fc71164a8fb1f49ef6998c4903": {
      "model_module": "@jupyter-widgets/controls",
      "model_module_version": "1.5.0",
      "model_name": "RadioButtonsModel",
      "state": {
       "_options_labels": [
        "never",
        "monthly",
        "daily",
        "weekly",
        "daily",
        "hourly",
        "all the time"
       ],
       "description": "How often do I ask myself WHERE questions:",
       "index": 0,
       "layout": "IPY_MODEL_e7488b060cae416795635a6e9bd5ce59",
       "style": "IPY_MODEL_1616fa3179964e50b139ccb965540253"
      }
     },
     "487d774471f147bca20f1f27ac511ea0": {
      "model_module": "@jupyter-widgets/output",
      "model_module_version": "1.0.0",
      "model_name": "OutputModel",
      "state": {
       "layout": "IPY_MODEL_ed415349785748e9b65a878b87e4acb6"
      }
     },
     "48cb35dae2a8471f9f2bd1f8361cdf20": {
      "model_module": "@jupyter-widgets/base",
      "model_module_version": "1.2.0",
      "model_name": "LayoutModel",
      "state": {
       "width": "100%"
      }
     },
     "49758c3998bf4517b018d6fb0070dccc": {
      "model_module": "@jupyter-widgets/controls",
      "model_module_version": "1.5.0",
      "model_name": "ButtonModel",
      "state": {
       "description": "Submit",
       "icon": "check",
       "layout": "IPY_MODEL_8953403e5d1a440190352df32aee228b",
       "style": "IPY_MODEL_8f6332684f984d0093774d43a76f221d"
      }
     },
     "4b0f7292b2fd43038dadab07bdc2c26c": {
      "model_module": "@jupyter-widgets/base",
      "model_module_version": "1.2.0",
      "model_name": "LayoutModel",
      "state": {}
     },
     "4b2c503fbf1447aaa01cc6caa6b2604e": {
      "model_module": "@jupyter-widgets/output",
      "model_module_version": "1.0.0",
      "model_name": "OutputModel",
      "state": {
       "layout": "IPY_MODEL_c29c2cccddff4001a97f618d26c86027"
      }
     },
     "4b5e7873de7b4497913468f36f7a71c0": {
      "model_module": "@jupyter-widgets/base",
      "model_module_version": "1.2.0",
      "model_name": "LayoutModel",
      "state": {}
     },
     "4c6e79a2b4764604bd3caa604721f3b0": {
      "model_module": "@jupyter-widgets/base",
      "model_module_version": "1.2.0",
      "model_name": "LayoutModel",
      "state": {}
     },
     "4c72d72bf52248eca928f2812ac3a4d7": {
      "model_module": "@jupyter-widgets/controls",
      "model_module_version": "1.5.0",
      "model_name": "ButtonStyleModel",
      "state": {}
     },
     "4e9419d06c844470b4af51980985cb27": {
      "model_module": "@jupyter-widgets/output",
      "model_module_version": "1.0.0",
      "model_name": "OutputModel",
      "state": {
       "layout": "IPY_MODEL_bb726be615de4b1f83e0c6766c02ee26",
       "outputs": [
        {
         "name": "stdout",
         "output_type": "stream",
         "text": "never\n"
        }
       ]
      }
     },
     "4f5ec0c9324d4835aece77732c3f19b0": {
      "model_module": "@jupyter-widgets/base",
      "model_module_version": "1.2.0",
      "model_name": "LayoutModel",
      "state": {}
     },
     "4f753bdacade448683feabf9b3c7bbde": {
      "model_module": "@jupyter-widgets/controls",
      "model_module_version": "1.5.0",
      "model_name": "ButtonModel",
      "state": {
       "description": "Submit",
       "icon": "check",
       "layout": "IPY_MODEL_f5436804add94881a71e15b3e8dbb36f",
       "style": "IPY_MODEL_36a36e7ffb454b1c8c3f4397aed8aadc"
      }
     },
     "4f9a21691b804e7eb264515c4f7e82ff": {
      "model_module": "@jupyter-widgets/base",
      "model_module_version": "1.2.0",
      "model_name": "LayoutModel",
      "state": {
       "width": "100%"
      }
     },
     "50766d70a00a4f93955a2fcbc930101e": {
      "model_module": "@jupyter-widgets/output",
      "model_module_version": "1.0.0",
      "model_name": "OutputModel",
      "state": {
       "layout": "IPY_MODEL_9f0a07c933a9466ebb61e29e31d0dea1"
      }
     },
     "50d4c26edddc46a898dfd7e36ca4b761": {
      "model_module": "@jupyter-widgets/controls",
      "model_module_version": "1.5.0",
      "model_name": "RadioButtonsModel",
      "state": {
       "_options_labels": [
        "never",
        "monthly",
        "daily",
        "weekly",
        "daily",
        "hourly",
        "all the time"
       ],
       "description": "How often do I ask myself WHERE questions:",
       "index": 0,
       "layout": "IPY_MODEL_e056b6c816d242629960e84016b1dd90",
       "style": "IPY_MODEL_26eb1abd773c47f68c43b770f330518b"
      }
     },
     "529f362dd0e84defb498895fad53b869": {
      "model_module": "@jupyter-widgets/base",
      "model_module_version": "1.2.0",
      "model_name": "LayoutModel",
      "state": {}
     },
     "53ca47bd10854c9794a8940a77254209": {
      "model_module": "@jupyter-widgets/base",
      "model_module_version": "1.2.0",
      "model_name": "LayoutModel",
      "state": {}
     },
     "53de6f13aeb94393b6690b5b82aa3df4": {
      "model_module": "@jupyter-widgets/base",
      "model_module_version": "1.2.0",
      "model_name": "LayoutModel",
      "state": {}
     },
     "55b18fa88a214070b423fe7ac0877415": {
      "model_module": "@jupyter-widgets/base",
      "model_module_version": "1.2.0",
      "model_name": "LayoutModel",
      "state": {
       "width": "100%"
      }
     },
     "55f92d45c75f4e6db8c9a15b8ebcf087": {
      "model_module": "@jupyter-widgets/controls",
      "model_module_version": "1.5.0",
      "model_name": "ButtonStyleModel",
      "state": {}
     },
     "5702a0223af54b83bd918fc088c92e60": {
      "model_module": "@jupyter-widgets/controls",
      "model_module_version": "1.5.0",
      "model_name": "RadioButtonsModel",
      "state": {
       "_options_labels": [
        "never",
        "monthly",
        "daily",
        "weekly",
        "daily",
        "hourly",
        "all the time"
       ],
       "description": "How often do I ask myself WHERE questions:",
       "index": 0,
       "layout": "IPY_MODEL_ffb920ff887e4ce6a9ce3fa958bd7ece",
       "style": "IPY_MODEL_26404ba8ef374c30a07263b83df69525"
      }
     },
     "58b4c00839c44939b803a74848b29726": {
      "model_module": "@jupyter-widgets/output",
      "model_module_version": "1.0.0",
      "model_name": "OutputModel",
      "state": {
       "layout": "IPY_MODEL_5ac9c3850ecf42f4868aca570a3604ee"
      }
     },
     "5a4b21ea6c5649f595b5a9537b4f3819": {
      "model_module": "@jupyter-widgets/output",
      "model_module_version": "1.0.0",
      "model_name": "OutputModel",
      "state": {
       "layout": "IPY_MODEL_3a888a96462d4c7db0a0021212688007"
      }
     },
     "5ac9c3850ecf42f4868aca570a3604ee": {
      "model_module": "@jupyter-widgets/base",
      "model_module_version": "1.2.0",
      "model_name": "LayoutModel",
      "state": {}
     },
     "5aedf5edb1a546ba943721712f48fd44": {
      "model_module": "@jupyter-widgets/output",
      "model_module_version": "1.0.0",
      "model_name": "OutputModel",
      "state": {
       "layout": "IPY_MODEL_3b5b9861e12442779c6ad03cb2d93038"
      }
     },
     "5b2f16eb03bd47f8b457733283d09c12": {
      "model_module": "@jupyter-widgets/base",
      "model_module_version": "1.2.0",
      "model_name": "LayoutModel",
      "state": {}
     },
     "5cc222ef3197454da5f22aba97c864d9": {
      "model_module": "@jupyter-widgets/base",
      "model_module_version": "1.2.0",
      "model_name": "LayoutModel",
      "state": {}
     },
     "5ce9edb7f4ed4a7485fa453e03c60471": {
      "model_module": "@jupyter-widgets/controls",
      "model_module_version": "1.5.0",
      "model_name": "DescriptionStyleModel",
      "state": {
       "description_width": ""
      }
     },
     "5cf56407d8494e608d78985cd7880750": {
      "model_module": "@jupyter-widgets/controls",
      "model_module_version": "1.5.0",
      "model_name": "ButtonModel",
      "state": {
       "description": "Submit",
       "icon": "check",
       "layout": "IPY_MODEL_736d7ebb9635436faecb45c6d139e263",
       "style": "IPY_MODEL_b8feaca4244d4bd3809232dc8ed8b799"
      }
     },
     "5e5ed4fa98f54002a4f6a9254405c4a8": {
      "model_module": "@jupyter-widgets/output",
      "model_module_version": "1.0.0",
      "model_name": "OutputModel",
      "state": {
       "layout": "IPY_MODEL_529f362dd0e84defb498895fad53b869"
      }
     },
     "5fbd8ffc4c20407dabf324bb5a24e8cd": {
      "model_module": "@jupyter-widgets/base",
      "model_module_version": "1.2.0",
      "model_name": "LayoutModel",
      "state": {}
     },
     "603204e450674b24bc1940090d00ce60": {
      "model_module": "@jupyter-widgets/base",
      "model_module_version": "1.2.0",
      "model_name": "LayoutModel",
      "state": {}
     },
     "608a6152ff554d35996838bc096e94ff": {
      "model_module": "@jupyter-widgets/controls",
      "model_module_version": "1.5.0",
      "model_name": "RadioButtonsModel",
      "state": {
       "_options_labels": [
        "never",
        "monthly",
        "daily",
        "weekly",
        "daily",
        "hourly",
        "all the time"
       ],
       "description": "How often do I ask myself WHERE questions:",
       "index": null,
       "layout": "IPY_MODEL_e07994335a18481b9ac9db2f9313928e",
       "style": "IPY_MODEL_32c537b9218b406d80ced1af610dd2a1"
      }
     },
     "6127cc42318f41bf8d43ece9371a6f2d": {
      "model_module": "@jupyter-widgets/controls",
      "model_module_version": "1.5.0",
      "model_name": "ButtonStyleModel",
      "state": {}
     },
     "6160d378fb1b4bf184cc7247a7f35fb6": {
      "model_module": "@jupyter-widgets/base",
      "model_module_version": "1.2.0",
      "model_name": "LayoutModel",
      "state": {}
     },
     "618b61054b7f48479193a8c463261632": {
      "model_module": "@jupyter-widgets/controls",
      "model_module_version": "1.5.0",
      "model_name": "DescriptionStyleModel",
      "state": {
       "description_width": ""
      }
     },
     "631835eacda74c45b263b887e5958aee": {
      "model_module": "@jupyter-widgets/controls",
      "model_module_version": "1.5.0",
      "model_name": "DescriptionStyleModel",
      "state": {
       "description_width": "initial"
      }
     },
     "633ae431540e49eba47770e8778ddeb1": {
      "model_module": "@jupyter-widgets/output",
      "model_module_version": "1.0.0",
      "model_name": "OutputModel",
      "state": {
       "layout": "IPY_MODEL_53de6f13aeb94393b6690b5b82aa3df4"
      }
     },
     "6351e0075fca42fd829c2975614eb1cc": {
      "model_module": "@jupyter-widgets/base",
      "model_module_version": "1.2.0",
      "model_name": "LayoutModel",
      "state": {}
     },
     "6415031c4f544aefbbb45798972fde2b": {
      "model_module": "@jupyter-widgets/controls",
      "model_module_version": "1.5.0",
      "model_name": "DescriptionStyleModel",
      "state": {
       "description_width": ""
      }
     },
     "648b7d59102342cf95148be72e21ccaf": {
      "model_module": "@jupyter-widgets/controls",
      "model_module_version": "1.5.0",
      "model_name": "ButtonStyleModel",
      "state": {}
     },
     "65580060069446fdbcdd3962c46c3c09": {
      "model_module": "@jupyter-widgets/controls",
      "model_module_version": "1.5.0",
      "model_name": "ButtonStyleModel",
      "state": {}
     },
     "67051bfd19054b1db964892d6aa01933": {
      "model_module": "@jupyter-widgets/base",
      "model_module_version": "1.2.0",
      "model_name": "LayoutModel",
      "state": {}
     },
     "67d0fa8ff42343bcbb2307dfaba2e34e": {
      "model_module": "@jupyter-widgets/controls",
      "model_module_version": "1.5.0",
      "model_name": "ButtonStyleModel",
      "state": {}
     },
     "6963811086dc42d68e3e827eae2ffceb": {
      "model_module": "@jupyter-widgets/base",
      "model_module_version": "1.2.0",
      "model_name": "LayoutModel",
      "state": {}
     },
     "696c9bd13916422fa20ca8cb57198752": {
      "model_module": "@jupyter-widgets/base",
      "model_module_version": "1.2.0",
      "model_name": "LayoutModel",
      "state": {
       "width": "100%"
      }
     },
     "6b35eece7da742ce8c9765a0cc3b3870": {
      "model_module": "@jupyter-widgets/base",
      "model_module_version": "1.2.0",
      "model_name": "LayoutModel",
      "state": {
       "width": "100%"
      }
     },
     "6bb406aa335946098aab31d30e26aac0": {
      "model_module": "@jupyter-widgets/controls",
      "model_module_version": "1.5.0",
      "model_name": "DescriptionStyleModel",
      "state": {
       "description_width": ""
      }
     },
     "6c82224bfffb4814a2c5358a06fd8981": {
      "model_module": "@jupyter-widgets/base",
      "model_module_version": "1.2.0",
      "model_name": "LayoutModel",
      "state": {}
     },
     "6cf137832a924c588c0a241b145a8488": {
      "model_module": "@jupyter-widgets/controls",
      "model_module_version": "1.5.0",
      "model_name": "ButtonStyleModel",
      "state": {}
     },
     "6ee4b48deb784e53bf444fe23761c046": {
      "model_module": "@jupyter-widgets/controls",
      "model_module_version": "1.5.0",
      "model_name": "ButtonModel",
      "state": {
       "description": "Submit",
       "icon": "check",
       "layout": "IPY_MODEL_300689f68912429cacab3ab19c7256a5",
       "style": "IPY_MODEL_648b7d59102342cf95148be72e21ccaf"
      }
     },
     "6fad59e4cc45485f82dcaf5770af546b": {
      "model_module": "@jupyter-widgets/base",
      "model_module_version": "1.2.0",
      "model_name": "LayoutModel",
      "state": {}
     },
     "6fb969a60ef74c4391b8aba98fec39e7": {
      "model_module": "@jupyter-widgets/controls",
      "model_module_version": "1.5.0",
      "model_name": "DescriptionStyleModel",
      "state": {
       "description_width": ""
      }
     },
     "6fc5e38bc63447368155f0cc5c3b4193": {
      "model_module": "@jupyter-widgets/controls",
      "model_module_version": "1.5.0",
      "model_name": "DescriptionStyleModel",
      "state": {
       "description_width": ""
      }
     },
     "6ff7c3bb1b7647528bdfa1f565fb0104": {
      "model_module": "@jupyter-widgets/base",
      "model_module_version": "1.2.0",
      "model_name": "LayoutModel",
      "state": {}
     },
     "700f76f291c14c55b90d7e9835d57211": {
      "model_module": "@jupyter-widgets/output",
      "model_module_version": "1.0.0",
      "model_name": "OutputModel",
      "state": {
       "layout": "IPY_MODEL_c2d9047d1b6b4257b9dac3dffb2f1fb6"
      }
     },
     "702b0f2cb94c4d1988775f08ffbf1c4f": {
      "model_module": "@jupyter-widgets/controls",
      "model_module_version": "1.5.0",
      "model_name": "RadioButtonsModel",
      "state": {
       "_options_labels": [
        "never",
        "monthly",
        "daily",
        "weekly",
        "daily",
        "hourly",
        "all the time"
       ],
       "index": 0,
       "layout": "IPY_MODEL_f0f582381c714870a8510f81e3b437ca",
       "style": "IPY_MODEL_a6a675316b704ba0af38b12402a4b8d1"
      }
     },
     "713d29417fae497785d870220ba599fb": {
      "model_module": "@jupyter-widgets/base",
      "model_module_version": "1.2.0",
      "model_name": "LayoutModel",
      "state": {}
     },
     "728776ea9ffd4ecbbb7c1640079d2947": {
      "model_module": "@jupyter-widgets/base",
      "model_module_version": "1.2.0",
      "model_name": "LayoutModel",
      "state": {
       "width": "100%"
      }
     },
     "72eed992bae74bd4b565e3097bd9d4af": {
      "model_module": "@jupyter-widgets/output",
      "model_module_version": "1.0.0",
      "model_name": "OutputModel",
      "state": {
       "layout": "IPY_MODEL_5cc222ef3197454da5f22aba97c864d9"
      }
     },
     "72ff6bae73f24fac9e98f19d0b418b4e": {
      "model_module": "@jupyter-widgets/base",
      "model_module_version": "1.2.0",
      "model_name": "LayoutModel",
      "state": {}
     },
     "736d7ebb9635436faecb45c6d139e263": {
      "model_module": "@jupyter-widgets/base",
      "model_module_version": "1.2.0",
      "model_name": "LayoutModel",
      "state": {}
     },
     "74ce8453139741898a68785f972a3b72": {
      "model_module": "@jupyter-widgets/controls",
      "model_module_version": "1.5.0",
      "model_name": "DescriptionStyleModel",
      "state": {
       "description_width": ""
      }
     },
     "75679619960547cf91430660c9593cda": {
      "model_module": "@jupyter-widgets/controls",
      "model_module_version": "1.5.0",
      "model_name": "ButtonStyleModel",
      "state": {}
     },
     "77d46caf07104d56a95bacb764b7d436": {
      "model_module": "@jupyter-widgets/base",
      "model_module_version": "1.2.0",
      "model_name": "LayoutModel",
      "state": {}
     },
     "78489e57058f483b8b2c7b984d414d88": {
      "model_module": "@jupyter-widgets/controls",
      "model_module_version": "1.5.0",
      "model_name": "ButtonModel",
      "state": {
       "description": "Submit",
       "icon": "check",
       "layout": "IPY_MODEL_1ac2b09114f8473b8bb26177a33712b4",
       "style": "IPY_MODEL_35d4d0c8a88047a482817f372b79f2c9"
      }
     },
     "79605a4b13d344e29e14cd94a3f84cbd": {
      "model_module": "@jupyter-widgets/controls",
      "model_module_version": "1.5.0",
      "model_name": "DescriptionStyleModel",
      "state": {
       "description_width": ""
      }
     },
     "79a3ba6f09aa40e09d8834d011b588f0": {
      "model_module": "@jupyter-widgets/controls",
      "model_module_version": "1.5.0",
      "model_name": "RadioButtonsModel",
      "state": {
       "_options_labels": [
        "never",
        "monthly",
        "daily",
        "weekly",
        "daily",
        "hourly",
        "all the time"
       ],
       "description": "How often do I ask myself WHERE questions:",
       "disabled": true,
       "index": 0,
       "layout": "IPY_MODEL_be23336881e848198a5c5e0d30908320",
       "style": "IPY_MODEL_3311b97769c04f36b07ca5e266a786b1"
      }
     },
     "79f498e3d28b4fbe8cba7c4fafe9b217": {
      "model_module": "@jupyter-widgets/base",
      "model_module_version": "1.2.0",
      "model_name": "LayoutModel",
      "state": {
       "width": "100%"
      }
     },
     "79f8e5daad3a446399a2160c83678f11": {
      "model_module": "@jupyter-widgets/base",
      "model_module_version": "1.2.0",
      "model_name": "LayoutModel",
      "state": {}
     },
     "7ae4a78a63464a5695979a74a73eff8a": {
      "model_module": "@jupyter-widgets/controls",
      "model_module_version": "1.5.0",
      "model_name": "DescriptionStyleModel",
      "state": {
       "description_width": ""
      }
     },
     "7aff36ae271840e6bd5633344c2dd9a1": {
      "model_module": "@jupyter-widgets/base",
      "model_module_version": "1.2.0",
      "model_name": "LayoutModel",
      "state": {}
     },
     "7bcb5d8b178c4f0bbc79d3da2d73d5eb": {
      "model_module": "@jupyter-widgets/base",
      "model_module_version": "1.2.0",
      "model_name": "LayoutModel",
      "state": {}
     },
     "7c1761d77a0641afaadb42229daec82e": {
      "model_module": "@jupyter-widgets/controls",
      "model_module_version": "1.5.0",
      "model_name": "RadioButtonsModel",
      "state": {
       "_options_labels": [
        "never",
        "monthly",
        "daily",
        "weekly",
        "daily",
        "hourly",
        "all the time"
       ],
       "index": 0,
       "layout": "IPY_MODEL_8f3018e0b969444aa996d3e9c28708b8",
       "style": "IPY_MODEL_6fc5e38bc63447368155f0cc5c3b4193"
      }
     },
     "7d05b00f86824c2f898410db66d17b5b": {
      "model_module": "@jupyter-widgets/base",
      "model_module_version": "1.2.0",
      "model_name": "LayoutModel",
      "state": {}
     },
     "7e96fe0b13d44ff19c4a1ce90a1d749f": {
      "model_module": "@jupyter-widgets/controls",
      "model_module_version": "1.5.0",
      "model_name": "DescriptionStyleModel",
      "state": {
       "description_width": ""
      }
     },
     "8030b0ed50814bcaaa305f961f678314": {
      "model_module": "@jupyter-widgets/controls",
      "model_module_version": "1.5.0",
      "model_name": "ButtonStyleModel",
      "state": {}
     },
     "807fbcf9fa424de7abe10737e4d72ee1": {
      "model_module": "@jupyter-widgets/output",
      "model_module_version": "1.0.0",
      "model_name": "OutputModel",
      "state": {
       "layout": "IPY_MODEL_713d29417fae497785d870220ba599fb"
      }
     },
     "80dd76fd6b5c45579e15f318f5ec692e": {
      "model_module": "@jupyter-widgets/controls",
      "model_module_version": "1.5.0",
      "model_name": "RadioButtonsModel",
      "state": {
       "_options_labels": [
        "never",
        "monthly",
        "daily",
        "weekly",
        "daily",
        "hourly",
        "all the time"
       ],
       "description": "How often do I ask myself WHERE questions:",
       "index": 0,
       "layout": "IPY_MODEL_48cb35dae2a8471f9f2bd1f8361cdf20",
       "style": "IPY_MODEL_6bb406aa335946098aab31d30e26aac0"
      }
     },
     "81189a84205f4c28ae5061e7a8d1d182": {
      "model_module": "@jupyter-widgets/controls",
      "model_module_version": "1.5.0",
      "model_name": "RadioButtonsModel",
      "state": {
       "_options_labels": [
        "never",
        "monthly",
        "daily",
        "weekly",
        "daily",
        "hourly",
        "all the time"
       ],
       "index": 0,
       "layout": "IPY_MODEL_f32658197d5847de9c23936ec4b741c0",
       "style": "IPY_MODEL_aead2d7fb4434c0e9b6703a62e425965"
      }
     },
     "82a2210ee9944023831391b98cc89014": {
      "model_module": "@jupyter-widgets/base",
      "model_module_version": "1.2.0",
      "model_name": "LayoutModel",
      "state": {
       "width": "100%"
      }
     },
     "83880419099e47778bbb8a13aeedb298": {
      "model_module": "@jupyter-widgets/controls",
      "model_module_version": "1.5.0",
      "model_name": "DescriptionStyleModel",
      "state": {
       "description_width": ""
      }
     },
     "84a5e3d606674237a492a29e04038d1d": {
      "model_module": "@jupyter-widgets/base",
      "model_module_version": "1.2.0",
      "model_name": "LayoutModel",
      "state": {}
     },
     "84ce6aba86664f88b8b15d9f06d998af": {
      "model_module": "@jupyter-widgets/base",
      "model_module_version": "1.2.0",
      "model_name": "LayoutModel",
      "state": {}
     },
     "853c6fa139a2413e9f52cb94f06fbb38": {
      "model_module": "@jupyter-widgets/controls",
      "model_module_version": "1.5.0",
      "model_name": "DescriptionStyleModel",
      "state": {
       "description_width": ""
      }
     },
     "8691354e99f34696a0651fa7ffc13ca7": {
      "model_module": "@jupyter-widgets/output",
      "model_module_version": "1.0.0",
      "model_name": "OutputModel",
      "state": {
       "layout": "IPY_MODEL_c2feea7e0a124cc4ae5023f9242ca46d"
      }
     },
     "88dd9d7477f44ab58964455bd1f75618": {
      "model_module": "@jupyter-widgets/controls",
      "model_module_version": "1.5.0",
      "model_name": "ButtonStyleModel",
      "state": {}
     },
     "893b5c6681674f0ba8450f8b8f948ca4": {
      "model_module": "@jupyter-widgets/controls",
      "model_module_version": "1.5.0",
      "model_name": "RadioButtonsModel",
      "state": {
       "_options_labels": [
        "never",
        "monthly",
        "daily",
        "weekly",
        "daily",
        "hourly",
        "all the time"
       ],
       "index": 0,
       "layout": "IPY_MODEL_696c9bd13916422fa20ca8cb57198752",
       "style": "IPY_MODEL_79605a4b13d344e29e14cd94a3f84cbd"
      }
     },
     "8953403e5d1a440190352df32aee228b": {
      "model_module": "@jupyter-widgets/base",
      "model_module_version": "1.2.0",
      "model_name": "LayoutModel",
      "state": {}
     },
     "89ea8277b9a14893a4fd1227d1ded157": {
      "model_module": "@jupyter-widgets/output",
      "model_module_version": "1.0.0",
      "model_name": "OutputModel",
      "state": {
       "layout": "IPY_MODEL_5b2f16eb03bd47f8b457733283d09c12"
      }
     },
     "8bd8bd6edc7d40dcb9c2b9b2184c584e": {
      "model_module": "@jupyter-widgets/controls",
      "model_module_version": "1.5.0",
      "model_name": "ButtonModel",
      "state": {
       "description": "Submit",
       "icon": "check",
       "layout": "IPY_MODEL_67051bfd19054b1db964892d6aa01933",
       "style": "IPY_MODEL_cafb85fa0ad94a7eb49697dc4b64fdeb"
      }
     },
     "8d3467d865ed4a08a85353c556c04d10": {
      "model_module": "@jupyter-widgets/base",
      "model_module_version": "1.2.0",
      "model_name": "LayoutModel",
      "state": {
       "width": "100%"
      }
     },
     "8eec39a9c4b04da3b44575cabedda7ec": {
      "model_module": "@jupyter-widgets/output",
      "model_module_version": "1.0.0",
      "model_name": "OutputModel",
      "state": {
       "layout": "IPY_MODEL_c4447a59eb3b4ceaae6442a0ae0d8598"
      }
     },
     "8f3018e0b969444aa996d3e9c28708b8": {
      "model_module": "@jupyter-widgets/base",
      "model_module_version": "1.2.0",
      "model_name": "LayoutModel",
      "state": {}
     },
     "8f6332684f984d0093774d43a76f221d": {
      "model_module": "@jupyter-widgets/controls",
      "model_module_version": "1.5.0",
      "model_name": "ButtonStyleModel",
      "state": {}
     },
     "91c775f6d33c4520a10a24d27cde7028": {
      "model_module": "@jupyter-widgets/controls",
      "model_module_version": "1.5.0",
      "model_name": "ButtonModel",
      "state": {
       "description": "Submit",
       "icon": "check",
       "layout": "IPY_MODEL_5fbd8ffc4c20407dabf324bb5a24e8cd",
       "style": "IPY_MODEL_d56ed1dd167f4266b4505a8e28a809a4"
      }
     },
     "92c2b56b439f49cd82bc0934b98b18aa": {
      "model_module": "@jupyter-widgets/base",
      "model_module_version": "1.2.0",
      "model_name": "LayoutModel",
      "state": {}
     },
     "92d4e828e3a245c5802836530d95adbe": {
      "model_module": "@jupyter-widgets/controls",
      "model_module_version": "1.5.0",
      "model_name": "RadioButtonsModel",
      "state": {
       "_options_labels": [
        "never",
        "monthly",
        "daily",
        "weekly",
        "daily",
        "hourly",
        "all the time"
       ],
       "description": "How often do I ask myself WHERE questions:",
       "index": null,
       "layout": "IPY_MODEL_cc672da66b664eb78226aa281fcef02e",
       "style": "IPY_MODEL_2eafcb05f0534fdb8c66406967e05567"
      }
     },
     "94175804a6af4f18b6d09a0a52ba1d7c": {
      "model_module": "@jupyter-widgets/base",
      "model_module_version": "1.2.0",
      "model_name": "LayoutModel",
      "state": {}
     },
     "956b0004491c442f90d186d9caeddd30": {
      "model_module": "@jupyter-widgets/base",
      "model_module_version": "1.2.0",
      "model_name": "LayoutModel",
      "state": {}
     },
     "95f4ce7a4f7148988eadac16ecc5a5ac": {
      "model_module": "@jupyter-widgets/controls",
      "model_module_version": "1.5.0",
      "model_name": "RadioButtonsModel",
      "state": {
       "_options_labels": [
        "never",
        "monthly",
        "daily",
        "weekly",
        "daily",
        "hourly",
        "all the time"
       ],
       "description": "How often do I ask myself WHERE questions:",
       "index": null,
       "layout": "IPY_MODEL_c7265ad7622247a98203f69476eddad8",
       "style": "IPY_MODEL_f808beb9b58e42258f960b6901f6d182"
      }
     },
     "970aa6ccd48441d19cd675a847addf94": {
      "model_module": "@jupyter-widgets/controls",
      "model_module_version": "1.5.0",
      "model_name": "ButtonModel",
      "state": {
       "description": "Submit",
       "icon": "check",
       "layout": "IPY_MODEL_08f61f2f773b4d66b3116d74491ae927",
       "style": "IPY_MODEL_65580060069446fdbcdd3962c46c3c09"
      }
     },
     "9881e730058d4a4593d47b47c5fd61d2": {
      "model_module": "@jupyter-widgets/base",
      "model_module_version": "1.2.0",
      "model_name": "LayoutModel",
      "state": {}
     },
     "98d3ac2f62e6492981687f18fa905a47": {
      "model_module": "@jupyter-widgets/base",
      "model_module_version": "1.2.0",
      "model_name": "LayoutModel",
      "state": {}
     },
     "9999b184d1d44b9daa4a526af7c81904": {
      "model_module": "@jupyter-widgets/output",
      "model_module_version": "1.0.0",
      "model_name": "OutputModel",
      "state": {
       "layout": "IPY_MODEL_0155506b66ce421e81cd755331b4226a"
      }
     },
     "9a3790f949174f1290cba9d4b4d66146": {
      "model_module": "@jupyter-widgets/controls",
      "model_module_version": "1.5.0",
      "model_name": "DescriptionStyleModel",
      "state": {
       "description_width": "initial"
      }
     },
     "9baba8dd6719453c9ab6d9c53d7709a8": {
      "model_module": "@jupyter-widgets/base",
      "model_module_version": "1.2.0",
      "model_name": "LayoutModel",
      "state": {}
     },
     "9e8a7c9d415b43828b2979273206c0c4": {
      "model_module": "@jupyter-widgets/controls",
      "model_module_version": "1.5.0",
      "model_name": "DescriptionStyleModel",
      "state": {
       "description_width": ""
      }
     },
     "9f0a07c933a9466ebb61e29e31d0dea1": {
      "model_module": "@jupyter-widgets/base",
      "model_module_version": "1.2.0",
      "model_name": "LayoutModel",
      "state": {}
     },
     "9f6cbb045714459db7cc5ebb9fea5295": {
      "model_module": "@jupyter-widgets/controls",
      "model_module_version": "1.5.0",
      "model_name": "ButtonStyleModel",
      "state": {}
     },
     "9fbf278932984c738451e50b6f906968": {
      "model_module": "@jupyter-widgets/controls",
      "model_module_version": "1.5.0",
      "model_name": "ButtonModel",
      "state": {
       "description": "Submit",
       "icon": "check",
       "layout": "IPY_MODEL_1efd081757e743f58d315858bd401675",
       "style": "IPY_MODEL_8030b0ed50814bcaaa305f961f678314"
      }
     },
     "a0a0a8eaa77741a2b79a7933fe4096dd": {
      "model_module": "@jupyter-widgets/controls",
      "model_module_version": "1.5.0",
      "model_name": "ButtonModel",
      "state": {
       "description": "Submit",
       "icon": "check",
       "layout": "IPY_MODEL_bbc51cb940d541efab0882f781d2fea3",
       "style": "IPY_MODEL_e3a518611ed04a70a357cbd364c5b87e"
      }
     },
     "a0ad3fadd6af42f086e5ac501f5b5977": {
      "model_module": "@jupyter-widgets/base",
      "model_module_version": "1.2.0",
      "model_name": "LayoutModel",
      "state": {}
     },
     "a166bc43bc044c51b05561a00d0e3f9f": {
      "model_module": "@jupyter-widgets/base",
      "model_module_version": "1.2.0",
      "model_name": "LayoutModel",
      "state": {}
     },
     "a2e76716f5574ee3aae19bde88c69dc1": {
      "model_module": "@jupyter-widgets/controls",
      "model_module_version": "1.5.0",
      "model_name": "ButtonModel",
      "state": {
       "description": "Submit",
       "icon": "check",
       "layout": "IPY_MODEL_451c97b521bd4cb79732dc7fd4407555",
       "style": "IPY_MODEL_066fd3a00de94deb84b8448058e9ccd7"
      }
     },
     "a6a675316b704ba0af38b12402a4b8d1": {
      "model_module": "@jupyter-widgets/controls",
      "model_module_version": "1.5.0",
      "model_name": "DescriptionStyleModel",
      "state": {
       "description_width": ""
      }
     },
     "a6fd44cc315646dba162bf165df1f9c6": {
      "model_module": "@jupyter-widgets/output",
      "model_module_version": "1.0.0",
      "model_name": "OutputModel",
      "state": {
       "layout": "IPY_MODEL_e4d05596795b4606a684c62ce9ebb8f1"
      }
     },
     "a73e49b7e9c244eb8055e0ed5995b62c": {
      "model_module": "@jupyter-widgets/controls",
      "model_module_version": "1.5.0",
      "model_name": "RadioButtonsModel",
      "state": {
       "_options_labels": [
        "never",
        "monthly",
        "daily",
        "weekly",
        "daily",
        "hourly",
        "all the time"
       ],
       "description": "How often do I ask myself WHERE questions:",
       "index": null,
       "layout": "IPY_MODEL_1e5d74cbcef148e1b57c792a90aaa021",
       "style": "IPY_MODEL_cb14eb8a3ce94f91988017619a0fff68"
      }
     },
     "a789e037812646f8b1a30e09564b4b2a": {
      "model_module": "@jupyter-widgets/controls",
      "model_module_version": "1.5.0",
      "model_name": "RadioButtonsModel",
      "state": {
       "_options_labels": [
        "never",
        "monthly",
        "daily",
        "weekly",
        "daily",
        "hourly",
        "all the time"
       ],
       "description": "How often do I ask myself WHERE questions:",
       "index": 0,
       "layout": "IPY_MODEL_23a2c1847a174a86a11d86c5f7c58b38",
       "style": "IPY_MODEL_e4b49ac38da44031b05949a3ee169809"
      }
     },
     "a7af70e7e251462d988619024b4814b6": {
      "model_module": "@jupyter-widgets/controls",
      "model_module_version": "1.5.0",
      "model_name": "ButtonModel",
      "state": {
       "description": "Submit",
       "icon": "check",
       "layout": "IPY_MODEL_4b0f7292b2fd43038dadab07bdc2c26c",
       "style": "IPY_MODEL_6127cc42318f41bf8d43ece9371a6f2d"
      }
     },
     "a9542b6122cc4861aff41b87fd86d2cd": {
      "model_module": "@jupyter-widgets/controls",
      "model_module_version": "1.5.0",
      "model_name": "RadioButtonsModel",
      "state": {
       "_options_labels": [
        "never",
        "monthly",
        "daily",
        "weekly",
        "daily",
        "hourly",
        "all the time"
       ],
       "description": "How often do I ask myself WHERE questions:",
       "index": 0,
       "layout": "IPY_MODEL_d623c152769842feac85ce4a7eb3a661",
       "style": "IPY_MODEL_74ce8453139741898a68785f972a3b72"
      }
     },
     "aa353391b9ea4b3aa3cfc5899becfbfb": {
      "model_module": "@jupyter-widgets/output",
      "model_module_version": "1.0.0",
      "model_name": "OutputModel",
      "state": {
       "layout": "IPY_MODEL_2fa30059bdcf47128edb4766972baa5b"
      }
     },
     "ab6777c4ad3c458098b08fe37ef0dce1": {
      "model_module": "@jupyter-widgets/controls",
      "model_module_version": "1.5.0",
      "model_name": "ButtonModel",
      "state": {
       "description": "Submit",
       "icon": "check",
       "layout": "IPY_MODEL_3400e9d39b0547fcace8229eb54e8fbe",
       "style": "IPY_MODEL_88dd9d7477f44ab58964455bd1f75618"
      }
     },
     "acdf263bbc454a7eb312313e20d27991": {
      "model_module": "@jupyter-widgets/controls",
      "model_module_version": "1.5.0",
      "model_name": "ButtonStyleModel",
      "state": {}
     },
     "ae8a5eb6267548e398b6af6c84407d4b": {
      "model_module": "@jupyter-widgets/output",
      "model_module_version": "1.0.0",
      "model_name": "OutputModel",
      "state": {
       "layout": "IPY_MODEL_a166bc43bc044c51b05561a00d0e3f9f"
      }
     },
     "aead2d7fb4434c0e9b6703a62e425965": {
      "model_module": "@jupyter-widgets/controls",
      "model_module_version": "1.5.0",
      "model_name": "DescriptionStyleModel",
      "state": {
       "description_width": ""
      }
     },
     "b00e6b8e38ab4e5a9727b7abb5d98881": {
      "model_module": "@jupyter-widgets/controls",
      "model_module_version": "1.5.0",
      "model_name": "ButtonStyleModel",
      "state": {}
     },
     "b30e48dd60fc48ea83d07a7795d5eab3": {
      "model_module": "@jupyter-widgets/output",
      "model_module_version": "1.0.0",
      "model_name": "OutputModel",
      "state": {
       "layout": "IPY_MODEL_d63be2469c8b4ababfc078af98182356"
      }
     },
     "b44e0332e1614f85962493378649d50f": {
      "model_module": "@jupyter-widgets/output",
      "model_module_version": "1.0.0",
      "model_name": "OutputModel",
      "state": {
       "layout": "IPY_MODEL_9baba8dd6719453c9ab6d9c53d7709a8"
      }
     },
     "b48a1aab914444a9b8c5bf734eb3de7f": {
      "model_module": "@jupyter-widgets/output",
      "model_module_version": "1.0.0",
      "model_name": "OutputModel",
      "state": {
       "layout": "IPY_MODEL_1adfcc7f6f954123bd21baf1bf5d909e"
      }
     },
     "b54714d14dbd4ee8bace1d23eef22cb8": {
      "model_module": "@jupyter-widgets/base",
      "model_module_version": "1.2.0",
      "model_name": "LayoutModel",
      "state": {}
     },
     "b5ade8fa042e47c8870a8b39d8423d48": {
      "model_module": "@jupyter-widgets/controls",
      "model_module_version": "1.5.0",
      "model_name": "RadioButtonsModel",
      "state": {
       "_options_labels": [
        "never",
        "monthly",
        "daily",
        "weekly",
        "daily",
        "hourly",
        "all the time"
       ],
       "description": "How often do I ask myself WHERE questions:",
       "index": 0,
       "layout": "IPY_MODEL_6c82224bfffb4814a2c5358a06fd8981",
       "style": "IPY_MODEL_1e1630c763e24fcfa9be44954ee7e61f"
      }
     },
     "b5eaadb530b14171ac0634df633152ff": {
      "model_module": "@jupyter-widgets/base",
      "model_module_version": "1.2.0",
      "model_name": "LayoutModel",
      "state": {}
     },
     "b759e98dae2840b9bc7c37b12edbf0a8": {
      "model_module": "@jupyter-widgets/controls",
      "model_module_version": "1.5.0",
      "model_name": "ButtonModel",
      "state": {
       "description": "Submit",
       "icon": "check",
       "layout": "IPY_MODEL_6ff7c3bb1b7647528bdfa1f565fb0104",
       "style": "IPY_MODEL_43ece9463b3e4d30bdf617df8386bd2a"
      }
     },
     "b7dd2adf5c9e41f4989526e0ec951e91": {
      "model_module": "@jupyter-widgets/base",
      "model_module_version": "1.2.0",
      "model_name": "LayoutModel",
      "state": {
       "width": "100%"
      }
     },
     "b8feaca4244d4bd3809232dc8ed8b799": {
      "model_module": "@jupyter-widgets/controls",
      "model_module_version": "1.5.0",
      "model_name": "ButtonStyleModel",
      "state": {}
     },
     "b99937bc8dd44b4aa3b7eecfc547a98e": {
      "model_module": "@jupyter-widgets/output",
      "model_module_version": "1.0.0",
      "model_name": "OutputModel",
      "state": {
       "layout": "IPY_MODEL_7bcb5d8b178c4f0bbc79d3da2d73d5eb"
      }
     },
     "ba6dfe37338b4dfab0fab7ca2f03894e": {
      "model_module": "@jupyter-widgets/output",
      "model_module_version": "1.0.0",
      "model_name": "OutputModel",
      "state": {
       "layout": "IPY_MODEL_94175804a6af4f18b6d09a0a52ba1d7c"
      }
     },
     "bb726be615de4b1f83e0c6766c02ee26": {
      "model_module": "@jupyter-widgets/base",
      "model_module_version": "1.2.0",
      "model_name": "LayoutModel",
      "state": {}
     },
     "bbc51cb940d541efab0882f781d2fea3": {
      "model_module": "@jupyter-widgets/base",
      "model_module_version": "1.2.0",
      "model_name": "LayoutModel",
      "state": {}
     },
     "bc352e5bfcda44e2b66be5f746acc5a4": {
      "model_module": "@jupyter-widgets/base",
      "model_module_version": "1.2.0",
      "model_name": "LayoutModel",
      "state": {}
     },
     "bc59bcc37d054a0488ad9077690e4c5f": {
      "model_module": "@jupyter-widgets/output",
      "model_module_version": "1.0.0",
      "model_name": "OutputModel",
      "state": {
       "layout": "IPY_MODEL_603204e450674b24bc1940090d00ce60"
      }
     },
     "be23336881e848198a5c5e0d30908320": {
      "model_module": "@jupyter-widgets/base",
      "model_module_version": "1.2.0",
      "model_name": "LayoutModel",
      "state": {
       "width": "100%"
      }
     },
     "bf7f58d8bed54a5ab32776663f095db6": {
      "model_module": "@jupyter-widgets/output",
      "model_module_version": "1.0.0",
      "model_name": "OutputModel",
      "state": {
       "layout": "IPY_MODEL_0833c9148a6c4bdf8ad5b5d578c2012e"
      }
     },
     "c00c4c494fb849689f480bcedeb372fe": {
      "model_module": "@jupyter-widgets/output",
      "model_module_version": "1.0.0",
      "model_name": "OutputModel",
      "state": {
       "layout": "IPY_MODEL_b5eaadb530b14171ac0634df633152ff"
      }
     },
     "c03cf37f969341e88d359064929daf73": {
      "model_module": "@jupyter-widgets/controls",
      "model_module_version": "1.5.0",
      "model_name": "DescriptionStyleModel",
      "state": {
       "description_width": "initial"
      }
     },
     "c179aabfcbe0482cbfd18fd89c3efe0b": {
      "model_module": "@jupyter-widgets/base",
      "model_module_version": "1.2.0",
      "model_name": "LayoutModel",
      "state": {}
     },
     "c27588380502476f810c82736960111c": {
      "model_module": "@jupyter-widgets/output",
      "model_module_version": "1.0.0",
      "model_name": "OutputModel",
      "state": {
       "layout": "IPY_MODEL_c179aabfcbe0482cbfd18fd89c3efe0b"
      }
     },
     "c29c2cccddff4001a97f618d26c86027": {
      "model_module": "@jupyter-widgets/base",
      "model_module_version": "1.2.0",
      "model_name": "LayoutModel",
      "state": {}
     },
     "c2d9047d1b6b4257b9dac3dffb2f1fb6": {
      "model_module": "@jupyter-widgets/base",
      "model_module_version": "1.2.0",
      "model_name": "LayoutModel",
      "state": {}
     },
     "c2feea7e0a124cc4ae5023f9242ca46d": {
      "model_module": "@jupyter-widgets/base",
      "model_module_version": "1.2.0",
      "model_name": "LayoutModel",
      "state": {}
     },
     "c35bac1b92d54e9fbe57f438d22198c9": {
      "model_module": "@jupyter-widgets/controls",
      "model_module_version": "1.5.0",
      "model_name": "ButtonModel",
      "state": {
       "description": "Submit",
       "icon": "check",
       "layout": "IPY_MODEL_9881e730058d4a4593d47b47c5fd61d2",
       "style": "IPY_MODEL_0bcf101bf5fa49039a391c53915e8191"
      }
     },
     "c366876705dc4ffc9ee1acfb23bee5c2": {
      "model_module": "@jupyter-widgets/output",
      "model_module_version": "1.0.0",
      "model_name": "OutputModel",
      "state": {
       "layout": "IPY_MODEL_2e3bbd78de7646febcdfd23a07f370cf"
      }
     },
     "c4447a59eb3b4ceaae6442a0ae0d8598": {
      "model_module": "@jupyter-widgets/base",
      "model_module_version": "1.2.0",
      "model_name": "LayoutModel",
      "state": {}
     },
     "c5915213385f4a8f8d4349890cdd9ec8": {
      "model_module": "@jupyter-widgets/controls",
      "model_module_version": "1.5.0",
      "model_name": "ButtonModel",
      "state": {
       "description": "Submit",
       "icon": "check",
       "layout": "IPY_MODEL_79f8e5daad3a446399a2160c83678f11",
       "style": "IPY_MODEL_fa33e4a57ac54640b1db3abc25186c96"
      }
     },
     "c5b65a746f8b402fb8284893fe318bbc": {
      "model_module": "@jupyter-widgets/output",
      "model_module_version": "1.0.0",
      "model_name": "OutputModel",
      "state": {
       "layout": "IPY_MODEL_a0ad3fadd6af42f086e5ac501f5b5977"
      }
     },
     "c7265ad7622247a98203f69476eddad8": {
      "model_module": "@jupyter-widgets/base",
      "model_module_version": "1.2.0",
      "model_name": "LayoutModel",
      "state": {
       "width": "100%"
      }
     },
     "c771b6498adc434cad8635431f8d8ffc": {
      "model_module": "@jupyter-widgets/base",
      "model_module_version": "1.2.0",
      "model_name": "LayoutModel",
      "state": {
       "width": "100%"
      }
     },
     "ca421ae220284c2b91c86712823c4e22": {
      "model_module": "@jupyter-widgets/base",
      "model_module_version": "1.2.0",
      "model_name": "LayoutModel",
      "state": {}
     },
     "ca578c9a95f74ba0b2c3722738e30a80": {
      "model_module": "@jupyter-widgets/controls",
      "model_module_version": "1.5.0",
      "model_name": "RadioButtonsModel",
      "state": {
       "_options_labels": [
        "never",
        "monthly",
        "daily",
        "weekly",
        "daily",
        "hourly",
        "all the time"
       ],
       "description": "How often do I ask myself WHERE questions:",
       "index": null,
       "layout": "IPY_MODEL_6b35eece7da742ce8c9765a0cc3b3870",
       "style": "IPY_MODEL_e82d829c59b140179c326b2d2eedb10a"
      }
     },
     "cafb85fa0ad94a7eb49697dc4b64fdeb": {
      "model_module": "@jupyter-widgets/controls",
      "model_module_version": "1.5.0",
      "model_name": "ButtonStyleModel",
      "state": {}
     },
     "cb14eb8a3ce94f91988017619a0fff68": {
      "model_module": "@jupyter-widgets/controls",
      "model_module_version": "1.5.0",
      "model_name": "DescriptionStyleModel",
      "state": {
       "description_width": "initial"
      }
     },
     "cc672da66b664eb78226aa281fcef02e": {
      "model_module": "@jupyter-widgets/base",
      "model_module_version": "1.2.0",
      "model_name": "LayoutModel",
      "state": {
       "width": "100%"
      }
     },
     "cdce7eec200742b8891f1396709c0615": {
      "model_module": "@jupyter-widgets/base",
      "model_module_version": "1.2.0",
      "model_name": "LayoutModel",
      "state": {
       "width": "100%"
      }
     },
     "ce1058c29575480585beec041cba0cbb": {
      "model_module": "@jupyter-widgets/controls",
      "model_module_version": "1.5.0",
      "model_name": "DescriptionStyleModel",
      "state": {
       "description_width": ""
      }
     },
     "cfa0420396b845d68ba28167be7264ab": {
      "model_module": "@jupyter-widgets/controls",
      "model_module_version": "1.5.0",
      "model_name": "ButtonModel",
      "state": {
       "description": "Submit",
       "icon": "check",
       "layout": "IPY_MODEL_d148e37adb7a4b3d8b1f95433767075d",
       "style": "IPY_MODEL_3257dc43ba9b4a33afb8f37bccc8b19a"
      }
     },
     "d10bcfa512334e7e87eaf5eb89830761": {
      "model_module": "@jupyter-widgets/controls",
      "model_module_version": "1.5.0",
      "model_name": "ButtonStyleModel",
      "state": {}
     },
     "d148e37adb7a4b3d8b1f95433767075d": {
      "model_module": "@jupyter-widgets/base",
      "model_module_version": "1.2.0",
      "model_name": "LayoutModel",
      "state": {}
     },
     "d18d92508f104b02a39671332f299adf": {
      "model_module": "@jupyter-widgets/controls",
      "model_module_version": "1.5.0",
      "model_name": "ButtonModel",
      "state": {
       "description": "Submit",
       "icon": "check",
       "layout": "IPY_MODEL_feebd9314397432392220a02e5e60675",
       "style": "IPY_MODEL_e0b835b0f64b4cbda233a61bc149a61f"
      }
     },
     "d247b062df5f4e0ba58a58d8b3f5a0bb": {
      "model_module": "@jupyter-widgets/base",
      "model_module_version": "1.2.0",
      "model_name": "LayoutModel",
      "state": {}
     },
     "d32723fe34244f69a5c497e486025fea": {
      "model_module": "@jupyter-widgets/controls",
      "model_module_version": "1.5.0",
      "model_name": "ButtonModel",
      "state": {
       "description": "Submit",
       "icon": "check",
       "layout": "IPY_MODEL_72ff6bae73f24fac9e98f19d0b418b4e",
       "style": "IPY_MODEL_46a2201471ee409ea6cb0e79196343fe"
      }
     },
     "d468387bba504b57ab0c5564e95cb445": {
      "model_module": "@jupyter-widgets/base",
      "model_module_version": "1.2.0",
      "model_name": "LayoutModel",
      "state": {}
     },
     "d56ed1dd167f4266b4505a8e28a809a4": {
      "model_module": "@jupyter-widgets/controls",
      "model_module_version": "1.5.0",
      "model_name": "ButtonStyleModel",
      "state": {}
     },
     "d623c152769842feac85ce4a7eb3a661": {
      "model_module": "@jupyter-widgets/base",
      "model_module_version": "1.2.0",
      "model_name": "LayoutModel",
      "state": {
       "width": "100%"
      }
     },
     "d63be2469c8b4ababfc078af98182356": {
      "model_module": "@jupyter-widgets/base",
      "model_module_version": "1.2.0",
      "model_name": "LayoutModel",
      "state": {}
     },
     "d67f287b686e42f684d197a79bc8d53c": {
      "model_module": "@jupyter-widgets/controls",
      "model_module_version": "1.5.0",
      "model_name": "ButtonModel",
      "state": {
       "description": "Submit",
       "icon": "check",
       "layout": "IPY_MODEL_ca421ae220284c2b91c86712823c4e22",
       "style": "IPY_MODEL_6cf137832a924c588c0a241b145a8488"
      }
     },
     "d6dd46f6dd624df4a1e16eb65c46571b": {
      "model_module": "@jupyter-widgets/controls",
      "model_module_version": "1.5.0",
      "model_name": "RadioButtonsModel",
      "state": {
       "_options_labels": [
        "never",
        "monthly",
        "daily",
        "weekly",
        "daily",
        "hourly",
        "all the time"
       ],
       "description": "How often do I ask myself WHERE questions:",
       "index": null,
       "layout": "IPY_MODEL_79f498e3d28b4fbe8cba7c4fafe9b217",
       "style": "IPY_MODEL_9a3790f949174f1290cba9d4b4d66146"
      }
     },
     "d6e8c5dcdeff4f5ba681ec515e614ed2": {
      "model_module": "@jupyter-widgets/controls",
      "model_module_version": "1.5.0",
      "model_name": "DescriptionStyleModel",
      "state": {
       "description_width": ""
      }
     },
     "d7524749fa4046b1a8a9b73d3f2612c1": {
      "model_module": "@jupyter-widgets/controls",
      "model_module_version": "1.5.0",
      "model_name": "ButtonModel",
      "state": {
       "description": "Submit",
       "icon": "check",
       "layout": "IPY_MODEL_134a0a6d7d8d410c9e4d75cf6d70b64f",
       "style": "IPY_MODEL_33b1fe39ef0a40d7bf98d6aa5a3f32b9"
      }
     },
     "d7ce1f88e3b74e4694d3db45710cea77": {
      "model_module": "@jupyter-widgets/controls",
      "model_module_version": "1.5.0",
      "model_name": "ButtonModel",
      "state": {
       "description": "Submit",
       "icon": "check",
       "layout": "IPY_MODEL_6160d378fb1b4bf184cc7247a7f35fb6",
       "style": "IPY_MODEL_f3de97668e4048babc48ad644227b115"
      }
     },
     "d89af0d0df2d4260b5155a35333d6862": {
      "model_module": "@jupyter-widgets/controls",
      "model_module_version": "1.5.0",
      "model_name": "ButtonStyleModel",
      "state": {}
     },
     "d89c4dc6b8ec4d079ecfd9f2570e6e36": {
      "model_module": "@jupyter-widgets/base",
      "model_module_version": "1.2.0",
      "model_name": "LayoutModel",
      "state": {}
     },
     "d95ec7081aba4eaeb28dd911e57c71ef": {
      "model_module": "@jupyter-widgets/base",
      "model_module_version": "1.2.0",
      "model_name": "LayoutModel",
      "state": {}
     },
     "da790119085f406f982006cd55f24406": {
      "model_module": "@jupyter-widgets/controls",
      "model_module_version": "1.5.0",
      "model_name": "ButtonModel",
      "state": {
       "description": "Submit",
       "icon": "check",
       "layout": "IPY_MODEL_84a5e3d606674237a492a29e04038d1d",
       "style": "IPY_MODEL_75679619960547cf91430660c9593cda"
      }
     },
     "dca450f9aaa34f9ca8f075c748f75400": {
      "model_module": "@jupyter-widgets/controls",
      "model_module_version": "1.5.0",
      "model_name": "RadioButtonsModel",
      "state": {
       "_options_labels": [
        "never",
        "monthly",
        "daily",
        "weekly",
        "daily",
        "hourly",
        "all the time"
       ],
       "description": "How often do I ask myself WHERE questions:",
       "index": 0,
       "layout": "IPY_MODEL_6fad59e4cc45485f82dcaf5770af546b",
       "style": "IPY_MODEL_7ae4a78a63464a5695979a74a73eff8a"
      }
     },
     "ddde57c03a234a1480ece03b5069de30": {
      "model_module": "@jupyter-widgets/controls",
      "model_module_version": "1.5.0",
      "model_name": "ButtonModel",
      "state": {
       "description": "Submit",
       "icon": "check",
       "layout": "IPY_MODEL_2898957a9f5c43aaa9ee684f5d7576f3",
       "style": "IPY_MODEL_d89af0d0df2d4260b5155a35333d6862"
      }
     },
     "e056b6c816d242629960e84016b1dd90": {
      "model_module": "@jupyter-widgets/base",
      "model_module_version": "1.2.0",
      "model_name": "LayoutModel",
      "state": {}
     },
     "e06e439f82254238a12d8b76941fb2a5": {
      "model_module": "@jupyter-widgets/controls",
      "model_module_version": "1.5.0",
      "model_name": "ButtonStyleModel",
      "state": {}
     },
     "e07994335a18481b9ac9db2f9313928e": {
      "model_module": "@jupyter-widgets/base",
      "model_module_version": "1.2.0",
      "model_name": "LayoutModel",
      "state": {
       "width": "100%"
      }
     },
     "e0b835b0f64b4cbda233a61bc149a61f": {
      "model_module": "@jupyter-widgets/controls",
      "model_module_version": "1.5.0",
      "model_name": "ButtonStyleModel",
      "state": {}
     },
     "e2b73257ab144831931c188049ae5fcf": {
      "model_module": "@jupyter-widgets/controls",
      "model_module_version": "1.5.0",
      "model_name": "ButtonModel",
      "state": {
       "description": "Submit",
       "icon": "check",
       "layout": "IPY_MODEL_3de833dee5bc40d0836a240d00d164f5",
       "style": "IPY_MODEL_fe99fb50225e43b8921527bb2ffd83bd"
      }
     },
     "e3a518611ed04a70a357cbd364c5b87e": {
      "model_module": "@jupyter-widgets/controls",
      "model_module_version": "1.5.0",
      "model_name": "ButtonStyleModel",
      "state": {}
     },
     "e46c4fc0679945d2873344c4166e54e3": {
      "model_module": "@jupyter-widgets/base",
      "model_module_version": "1.2.0",
      "model_name": "LayoutModel",
      "state": {
       "width": "100%"
      }
     },
     "e4b49ac38da44031b05949a3ee169809": {
      "model_module": "@jupyter-widgets/controls",
      "model_module_version": "1.5.0",
      "model_name": "DescriptionStyleModel",
      "state": {
       "description_width": ""
      }
     },
     "e4d05596795b4606a684c62ce9ebb8f1": {
      "model_module": "@jupyter-widgets/base",
      "model_module_version": "1.2.0",
      "model_name": "LayoutModel",
      "state": {}
     },
     "e542a885dcff4a90b798b20d99e0119c": {
      "model_module": "@jupyter-widgets/controls",
      "model_module_version": "1.5.0",
      "model_name": "RadioButtonsModel",
      "state": {
       "_options_labels": [
        "never",
        "monthly",
        "daily",
        "weekly",
        "daily",
        "hourly",
        "all the time"
       ],
       "description": "How often do I ask myself WHERE questions:",
       "index": null,
       "layout": "IPY_MODEL_8d3467d865ed4a08a85353c556c04d10",
       "style": "IPY_MODEL_23c93459f53e4b2e9cfc692883e06c5c"
      }
     },
     "e58f115e6b3b45a4941f48833917aaea": {
      "model_module": "@jupyter-widgets/base",
      "model_module_version": "1.2.0",
      "model_name": "LayoutModel",
      "state": {
       "width": "100%"
      }
     },
     "e5e4ad064d874b50b3772982c6b46761": {
      "model_module": "@jupyter-widgets/controls",
      "model_module_version": "1.5.0",
      "model_name": "ButtonModel",
      "state": {
       "description": "Submit",
       "icon": "check",
       "layout": "IPY_MODEL_efcaa46ea4d0473bb39adff067263c0e",
       "style": "IPY_MODEL_4c72d72bf52248eca928f2812ac3a4d7"
      }
     },
     "e627831eeddd4181a636bec98e6351cd": {
      "model_module": "@jupyter-widgets/output",
      "model_module_version": "1.0.0",
      "model_name": "OutputModel",
      "state": {
       "layout": "IPY_MODEL_140f1b43600b4b3bace845633387cef2"
      }
     },
     "e667e0b5c4534f0391dfefa9665f9775": {
      "model_module": "@jupyter-widgets/controls",
      "model_module_version": "1.5.0",
      "model_name": "RadioButtonsModel",
      "state": {
       "_options_labels": [
        "never",
        "monthly",
        "daily",
        "weekly",
        "daily",
        "hourly",
        "all the time"
       ],
       "description": "How often do I ask myself WHERE questions:",
       "index": 0,
       "layout": "IPY_MODEL_0dee6f5108db44a39468e82e6671382a",
       "style": "IPY_MODEL_6fb969a60ef74c4391b8aba98fec39e7"
      }
     },
     "e677e91808984846a920bb595cef5660": {
      "model_module": "@jupyter-widgets/controls",
      "model_module_version": "1.5.0",
      "model_name": "ButtonModel",
      "state": {
       "description": "Submit",
       "icon": "check",
       "layout": "IPY_MODEL_6963811086dc42d68e3e827eae2ffceb",
       "style": "IPY_MODEL_174c4c94c1ae4260974b94e509d177db"
      }
     },
     "e69b27f42f1048e487ec706f4a118b6a": {
      "model_module": "@jupyter-widgets/controls",
      "model_module_version": "1.5.0",
      "model_name": "RadioButtonsModel",
      "state": {
       "_options_labels": [
        "never",
        "monthly",
        "daily",
        "weekly",
        "daily",
        "hourly",
        "all the time"
       ],
       "index": 0,
       "layout": "IPY_MODEL_b54714d14dbd4ee8bace1d23eef22cb8",
       "style": "IPY_MODEL_426c752d77ba47dd8a006daa003747f9"
      }
     },
     "e7488b060cae416795635a6e9bd5ce59": {
      "model_module": "@jupyter-widgets/base",
      "model_module_version": "1.2.0",
      "model_name": "LayoutModel",
      "state": {
       "width": "100%"
      }
     },
     "e811a23638ec4e89af4027930c662157": {
      "model_module": "@jupyter-widgets/controls",
      "model_module_version": "1.5.0",
      "model_name": "ButtonStyleModel",
      "state": {}
     },
     "e81cf3e2884742a5893004a8baba1f78": {
      "model_module": "@jupyter-widgets/controls",
      "model_module_version": "1.5.0",
      "model_name": "ButtonStyleModel",
      "state": {}
     },
     "e82d829c59b140179c326b2d2eedb10a": {
      "model_module": "@jupyter-widgets/controls",
      "model_module_version": "1.5.0",
      "model_name": "DescriptionStyleModel",
      "state": {
       "description_width": "initial"
      }
     },
     "ea500a6f56ef4c8386ed16241b909fe4": {
      "model_module": "@jupyter-widgets/controls",
      "model_module_version": "1.5.0",
      "model_name": "ButtonModel",
      "state": {
       "description": "Submit",
       "icon": "check",
       "layout": "IPY_MODEL_d95ec7081aba4eaeb28dd911e57c71ef",
       "style": "IPY_MODEL_55f92d45c75f4e6db8c9a15b8ebcf087"
      }
     },
     "ed415349785748e9b65a878b87e4acb6": {
      "model_module": "@jupyter-widgets/base",
      "model_module_version": "1.2.0",
      "model_name": "LayoutModel",
      "state": {}
     },
     "ee6146bb04ff4c1199061881b618c5c5": {
      "model_module": "@jupyter-widgets/controls",
      "model_module_version": "1.5.0",
      "model_name": "ButtonModel",
      "state": {
       "description": "Submit",
       "icon": "check",
       "layout": "IPY_MODEL_2ac6a8b0950349759074c6a356a656e9",
       "style": "IPY_MODEL_9f6cbb045714459db7cc5ebb9fea5295"
      }
     },
     "ef40d2225d364f1dbd239e8eb76a200d": {
      "model_module": "@jupyter-widgets/controls",
      "model_module_version": "1.5.0",
      "model_name": "RadioButtonsModel",
      "state": {
       "_options_labels": [
        "never",
        "monthly",
        "daily",
        "weekly",
        "daily",
        "hourly",
        "all the time"
       ],
       "index": 0,
       "layout": "IPY_MODEL_f8f9054dd58d4c8dab5d03f830b6cf66",
       "style": "IPY_MODEL_1fb671e1ed7346d686f65082d850ab32"
      }
     },
     "efb020dcf826458e9f69f312606c7093": {
      "model_module": "@jupyter-widgets/base",
      "model_module_version": "1.2.0",
      "model_name": "LayoutModel",
      "state": {}
     },
     "efcaa46ea4d0473bb39adff067263c0e": {
      "model_module": "@jupyter-widgets/base",
      "model_module_version": "1.2.0",
      "model_name": "LayoutModel",
      "state": {}
     },
     "f0f582381c714870a8510f81e3b437ca": {
      "model_module": "@jupyter-widgets/base",
      "model_module_version": "1.2.0",
      "model_name": "LayoutModel",
      "state": {}
     },
     "f1e91e48842a488f96ce53b76f4ce8d5": {
      "model_module": "@jupyter-widgets/controls",
      "model_module_version": "1.5.0",
      "model_name": "DescriptionStyleModel",
      "state": {
       "description_width": ""
      }
     },
     "f1fc009104a94e6ba7308c98e3edf7f0": {
      "model_module": "@jupyter-widgets/controls",
      "model_module_version": "1.5.0",
      "model_name": "RadioButtonsModel",
      "state": {
       "_options_labels": [
        "never",
        "monthly",
        "daily",
        "weekly",
        "daily",
        "hourly",
        "all the time"
       ],
       "index": 0,
       "layout": "IPY_MODEL_fb283c1454b24f3a84ca2be4ddecd7df",
       "style": "IPY_MODEL_28a2d778154a4cfbb20f1809bdb6467e"
      }
     },
     "f2ac3bf3bb194da0b6267dbfe9a62766": {
      "model_module": "@jupyter-widgets/controls",
      "model_module_version": "1.5.0",
      "model_name": "RadioButtonsModel",
      "state": {
       "_options_labels": [
        "never",
        "monthly",
        "daily",
        "weekly",
        "daily",
        "hourly",
        "all the time"
       ],
       "description": "How often do I ask myself WHERE questions:",
       "index": 0,
       "layout": "IPY_MODEL_e46c4fc0679945d2873344c4166e54e3",
       "style": "IPY_MODEL_6415031c4f544aefbbb45798972fde2b"
      }
     },
     "f32658197d5847de9c23936ec4b741c0": {
      "model_module": "@jupyter-widgets/base",
      "model_module_version": "1.2.0",
      "model_name": "LayoutModel",
      "state": {}
     },
     "f3de97668e4048babc48ad644227b115": {
      "model_module": "@jupyter-widgets/controls",
      "model_module_version": "1.5.0",
      "model_name": "ButtonStyleModel",
      "state": {}
     },
     "f5436804add94881a71e15b3e8dbb36f": {
      "model_module": "@jupyter-widgets/base",
      "model_module_version": "1.2.0",
      "model_name": "LayoutModel",
      "state": {}
     },
     "f6164acce45547e9a069085ed52fc334": {
      "model_module": "@jupyter-widgets/output",
      "model_module_version": "1.0.0",
      "model_name": "OutputModel",
      "state": {
       "layout": "IPY_MODEL_d247b062df5f4e0ba58a58d8b3f5a0bb"
      }
     },
     "f677efd92fc148f8a9a3e42b380fdea5": {
      "model_module": "@jupyter-widgets/controls",
      "model_module_version": "1.5.0",
      "model_name": "ButtonStyleModel",
      "state": {}
     },
     "f79ec02b39414191a78cb30b8d0787c4": {
      "model_module": "@jupyter-widgets/controls",
      "model_module_version": "1.5.0",
      "model_name": "ButtonModel",
      "state": {
       "description": "Submit",
       "icon": "check",
       "layout": "IPY_MODEL_4b5e7873de7b4497913468f36f7a71c0",
       "style": "IPY_MODEL_e06e439f82254238a12d8b76941fb2a5"
      }
     },
     "f808beb9b58e42258f960b6901f6d182": {
      "model_module": "@jupyter-widgets/controls",
      "model_module_version": "1.5.0",
      "model_name": "DescriptionStyleModel",
      "state": {
       "description_width": "initial"
      }
     },
     "f8f9054dd58d4c8dab5d03f830b6cf66": {
      "model_module": "@jupyter-widgets/base",
      "model_module_version": "1.2.0",
      "model_name": "LayoutModel",
      "state": {
       "width": "100%"
      }
     },
     "f93b09957c8c450c97f3191fec8b5419": {
      "model_module": "@jupyter-widgets/controls",
      "model_module_version": "1.5.0",
      "model_name": "ButtonStyleModel",
      "state": {}
     },
     "f968593b97424983b22ec5d165defcd2": {
      "model_module": "@jupyter-widgets/controls",
      "model_module_version": "1.5.0",
      "model_name": "ButtonModel",
      "state": {
       "description": "Submit",
       "icon": "check",
       "layout": "IPY_MODEL_956b0004491c442f90d186d9caeddd30",
       "style": "IPY_MODEL_67d0fa8ff42343bcbb2307dfaba2e34e"
      }
     },
     "fa33e4a57ac54640b1db3abc25186c96": {
      "model_module": "@jupyter-widgets/controls",
      "model_module_version": "1.5.0",
      "model_name": "ButtonStyleModel",
      "state": {}
     },
     "fa6ef670e2474f56bbe4ac06526102ee": {
      "model_module": "@jupyter-widgets/controls",
      "model_module_version": "1.5.0",
      "model_name": "RadioButtonsModel",
      "state": {
       "_options_labels": [
        "never",
        "monthly",
        "daily",
        "weekly",
        "daily",
        "hourly",
        "all the time"
       ],
       "description": "How often do I ask myself WHERE questions:",
       "index": 0,
       "layout": "IPY_MODEL_3a2d922a1d96435c8efee2cefed7485a",
       "style": "IPY_MODEL_25c87e462b44490fb3ae98a02d4aebd0"
      }
     },
     "fadc3f92d3df486eb5c86aa794c0ab5d": {
      "model_module": "@jupyter-widgets/controls",
      "model_module_version": "1.5.0",
      "model_name": "ButtonModel",
      "state": {
       "description": "Submit",
       "icon": "check",
       "layout": "IPY_MODEL_3723e165442a49db93517c667916fa44",
       "style": "IPY_MODEL_38aab2a7f4694559900c2e6dba909a8e"
      }
     },
     "fb06947b770f4dd3869fe442e4dc1bab": {
      "model_module": "@jupyter-widgets/base",
      "model_module_version": "1.2.0",
      "model_name": "LayoutModel",
      "state": {}
     },
     "fb283c1454b24f3a84ca2be4ddecd7df": {
      "model_module": "@jupyter-widgets/base",
      "model_module_version": "1.2.0",
      "model_name": "LayoutModel",
      "state": {
       "width": "100%"
      }
     },
     "fcac740302dc41aa87587265da1bc021": {
      "model_module": "@jupyter-widgets/controls",
      "model_module_version": "1.5.0",
      "model_name": "RadioButtonsModel",
      "state": {
       "_options_labels": [
        "never",
        "monthly",
        "daily",
        "weekly",
        "daily",
        "hourly",
        "all the time"
       ],
       "description": "How often do I ask myself WHERE questions:",
       "index": 0,
       "layout": "IPY_MODEL_55b18fa88a214070b423fe7ac0877415",
       "style": "IPY_MODEL_1f13fece1a6c4579abbee97661b1d2f8"
      }
     },
     "fdab1c1527404700b886aada94a39b62": {
      "model_module": "@jupyter-widgets/controls",
      "model_module_version": "1.5.0",
      "model_name": "ButtonModel",
      "state": {
       "description": "Submit",
       "icon": "check",
       "layout": "IPY_MODEL_1b65a444d8ec4e59904f6820ed0ca620",
       "style": "IPY_MODEL_e81cf3e2884742a5893004a8baba1f78"
      }
     },
     "fe99fb50225e43b8921527bb2ffd83bd": {
      "model_module": "@jupyter-widgets/controls",
      "model_module_version": "1.5.0",
      "model_name": "ButtonStyleModel",
      "state": {}
     },
     "feebd9314397432392220a02e5e60675": {
      "model_module": "@jupyter-widgets/base",
      "model_module_version": "1.2.0",
      "model_name": "LayoutModel",
      "state": {}
     },
     "ffb920ff887e4ce6a9ce3fa958bd7ece": {
      "model_module": "@jupyter-widgets/base",
      "model_module_version": "1.2.0",
      "model_name": "LayoutModel",
      "state": {}
     },
     "fff2655d2eaf4b429e399dda482e1e1c": {
      "model_module": "@jupyter-widgets/controls",
      "model_module_version": "1.5.0",
      "model_name": "DescriptionStyleModel",
      "state": {
       "description_width": "initial"
      }
     }
    },
    "version_major": 2,
    "version_minor": 0
   }
  }
 },
 "nbformat": 4,
 "nbformat_minor": 2
}
