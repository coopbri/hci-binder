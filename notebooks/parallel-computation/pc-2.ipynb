{
 "cells": [
  {
   "cell_type": "markdown",
   "metadata": {
    "slideshow": {
     "slide_type": "slide"
    }
   },
   "source": [
    "# Parallel Computation\n",
    "## A Law of Parallel Computation\n",
    "*Lesson Developer: Eric Shook eshook@umn.edu*\n"
   ]
  },
  {
   "cell_type": "code",
   "execution_count": 18,
   "metadata": {
    "init_cell": true,
    "slideshow": {
     "slide_type": "skip"
    }
   },
   "outputs": [
    {
     "data": {
      "text/html": [
       "\n",
       "    <script>\n",
       "        display = true; \n",
       "        function toggle() {\n",
       "            var input = $(\"div.input\");\n",
       "            if (display) { input.hide(); }\n",
       "            else { input.show(); }\n",
       "            display = !display;\n",
       "        }\n",
       "        $(document).ready(toggle);\n",
       "    </script>\n",
       "    \n",
       "    <form action=\"javascript:toggle()\">\n",
       "        <input type=\"submit\" value=\"Toggle raw code\">\n",
       "    </form>\n"
      ],
      "text/plain": [
       "<IPython.core.display.HTML object>"
      ]
     },
     "execution_count": 18,
     "metadata": {},
     "output_type": "execute_result"
    }
   ],
   "source": [
    "from IPython.display import HTML, IFrame, Javascript\n",
    "from ipywidgets import interactive, Layout\n",
    "import ipywidgets as widgets\n",
    "\n",
    "# hide code output\n",
    "HTML('''\n",
    "    <script>\n",
    "        display = true; \n",
    "        function toggle() {\n",
    "            var input = $(\"div.input\");\n",
    "            if (display) { input.hide(); }\n",
    "            else { input.show(); }\n",
    "            display = !display;\n",
    "        }\n",
    "        $(document).ready(toggle);\n",
    "    </script>\n",
    "    \n",
    "    <form action=\"javascript:toggle()\">\n",
    "        <input type=\"submit\" value=\"Toggle raw code\">\n",
    "    </form>\n",
    "''')"
   ]
  },
  {
   "cell_type": "markdown",
   "metadata": {
    "slideshow": {
     "slide_type": "slide"
    }
   },
   "source": [
    "### Serial and Parallel Computation\n",
    "\n",
    "Sometimes Sam needs something to do. What happens when Sam is responsible for planting some of the field and Parker and Patricia are responsible for planting the rest? Remember, Sam only works alone. So when Sam is planting then Parker and Patricia have to stay out of the field.\n",
    "\n",
    "TODO Add D3 element with Sam, Parker, and Patricia. Give them each a slice of the field. (No speed options here)"
   ]
  },
  {
   "cell_type": "code",
   "execution_count": 19,
   "metadata": {
    "init_cell": true,
    "slideshow": {
     "slide_type": "fragment"
    }
   },
   "outputs": [
    {
     "data": {
      "text/html": [
       "\n",
       "        <iframe\n",
       "            width=\"850\"\n",
       "            height=\"450\"\n",
       "            src=\"supplementary/field-three.html\"\n",
       "            frameborder=\"0\"\n",
       "            allowfullscreen\n",
       "        ></iframe>\n",
       "        "
      ],
      "text/plain": [
       "<IPython.lib.display.IFrame at 0x7fad17783b20>"
      ]
     },
     "execution_count": 19,
     "metadata": {},
     "output_type": "execute_result"
    }
   ],
   "source": [
    "IFrame(\"supplementary/field-three.html\", width=\"850\", height=\"450\")"
   ]
  },
  {
   "cell_type": "markdown",
   "metadata": {
    "slideshow": {
     "slide_type": "slide"
    }
   },
   "source": [
    "How fast is the field planted if they divide the field evenly? Everyone gets 1/3 of the field."
   ]
  },
  {
   "cell_type": "code",
   "execution_count": 14,
   "metadata": {},
   "outputs": [
    {
     "data": {
      "application/vnd.jupyter.widget-view+json": {
       "model_id": "403620d29c7149c29309501ff2e1f097",
       "version_major": 2,
       "version_minor": 0
      },
      "text/plain": [
       "IntSlider(value=10, continuous_update=False, description='(WIP WIDGET - SEE CELL COMMENTS) Fastest time divide…"
      ]
     },
     "metadata": {},
     "output_type": "display_data"
    }
   ],
   "source": [
    "# TODO: Style the widget better, there's no easy way unfortunately\n",
    "# Add end values, add units ('seconds') to current value, etc.\n",
    "widgets.IntSlider(\n",
    "    value=10,\n",
    "    min=0,\n",
    "    max=20,\n",
    "    step=1,\n",
    "    description='(WIP WIDGET - SEE CELL COMMENTS) Fastest time divided evenly (0s - 20s):', style={'description_width': 'initial'},\n",
    "    layout = Layout(width='70%'),\n",
    "    disabled=False,\n",
    "    continuous_update=False,\n",
    "    orientation='horizontal',\n",
    "    readout=True,\n",
    "    readout_format='d'\n",
    ")"
   ]
  },
  {
   "cell_type": "markdown",
   "metadata": {
    "slideshow": {
     "slide_type": "fragment"
    }
   },
   "source": [
    "How fast can the field be planted? If you get to control how much, if any, of the field is planted by each person?\n",
    "\n",
    "__TODO__ (learner gets to slide the portions of field for each person)"
   ]
  },
  {
   "cell_type": "code",
   "execution_count": 17,
   "metadata": {},
   "outputs": [
    {
     "data": {
      "application/vnd.jupyter.widget-view+json": {
       "model_id": "6f374b638bc3450c9ee621e55cb13025",
       "version_major": 2,
       "version_minor": 0
      },
      "text/plain": [
       "IntSlider(value=10, continuous_update=False, description='(WIP WIDGET - SEE CELL COMMENTS) Fastest time (0s - …"
      ]
     },
     "metadata": {},
     "output_type": "display_data"
    }
   ],
   "source": [
    "# TODO: Style the widget better, there's no easy way unfortunately\n",
    "# Add end values, add units ('seconds') to current value, etc.\n",
    "widgets.IntSlider(\n",
    "    value=10,\n",
    "    min=0,\n",
    "    max=20,\n",
    "    step=1,\n",
    "    description='(WIP WIDGET - SEE CELL COMMENTS) Fastest time (0s - 20s):', style={'description_width': 'initial'},\n",
    "    layout = Layout(width='60%'),\n",
    "    disabled=False,\n",
    "    continuous_update=False,\n",
    "    orientation='horizontal',\n",
    "    readout=True,\n",
    "    readout_format='d'\n",
    ")"
   ]
  },
  {
   "cell_type": "markdown",
   "metadata": {
    "slideshow": {
     "slide_type": "slide"
    }
   },
   "source": [
    "### Coordination\n",
    "\n",
    "In our first scenario with Parker and Patricia you moved the bar to determine how much work they each had to do. Generally, Parker and Patricia would need to coordinate their efforts. They might talk and say something like: \n",
    "\n",
    "> Meet in the middle? \n",
    "\n",
    "> Sure, sounds good! Then we'll get something to eat at Hip Po Restaurant.\n",
    "\n",
    "That short discussion is usually required for two or more people to coordinate their work. The more workers there are, generally the longer the discussion needed for them to coordinate their work. Notice that they are not working when they are having their conversation. In fact only one of them is talking at a time. The time it takes to coordinate workers such as Parker and Patricia adds to the overall time to complete the task. "
   ]
  }
 ],
 "metadata": {
  "celltoolbar": "Slideshow",
  "kernelspec": {
   "display_name": "Python 3",
   "language": "python",
   "name": "python3"
  },
  "language_info": {
   "codemirror_mode": {
    "name": "ipython",
    "version": 3
   },
   "file_extension": ".py",
   "mimetype": "text/x-python",
   "name": "python",
   "nbconvert_exporter": "python",
   "pygments_lexer": "ipython3",
   "version": "3.8.0"
  },
  "rise": {
   "autolaunch": true
  }
 },
 "nbformat": 4,
 "nbformat_minor": 2
}
