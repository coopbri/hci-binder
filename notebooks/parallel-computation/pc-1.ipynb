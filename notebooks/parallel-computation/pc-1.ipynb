{
 "cells": [
  {
   "cell_type": "markdown",
   "metadata": {
    "slideshow": {
     "slide_type": "slide"
    }
   },
   "source": [
    "# Parallel Computation\n",
    "## Parallelism\n",
    "*Lesson Developer: Eric Shook eshook@umn.edu*\n"
   ]
  },
  {
   "cell_type": "code",
   "execution_count": 10,
   "metadata": {
    "init_cell": true,
    "slideshow": {
     "slide_type": "skip"
    }
   },
   "outputs": [
    {
     "data": {
      "text/html": [
       "\n",
       "    <script>\n",
       "        display = true; \n",
       "        function toggle() {\n",
       "            var input = $(\"div.input\");\n",
       "            if (display) { input.hide(); }\n",
       "            else { input.show(); }\n",
       "            display = !display;\n",
       "        }\n",
       "        $(document).ready(toggle);\n",
       "    </script>\n",
       "    \n",
       "    <!-- Hide output indicators (e.g. `Out [4]:`) -->\n",
       "    <style>\n",
       "        .output_prompt{opacity:0;}\n",
       "    </style>\n",
       "    \n",
       "    <form action=\"javascript:toggle()\">\n",
       "        <input type=\"submit\" value=\"Toggle raw code\">\n",
       "    </form>\n"
      ],
      "text/plain": [
       "<IPython.core.display.HTML object>"
      ]
     },
     "execution_count": 10,
     "metadata": {},
     "output_type": "execute_result"
    }
   ],
   "source": [
    "from IPython.display import HTML, IFrame, Javascript, SVG\n",
    "from ipywidgets import interactive, Layout\n",
    "import ipywidgets as widgets\n",
    "\n",
    "# hide code output\n",
    "HTML('''\n",
    "    <script>\n",
    "        display = true; \n",
    "        function toggle() {\n",
    "            var input = $(\"div.input\");\n",
    "            if (display) { input.hide(); }\n",
    "            else { input.show(); }\n",
    "            display = !display;\n",
    "        }\n",
    "        $(document).ready(toggle);\n",
    "    </script>\n",
    "    \n",
    "    <!-- Hide output indicators (e.g. `Out [4]:`) -->\n",
    "    <style>\n",
    "        .output_prompt{opacity:0;}\n",
    "    </style>\n",
    "    \n",
    "    <form action=\"javascript:toggle()\">\n",
    "        <input type=\"submit\" value=\"Toggle raw code\">\n",
    "    </form>\n",
    "''')"
   ]
  },
  {
   "cell_type": "markdown",
   "metadata": {
    "slideshow": {
     "slide_type": "slide"
    }
   },
   "source": [
    "### Purpose of Parallel Computation\n",
    "Almost every desktop computer, laptop computer, cellphone, and server has more that one processing **core** used to make sense of data, and they are called **multi-core processors.** These cores can help you find the nearest \"Hip Po Coffee\" location, estimate tomorrow's weather forecast, or calculate where stones thrown by a catapult will land. We use lots of terms for making sense of data: processing data, filtering data, querying data, analyzing data, data munging, and visualizing data are just a few examples. \n",
    "\n",
    "What if we have lots and lots of data? So much data that it takes one processing core hours, days, weeks, or even years to filter, query, analyze, or visualize it? Parallel computation is a special type of computation that enables multiple calculations to be performed simultanously using multiple processing cores.\n",
    "\n",
    "Before we get into parallel computation. First, let's have a little race."
   ]
  },
  {
   "cell_type": "markdown",
   "metadata": {
    "slideshow": {
     "slide_type": "slide"
    },
    "variables": {
     "IFrame(\"supplementary/field-manual.html\", width=\"600\", height=\"350\")": "\n        <iframe\n            width=\"600\"\n            height=\"350\"\n            src=\"supplementary/field-manual.html\"\n            frameborder=\"0\"\n            allowfullscreen\n        ></iframe>\n        "
    }
   },
   "source": [
    "### The race is on! How fast can you plant a field?\n",
    "\n",
    "Click on each cell to plant one seed. Let's see how fast you can do it.\n",
    "\n",
    "{{IFrame(\"supplementary/field-manual.html\", width=\"600\", height=\"350\")}}"
   ]
  },
  {
   "cell_type": "markdown",
   "metadata": {
    "slideshow": {
     "slide_type": "slide"
    }
   },
   "source": [
    "### Meet Sam.\n",
    "\n",
    "Sam is grumpy and works alone. In fact, he will only do his work when no one else is in the field.\n",
    "\n",
    "<img src=\"https://rawcdn.githack.com/coopbri/hci-binder/0a0f8e02e3a3e7429f881b69634200d671c0f560/notebooks/parallel-computation/supplementary/farmer.svg\" width=\"150\" height=\"150\">"
   ]
  },
  {
   "cell_type": "markdown",
   "metadata": {
    "slideshow": {
     "slide_type": "slide"
    },
    "variables": {
     "IFrame(\"supplementary/field-one.html\", width=\"600\", height=\"350\")": "\n        <iframe\n            width=\"600\"\n            height=\"350\"\n            src=\"supplementary/field-one.html\"\n            frameborder=\"0\"\n            allowfullscreen\n        ></iframe>\n        "
    }
   },
   "source": [
    "{{IFrame(\"supplementary/field-one.html\", width=\"600\", height=\"350\")}}\n",
    "\n",
    "How quickly can Sam plant the entire field if he has all the seeds?"
   ]
  },
  {
   "cell_type": "code",
   "execution_count": 2,
   "metadata": {},
   "outputs": [
    {
     "data": {
      "application/vnd.jupyter.widget-view+json": {
       "model_id": "63b7ef8ab0dc48798637d6ad70a9b388",
       "version_major": 2,
       "version_minor": 0
      },
      "text/plain": [
       "BoundedIntText(value=0, description=\"(WIP) Sam's fastest time (seconds):\", layout=Layout(width='40%'), style=D…"
      ]
     },
     "metadata": {},
     "output_type": "display_data"
    }
   ],
   "source": [
    "widgets.BoundedIntText(\n",
    "    value=0,\n",
    "    min=0,\n",
    "    max=100,\n",
    "    step=1,\n",
    "    description='(WIP) Sam\\'s fastest time (seconds):', style={'description_width': 'initial'},\n",
    "    layout = Layout(width='40%'),\n",
    ")"
   ]
  },
  {
   "cell_type": "markdown",
   "metadata": {
    "slideshow": {
     "slide_type": "slide"
    }
   },
   "source": [
    "What is the fundamental limitation in the planting time? Check all that apply."
   ]
  },
  {
   "cell_type": "code",
   "execution_count": 3,
   "metadata": {},
   "outputs": [
    {
     "data": {
      "application/vnd.jupyter.widget-view+json": {
       "model_id": "2460955b07594d17a97c69548e1b2ad1",
       "version_major": 2,
       "version_minor": 0
      },
      "text/plain": [
       "Checkbox(value=False, description=\"Sam's speed\")"
      ]
     },
     "metadata": {},
     "output_type": "display_data"
    },
    {
     "data": {
      "application/vnd.jupyter.widget-view+json": {
       "model_id": "6194e576cb7c49f08375542564e1d4d4",
       "version_major": 2,
       "version_minor": 0
      },
      "text/plain": [
       "Checkbox(value=False, description='The number of spots to plant')"
      ]
     },
     "metadata": {},
     "output_type": "display_data"
    },
    {
     "data": {
      "application/vnd.jupyter.widget-view+json": {
       "model_id": "fcdba88101354a15aad94adb14beade1",
       "version_major": 2,
       "version_minor": 0
      },
      "text/plain": [
       "Checkbox(value=False, description=\"Sam's shoe color\")"
      ]
     },
     "metadata": {},
     "output_type": "display_data"
    },
    {
     "data": {
      "application/vnd.jupyter.widget-view+json": {
       "model_id": "28d8f4db9da248f18551653392c1372c",
       "version_major": 2,
       "version_minor": 0
      },
      "text/plain": [
       "Button(description='Submit', icon='check', style=ButtonStyle())"
      ]
     },
     "metadata": {},
     "output_type": "display_data"
    },
    {
     "data": {
      "application/vnd.jupyter.widget-view+json": {
       "model_id": "1783c5d217344588b08d873f32b99fb1",
       "version_major": 2,
       "version_minor": 0
      },
      "text/plain": [
       "Output()"
      ]
     },
     "metadata": {},
     "output_type": "display_data"
    }
   ],
   "source": [
    "check1 = widgets.Checkbox(\n",
    "    value=False,\n",
    "    description='Sam\\'s speed',\n",
    "    disabled=False\n",
    ")\n",
    "check2 = widgets.Checkbox(\n",
    "    value=False,\n",
    "    description='The number of spots to plant',\n",
    "    disabled=False\n",
    ")\n",
    "check3 = widgets.Checkbox(\n",
    "    value=False,\n",
    "    description='Sam\\'s shoe color',\n",
    "    disabled=False\n",
    ")\n",
    "\n",
    "# Submit button\n",
    "button1 = widgets.Button(\n",
    "    description = 'Submit',\n",
    "    disabled = False,\n",
    "    button_style = '',\n",
    "    icon = 'check'\n",
    ")\n",
    "\n",
    "# Output\n",
    "output1 = widgets.Output()\n",
    "\n",
    "display(check1, check2, check3, button1, output1)\n",
    "\n",
    "# Output function\n",
    "def out(b):\n",
    "    with output1:\n",
    "        output1.clear_output()\n",
    "        if (check1.value and check2.value):\n",
    "            print(\"Correct!\")\n",
    "        else:\n",
    "            print(\"Not quite!\")\n",
    "\n",
    "# Handle click event\n",
    "button1.on_click(out)"
   ]
  },
  {
   "cell_type": "markdown",
   "metadata": {
    "slideshow": {
     "slide_type": "slide"
    }
   },
   "source": [
    "Sam's speed gives us an example of **processing speed.** How fast can a core process data? This is usually measured in clock cycles per second (or Hertz/Hz) and is the [Clock Rate](https://en.wikipedia.org/wiki/Clock_rate) of a processor. Today, most processors are between 1.8 and 3.0 Gigahertz/GHz. This means that processors have a clock speed between 1,800,000,000 to 3,000,000,000 clock cycles per second! The clock rate of a processor can tell you roughly how fast it can process data.\n",
    "\n",
    "The number of spots to plant gives us an example of **data to process.** How much data do we need to crunch before it is all done?\n",
    "\n",
    "Sam's shoe color is just a stylish choice so while it may help Sam feel cool. It won't get the field planted any faster."
   ]
  },
  {
   "cell_type": "markdown",
   "metadata": {
    "slideshow": {
     "slide_type": "slide"
    }
   },
   "source": [
    "How did you compare?\n",
    "\n",
    "**Show the time for person and time for sam.**\n",
    "\n",
    "Compared to Sam planting the field, I was: faster/slower/about the speed (dropdown menu with those 3 choices)"
   ]
  },
  {
   "cell_type": "markdown",
   "metadata": {
    "slideshow": {
     "slide_type": "slide"
    }
   },
   "source": [
    "Sam is an example of what is known as **serial computation**. He will only work alone and does his tasks one step at a time. When anyone learns how to program they learn how to write a program for serial computation. The next step in programming is **parallel computation.**"
   ]
  },
  {
   "cell_type": "markdown",
   "metadata": {
    "slideshow": {
     "slide_type": "slide"
    },
    "variables": {
     "IFrame(\"supplementary/field-two.html\", width=\"600\", height=\"520\")": "\n        <iframe\n            width=\"600\"\n            height=\"520\"\n            src=\"supplementary/field-two.html\"\n            frameborder=\"0\"\n            allowfullscreen\n        ></iframe>\n        "
    }
   },
   "source": [
    "### Meet Parker and Patricia. \n",
    "\n",
    "Parker and Patricia love to share, and they will work in the field at the same time. Move the BLUE? bar to adjust how many seeds they will each plant. Use the dropdown menu to adjust their planting speed.\n",
    "\n",
    "{{IFrame(\"supplementary/field-two.html\", width=\"600\", height=\"520\")}}\n",
    "\n",
    "How quickly can Parker and Patricia plant the entire field if they split all the seeds evenly?"
   ]
  },
  {
   "cell_type": "markdown",
   "metadata": {
    "slideshow": {
     "slide_type": "slide"
    },
    "variables": {
     "IFrame(\"supplementary/field-two.html\", width=\"600\", height=\"520\")": "\n        <iframe\n            width=\"600\"\n            height=\"520\"\n            src=\"supplementary/field-two.html\"\n            frameborder=\"0\"\n            allowfullscreen\n        ></iframe>\n        "
    }
   },
   "source": [
    "{{IFrame(\"supplementary/field-two.html\", width=\"600\", height=\"520\")}}\n",
    "\n",
    "When working together what is the fastest time that Parker and Patricia can plant the field?"
   ]
  },
  {
   "cell_type": "code",
   "execution_count": 4,
   "metadata": {},
   "outputs": [
    {
     "data": {
      "application/vnd.jupyter.widget-view+json": {
       "model_id": "18e93d75221d42b0a2db13b907d18dcc",
       "version_major": 2,
       "version_minor": 0
      },
      "text/plain": [
       "IntSlider(value=10, continuous_update=False, description='(WIP WIDGET - SEE CELL COMMENTS) Fastest time (0s - …"
      ]
     },
     "metadata": {},
     "output_type": "display_data"
    }
   ],
   "source": [
    "# TODO: Style the widget better, there's no easy way unfortunately\n",
    "# Add end values, add units ('seconds') to current value, etc.\n",
    "widgets.IntSlider(\n",
    "    value=10,\n",
    "    min=0,\n",
    "    max=20,\n",
    "    step=1,\n",
    "    description='(WIP WIDGET - SEE CELL COMMENTS) Fastest time (0s - 20s):', style={'description_width': 'initial'},\n",
    "    layout = Layout(width='60%'),\n",
    "    disabled=False,\n",
    "    continuous_update=False,\n",
    "    orientation='horizontal',\n",
    "    readout=True,\n",
    "    readout_format='d'\n",
    ")"
   ]
  },
  {
   "cell_type": "markdown",
   "metadata": {
    "slideshow": {
     "slide_type": "fragment"
    }
   },
   "source": [
    "What is the slowest time?"
   ]
  },
  {
   "cell_type": "code",
   "execution_count": 5,
   "metadata": {},
   "outputs": [
    {
     "data": {
      "application/vnd.jupyter.widget-view+json": {
       "model_id": "c81de5c99d59401fa03369f1a6695f40",
       "version_major": 2,
       "version_minor": 0
      },
      "text/plain": [
       "IntSlider(value=10, continuous_update=False, description='(WIP WIDGET - SEE CELL COMMENTS) Slowest time (0s - …"
      ]
     },
     "metadata": {},
     "output_type": "display_data"
    }
   ],
   "source": [
    "# TODO: Style the widget better, there's no easy way unfortunately\n",
    "# Add end values, add units ('seconds') to current value, etc.\n",
    "widgets.IntSlider(\n",
    "    value=10,\n",
    "    min=0,\n",
    "    max=20,\n",
    "    step=1,\n",
    "    description='(WIP WIDGET - SEE CELL COMMENTS) Slowest time (0s - 20s):', style={'description_width': 'initial'},\n",
    "    layout = Layout(width='60%'),\n",
    "    disabled=False,\n",
    "    continuous_update=False,\n",
    "    orientation='horizontal',\n",
    "    readout=True,\n",
    "    readout_format='d'\n",
    ")"
   ]
  },
  {
   "cell_type": "markdown",
   "metadata": {
    "slideshow": {
     "slide_type": "fragment"
    }
   },
   "source": [
    "What is the difference between the fastest and slowest time?"
   ]
  },
  {
   "cell_type": "code",
   "execution_count": 6,
   "metadata": {},
   "outputs": [
    {
     "data": {
      "application/vnd.jupyter.widget-view+json": {
       "model_id": "df27af7ef1654ec99c852eb1b67198f0",
       "version_major": 2,
       "version_minor": 0
      },
      "text/plain": [
       "BoundedIntText(value=0, description='(WIP) Difference between fastest and slowest time:', layout=Layout(width=…"
      ]
     },
     "metadata": {},
     "output_type": "display_data"
    }
   ],
   "source": [
    "widgets.BoundedIntText(\n",
    "    value=0,\n",
    "    min=0,\n",
    "    max=20,\n",
    "    step=1,\n",
    "    description='(WIP) Difference between fastest and slowest time:', style={'description_width': 'initial'},\n",
    "    layout = Layout(width='40%'),\n",
    ")"
   ]
  },
  {
   "cell_type": "markdown",
   "metadata": {
    "slideshow": {
     "slide_type": "slide"
    }
   },
   "source": [
    "To get the fastest time in this scenario requires two things. First, both Parker and Patricia need to be moving as quickly as possible, which means they are going the same speed: fast. Second, they need to have the same amount of work. \n",
    "\n",
    "The first requirement gives us an example of **processing speed** that we learned about earlier.\n",
    "\n",
    "The second requirement gives us an example of **load balancing.** Load balancing ensures that each core is processing its fair share of data, which will make parallel computation faster. Just as we saw with Parker and Patricia if they are both working to plant their portion of the field simultaneously the entire field is planted faster. If only Patricia is planting the field and Parker is not helping, then it takes longer because she is doing all of the work and Parker is doing no work. This is improper load balancing. The same is true in parallel computation. If we have two or more cores that are capable of processing data and we only use one core, then the other cores are not helping to speed up the computation."
   ]
  },
  {
   "cell_type": "markdown",
   "metadata": {
    "slideshow": {
     "slide_type": "slide"
    }
   },
   "source": [
    "**Continue the journey: [Next Example](pc-2.ipynb)**"
   ]
  }
 ],
 "metadata": {
  "celltoolbar": "Initialization Cell",
  "kernelspec": {
   "display_name": "Python 3",
   "language": "python",
   "name": "python3"
  },
  "language_info": {
   "codemirror_mode": {
    "name": "ipython",
    "version": 3
   },
   "file_extension": ".py",
   "mimetype": "text/x-python",
   "name": "python",
   "nbconvert_exporter": "python",
   "pygments_lexer": "ipython3",
   "version": "3.8.1"
  },
  "rise": {
   "autolaunch": true
  },
  "widgets": {
   "application/vnd.jupyter.widget-state+json": {
    "state": {
     "0037c3cb01114cb481b3832ca813c700": {
      "model_module": "@jupyter-widgets/controls",
      "model_module_version": "1.5.0",
      "model_name": "DescriptionStyleModel",
      "state": {
       "description_width": ""
      }
     },
     "00ce6b3aa9084f529af067ace954f937": {
      "model_module": "@jupyter-widgets/controls",
      "model_module_version": "1.5.0",
      "model_name": "ButtonModel",
      "state": {
       "description": "Submit",
       "icon": "check",
       "layout": "IPY_MODEL_0d17a58b2a0947a88e8170375acc81c6",
       "style": "IPY_MODEL_e380988fc45c42f6b8ac09a8c2077f32"
      }
     },
     "01115b52b6ff4db8a29b120aaf3c515f": {
      "model_module": "@jupyter-widgets/controls",
      "model_module_version": "1.5.0",
      "model_name": "IntSliderModel",
      "state": {
       "continuous_update": false,
       "description": "(WIP WIDGET - SEE CELL COMMENTS) Fastest time (0s - 20s):",
       "layout": "IPY_MODEL_c70a90e99caa4ea4b8072d672cd03e4b",
       "max": 20,
       "style": "IPY_MODEL_4f2d7a953f7848169aa0b33119232485",
       "value": 10
      }
     },
     "016bbdcc5200469780c57e2c32873575": {
      "model_module": "@jupyter-widgets/controls",
      "model_module_version": "1.5.0",
      "model_name": "CheckboxModel",
      "state": {
       "description": "The number of spots to plant",
       "disabled": false,
       "layout": "IPY_MODEL_03209be4a0384ffe98609ba16eed8cff",
       "style": "IPY_MODEL_b368dae376cc4b6c872b678d767264b1",
       "value": false
      }
     },
     "017ce4ca8351445f849edf6e7e704252": {
      "model_module": "@jupyter-widgets/base",
      "model_module_version": "1.2.0",
      "model_name": "LayoutModel",
      "state": {
       "width": "20%"
      }
     },
     "01e0a1e882024908a6be75a64668e96b": {
      "model_module": "@jupyter-widgets/controls",
      "model_module_version": "1.5.0",
      "model_name": "IntSliderModel",
      "state": {
       "continuous_update": false,
       "description": "Test:",
       "layout": "IPY_MODEL_7c77ef31a4284cac8595e0dd301629d5",
       "max": 10,
       "style": "IPY_MODEL_c73ca3051d5f4c4bb2d2f60aaf1d8ba6",
       "value": 7
      }
     },
     "026048f530024e3d8ffb29c47d6e79ce": {
      "model_module": "@jupyter-widgets/base",
      "model_module_version": "1.2.0",
      "model_name": "LayoutModel",
      "state": {}
     },
     "02bc1e03cbf44611aa4b7bfa79c9b164": {
      "model_module": "@jupyter-widgets/base",
      "model_module_version": "1.2.0",
      "model_name": "LayoutModel",
      "state": {}
     },
     "02bd541bc56540c39f7bddb1ce4f42a3": {
      "model_module": "@jupyter-widgets/controls",
      "model_module_version": "1.5.0",
      "model_name": "CheckboxModel",
      "state": {
       "description": "Sam's speed",
       "disabled": false,
       "layout": "IPY_MODEL_0dfe052e318f4d8793952a9456608dfd",
       "style": "IPY_MODEL_e0f30dea8a4e4f939d80c09dba7cd4d8",
       "value": true
      }
     },
     "02c82b014c104711bffbdc94ff85ac5b": {
      "model_module": "@jupyter-widgets/controls",
      "model_module_version": "1.5.0",
      "model_name": "CheckboxModel",
      "state": {
       "description": "The number of spots to plant",
       "disabled": false,
       "layout": "IPY_MODEL_be6e4c2293554c10b69484902c7464d7",
       "style": "IPY_MODEL_2aa48ab4685a4771833621e881f9e4bc",
       "value": false
      }
     },
     "03209be4a0384ffe98609ba16eed8cff": {
      "model_module": "@jupyter-widgets/base",
      "model_module_version": "1.2.0",
      "model_name": "LayoutModel",
      "state": {}
     },
     "055fa30ea8734c828397f5b6790766a2": {
      "model_module": "@jupyter-widgets/controls",
      "model_module_version": "1.5.0",
      "model_name": "ButtonModel",
      "state": {
       "description": "Submit",
       "icon": "check",
       "layout": "IPY_MODEL_ccc9152101d84130ade7e276af0150de",
       "style": "IPY_MODEL_9019476149244cb49de071e55fd1d829"
      }
     },
     "057ff0fdf56c4127aa08b0ae3b4de7e5": {
      "model_module": "@jupyter-widgets/controls",
      "model_module_version": "1.5.0",
      "model_name": "CheckboxModel",
      "state": {
       "description": "Sam's shoe color",
       "disabled": false,
       "layout": "IPY_MODEL_4b98992cb3704a64b615fb888e59a7dd",
       "style": "IPY_MODEL_cd07128c208e4d8780f8f8acd7892deb",
       "value": false
      }
     },
     "05d6ab7fe1c14c38bf28f557df333e9e": {
      "model_module": "@jupyter-widgets/controls",
      "model_module_version": "1.5.0",
      "model_name": "DescriptionStyleModel",
      "state": {
       "description_width": ""
      }
     },
     "0614968d83e7474f916bee9f62aa41b2": {
      "model_module": "@jupyter-widgets/controls",
      "model_module_version": "1.5.0",
      "model_name": "DescriptionStyleModel",
      "state": {
       "description_width": ""
      }
     },
     "065fb197630f4f0d9c20a3e13b78bfe6": {
      "model_module": "@jupyter-widgets/controls",
      "model_module_version": "1.5.0",
      "model_name": "IntSliderModel",
      "state": {
       "continuous_update": false,
       "description": "Fastest time (0s - 20s):",
       "layout": "IPY_MODEL_1ef0ecffb85145f0877f3ca11f6f8eee",
       "max": 20,
       "style": "IPY_MODEL_3a4ff6695036431998ff3edc14825231",
       "value": 10
      }
     },
     "0692f904eea445c38dbdcd153a00f1d8": {
      "model_module": "@jupyter-widgets/base",
      "model_module_version": "1.2.0",
      "model_name": "LayoutModel",
      "state": {}
     },
     "08281e58658f41bb84853b41b7f1ec50": {
      "model_module": "@jupyter-widgets/output",
      "model_module_version": "1.0.0",
      "model_name": "OutputModel",
      "state": {
       "layout": "IPY_MODEL_6cca897771f34c6e8640506ba8583394",
       "outputs": [
        {
         "name": "stdout",
         "output_type": "stream",
         "text": "False\nTrue\nFalse\n"
        }
       ]
      }
     },
     "08b2edba76e14f90a7281ba0e4eb80e3": {
      "model_module": "@jupyter-widgets/controls",
      "model_module_version": "1.5.0",
      "model_name": "DescriptionStyleModel",
      "state": {
       "description_width": ""
      }
     },
     "08ba70c7d1294594ac73c05d7d86d00a": {
      "model_module": "@jupyter-widgets/controls",
      "model_module_version": "1.5.0",
      "model_name": "DescriptionStyleModel",
      "state": {
       "description_width": ""
      }
     },
     "0954248a698944f8af0d731bbb7a2850": {
      "model_module": "@jupyter-widgets/controls",
      "model_module_version": "1.5.0",
      "model_name": "ButtonStyleModel",
      "state": {}
     },
     "09746780443541d3b406e25f94157d4d": {
      "model_module": "@jupyter-widgets/base",
      "model_module_version": "1.2.0",
      "model_name": "LayoutModel",
      "state": {}
     },
     "098b1cf24c444eaa8fb5bdcce95f42be": {
      "model_module": "@jupyter-widgets/controls",
      "model_module_version": "1.5.0",
      "model_name": "DescriptionStyleModel",
      "state": {
       "description_width": ""
      }
     },
     "0a13455e808044c3a24e37858d51b713": {
      "model_module": "@jupyter-widgets/controls",
      "model_module_version": "1.5.0",
      "model_name": "CheckboxModel",
      "state": {
       "description": "Sam's speed",
       "disabled": false,
       "layout": "IPY_MODEL_ee83cb3d7f1d448691cd77d83441455c",
       "style": "IPY_MODEL_bd84dd02267e4848b42a8a59b042ed7f",
       "value": false
      }
     },
     "0b1718b0f112402b89b62315cfad70a3": {
      "model_module": "@jupyter-widgets/output",
      "model_module_version": "1.0.0",
      "model_name": "OutputModel",
      "state": {
       "layout": "IPY_MODEL_68257a41f86c4b7da212bfdba31bebed"
      }
     },
     "0b3ff95938cf4d78b756a785cf312e98": {
      "model_module": "@jupyter-widgets/controls",
      "model_module_version": "1.5.0",
      "model_name": "CheckboxModel",
      "state": {
       "description": "Sam's speed",
       "disabled": false,
       "layout": "IPY_MODEL_2c8a2edd110c4436a0fa039e9b5d8382",
       "style": "IPY_MODEL_e73c23775ae442ef9c6bff740b79524f",
       "value": false
      }
     },
     "0b57babeacd641e5b0d2b6ebaf26d243": {
      "model_module": "@jupyter-widgets/base",
      "model_module_version": "1.2.0",
      "model_name": "LayoutModel",
      "state": {}
     },
     "0c08343ac1d645d6bc108cc0a6a94821": {
      "model_module": "@jupyter-widgets/controls",
      "model_module_version": "1.5.0",
      "model_name": "BoundedIntTextModel",
      "state": {
       "description": "Text:",
       "layout": "IPY_MODEL_31c95949bf9842288a995f3ce079694b",
       "max": 10,
       "style": "IPY_MODEL_d5d25eea0d8141998fabcc48dd4b657e",
       "value": 7
      }
     },
     "0cb36e43629d46c7858019afb08c1ac2": {
      "model_module": "@jupyter-widgets/controls",
      "model_module_version": "1.5.0",
      "model_name": "ButtonModel",
      "state": {
       "description": "Submit",
       "icon": "check",
       "layout": "IPY_MODEL_944dced2e7b9475cb1a60fd65020ff33",
       "style": "IPY_MODEL_f0e265ce0a29447cabbb2b687b81516d"
      }
     },
     "0cde86dffb7b4fbd840e028cc3a52632": {
      "model_module": "@jupyter-widgets/controls",
      "model_module_version": "1.5.0",
      "model_name": "DescriptionStyleModel",
      "state": {
       "description_width": ""
      }
     },
     "0d1296c76f234ee1bfe6a87b194ff639": {
      "model_module": "@jupyter-widgets/controls",
      "model_module_version": "1.5.0",
      "model_name": "BoundedIntTextModel",
      "state": {
       "description": "Difference between fastest and slowest time:",
       "layout": "IPY_MODEL_bf38a758011c4bed93774c3da7573b22",
       "max": 20,
       "style": "IPY_MODEL_a9e3fdcc7a834ddbba51387b7b5ef00e"
      }
     },
     "0d17a58b2a0947a88e8170375acc81c6": {
      "model_module": "@jupyter-widgets/base",
      "model_module_version": "1.2.0",
      "model_name": "LayoutModel",
      "state": {}
     },
     "0ddabfaab9144e9385aff67a71fb3abe": {
      "model_module": "@jupyter-widgets/base",
      "model_module_version": "1.2.0",
      "model_name": "LayoutModel",
      "state": {}
     },
     "0dfe052e318f4d8793952a9456608dfd": {
      "model_module": "@jupyter-widgets/base",
      "model_module_version": "1.2.0",
      "model_name": "LayoutModel",
      "state": {}
     },
     "0e422452907e40b296343729e61da3de": {
      "model_module": "@jupyter-widgets/base",
      "model_module_version": "1.2.0",
      "model_name": "LayoutModel",
      "state": {}
     },
     "0e4f144af83a490c96cb091f48776be0": {
      "model_module": "@jupyter-widgets/controls",
      "model_module_version": "1.5.0",
      "model_name": "ButtonStyleModel",
      "state": {}
     },
     "0f0423cf58d94dac84b81ba4dd89c0b5": {
      "model_module": "@jupyter-widgets/base",
      "model_module_version": "1.2.0",
      "model_name": "LayoutModel",
      "state": {}
     },
     "0fa6aa9430fd455a90d74cae4ca1126c": {
      "model_module": "@jupyter-widgets/controls",
      "model_module_version": "1.5.0",
      "model_name": "CheckboxModel",
      "state": {
       "description": "Test me",
       "disabled": false,
       "layout": "IPY_MODEL_d8213a73560147dca027fc48c29eb75a",
       "style": "IPY_MODEL_8257a38a35014e57a5e5946a3f949953",
       "value": false
      }
     },
     "11eed445fa2442a6b8d6d8fcd144c5df": {
      "model_module": "@jupyter-widgets/controls",
      "model_module_version": "1.5.0",
      "model_name": "IntSliderModel",
      "state": {
       "continuous_update": false,
       "description": "(WIP WIDGET - SEE CELL COMMENTS) Slowest time (0s - 20s):",
       "layout": "IPY_MODEL_ee28996807fd47738eebd2ad91433280",
       "max": 20,
       "style": "IPY_MODEL_d31a134d8fff40c283da36850a10104a",
       "value": 10
      }
     },
     "125ac8159fef42d8a125fb29aa8973ee": {
      "model_module": "@jupyter-widgets/base",
      "model_module_version": "1.2.0",
      "model_name": "LayoutModel",
      "state": {
       "width": "20%"
      }
     },
     "1294b87d880345d099df43a8320e0b7b": {
      "model_module": "@jupyter-widgets/base",
      "model_module_version": "1.2.0",
      "model_name": "LayoutModel",
      "state": {}
     },
     "1462753e46cc4a61b528be002b08f039": {
      "model_module": "@jupyter-widgets/controls",
      "model_module_version": "1.5.0",
      "model_name": "CheckboxModel",
      "state": {
       "description": "Check me",
       "disabled": false,
       "layout": "IPY_MODEL_4d328580ba2c46edb488d92f7c221b5d",
       "style": "IPY_MODEL_6e387c84f2fd444e9ed5a624cc102cdd",
       "value": false
      }
     },
     "1482096cfc6146c3bc77aaf535a6879b": {
      "model_module": "@jupyter-widgets/controls",
      "model_module_version": "1.5.0",
      "model_name": "DescriptionStyleModel",
      "state": {
       "description_width": "initial"
      }
     },
     "164e5312be4a4f2996255d07f412333e": {
      "model_module": "@jupyter-widgets/controls",
      "model_module_version": "1.5.0",
      "model_name": "CheckboxModel",
      "state": {
       "description": "The number of spots to plant",
       "disabled": false,
       "layout": "IPY_MODEL_6256f42248c3446ea3c6fad93d709dc2",
       "style": "IPY_MODEL_e864c1f4ba0a4476a394e2bff8b9b292",
       "value": false
      }
     },
     "1783c5d217344588b08d873f32b99fb1": {
      "model_module": "@jupyter-widgets/output",
      "model_module_version": "1.0.0",
      "model_name": "OutputModel",
      "state": {
       "layout": "IPY_MODEL_7fd8761828284b9e8d8595e30069005a"
      }
     },
     "1830ad45a3af49c8b6a4e4d6fe93ddd5": {
      "model_module": "@jupyter-widgets/controls",
      "model_module_version": "1.5.0",
      "model_name": "DescriptionStyleModel",
      "state": {
       "description_width": ""
      }
     },
     "18b1b770ed5b4f4898739adf8914d149": {
      "model_module": "@jupyter-widgets/base",
      "model_module_version": "1.2.0",
      "model_name": "LayoutModel",
      "state": {
       "width": "60%"
      }
     },
     "18e93d75221d42b0a2db13b907d18dcc": {
      "model_module": "@jupyter-widgets/controls",
      "model_module_version": "1.5.0",
      "model_name": "IntSliderModel",
      "state": {
       "continuous_update": false,
       "description": "(WIP WIDGET - SEE CELL COMMENTS) Fastest time (0s - 20s):",
       "layout": "IPY_MODEL_e255717b61504643bf98a4a908142670",
       "max": 20,
       "style": "IPY_MODEL_67ff6f75f4e643f2b82b909a8a568643",
       "value": 10
      }
     },
     "19206f1df298466e8b1865ca9a524a1e": {
      "model_module": "@jupyter-widgets/controls",
      "model_module_version": "1.5.0",
      "model_name": "DescriptionStyleModel",
      "state": {
       "description_width": "initial"
      }
     },
     "1995393d324746d9addb42949570303a": {
      "model_module": "@jupyter-widgets/base",
      "model_module_version": "1.2.0",
      "model_name": "LayoutModel",
      "state": {}
     },
     "19f6f6f7071841d68db375bcaeb96cf6": {
      "model_module": "@jupyter-widgets/controls",
      "model_module_version": "1.5.0",
      "model_name": "SliderStyleModel",
      "state": {
       "description_width": ""
      }
     },
     "1a548f808f264e83a5a8d025056e524e": {
      "model_module": "@jupyter-widgets/controls",
      "model_module_version": "1.5.0",
      "model_name": "DescriptionStyleModel",
      "state": {
       "description_width": ""
      }
     },
     "1a9c443d68834ab1a963d9cd1260bacc": {
      "model_module": "@jupyter-widgets/controls",
      "model_module_version": "1.5.0",
      "model_name": "DescriptionStyleModel",
      "state": {
       "description_width": ""
      }
     },
     "1c611e7137db48dca04ccf8972b5fa4a": {
      "model_module": "@jupyter-widgets/controls",
      "model_module_version": "1.5.0",
      "model_name": "BoundedIntTextModel",
      "state": {
       "description": "(WIP WIDGET - SEE CELL COMMENTS) Difference between fastest and slowest time:",
       "layout": "IPY_MODEL_cda9ca3fc6f542bea7fb99a2e1ceed1f",
       "max": 20,
       "style": "IPY_MODEL_d935dde7ace2497d97b89b2607da455b"
      }
     },
     "1d508e44a6844f78bf5d7bf1ca7192e8": {
      "model_module": "@jupyter-widgets/base",
      "model_module_version": "1.2.0",
      "model_name": "LayoutModel",
      "state": {}
     },
     "1d808e207eb94444bbaf4ec0e9081933": {
      "model_module": "@jupyter-widgets/output",
      "model_module_version": "1.0.0",
      "model_name": "OutputModel",
      "state": {
       "layout": "IPY_MODEL_783f1da6934742eab83ab3fca4b020f2"
      }
     },
     "1dc69b5659b14f29bd4cdea0a00eefdd": {
      "model_module": "@jupyter-widgets/controls",
      "model_module_version": "1.5.0",
      "model_name": "DescriptionStyleModel",
      "state": {
       "description_width": ""
      }
     },
     "1e154e0a036849b088b306b2e2951326": {
      "model_module": "@jupyter-widgets/controls",
      "model_module_version": "1.5.0",
      "model_name": "SliderStyleModel",
      "state": {
       "description_width": "initial"
      }
     },
     "1ef0ecffb85145f0877f3ca11f6f8eee": {
      "model_module": "@jupyter-widgets/base",
      "model_module_version": "1.2.0",
      "model_name": "LayoutModel",
      "state": {}
     },
     "1fbaef9ae5c242458bfe692435422732": {
      "model_module": "@jupyter-widgets/controls",
      "model_module_version": "1.5.0",
      "model_name": "ButtonModel",
      "state": {
       "description": "Submit",
       "icon": "check",
       "layout": "IPY_MODEL_eabe8f34e499433fbdbb59b64810a25b",
       "style": "IPY_MODEL_9b32ef426a274294bf7eb88553e1c8f9"
      }
     },
     "20f004224ac7487c8443c6c45e679a8e": {
      "model_module": "@jupyter-widgets/base",
      "model_module_version": "1.2.0",
      "model_name": "LayoutModel",
      "state": {}
     },
     "22464aa63cd1429a8e6b639f304845ea": {
      "model_module": "@jupyter-widgets/controls",
      "model_module_version": "1.5.0",
      "model_name": "BoundedIntTextModel",
      "state": {
       "description": "(WIP) Sam's fastest time (seconds):",
       "layout": "IPY_MODEL_fb957f066ff045aaa19d3b906eaa8f58",
       "style": "IPY_MODEL_6a9fc498f33b43dfa617828af694d06a"
      }
     },
     "2302b57731fe454f84b6b760607e9267": {
      "model_module": "@jupyter-widgets/controls",
      "model_module_version": "1.5.0",
      "model_name": "DescriptionStyleModel",
      "state": {
       "description_width": ""
      }
     },
     "23792974c74e40c88c0cc5700f436307": {
      "model_module": "@jupyter-widgets/base",
      "model_module_version": "1.2.0",
      "model_name": "LayoutModel",
      "state": {}
     },
     "23aef39159514ec8b5fc118b2c1d6c3e": {
      "model_module": "@jupyter-widgets/controls",
      "model_module_version": "1.5.0",
      "model_name": "CheckboxModel",
      "state": {
       "description": "Sam's speed",
       "disabled": false,
       "layout": "IPY_MODEL_d65f959b27ce4b79b2db56ef32526f64",
       "style": "IPY_MODEL_6800f6431ec441efb7c67d07cb93eb7c",
       "value": false
      }
     },
     "244363706a2643c08219db0b806e397d": {
      "model_module": "@jupyter-widgets/controls",
      "model_module_version": "1.5.0",
      "model_name": "IntSliderModel",
      "state": {
       "continuous_update": false,
       "description": "Fastest time (0s - 20s):",
       "layout": "IPY_MODEL_017ce4ca8351445f849edf6e7e704252",
       "max": 20,
       "style": "IPY_MODEL_729ec583f8c0444895dabfdb76d5bfbc",
       "value": 10
      }
     },
     "2460955b07594d17a97c69548e1b2ad1": {
      "model_module": "@jupyter-widgets/controls",
      "model_module_version": "1.5.0",
      "model_name": "CheckboxModel",
      "state": {
       "description": "Sam's speed",
       "disabled": false,
       "layout": "IPY_MODEL_c450a9b9449c4c9197772df015ca6c10",
       "style": "IPY_MODEL_08b2edba76e14f90a7281ba0e4eb80e3",
       "value": false
      }
     },
     "248fccca3ddf4a38b30f6dc49e884105": {
      "model_module": "@jupyter-widgets/controls",
      "model_module_version": "1.5.0",
      "model_name": "SliderStyleModel",
      "state": {
       "description_width": "initial"
      }
     },
     "249e7772efb54f3b9ad413cdedc932a3": {
      "model_module": "@jupyter-widgets/base",
      "model_module_version": "1.2.0",
      "model_name": "LayoutModel",
      "state": {}
     },
     "252a6aa5fc46432883fdb5b5e7f45831": {
      "model_module": "@jupyter-widgets/controls",
      "model_module_version": "1.5.0",
      "model_name": "CheckboxModel",
      "state": {
       "description": "The number of spots to plant",
       "disabled": false,
       "layout": "IPY_MODEL_2f086802ad904785a2c68001648f411d",
       "style": "IPY_MODEL_1830ad45a3af49c8b6a4e4d6fe93ddd5",
       "value": false
      }
     },
     "253bcaf78f87414e877477d3d488ce97": {
      "model_module": "@jupyter-widgets/controls",
      "model_module_version": "1.5.0",
      "model_name": "CheckboxModel",
      "state": {
       "description": "The number of spots to plant",
       "disabled": false,
       "layout": "IPY_MODEL_59da7a0b11e1462fbf075d9bb5151d88",
       "style": "IPY_MODEL_a4076c2ff1e74d419a38ebbc9a8aa8e9",
       "value": false
      }
     },
     "2574d397e85d4b1a9fd7c75868b6f180": {
      "model_module": "@jupyter-widgets/base",
      "model_module_version": "1.2.0",
      "model_name": "LayoutModel",
      "state": {}
     },
     "259808caf83b4264b3715862012c8c47": {
      "model_module": "@jupyter-widgets/base",
      "model_module_version": "1.2.0",
      "model_name": "LayoutModel",
      "state": {
       "width": "40%"
      }
     },
     "269fb95a3eae41bbbd8ec657842d9f2c": {
      "model_module": "@jupyter-widgets/base",
      "model_module_version": "1.2.0",
      "model_name": "LayoutModel",
      "state": {
       "width": "40%"
      }
     },
     "26d9ae85add44953bc2e5ef86699ccf5": {
      "model_module": "@jupyter-widgets/base",
      "model_module_version": "1.2.0",
      "model_name": "LayoutModel",
      "state": {}
     },
     "285495cecb504cfcb4b8d216dac2dcb7": {
      "model_module": "@jupyter-widgets/controls",
      "model_module_version": "1.5.0",
      "model_name": "DescriptionStyleModel",
      "state": {
       "description_width": ""
      }
     },
     "28d5045226ce47d1aca5d5b0d958352d": {
      "model_module": "@jupyter-widgets/controls",
      "model_module_version": "1.5.0",
      "model_name": "DescriptionStyleModel",
      "state": {
       "description_width": "initial"
      }
     },
     "28d8f4db9da248f18551653392c1372c": {
      "model_module": "@jupyter-widgets/controls",
      "model_module_version": "1.5.0",
      "model_name": "ButtonModel",
      "state": {
       "description": "Submit",
       "icon": "check",
       "layout": "IPY_MODEL_32cb694605f24c429468b5306e13d3bc",
       "style": "IPY_MODEL_0e4f144af83a490c96cb091f48776be0"
      }
     },
     "290b6645bc0f4ae2a9aa08f9d81ac223": {
      "model_module": "@jupyter-widgets/controls",
      "model_module_version": "1.5.0",
      "model_name": "CheckboxModel",
      "state": {
       "description": "Check me",
       "disabled": false,
       "layout": "IPY_MODEL_4558d7a74b284d9db2bd0c0d8de5f4c1",
       "style": "IPY_MODEL_7e172d00c2a449babac677892960dc10",
       "value": false
      }
     },
     "29cf18fae0744041acdc403815b4a707": {
      "model_module": "@jupyter-widgets/controls",
      "model_module_version": "1.5.0",
      "model_name": "DescriptionStyleModel",
      "state": {
       "description_width": ""
      }
     },
     "29e76e1cca214665b0da3a49ce9a2edc": {
      "model_module": "@jupyter-widgets/controls",
      "model_module_version": "1.5.0",
      "model_name": "CheckboxModel",
      "state": {
       "description": "Test me",
       "disabled": false,
       "layout": "IPY_MODEL_e0a34052d6a943f997ba8a8911e4d88e",
       "style": "IPY_MODEL_ea453c0aea824d73b4ba9f75ff269020",
       "value": false
      }
     },
     "2a150056ce7841efb14c1db12382a804": {
      "model_module": "@jupyter-widgets/controls",
      "model_module_version": "1.5.0",
      "model_name": "BoundedIntTextModel",
      "state": {
       "description": "Difference between fastest and slowest time:",
       "layout": "IPY_MODEL_c7e6d4c0701544efb63f6026e11d9027",
       "max": 20,
       "style": "IPY_MODEL_19206f1df298466e8b1865ca9a524a1e"
      }
     },
     "2a675ecc308c478aa5aef92563466924": {
      "model_module": "@jupyter-widgets/controls",
      "model_module_version": "1.5.0",
      "model_name": "IntSliderModel",
      "state": {
       "continuous_update": false,
       "description": "Fastest time (0s - 20s):",
       "layout": "IPY_MODEL_bfb65da46c9e4a159af8772dfb82e815",
       "max": 20,
       "style": "IPY_MODEL_afaf6530fdb545a1bed557e20ebe5d16",
       "value": 10
      }
     },
     "2aa48ab4685a4771833621e881f9e4bc": {
      "model_module": "@jupyter-widgets/controls",
      "model_module_version": "1.5.0",
      "model_name": "DescriptionStyleModel",
      "state": {
       "description_width": ""
      }
     },
     "2b0af3f2f42c49c480388b27213885ea": {
      "model_module": "@jupyter-widgets/base",
      "model_module_version": "1.2.0",
      "model_name": "LayoutModel",
      "state": {}
     },
     "2b745439e0984b0fa90b78494c173713": {
      "model_module": "@jupyter-widgets/controls",
      "model_module_version": "1.5.0",
      "model_name": "DescriptionStyleModel",
      "state": {
       "description_width": ""
      }
     },
     "2c8a2edd110c4436a0fa039e9b5d8382": {
      "model_module": "@jupyter-widgets/base",
      "model_module_version": "1.2.0",
      "model_name": "LayoutModel",
      "state": {}
     },
     "2cc99975af9d44a1b0669adba8cc2618": {
      "model_module": "@jupyter-widgets/controls",
      "model_module_version": "1.5.0",
      "model_name": "ButtonModel",
      "state": {
       "description": "Submit",
       "icon": "check",
       "layout": "IPY_MODEL_ebbcab317ad24964870fbceb41ebbc8e",
       "style": "IPY_MODEL_43e5aa02e2d04e88813963a355d12b04"
      }
     },
     "2cdc48db0db5435aa7f031d3915773a0": {
      "model_module": "@jupyter-widgets/controls",
      "model_module_version": "1.5.0",
      "model_name": "ButtonStyleModel",
      "state": {}
     },
     "2d4042d0b990488c9e16daad9ba9e7f7": {
      "model_module": "@jupyter-widgets/base",
      "model_module_version": "1.2.0",
      "model_name": "LayoutModel",
      "state": {}
     },
     "2d5b1a2a252f4d2590f99147fb01dfae": {
      "model_module": "@jupyter-widgets/controls",
      "model_module_version": "1.5.0",
      "model_name": "IntSliderModel",
      "state": {
       "continuous_update": false,
       "description": "Fastest time (0s - 20s):",
       "layout": "IPY_MODEL_ef907f7caf134c8c8514beff23520d23",
       "max": 20,
       "style": "IPY_MODEL_e79019b80b24418aa967fed3b9dfb1da",
       "value": 20
      }
     },
     "2f086802ad904785a2c68001648f411d": {
      "model_module": "@jupyter-widgets/base",
      "model_module_version": "1.2.0",
      "model_name": "LayoutModel",
      "state": {}
     },
     "3001694cb53542faa854cf34f2da6902": {
      "model_module": "@jupyter-widgets/controls",
      "model_module_version": "1.5.0",
      "model_name": "DescriptionStyleModel",
      "state": {
       "description_width": ""
      }
     },
     "3038ec8d549c4faa96a9ba1c37e97051": {
      "model_module": "@jupyter-widgets/base",
      "model_module_version": "1.2.0",
      "model_name": "LayoutModel",
      "state": {}
     },
     "307798925b914347b864c0a8b1ed46ab": {
      "model_module": "@jupyter-widgets/controls",
      "model_module_version": "1.5.0",
      "model_name": "CheckboxModel",
      "state": {
       "description": "The number of spots to plant",
       "disabled": false,
       "layout": "IPY_MODEL_1995393d324746d9addb42949570303a",
       "style": "IPY_MODEL_0614968d83e7474f916bee9f62aa41b2",
       "value": false
      }
     },
     "3192219919a0411bad59486134ac9bc4": {
      "model_module": "@jupyter-widgets/controls",
      "model_module_version": "1.5.0",
      "model_name": "DescriptionStyleModel",
      "state": {
       "description_width": ""
      }
     },
     "31b58c11930d4c24936d3153b6c8a1a4": {
      "model_module": "@jupyter-widgets/base",
      "model_module_version": "1.2.0",
      "model_name": "LayoutModel",
      "state": {}
     },
     "31c95949bf9842288a995f3ce079694b": {
      "model_module": "@jupyter-widgets/base",
      "model_module_version": "1.2.0",
      "model_name": "LayoutModel",
      "state": {}
     },
     "31d7a401ca614890ba909d8138fa5787": {
      "model_module": "@jupyter-widgets/controls",
      "model_module_version": "1.5.0",
      "model_name": "SliderStyleModel",
      "state": {
       "description_width": ""
      }
     },
     "32cb694605f24c429468b5306e13d3bc": {
      "model_module": "@jupyter-widgets/base",
      "model_module_version": "1.2.0",
      "model_name": "LayoutModel",
      "state": {}
     },
     "333aef02689d4d17b1cf4a984bff48d6": {
      "model_module": "@jupyter-widgets/controls",
      "model_module_version": "1.5.0",
      "model_name": "BoundedIntTextModel",
      "state": {
       "description": "Difference between fastest and slowest time:",
       "layout": "IPY_MODEL_fcb0d0c4f55a4d06867b5825f3b07274",
       "max": 20,
       "style": "IPY_MODEL_1a548f808f264e83a5a8d025056e524e",
       "value": 20
      }
     },
     "338535c671494db395c6f2ae4bb74f30": {
      "model_module": "@jupyter-widgets/controls",
      "model_module_version": "1.5.0",
      "model_name": "IntSliderModel",
      "state": {
       "continuous_update": false,
       "description": "(WIP WIDGET - SEE CELL COMMENTS) Fastest time (0s - 20s):",
       "layout": "IPY_MODEL_c1bb1257b6084cc49e9fcc02a18430a5",
       "max": 20,
       "style": "IPY_MODEL_511b7569b5e4482ea8c08c2a0dafcfa2",
       "value": 10
      }
     },
     "338d413184a046a69d15b871c16d79a2": {
      "model_module": "@jupyter-widgets/controls",
      "model_module_version": "1.5.0",
      "model_name": "CheckboxModel",
      "state": {
       "description": "Sam's shoe color",
       "disabled": false,
       "layout": "IPY_MODEL_26d9ae85add44953bc2e5ef86699ccf5",
       "style": "IPY_MODEL_05d6ab7fe1c14c38bf28f557df333e9e",
       "value": false
      }
     },
     "341b94a3709148599a1ea0c4ad472a47": {
      "model_module": "@jupyter-widgets/controls",
      "model_module_version": "1.5.0",
      "model_name": "IntSliderModel",
      "state": {
       "continuous_update": false,
       "description": "(WIP WIDGET) Fastest time (0s - 20s):",
       "layout": "IPY_MODEL_953a7397a6a9456aa1e557ffdcfae52a",
       "max": 20,
       "style": "IPY_MODEL_a6f6bd6e843e4b36b64c8293bfd38f78",
       "value": 10
      }
     },
     "343254fd1faa4b0f81942252a6279e26": {
      "model_module": "@jupyter-widgets/base",
      "model_module_version": "1.2.0",
      "model_name": "LayoutModel",
      "state": {}
     },
     "347c8bc406d6401eb95d28ddcdcd4aeb": {
      "model_module": "@jupyter-widgets/controls",
      "model_module_version": "1.5.0",
      "model_name": "BoundedIntTextModel",
      "state": {
       "description": "(WIP) Difference between fastest and slowest time:",
       "layout": "IPY_MODEL_51b11a2da6b7469f90b9c095f1926afc",
       "max": 20,
       "style": "IPY_MODEL_411199d86f41422bb78e6ab6db9db0af"
      }
     },
     "3492aee4778c40b38983c1bc1e9c3643": {
      "model_module": "@jupyter-widgets/base",
      "model_module_version": "1.2.0",
      "model_name": "LayoutModel",
      "state": {}
     },
     "3576607018f84d0cbffd1ac070568ad7": {
      "model_module": "@jupyter-widgets/base",
      "model_module_version": "1.2.0",
      "model_name": "LayoutModel",
      "state": {}
     },
     "37b5bb60b1fc401793a774ef5961af39": {
      "model_module": "@jupyter-widgets/base",
      "model_module_version": "1.2.0",
      "model_name": "LayoutModel",
      "state": {
       "width": "40%"
      }
     },
     "38eed77c9cd94fd4bc600e06c903288d": {
      "model_module": "@jupyter-widgets/base",
      "model_module_version": "1.2.0",
      "model_name": "LayoutModel",
      "state": {}
     },
     "3a4ff6695036431998ff3edc14825231": {
      "model_module": "@jupyter-widgets/controls",
      "model_module_version": "1.5.0",
      "model_name": "SliderStyleModel",
      "state": {
       "description_width": ""
      }
     },
     "3a5ac78e554c4e24bef3fab4fb79b9c8": {
      "model_module": "@jupyter-widgets/controls",
      "model_module_version": "1.5.0",
      "model_name": "DescriptionStyleModel",
      "state": {
       "description_width": ""
      }
     },
     "3b2899965dc14e658f641942d13a200c": {
      "model_module": "@jupyter-widgets/controls",
      "model_module_version": "1.5.0",
      "model_name": "CheckboxModel",
      "state": {
       "description": "The number of spots to plant",
       "disabled": false,
       "layout": "IPY_MODEL_d328ad9219344e4a8ba135534f50aff2",
       "style": "IPY_MODEL_f38bc8bb6f17447e9b734b7bf72426f8",
       "value": false
      }
     },
     "3b6be185359a4e7591c5d45fdfaa0727": {
      "model_module": "@jupyter-widgets/controls",
      "model_module_version": "1.5.0",
      "model_name": "SliderStyleModel",
      "state": {
       "description_width": "initial"
      }
     },
     "3beecbb1f1d443359f47a93eeab25577": {
      "model_module": "@jupyter-widgets/base",
      "model_module_version": "1.2.0",
      "model_name": "LayoutModel",
      "state": {
       "width": "60%"
      }
     },
     "3bef558cc3b64048963877acb09cad20": {
      "model_module": "@jupyter-widgets/controls",
      "model_module_version": "1.5.0",
      "model_name": "IntSliderModel",
      "state": {
       "continuous_update": false,
       "description": "Test:",
       "layout": "IPY_MODEL_e9baf601afc94c2883e6f049cb5dafa2",
       "max": 20,
       "style": "IPY_MODEL_89bd0354c96d4fc78a70f4a37835311e",
       "value": 10
      }
     },
     "3c16c9564cff477fa1a641d7a31319b4": {
      "model_module": "@jupyter-widgets/controls",
      "model_module_version": "1.5.0",
      "model_name": "BoundedIntTextModel",
      "state": {
       "description": "Difference between fastest and slowest time:",
       "layout": "IPY_MODEL_b8008d104cb04c0c960905f98c85db8e",
       "max": 10,
       "style": "IPY_MODEL_db0e983938984791877a7d1fd28f90ba"
      }
     },
     "3d70ac3ceaa246f5a20439eae572f292": {
      "model_module": "@jupyter-widgets/controls",
      "model_module_version": "1.5.0",
      "model_name": "CheckboxModel",
      "state": {
       "description": "The number of spots to plant",
       "disabled": false,
       "layout": "IPY_MODEL_31b58c11930d4c24936d3153b6c8a1a4",
       "style": "IPY_MODEL_098b1cf24c444eaa8fb5bdcce95f42be",
       "value": false
      }
     },
     "3e48263ab15f436fa74001e311193da3": {
      "model_module": "@jupyter-widgets/base",
      "model_module_version": "1.2.0",
      "model_name": "LayoutModel",
      "state": {
       "width": "40%"
      }
     },
     "3e5d585a1927483390628b6d46ce794c": {
      "model_module": "@jupyter-widgets/controls",
      "model_module_version": "1.5.0",
      "model_name": "ButtonModel",
      "state": {
       "description": "Submit",
       "icon": "check",
       "layout": "IPY_MODEL_a7e73f988c474da79789b680f5f89a90",
       "style": "IPY_MODEL_dc93ff46fab04bf6abb0af7db025026b"
      }
     },
     "3ef6435dfff549f8975dfde82ec9da1e": {
      "model_module": "@jupyter-widgets/base",
      "model_module_version": "1.2.0",
      "model_name": "LayoutModel",
      "state": {}
     },
     "3f9cac081ffd47b89e8a0e9c4682399a": {
      "model_module": "@jupyter-widgets/controls",
      "model_module_version": "1.5.0",
      "model_name": "IntSliderModel",
      "state": {
       "continuous_update": false,
       "description": "(WIP WIDGET - SEE CELL COMMENTS) Slowest time (0s - 20s):",
       "layout": "IPY_MODEL_ecb6d4cb22d0415d80b6c5bca0dcb4c1",
       "max": 20,
       "style": "IPY_MODEL_e353684aad0d4f1f9d146439dce8391e",
       "value": 10
      }
     },
     "409e1d5fe44243e1a9360e0c647b6c4b": {
      "model_module": "@jupyter-widgets/controls",
      "model_module_version": "1.5.0",
      "model_name": "IntSliderModel",
      "state": {
       "continuous_update": false,
       "description": "Fastest time (0s - 20s):",
       "layout": "IPY_MODEL_42a6207b046a418294683628749c4b07",
       "max": 20,
       "style": "IPY_MODEL_3b6be185359a4e7591c5d45fdfaa0727",
       "value": 10
      }
     },
     "411199d86f41422bb78e6ab6db9db0af": {
      "model_module": "@jupyter-widgets/controls",
      "model_module_version": "1.5.0",
      "model_name": "DescriptionStyleModel",
      "state": {
       "description_width": "initial"
      }
     },
     "4112cb8d5b9e4f288cdc97f3ac1cf1e9": {
      "model_module": "@jupyter-widgets/base",
      "model_module_version": "1.2.0",
      "model_name": "LayoutModel",
      "state": {}
     },
     "41fa3fd79abf4dc181030a30ec42d8c3": {
      "model_module": "@jupyter-widgets/controls",
      "model_module_version": "1.5.0",
      "model_name": "DescriptionStyleModel",
      "state": {
       "description_width": ""
      }
     },
     "428d31adcc304e57a8d13ec66ec1d37e": {
      "model_module": "@jupyter-widgets/controls",
      "model_module_version": "1.5.0",
      "model_name": "RadioButtonsModel",
      "state": {
       "_options_labels": [
        "Sam's speed",
        "The number of spots to plant",
        "Sam's shoe color"
       ],
       "index": 2,
       "layout": "IPY_MODEL_95f9d2987cc14a62ba694f77fa470ce9",
       "style": "IPY_MODEL_0037c3cb01114cb481b3832ca813c700"
      }
     },
     "42a6207b046a418294683628749c4b07": {
      "model_module": "@jupyter-widgets/base",
      "model_module_version": "1.2.0",
      "model_name": "LayoutModel",
      "state": {
       "width": "50%"
      }
     },
     "42ad9eaa00ba4fc0b223c703f1d3ded5": {
      "model_module": "@jupyter-widgets/controls",
      "model_module_version": "1.5.0",
      "model_name": "DescriptionStyleModel",
      "state": {
       "description_width": "initial"
      }
     },
     "431feb9ae43a4ffda63895b464d8009b": {
      "model_module": "@jupyter-widgets/controls",
      "model_module_version": "1.5.0",
      "model_name": "BoundedIntTextModel",
      "state": {
       "description": "Difference between fastest and slowest time:",
       "layout": "IPY_MODEL_a5309371d6c048aaad621210c9a512b4",
       "max": 20,
       "style": "IPY_MODEL_fef1ee491bd64452b3e166f860e771a8"
      }
     },
     "434474e13d0b4c0390bb09d1ded68b76": {
      "model_module": "@jupyter-widgets/base",
      "model_module_version": "1.2.0",
      "model_name": "LayoutModel",
      "state": {}
     },
     "43bd986bb0934430819e0178bb24ba5b": {
      "model_module": "@jupyter-widgets/base",
      "model_module_version": "1.2.0",
      "model_name": "LayoutModel",
      "state": {}
     },
     "43d9a4e3e6eb48339077a3edb5da527d": {
      "model_module": "@jupyter-widgets/controls",
      "model_module_version": "1.5.0",
      "model_name": "CheckboxModel",
      "state": {
       "description": "The number of spots to plant",
       "disabled": false,
       "layout": "IPY_MODEL_c1ff7b7724914428a0a7903fefbc0f91",
       "style": "IPY_MODEL_64124d1c7dc04b51bfdc7e0921b49fa6",
       "value": false
      }
     },
     "43e5aa02e2d04e88813963a355d12b04": {
      "model_module": "@jupyter-widgets/controls",
      "model_module_version": "1.5.0",
      "model_name": "ButtonStyleModel",
      "state": {}
     },
     "446f5fbe35554ffea9296152ffdcc281": {
      "model_module": "@jupyter-widgets/controls",
      "model_module_version": "1.5.0",
      "model_name": "IntSliderModel",
      "state": {
       "continuous_update": false,
       "description": "Fastest time",
       "layout": "IPY_MODEL_9fd6778c417e402ca0576159856cea47",
       "max": 20,
       "style": "IPY_MODEL_19f6f6f7071841d68db375bcaeb96cf6",
       "value": 20
      }
     },
     "449c9bfc10b5468ebdff9a590a3be6dc": {
      "model_module": "@jupyter-widgets/controls",
      "model_module_version": "1.5.0",
      "model_name": "CheckboxModel",
      "state": {
       "description": "Sam's speed, ",
       "disabled": false,
       "layout": "IPY_MODEL_c699b2bcecfb41b1b5d6318b9e43c325",
       "style": "IPY_MODEL_f78ab0460565485298140ba401b913d5",
       "value": false
      }
     },
     "44e85c500b7446288cf515ec333a672c": {
      "model_module": "@jupyter-widgets/output",
      "model_module_version": "1.0.0",
      "model_name": "OutputModel",
      "state": {
       "layout": "IPY_MODEL_5869598493e248808d0a5a2ddc73f41f"
      }
     },
     "4558d7a74b284d9db2bd0c0d8de5f4c1": {
      "model_module": "@jupyter-widgets/base",
      "model_module_version": "1.2.0",
      "model_name": "LayoutModel",
      "state": {}
     },
     "45dbf1ca4e444f9c9f2547fd0e5f9f17": {
      "model_module": "@jupyter-widgets/base",
      "model_module_version": "1.2.0",
      "model_name": "LayoutModel",
      "state": {}
     },
     "476d741020e74470ad53fe230a09cb51": {
      "model_module": "@jupyter-widgets/output",
      "model_module_version": "1.0.0",
      "model_name": "OutputModel",
      "state": {
       "layout": "IPY_MODEL_9632fc9782d3485ebc81b6879905855e"
      }
     },
     "49ea41e38c9246cabb880a7ba6f735fc": {
      "model_module": "@jupyter-widgets/base",
      "model_module_version": "1.2.0",
      "model_name": "LayoutModel",
      "state": {}
     },
     "4b583e9b78c64757ae7bea49a64f6618": {
      "model_module": "@jupyter-widgets/controls",
      "model_module_version": "1.5.0",
      "model_name": "DescriptionStyleModel",
      "state": {
       "description_width": ""
      }
     },
     "4b98992cb3704a64b615fb888e59a7dd": {
      "model_module": "@jupyter-widgets/base",
      "model_module_version": "1.2.0",
      "model_name": "LayoutModel",
      "state": {}
     },
     "4bf900f7769d4640952ea2c2cea4b9dc": {
      "model_module": "@jupyter-widgets/controls",
      "model_module_version": "1.5.0",
      "model_name": "DescriptionStyleModel",
      "state": {
       "description_width": "initial"
      }
     },
     "4cafc7c08a594e01bbf2b54a768df920": {
      "model_module": "@jupyter-widgets/controls",
      "model_module_version": "1.5.0",
      "model_name": "DescriptionStyleModel",
      "state": {
       "description_width": ""
      }
     },
     "4d032e476e8345ec9a21e34c57c8dae5": {
      "model_module": "@jupyter-widgets/controls",
      "model_module_version": "1.5.0",
      "model_name": "CheckboxModel",
      "state": {
       "description": "The number of spots to plant",
       "disabled": false,
       "layout": "IPY_MODEL_1294b87d880345d099df43a8320e0b7b",
       "style": "IPY_MODEL_eadff858790d433594b7062423164899",
       "value": true
      }
     },
     "4d237bd67c7d4ce3a3be6a0a61c0f58a": {
      "model_module": "@jupyter-widgets/controls",
      "model_module_version": "1.5.0",
      "model_name": "CheckboxModel",
      "state": {
       "description": "Check me",
       "disabled": false,
       "layout": "IPY_MODEL_1d508e44a6844f78bf5d7bf1ca7192e8",
       "style": "IPY_MODEL_ecd35815d4db4038a8386f0bca320776",
       "value": false
      }
     },
     "4d328580ba2c46edb488d92f7c221b5d": {
      "model_module": "@jupyter-widgets/base",
      "model_module_version": "1.2.0",
      "model_name": "LayoutModel",
      "state": {}
     },
     "4f2d7a953f7848169aa0b33119232485": {
      "model_module": "@jupyter-widgets/controls",
      "model_module_version": "1.5.0",
      "model_name": "SliderStyleModel",
      "state": {
       "description_width": "initial"
      }
     },
     "50098c507202486e9b84b0a1487578e1": {
      "model_module": "@jupyter-widgets/controls",
      "model_module_version": "1.5.0",
      "model_name": "CheckboxModel",
      "state": {
       "description": "Sam's shoe color",
       "disabled": false,
       "layout": "IPY_MODEL_63a07daa340741748aeb61e86b8204b6",
       "style": "IPY_MODEL_d14739ac3ac14c74a1ba33fee79cc658",
       "value": false
      }
     },
     "505d25ea8eb74e44b86995b2761278b3": {
      "model_module": "@jupyter-widgets/controls",
      "model_module_version": "1.5.0",
      "model_name": "DescriptionStyleModel",
      "state": {
       "description_width": ""
      }
     },
     "511b7569b5e4482ea8c08c2a0dafcfa2": {
      "model_module": "@jupyter-widgets/controls",
      "model_module_version": "1.5.0",
      "model_name": "SliderStyleModel",
      "state": {
       "description_width": "initial"
      }
     },
     "5196f4eb504945359fc5ddc17a1b9600": {
      "model_module": "@jupyter-widgets/controls",
      "model_module_version": "1.5.0",
      "model_name": "BoundedIntTextModel",
      "state": {
       "description": "(WIP) Difference between fastest and slowest time:",
       "layout": "IPY_MODEL_3e48263ab15f436fa74001e311193da3",
       "max": 20,
       "style": "IPY_MODEL_1482096cfc6146c3bc77aaf535a6879b"
      }
     },
     "51b11a2da6b7469f90b9c095f1926afc": {
      "model_module": "@jupyter-widgets/base",
      "model_module_version": "1.2.0",
      "model_name": "LayoutModel",
      "state": {}
     },
     "52245c95e5fa491e90402a0a17b1c4d6": {
      "model_module": "@jupyter-widgets/base",
      "model_module_version": "1.2.0",
      "model_name": "LayoutModel",
      "state": {}
     },
     "543abce25318428eba428ae60139cbb0": {
      "model_module": "@jupyter-widgets/controls",
      "model_module_version": "1.5.0",
      "model_name": "CheckboxModel",
      "state": {
       "description": "Check me",
       "disabled": false,
       "layout": "IPY_MODEL_0ddabfaab9144e9385aff67a71fb3abe",
       "style": "IPY_MODEL_9526b865da6d4b56afa68fe5b555113d",
       "value": false
      }
     },
     "54b22e6178704e7c8e5afbf9373b1f34": {
      "model_module": "@jupyter-widgets/controls",
      "model_module_version": "1.5.0",
      "model_name": "CheckboxModel",
      "state": {
       "description": "Check me",
       "disabled": false,
       "layout": "IPY_MODEL_95bcb24442e34eb896afb89e1a7d1ef0",
       "style": "IPY_MODEL_1dc69b5659b14f29bd4cdea0a00eefdd",
       "value": false
      }
     },
     "5567fa19371a41cca3eb532a4906d817": {
      "model_module": "@jupyter-widgets/output",
      "model_module_version": "1.0.0",
      "model_name": "OutputModel",
      "state": {
       "layout": "IPY_MODEL_76d92afec2444272b5e0acd6eed2a2c8",
       "outputs": [
        {
         "name": "stdout",
         "output_type": "stream",
         "text": "Sam's shoe color\n"
        }
       ]
      }
     },
     "56b97e2b35ab4578b4289c6b315ad4d4": {
      "model_module": "@jupyter-widgets/base",
      "model_module_version": "1.2.0",
      "model_name": "LayoutModel",
      "state": {}
     },
     "56be4999f4b044c18edbe32b05ad05e3": {
      "model_module": "@jupyter-widgets/controls",
      "model_module_version": "1.5.0",
      "model_name": "ButtonStyleModel",
      "state": {}
     },
     "5730b568b77f4777aad17f1487e9a94a": {
      "model_module": "@jupyter-widgets/base",
      "model_module_version": "1.2.0",
      "model_name": "LayoutModel",
      "state": {
       "width": "40%"
      }
     },
     "5794b76a254f4fdfac3e1c429483ce76": {
      "model_module": "@jupyter-widgets/base",
      "model_module_version": "1.2.0",
      "model_name": "LayoutModel",
      "state": {
       "width": "100%"
      }
     },
     "585793afb56d4bb5adff685b69389c15": {
      "model_module": "@jupyter-widgets/controls",
      "model_module_version": "1.5.0",
      "model_name": "DescriptionStyleModel",
      "state": {
       "description_width": ""
      }
     },
     "5869598493e248808d0a5a2ddc73f41f": {
      "model_module": "@jupyter-widgets/base",
      "model_module_version": "1.2.0",
      "model_name": "LayoutModel",
      "state": {}
     },
     "59da7a0b11e1462fbf075d9bb5151d88": {
      "model_module": "@jupyter-widgets/base",
      "model_module_version": "1.2.0",
      "model_name": "LayoutModel",
      "state": {}
     },
     "5a3f574e427e46de9056c3e225692ff2": {
      "model_module": "@jupyter-widgets/controls",
      "model_module_version": "1.5.0",
      "model_name": "BoundedIntTextModel",
      "state": {
       "description": "(WIP WIDGETDifference between fastest and slowest time:",
       "layout": "IPY_MODEL_9f2d9048f7a2407dabaac73961593302",
       "max": 20,
       "style": "IPY_MODEL_846fd185e8cc4d36a70112d154e9408b"
      }
     },
     "5afd72a0aa564ea7868222771df2038b": {
      "model_module": "@jupyter-widgets/controls",
      "model_module_version": "1.5.0",
      "model_name": "DescriptionStyleModel",
      "state": {
       "description_width": ""
      }
     },
     "5c4b0f7ec9834f688e86b135e03c1467": {
      "model_module": "@jupyter-widgets/controls",
      "model_module_version": "1.5.0",
      "model_name": "CheckboxModel",
      "state": {
       "description": "Sam's shoe color",
       "disabled": false,
       "layout": "IPY_MODEL_20f004224ac7487c8443c6c45e679a8e",
       "style": "IPY_MODEL_be707d460c7249859072a67c98062df3",
       "value": false
      }
     },
     "5c6b9c8271614c2996cb601a8af3952f": {
      "model_module": "@jupyter-widgets/base",
      "model_module_version": "1.2.0",
      "model_name": "LayoutModel",
      "state": {}
     },
     "5cc722e8aae0437da39cca643949c1d6": {
      "model_module": "@jupyter-widgets/controls",
      "model_module_version": "1.5.0",
      "model_name": "CheckboxModel",
      "state": {
       "description": "Sam's shoe color",
       "disabled": false,
       "layout": "IPY_MODEL_a59c6265cfe64e3994af65089a17553f",
       "style": "IPY_MODEL_4cafc7c08a594e01bbf2b54a768df920",
       "value": false
      }
     },
     "5e6b1dc2a36540fbb8bc55af30af69c0": {
      "model_module": "@jupyter-widgets/base",
      "model_module_version": "1.2.0",
      "model_name": "LayoutModel",
      "state": {}
     },
     "5f788cf0460f4b489b5988415daccfca": {
      "model_module": "@jupyter-widgets/controls",
      "model_module_version": "1.5.0",
      "model_name": "ButtonModel",
      "state": {
       "description": "Submit",
       "icon": "check",
       "layout": "IPY_MODEL_d29bde80afaa4d3483356ab8df564e55",
       "style": "IPY_MODEL_9551598f937d466cbd7c54c6a0aa980e"
      }
     },
     "618178f495714654bc0993223d438f27": {
      "model_module": "@jupyter-widgets/base",
      "model_module_version": "1.2.0",
      "model_name": "LayoutModel",
      "state": {}
     },
     "6194e576cb7c49f08375542564e1d4d4": {
      "model_module": "@jupyter-widgets/controls",
      "model_module_version": "1.5.0",
      "model_name": "CheckboxModel",
      "state": {
       "description": "The number of spots to plant",
       "disabled": false,
       "layout": "IPY_MODEL_e0b0645e14a24eff8660c92b218940df",
       "style": "IPY_MODEL_b917cd03458842d7a7b10c7bcad6a91b",
       "value": false
      }
     },
     "61c7a579368844cf9c8da9a2be7de65e": {
      "model_module": "@jupyter-widgets/base",
      "model_module_version": "1.2.0",
      "model_name": "LayoutModel",
      "state": {}
     },
     "6256f42248c3446ea3c6fad93d709dc2": {
      "model_module": "@jupyter-widgets/base",
      "model_module_version": "1.2.0",
      "model_name": "LayoutModel",
      "state": {}
     },
     "62a6b1fc1cc94387a2a89d9a40ad4aa6": {
      "model_module": "@jupyter-widgets/controls",
      "model_module_version": "1.5.0",
      "model_name": "CheckboxModel",
      "state": {
       "description": "Check me",
       "disabled": false,
       "layout": "IPY_MODEL_02bc1e03cbf44611aa4b7bfa79c9b164",
       "style": "IPY_MODEL_6e9fed37171b402e954cdf40cbbd332f",
       "value": false
      }
     },
     "6360fc90621a4117ab32cad69148aad1": {
      "model_module": "@jupyter-widgets/controls",
      "model_module_version": "1.5.0",
      "model_name": "DescriptionStyleModel",
      "state": {
       "description_width": "initial"
      }
     },
     "63a07daa340741748aeb61e86b8204b6": {
      "model_module": "@jupyter-widgets/base",
      "model_module_version": "1.2.0",
      "model_name": "LayoutModel",
      "state": {}
     },
     "63b7ef8ab0dc48798637d6ad70a9b388": {
      "model_module": "@jupyter-widgets/controls",
      "model_module_version": "1.5.0",
      "model_name": "BoundedIntTextModel",
      "state": {
       "description": "(WIP) Sam's fastest time (seconds):",
       "layout": "IPY_MODEL_e308ff64431644138bd4aa4f45e1dbb2",
       "style": "IPY_MODEL_80c07efc714440039d1bed734c58188e"
      }
     },
     "63f9c7c380bc42a0a74e59c3c1d1fd40": {
      "model_module": "@jupyter-widgets/output",
      "model_module_version": "1.0.0",
      "model_name": "OutputModel",
      "state": {
       "layout": "IPY_MODEL_249e7772efb54f3b9ad413cdedc932a3",
       "outputs": [
        {
         "name": "stdout",
         "output_type": "stream",
         "text": "False\n"
        }
       ]
      }
     },
     "64124d1c7dc04b51bfdc7e0921b49fa6": {
      "model_module": "@jupyter-widgets/controls",
      "model_module_version": "1.5.0",
      "model_name": "DescriptionStyleModel",
      "state": {
       "description_width": ""
      }
     },
     "6513fa3d47ea46f2967c5ffff0b0f22f": {
      "model_module": "@jupyter-widgets/controls",
      "model_module_version": "1.5.0",
      "model_name": "SliderStyleModel",
      "state": {
       "description_width": "initial"
      }
     },
     "65a551fc04db4a5a9c3e4e495eaf0356": {
      "model_module": "@jupyter-widgets/base",
      "model_module_version": "1.2.0",
      "model_name": "LayoutModel",
      "state": {}
     },
     "66cf7ac8e98442ddbb49660770c6dece": {
      "model_module": "@jupyter-widgets/controls",
      "model_module_version": "1.5.0",
      "model_name": "ButtonModel",
      "state": {
       "description": "Submit",
       "icon": "check",
       "layout": "IPY_MODEL_ba51dbe884ae4af286cbffaf5ac8a74c",
       "style": "IPY_MODEL_ab8bd6fc4fd1485f9d968120e02a6a1e"
      }
     },
     "675099e1774743b2bd6a3d6e9d23b461": {
      "model_module": "@jupyter-widgets/controls",
      "model_module_version": "1.5.0",
      "model_name": "DescriptionStyleModel",
      "state": {
       "description_width": ""
      }
     },
     "678be6aafba14cbea983ca43f3019678": {
      "model_module": "@jupyter-widgets/base",
      "model_module_version": "1.2.0",
      "model_name": "LayoutModel",
      "state": {}
     },
     "67ff6f75f4e643f2b82b909a8a568643": {
      "model_module": "@jupyter-widgets/controls",
      "model_module_version": "1.5.0",
      "model_name": "SliderStyleModel",
      "state": {
       "description_width": "initial"
      }
     },
     "6800f6431ec441efb7c67d07cb93eb7c": {
      "model_module": "@jupyter-widgets/controls",
      "model_module_version": "1.5.0",
      "model_name": "DescriptionStyleModel",
      "state": {
       "description_width": ""
      }
     },
     "68257a41f86c4b7da212bfdba31bebed": {
      "model_module": "@jupyter-widgets/base",
      "model_module_version": "1.2.0",
      "model_name": "LayoutModel",
      "state": {}
     },
     "6838baa407034783a9415b7c6871bc95": {
      "model_module": "@jupyter-widgets/controls",
      "model_module_version": "1.5.0",
      "model_name": "CheckboxModel",
      "state": {
       "description": "Sam's speed",
       "disabled": false,
       "layout": "IPY_MODEL_3576607018f84d0cbffd1ac070568ad7",
       "style": "IPY_MODEL_6f4b3ff9dbb04be6af094b76fefc0101",
       "value": true
      }
     },
     "691064aa53cc4e19a93a8a3ab1d43790": {
      "model_module": "@jupyter-widgets/base",
      "model_module_version": "1.2.0",
      "model_name": "LayoutModel",
      "state": {
       "width": "100%"
      }
     },
     "6a9fc498f33b43dfa617828af694d06a": {
      "model_module": "@jupyter-widgets/controls",
      "model_module_version": "1.5.0",
      "model_name": "DescriptionStyleModel",
      "state": {
       "description_width": "initial"
      }
     },
     "6cca897771f34c6e8640506ba8583394": {
      "model_module": "@jupyter-widgets/base",
      "model_module_version": "1.2.0",
      "model_name": "LayoutModel",
      "state": {}
     },
     "6d88e89ea9b74a0e93d9f3b7dc726bcd": {
      "model_module": "@jupyter-widgets/base",
      "model_module_version": "1.2.0",
      "model_name": "LayoutModel",
      "state": {
       "width": "30%"
      }
     },
     "6db0fad2c45b4e968ba7668b43e34ea6": {
      "model_module": "@jupyter-widgets/controls",
      "model_module_version": "1.5.0",
      "model_name": "CheckboxModel",
      "state": {
       "description": "Check me",
       "disabled": false,
       "layout": "IPY_MODEL_7a0eb18a05da441aa2329430f3e807ce",
       "style": "IPY_MODEL_a473bac9fd56401b8cae6ad701e29a6b",
       "value": false
      }
     },
     "6dd912aedb7a40bba96a4d75ce111133": {
      "model_module": "@jupyter-widgets/controls",
      "model_module_version": "1.5.0",
      "model_name": "CheckboxModel",
      "state": {
       "description": "The number of spots to plant",
       "disabled": false,
       "layout": "IPY_MODEL_862c01329da84a2195c8c017f39ab1ee",
       "style": "IPY_MODEL_3a5ac78e554c4e24bef3fab4fb79b9c8",
       "value": false
      }
     },
     "6e387c84f2fd444e9ed5a624cc102cdd": {
      "model_module": "@jupyter-widgets/controls",
      "model_module_version": "1.5.0",
      "model_name": "DescriptionStyleModel",
      "state": {
       "description_width": ""
      }
     },
     "6e9fed37171b402e954cdf40cbbd332f": {
      "model_module": "@jupyter-widgets/controls",
      "model_module_version": "1.5.0",
      "model_name": "DescriptionStyleModel",
      "state": {
       "description_width": ""
      }
     },
     "6ed88dcb946d4ce1a09215e952a33149": {
      "model_module": "@jupyter-widgets/controls",
      "model_module_version": "1.5.0",
      "model_name": "CheckboxModel",
      "state": {
       "description": "Sam's speed",
       "disabled": false,
       "layout": "IPY_MODEL_6fb95e957c5d4316b090324f0a9edc7f",
       "style": "IPY_MODEL_2302b57731fe454f84b6b760607e9267",
       "value": false
      }
     },
     "6f4b3ff9dbb04be6af094b76fefc0101": {
      "model_module": "@jupyter-widgets/controls",
      "model_module_version": "1.5.0",
      "model_name": "DescriptionStyleModel",
      "state": {
       "description_width": ""
      }
     },
     "6fb95e957c5d4316b090324f0a9edc7f": {
      "model_module": "@jupyter-widgets/base",
      "model_module_version": "1.2.0",
      "model_name": "LayoutModel",
      "state": {}
     },
     "6ffa29a868d54ed885ac4c7c797b2840": {
      "model_module": "@jupyter-widgets/base",
      "model_module_version": "1.2.0",
      "model_name": "LayoutModel",
      "state": {}
     },
     "70313648d1ee496db6487bdaf4c62069": {
      "model_module": "@jupyter-widgets/controls",
      "model_module_version": "1.5.0",
      "model_name": "ButtonModel",
      "state": {
       "description": "Submit",
       "icon": "check",
       "layout": "IPY_MODEL_d67ebd3fae494eccb74898e8abc16829",
       "style": "IPY_MODEL_848abf20378a4b99a42c7bd00c5f77b8"
      }
     },
     "729ec583f8c0444895dabfdb76d5bfbc": {
      "model_module": "@jupyter-widgets/controls",
      "model_module_version": "1.5.0",
      "model_name": "SliderStyleModel",
      "state": {
       "description_width": "initial"
      }
     },
     "72e61ea0293c4f619166d6c73d4240f4": {
      "model_module": "@jupyter-widgets/base",
      "model_module_version": "1.2.0",
      "model_name": "LayoutModel",
      "state": {
       "width": "40%"
      }
     },
     "73a50dd541c04e10b4626c3bf666606e": {
      "model_module": "@jupyter-widgets/base",
      "model_module_version": "1.2.0",
      "model_name": "LayoutModel",
      "state": {
       "width": "100%"
      }
     },
     "73c66097b1b64cc782fe332ef747e692": {
      "model_module": "@jupyter-widgets/controls",
      "model_module_version": "1.5.0",
      "model_name": "DescriptionStyleModel",
      "state": {
       "description_width": ""
      }
     },
     "74fcf1d57b0445218cf2ea15a2881407": {
      "model_module": "@jupyter-widgets/controls",
      "model_module_version": "1.5.0",
      "model_name": "ButtonStyleModel",
      "state": {}
     },
     "76653f001bca4e7b9fd8917dbcccfbad": {
      "model_module": "@jupyter-widgets/base",
      "model_module_version": "1.2.0",
      "model_name": "LayoutModel",
      "state": {}
     },
     "76d92afec2444272b5e0acd6eed2a2c8": {
      "model_module": "@jupyter-widgets/base",
      "model_module_version": "1.2.0",
      "model_name": "LayoutModel",
      "state": {}
     },
     "76f6cb1a60df42e2b2c0fcbab94f0d63": {
      "model_module": "@jupyter-widgets/controls",
      "model_module_version": "1.5.0",
      "model_name": "ButtonStyleModel",
      "state": {}
     },
     "783f1da6934742eab83ab3fca4b020f2": {
      "model_module": "@jupyter-widgets/base",
      "model_module_version": "1.2.0",
      "model_name": "LayoutModel",
      "state": {}
     },
     "7a0eb18a05da441aa2329430f3e807ce": {
      "model_module": "@jupyter-widgets/base",
      "model_module_version": "1.2.0",
      "model_name": "LayoutModel",
      "state": {}
     },
     "7a85e9893dec44e99a1fc6bf3a509652": {
      "model_module": "@jupyter-widgets/base",
      "model_module_version": "1.2.0",
      "model_name": "LayoutModel",
      "state": {}
     },
     "7c77ef31a4284cac8595e0dd301629d5": {
      "model_module": "@jupyter-widgets/base",
      "model_module_version": "1.2.0",
      "model_name": "LayoutModel",
      "state": {}
     },
     "7cd261231219419e926740d070e9127d": {
      "model_module": "@jupyter-widgets/controls",
      "model_module_version": "1.5.0",
      "model_name": "SliderStyleModel",
      "state": {
       "description_width": "initial"
      }
     },
     "7dfbac3bf28c47f9b13a674e17025c86": {
      "model_module": "@jupyter-widgets/controls",
      "model_module_version": "1.5.0",
      "model_name": "DescriptionStyleModel",
      "state": {
       "description_width": ""
      }
     },
     "7e172d00c2a449babac677892960dc10": {
      "model_module": "@jupyter-widgets/controls",
      "model_module_version": "1.5.0",
      "model_name": "DescriptionStyleModel",
      "state": {
       "description_width": ""
      }
     },
     "7eccf78af1f0485a981baee474cec590": {
      "model_module": "@jupyter-widgets/output",
      "model_module_version": "1.0.0",
      "model_name": "OutputModel",
      "state": {
       "layout": "IPY_MODEL_49ea41e38c9246cabb880a7ba6f735fc"
      }
     },
     "7fcb63df6adc43628b4b7e53c0f4802f": {
      "model_module": "@jupyter-widgets/controls",
      "model_module_version": "1.5.0",
      "model_name": "DescriptionStyleModel",
      "state": {
       "description_width": ""
      }
     },
     "7fd8761828284b9e8d8595e30069005a": {
      "model_module": "@jupyter-widgets/base",
      "model_module_version": "1.2.0",
      "model_name": "LayoutModel",
      "state": {}
     },
     "80c07efc714440039d1bed734c58188e": {
      "model_module": "@jupyter-widgets/controls",
      "model_module_version": "1.5.0",
      "model_name": "DescriptionStyleModel",
      "state": {
       "description_width": "initial"
      }
     },
     "80f18565822c4a4fa38b8cf0f1235a92": {
      "model_module": "@jupyter-widgets/base",
      "model_module_version": "1.2.0",
      "model_name": "LayoutModel",
      "state": {
       "width": "40%"
      }
     },
     "8257a38a35014e57a5e5946a3f949953": {
      "model_module": "@jupyter-widgets/controls",
      "model_module_version": "1.5.0",
      "model_name": "DescriptionStyleModel",
      "state": {
       "description_width": ""
      }
     },
     "827dd955100e4f8886584f4f47b0aecf": {
      "model_module": "@jupyter-widgets/controls",
      "model_module_version": "1.5.0",
      "model_name": "SliderStyleModel",
      "state": {
       "description_width": "initial"
      }
     },
     "82a906fcf19044839955f4a1566ec8e5": {
      "model_module": "@jupyter-widgets/controls",
      "model_module_version": "1.5.0",
      "model_name": "IntSliderModel",
      "state": {
       "continuous_update": false,
       "description": "Fastest time (0s - 20s):",
       "layout": "IPY_MODEL_caeb5bde00be4d209efa4b55b2f074b7",
       "max": 20,
       "style": "IPY_MODEL_fa3f82981ea649ff9c10855391f49df9",
       "value": 10
      }
     },
     "84032f0a7b54490196590c47bdc30285": {
      "model_module": "@jupyter-widgets/base",
      "model_module_version": "1.2.0",
      "model_name": "LayoutModel",
      "state": {}
     },
     "846fd185e8cc4d36a70112d154e9408b": {
      "model_module": "@jupyter-widgets/controls",
      "model_module_version": "1.5.0",
      "model_name": "DescriptionStyleModel",
      "state": {
       "description_width": "initial"
      }
     },
     "848abf20378a4b99a42c7bd00c5f77b8": {
      "model_module": "@jupyter-widgets/controls",
      "model_module_version": "1.5.0",
      "model_name": "ButtonStyleModel",
      "state": {}
     },
     "84a260530c7241569e84a80b4900a3d4": {
      "model_module": "@jupyter-widgets/controls",
      "model_module_version": "1.5.0",
      "model_name": "BoundedIntTextModel",
      "state": {
       "description": "Difference between fastest and slowest time:",
       "layout": "IPY_MODEL_e0b8b7892bdb4f32b8b23655c6dac31a",
       "max": 20,
       "style": "IPY_MODEL_bdcd0f0fa58745d2b330b2feef200355"
      }
     },
     "861cd1a3ba7b41dc96e1b3cfd95c827a": {
      "model_module": "@jupyter-widgets/controls",
      "model_module_version": "1.5.0",
      "model_name": "BoundedIntTextModel",
      "state": {
       "description": "(WIP) Sam's fastest time (seconds):",
       "layout": "IPY_MODEL_269fb95a3eae41bbbd8ec657842d9f2c",
       "style": "IPY_MODEL_4bf900f7769d4640952ea2c2cea4b9dc"
      }
     },
     "862c01329da84a2195c8c017f39ab1ee": {
      "model_module": "@jupyter-widgets/base",
      "model_module_version": "1.2.0",
      "model_name": "LayoutModel",
      "state": {}
     },
     "867784c9368c448c98c04bf806bca102": {
      "model_module": "@jupyter-widgets/controls",
      "model_module_version": "1.5.0",
      "model_name": "IntSliderModel",
      "state": {
       "continuous_update": false,
       "description": "(WIP WIDGET) Fastest time (0s - 20s):",
       "layout": "IPY_MODEL_80f18565822c4a4fa38b8cf0f1235a92",
       "max": 20,
       "style": "IPY_MODEL_1e154e0a036849b088b306b2e2951326",
       "value": 10
      }
     },
     "8788ec218d6d42b0bbf07cdcd0b54942": {
      "model_module": "@jupyter-widgets/controls",
      "model_module_version": "1.5.0",
      "model_name": "CheckboxModel",
      "state": {
       "description": "Check me",
       "disabled": false,
       "layout": "IPY_MODEL_eb5ac54a5be94d519a9635bdc310f8fa",
       "style": "IPY_MODEL_df2428f370164b0aa7225ce3954d925a",
       "value": false
      }
     },
     "8816b52094c44fbe956936e972036e78": {
      "model_module": "@jupyter-widgets/output",
      "model_module_version": "1.0.0",
      "model_name": "OutputModel",
      "state": {
       "layout": "IPY_MODEL_43bd986bb0934430819e0178bb24ba5b"
      }
     },
     "88947b8e26684153bd8e30f4beb686ad": {
      "model_module": "@jupyter-widgets/controls",
      "model_module_version": "1.5.0",
      "model_name": "SliderStyleModel",
      "state": {
       "description_width": "initial"
      }
     },
     "88b2d2b0e6b74667bfe0afd3b858b868": {
      "model_module": "@jupyter-widgets/base",
      "model_module_version": "1.2.0",
      "model_name": "LayoutModel",
      "state": {}
     },
     "89b4a2479e45495bbf66f7dba94ac8be": {
      "model_module": "@jupyter-widgets/base",
      "model_module_version": "1.2.0",
      "model_name": "LayoutModel",
      "state": {}
     },
     "89bd0354c96d4fc78a70f4a37835311e": {
      "model_module": "@jupyter-widgets/controls",
      "model_module_version": "1.5.0",
      "model_name": "SliderStyleModel",
      "state": {
       "description_width": ""
      }
     },
     "8a1d7b392abd4d838f559431b4b12bf8": {
      "model_module": "@jupyter-widgets/controls",
      "model_module_version": "1.5.0",
      "model_name": "CheckboxModel",
      "state": {
       "description": "The number of spots to plant",
       "disabled": false,
       "layout": "IPY_MODEL_434474e13d0b4c0390bb09d1ded68b76",
       "style": "IPY_MODEL_73c66097b1b64cc782fe332ef747e692",
       "value": false
      }
     },
     "8ce8e2f1316b45ae9868cc1dd73d0485": {
      "model_module": "@jupyter-widgets/controls",
      "model_module_version": "1.5.0",
      "model_name": "DescriptionStyleModel",
      "state": {
       "description_width": ""
      }
     },
     "9019476149244cb49de071e55fd1d829": {
      "model_module": "@jupyter-widgets/controls",
      "model_module_version": "1.5.0",
      "model_name": "ButtonStyleModel",
      "state": {}
     },
     "913310dcd9ba429e94a4fd5d77c23cb7": {
      "model_module": "@jupyter-widgets/output",
      "model_module_version": "1.0.0",
      "model_name": "OutputModel",
      "state": {
       "layout": "IPY_MODEL_2b0af3f2f42c49c480388b27213885ea",
       "outputs": [
        {
         "name": "stdout",
         "output_type": "stream",
         "text": "False\nFalse\nFalse\nNot quite!\n"
        }
       ]
      }
     },
     "92223ef9756540d58bcf0d4ae2034f36": {
      "model_module": "@jupyter-widgets/base",
      "model_module_version": "1.2.0",
      "model_name": "LayoutModel",
      "state": {}
     },
     "92f7aef690614262be143a70b9528fd5": {
      "model_module": "@jupyter-widgets/controls",
      "model_module_version": "1.5.0",
      "model_name": "SliderStyleModel",
      "state": {
       "description_width": "initial"
      }
     },
     "9305b379788240f8ba28548f767359ff": {
      "model_module": "@jupyter-widgets/base",
      "model_module_version": "1.2.0",
      "model_name": "LayoutModel",
      "state": {
       "width": "40%"
      }
     },
     "9390bb98e2874a9986b1870d700688c1": {
      "model_module": "@jupyter-widgets/controls",
      "model_module_version": "1.5.0",
      "model_name": "IntSliderModel",
      "state": {
       "continuous_update": false,
       "description": "Fastest time (0s - 20s):",
       "layout": "IPY_MODEL_a83e737342c143278bce9630f025254f",
       "max": 20,
       "style": "IPY_MODEL_827dd955100e4f8886584f4f47b0aecf",
       "value": 10
      }
     },
     "93abe82103a34b92b84bfc4548177c17": {
      "model_module": "@jupyter-widgets/controls",
      "model_module_version": "1.5.0",
      "model_name": "CheckboxModel",
      "state": {
       "description": "The number of spots to plant",
       "disabled": false,
       "layout": "IPY_MODEL_3492aee4778c40b38983c1bc1e9c3643",
       "style": "IPY_MODEL_585793afb56d4bb5adff685b69389c15",
       "value": true
      }
     },
     "944dced2e7b9475cb1a60fd65020ff33": {
      "model_module": "@jupyter-widgets/base",
      "model_module_version": "1.2.0",
      "model_name": "LayoutModel",
      "state": {}
     },
     "9526b865da6d4b56afa68fe5b555113d": {
      "model_module": "@jupyter-widgets/controls",
      "model_module_version": "1.5.0",
      "model_name": "DescriptionStyleModel",
      "state": {
       "description_width": ""
      }
     },
     "953a7397a6a9456aa1e557ffdcfae52a": {
      "model_module": "@jupyter-widgets/base",
      "model_module_version": "1.2.0",
      "model_name": "LayoutModel",
      "state": {
       "width": "40%"
      }
     },
     "9551598f937d466cbd7c54c6a0aa980e": {
      "model_module": "@jupyter-widgets/controls",
      "model_module_version": "1.5.0",
      "model_name": "ButtonStyleModel",
      "state": {}
     },
     "95bcb24442e34eb896afb89e1a7d1ef0": {
      "model_module": "@jupyter-widgets/base",
      "model_module_version": "1.2.0",
      "model_name": "LayoutModel",
      "state": {}
     },
     "95f9d2987cc14a62ba694f77fa470ce9": {
      "model_module": "@jupyter-widgets/base",
      "model_module_version": "1.2.0",
      "model_name": "LayoutModel",
      "state": {
       "width": "100%"
      }
     },
     "9632fc9782d3485ebc81b6879905855e": {
      "model_module": "@jupyter-widgets/base",
      "model_module_version": "1.2.0",
      "model_name": "LayoutModel",
      "state": {}
     },
     "97b7feaa7d8847d88f4994c58cae429f": {
      "model_module": "@jupyter-widgets/base",
      "model_module_version": "1.2.0",
      "model_name": "LayoutModel",
      "state": {}
     },
     "99f3c6fadbde484ebca07b49c6eebe83": {
      "model_module": "@jupyter-widgets/controls",
      "model_module_version": "1.5.0",
      "model_name": "DescriptionStyleModel",
      "state": {
       "description_width": "initial"
      }
     },
     "9b32ef426a274294bf7eb88553e1c8f9": {
      "model_module": "@jupyter-widgets/controls",
      "model_module_version": "1.5.0",
      "model_name": "ButtonStyleModel",
      "state": {}
     },
     "9bc313804cee45f596c02ee217bc87e8": {
      "model_module": "@jupyter-widgets/controls",
      "model_module_version": "1.5.0",
      "model_name": "CheckboxModel",
      "state": {
       "description": "Sam's speed",
       "disabled": false,
       "layout": "IPY_MODEL_2d4042d0b990488c9e16daad9ba9e7f7",
       "style": "IPY_MODEL_7dfbac3bf28c47f9b13a674e17025c86",
       "value": false
      }
     },
     "9e5b25dfa9f34b41be8fd0a010cf4634": {
      "model_module": "@jupyter-widgets/controls",
      "model_module_version": "1.5.0",
      "model_name": "DescriptionStyleModel",
      "state": {
       "description_width": ""
      }
     },
     "9f2d1ffb41b4478e88cd4ab9da13e41e": {
      "model_module": "@jupyter-widgets/controls",
      "model_module_version": "1.5.0",
      "model_name": "ButtonModel",
      "state": {
       "description": "Submit",
       "icon": "check",
       "layout": "IPY_MODEL_52245c95e5fa491e90402a0a17b1c4d6",
       "style": "IPY_MODEL_aa081ec3d7914a2bb2032766039b6f34"
      }
     },
     "9f2d9048f7a2407dabaac73961593302": {
      "model_module": "@jupyter-widgets/base",
      "model_module_version": "1.2.0",
      "model_name": "LayoutModel",
      "state": {}
     },
     "9f7443e2f0dd47b5b98e04f9c7b0f1a4": {
      "model_module": "@jupyter-widgets/controls",
      "model_module_version": "1.5.0",
      "model_name": "DescriptionStyleModel",
      "state": {
       "description_width": ""
      }
     },
     "9fd6778c417e402ca0576159856cea47": {
      "model_module": "@jupyter-widgets/base",
      "model_module_version": "1.2.0",
      "model_name": "LayoutModel",
      "state": {}
     },
     "a001e8c82aee4dd396adbeed009835ec": {
      "model_module": "@jupyter-widgets/base",
      "model_module_version": "1.2.0",
      "model_name": "LayoutModel",
      "state": {}
     },
     "a015147e10134b5ea9a96bbf4729119f": {
      "model_module": "@jupyter-widgets/base",
      "model_module_version": "1.2.0",
      "model_name": "LayoutModel",
      "state": {
       "width": "40%"
      }
     },
     "a2a89787361641e285077bd2e55ddf33": {
      "model_module": "@jupyter-widgets/controls",
      "model_module_version": "1.5.0",
      "model_name": "ButtonModel",
      "state": {
       "description": "Submit",
       "icon": "check",
       "layout": "IPY_MODEL_65a551fc04db4a5a9c3e4e495eaf0356",
       "style": "IPY_MODEL_0954248a698944f8af0d731bbb7a2850"
      }
     },
     "a31f947e9cfe4ff8be8fa3ac0f7d58ce": {
      "model_module": "@jupyter-widgets/controls",
      "model_module_version": "1.5.0",
      "model_name": "IntSliderModel",
      "state": {
       "continuous_update": false,
       "description": "Fastest time (0s - 20s):",
       "layout": "IPY_MODEL_73a50dd541c04e10b4626c3bf666606e",
       "max": 20,
       "style": "IPY_MODEL_7cd261231219419e926740d070e9127d",
       "value": 10
      }
     },
     "a3f52163c91141a89a6b031a31dc7ba5": {
      "model_module": "@jupyter-widgets/controls",
      "model_module_version": "1.5.0",
      "model_name": "SliderStyleModel",
      "state": {
       "description_width": "initial"
      }
     },
     "a4076c2ff1e74d419a38ebbc9a8aa8e9": {
      "model_module": "@jupyter-widgets/controls",
      "model_module_version": "1.5.0",
      "model_name": "DescriptionStyleModel",
      "state": {
       "description_width": ""
      }
     },
     "a414bb84d0844ae193b0f5736eb7de12": {
      "model_module": "@jupyter-widgets/controls",
      "model_module_version": "1.5.0",
      "model_name": "BoundedIntTextModel",
      "state": {
       "description": "Difference between fastest and slowest time:",
       "layout": "IPY_MODEL_259808caf83b4264b3715862012c8c47",
       "max": 20,
       "style": "IPY_MODEL_28d5045226ce47d1aca5d5b0d958352d"
      }
     },
     "a473bac9fd56401b8cae6ad701e29a6b": {
      "model_module": "@jupyter-widgets/controls",
      "model_module_version": "1.5.0",
      "model_name": "DescriptionStyleModel",
      "state": {
       "description_width": ""
      }
     },
     "a5309371d6c048aaad621210c9a512b4": {
      "model_module": "@jupyter-widgets/base",
      "model_module_version": "1.2.0",
      "model_name": "LayoutModel",
      "state": {
       "width": "100%"
      }
     },
     "a5340107c2be44efbf8fbdc93a19ccac": {
      "model_module": "@jupyter-widgets/controls",
      "model_module_version": "1.5.0",
      "model_name": "BoundedIntTextModel",
      "state": {
       "description": "Difference between fastest and slowest time:",
       "layout": "IPY_MODEL_6d88e89ea9b74a0e93d9f3b7dc726bcd",
       "max": 20,
       "style": "IPY_MODEL_ffe47e16bd2c4353bf12faa29047e007"
      }
     },
     "a59c6265cfe64e3994af65089a17553f": {
      "model_module": "@jupyter-widgets/base",
      "model_module_version": "1.2.0",
      "model_name": "LayoutModel",
      "state": {}
     },
     "a6f6bd6e843e4b36b64c8293bfd38f78": {
      "model_module": "@jupyter-widgets/controls",
      "model_module_version": "1.5.0",
      "model_name": "SliderStyleModel",
      "state": {
       "description_width": "initial"
      }
     },
     "a7e73f988c474da79789b680f5f89a90": {
      "model_module": "@jupyter-widgets/base",
      "model_module_version": "1.2.0",
      "model_name": "LayoutModel",
      "state": {}
     },
     "a82f33a85aaa4bf0a915b4df377ed37e": {
      "model_module": "@jupyter-widgets/base",
      "model_module_version": "1.2.0",
      "model_name": "LayoutModel",
      "state": {}
     },
     "a83290bbf9e448c3bd703446b21caed3": {
      "model_module": "@jupyter-widgets/output",
      "model_module_version": "1.0.0",
      "model_name": "OutputModel",
      "state": {
       "layout": "IPY_MODEL_84032f0a7b54490196590c47bdc30285",
       "outputs": [
        {
         "name": "stdout",
         "output_type": "stream",
         "text": "True\nTrue\nFalse\n"
        }
       ]
      }
     },
     "a83e737342c143278bce9630f025254f": {
      "model_module": "@jupyter-widgets/base",
      "model_module_version": "1.2.0",
      "model_name": "LayoutModel",
      "state": {}
     },
     "a992bdeca2c84220978302173dded41e": {
      "model_module": "@jupyter-widgets/controls",
      "model_module_version": "1.5.0",
      "model_name": "CheckboxModel",
      "state": {
       "description": "Sam's speed",
       "disabled": false,
       "layout": "IPY_MODEL_5c6b9c8271614c2996cb601a8af3952f",
       "style": "IPY_MODEL_4b583e9b78c64757ae7bea49a64f6618",
       "value": false
      }
     },
     "a9e3fdcc7a834ddbba51387b7b5ef00e": {
      "model_module": "@jupyter-widgets/controls",
      "model_module_version": "1.5.0",
      "model_name": "DescriptionStyleModel",
      "state": {
       "description_width": ""
      }
     },
     "aa0325770cea4a4ab88decd83b766621": {
      "model_module": "@jupyter-widgets/controls",
      "model_module_version": "1.5.0",
      "model_name": "ButtonModel",
      "state": {
       "description": "Submit",
       "icon": "check",
       "layout": "IPY_MODEL_fccbbc5e93ca41c3a7a378668d5f00ad",
       "style": "IPY_MODEL_56be4999f4b044c18edbe32b05ad05e3"
      }
     },
     "aa081ec3d7914a2bb2032766039b6f34": {
      "model_module": "@jupyter-widgets/controls",
      "model_module_version": "1.5.0",
      "model_name": "ButtonStyleModel",
      "state": {}
     },
     "aa0b6cf3755b448da013a595d4617a9e": {
      "model_module": "@jupyter-widgets/base",
      "model_module_version": "1.2.0",
      "model_name": "LayoutModel",
      "state": {}
     },
     "aa84dc9b9b2b41c69ca9fb0e7ecd9c0d": {
      "model_module": "@jupyter-widgets/controls",
      "model_module_version": "1.5.0",
      "model_name": "IntSliderModel",
      "state": {
       "continuous_update": false,
       "description": "(WIP WIDGET - SEE CELL COMMENTS) Slowest time (0s - 20s):",
       "layout": "IPY_MODEL_a015147e10134b5ea9a96bbf4729119f",
       "max": 20,
       "style": "IPY_MODEL_a3f52163c91141a89a6b031a31dc7ba5",
       "value": 10
      }
     },
     "ab3654e86bb84a76a7dd5341efb0bcb7": {
      "model_module": "@jupyter-widgets/controls",
      "model_module_version": "1.5.0",
      "model_name": "ButtonModel",
      "state": {
       "description": "Submit",
       "icon": "check",
       "layout": "IPY_MODEL_0692f904eea445c38dbdcd153a00f1d8",
       "style": "IPY_MODEL_ea354be540c84709890cf4206b41a5bb"
      }
     },
     "ab8bd6fc4fd1485f9d968120e02a6a1e": {
      "model_module": "@jupyter-widgets/controls",
      "model_module_version": "1.5.0",
      "model_name": "ButtonStyleModel",
      "state": {}
     },
     "aca352cb97364688b9aa5f3de57f4b02": {
      "model_module": "@jupyter-widgets/output",
      "model_module_version": "1.0.0",
      "model_name": "OutputModel",
      "state": {
       "layout": "IPY_MODEL_678be6aafba14cbea983ca43f3019678"
      }
     },
     "ad93b5c4082b40f6b827957bcf651415": {
      "model_module": "@jupyter-widgets/controls",
      "model_module_version": "1.5.0",
      "model_name": "CheckboxModel",
      "state": {
       "description": "Sam's speed",
       "disabled": false,
       "layout": "IPY_MODEL_aa0b6cf3755b448da013a595d4617a9e",
       "style": "IPY_MODEL_e4e2d7f55628442eb6e93d33b9afb3a2",
       "value": false
      }
     },
     "afaf6530fdb545a1bed557e20ebe5d16": {
      "model_module": "@jupyter-widgets/controls",
      "model_module_version": "1.5.0",
      "model_name": "SliderStyleModel",
      "state": {
       "description_width": "initial"
      }
     },
     "b21b1bd57e954313a4e4458143a54ec4": {
      "model_module": "@jupyter-widgets/controls",
      "model_module_version": "1.5.0",
      "model_name": "CheckboxModel",
      "state": {
       "description": "Test me",
       "disabled": false,
       "layout": "IPY_MODEL_ffdfb72a8d4c412f8c37fd287492d7c1",
       "style": "IPY_MODEL_29cf18fae0744041acdc403815b4a707",
       "value": false
      }
     },
     "b288a7bc575b42f3a0766fc1bcdb05a8": {
      "model_module": "@jupyter-widgets/controls",
      "model_module_version": "1.5.0",
      "model_name": "BoundedIntTextModel",
      "state": {
       "description": "(WIP) Difference between fastest and slowest time:",
       "layout": "IPY_MODEL_72e61ea0293c4f619166d6c73d4240f4",
       "max": 20,
       "style": "IPY_MODEL_6360fc90621a4117ab32cad69148aad1"
      }
     },
     "b2b3353807374be2b41506253f13d980": {
      "model_module": "@jupyter-widgets/output",
      "model_module_version": "1.0.0",
      "model_name": "OutputModel",
      "state": {
       "layout": "IPY_MODEL_618178f495714654bc0993223d438f27"
      }
     },
     "b3248b51e63b44fc92466308e57f3e8b": {
      "model_module": "@jupyter-widgets/base",
      "model_module_version": "1.2.0",
      "model_name": "LayoutModel",
      "state": {}
     },
     "b35408b7a1c348cc834a62a4f32656f8": {
      "model_module": "@jupyter-widgets/controls",
      "model_module_version": "1.5.0",
      "model_name": "ButtonModel",
      "state": {
       "description": "Submit",
       "icon": "check",
       "layout": "IPY_MODEL_f9557feeeff848eea781888cc2ffdbc3",
       "style": "IPY_MODEL_76f6cb1a60df42e2b2c0fcbab94f0d63"
      }
     },
     "b368dae376cc4b6c872b678d767264b1": {
      "model_module": "@jupyter-widgets/controls",
      "model_module_version": "1.5.0",
      "model_name": "DescriptionStyleModel",
      "state": {
       "description_width": ""
      }
     },
     "b529aaefd4474aaf8dfb375a308536f9": {
      "model_module": "@jupyter-widgets/controls",
      "model_module_version": "1.5.0",
      "model_name": "DescriptionStyleModel",
      "state": {
       "description_width": ""
      }
     },
     "b6e8105094c44e3bb309f11b8ab6427f": {
      "model_module": "@jupyter-widgets/controls",
      "model_module_version": "1.5.0",
      "model_name": "IntSliderModel",
      "state": {
       "continuous_update": false,
       "description": "(WIP WIDGET - SEE CELL COMMENTS) Slowest time (0s - 20s):",
       "layout": "IPY_MODEL_b73bfba9799540408ab4d27e80e51014",
       "max": 20,
       "style": "IPY_MODEL_bf94d5d37dcf4a41833cfcac34fdf4cc",
       "value": 10
      }
     },
     "b73bfba9799540408ab4d27e80e51014": {
      "model_module": "@jupyter-widgets/base",
      "model_module_version": "1.2.0",
      "model_name": "LayoutModel",
      "state": {
       "width": "60%"
      }
     },
     "b8008d104cb04c0c960905f98c85db8e": {
      "model_module": "@jupyter-widgets/base",
      "model_module_version": "1.2.0",
      "model_name": "LayoutModel",
      "state": {}
     },
     "b917cd03458842d7a7b10c7bcad6a91b": {
      "model_module": "@jupyter-widgets/controls",
      "model_module_version": "1.5.0",
      "model_name": "DescriptionStyleModel",
      "state": {
       "description_width": ""
      }
     },
     "b989683af2d34efb84604dfaed50e0cf": {
      "model_module": "@jupyter-widgets/controls",
      "model_module_version": "1.5.0",
      "model_name": "CheckboxModel",
      "state": {
       "description": "Sam's shoe color",
       "disabled": false,
       "layout": "IPY_MODEL_6ffa29a868d54ed885ac4c7c797b2840",
       "style": "IPY_MODEL_5afd72a0aa564ea7868222771df2038b",
       "value": false
      }
     },
     "b9bada78896e4a47960efe88050685a0": {
      "model_module": "@jupyter-widgets/controls",
      "model_module_version": "1.5.0",
      "model_name": "CheckboxModel",
      "state": {
       "description": "Sam's shoe color",
       "disabled": false,
       "layout": "IPY_MODEL_4112cb8d5b9e4f288cdc97f3ac1cf1e9",
       "style": "IPY_MODEL_fb28ee73851e4648b6d6ce7d180afecb",
       "value": false
      }
     },
     "b9e7f70c02a34034bdf37bec9c864e56": {
      "model_module": "@jupyter-widgets/controls",
      "model_module_version": "1.5.0",
      "model_name": "CheckboxModel",
      "state": {
       "description": "Check me",
       "disabled": false,
       "layout": "IPY_MODEL_3038ec8d549c4faa96a9ba1c37e97051",
       "style": "IPY_MODEL_675099e1774743b2bd6a3d6e9d23b461",
       "value": false
      }
     },
     "ba40fcb10e7e48b382e8fb69db7c6e53": {
      "model_module": "@jupyter-widgets/output",
      "model_module_version": "1.0.0",
      "model_name": "OutputModel",
      "state": {
       "layout": "IPY_MODEL_2574d397e85d4b1a9fd7c75868b6f180",
       "outputs": [
        {
         "name": "stdout",
         "output_type": "stream",
         "text": "False\n"
        }
       ]
      }
     },
     "ba51dbe884ae4af286cbffaf5ac8a74c": {
      "model_module": "@jupyter-widgets/base",
      "model_module_version": "1.2.0",
      "model_name": "LayoutModel",
      "state": {}
     },
     "ba83347e00ea427faa60c77606a45af7": {
      "model_module": "@jupyter-widgets/controls",
      "model_module_version": "1.5.0",
      "model_name": "CheckboxModel",
      "state": {
       "description": "Sam's speed",
       "disabled": false,
       "layout": "IPY_MODEL_f0496b9998f14d55a20120b5f279e250",
       "style": "IPY_MODEL_9e5b25dfa9f34b41be8fd0a010cf4634",
       "value": false
      }
     },
     "bae806150a844e04ae3141d1447665f0": {
      "model_module": "@jupyter-widgets/controls",
      "model_module_version": "1.5.0",
      "model_name": "BoundedIntTextModel",
      "state": {
       "description": "Difference between fastest and slowest time:",
       "layout": "IPY_MODEL_89b4a2479e45495bbf66f7dba94ac8be",
       "max": 20,
       "style": "IPY_MODEL_99f3c6fadbde484ebca07b49c6eebe83"
      }
     },
     "bafedb81d705468093fb11f0fd5ee9c2": {
      "model_module": "@jupyter-widgets/controls",
      "model_module_version": "1.5.0",
      "model_name": "CheckboxModel",
      "state": {
       "description": "Sam's shoe color",
       "disabled": false,
       "layout": "IPY_MODEL_56b97e2b35ab4578b4289c6b315ad4d4",
       "style": "IPY_MODEL_0cde86dffb7b4fbd840e028cc3a52632",
       "value": false
      }
     },
     "bbd6874bfb8a4a8b84c7a885c122481e": {
      "model_module": "@jupyter-widgets/base",
      "model_module_version": "1.2.0",
      "model_name": "LayoutModel",
      "state": {}
     },
     "bbd9462eed1e434d867e70edbc498791": {
      "model_module": "@jupyter-widgets/controls",
      "model_module_version": "1.5.0",
      "model_name": "CheckboxModel",
      "state": {
       "description": "Sam's speed",
       "disabled": false,
       "layout": "IPY_MODEL_09746780443541d3b406e25f94157d4d",
       "style": "IPY_MODEL_edb377784f7e43a780506de581117ea1",
       "value": false
      }
     },
     "bd3fd6ebf7684b028652c3d8fa708ab4": {
      "model_module": "@jupyter-widgets/controls",
      "model_module_version": "1.5.0",
      "model_name": "CheckboxModel",
      "state": {
       "description": "Sam's speed",
       "disabled": false,
       "layout": "IPY_MODEL_5e6b1dc2a36540fbb8bc55af30af69c0",
       "style": "IPY_MODEL_505d25ea8eb74e44b86995b2761278b3",
       "value": false
      }
     },
     "bd84dd02267e4848b42a8a59b042ed7f": {
      "model_module": "@jupyter-widgets/controls",
      "model_module_version": "1.5.0",
      "model_name": "DescriptionStyleModel",
      "state": {
       "description_width": ""
      }
     },
     "bd889ce3052e4a38bab09f48825f801b": {
      "model_module": "@jupyter-widgets/controls",
      "model_module_version": "1.5.0",
      "model_name": "IntSliderModel",
      "state": {
       "continuous_update": false,
       "description": "Fastest time (0s - 20s):",
       "layout": "IPY_MODEL_9305b379788240f8ba28548f767359ff",
       "max": 20,
       "style": "IPY_MODEL_88947b8e26684153bd8e30f4beb686ad",
       "value": 20
      }
     },
     "bdcd0f0fa58745d2b330b2feef200355": {
      "model_module": "@jupyter-widgets/controls",
      "model_module_version": "1.5.0",
      "model_name": "DescriptionStyleModel",
      "state": {
       "description_width": "initial"
      }
     },
     "be6e4c2293554c10b69484902c7464d7": {
      "model_module": "@jupyter-widgets/base",
      "model_module_version": "1.2.0",
      "model_name": "LayoutModel",
      "state": {}
     },
     "be707d460c7249859072a67c98062df3": {
      "model_module": "@jupyter-widgets/controls",
      "model_module_version": "1.5.0",
      "model_name": "DescriptionStyleModel",
      "state": {
       "description_width": ""
      }
     },
     "bf192ba99ed4445390d9d128a35c3274": {
      "model_module": "@jupyter-widgets/controls",
      "model_module_version": "1.5.0",
      "model_name": "DescriptionStyleModel",
      "state": {
       "description_width": ""
      }
     },
     "bf1a78a60bc94847a84ed9f12056ef98": {
      "model_module": "@jupyter-widgets/controls",
      "model_module_version": "1.5.0",
      "model_name": "IntSliderModel",
      "state": {
       "continuous_update": false,
       "description": "Fastest time (0s - 20s):",
       "layout": "IPY_MODEL_5730b568b77f4777aad17f1487e9a94a",
       "max": 20,
       "style": "IPY_MODEL_dcdac7bea94d422e8af5b795adfd83be",
       "value": 10
      }
     },
     "bf38a758011c4bed93774c3da7573b22": {
      "model_module": "@jupyter-widgets/base",
      "model_module_version": "1.2.0",
      "model_name": "LayoutModel",
      "state": {}
     },
     "bf5f0aeb95de4726a67c972fc6120cc3": {
      "model_module": "@jupyter-widgets/controls",
      "model_module_version": "1.5.0",
      "model_name": "CheckboxModel",
      "state": {
       "description": "Sam's speed",
       "disabled": false,
       "layout": "IPY_MODEL_343254fd1faa4b0f81942252a6279e26",
       "style": "IPY_MODEL_2b745439e0984b0fa90b78494c173713",
       "value": false
      }
     },
     "bf94d5d37dcf4a41833cfcac34fdf4cc": {
      "model_module": "@jupyter-widgets/controls",
      "model_module_version": "1.5.0",
      "model_name": "SliderStyleModel",
      "state": {
       "description_width": "initial"
      }
     },
     "bfb65da46c9e4a159af8772dfb82e815": {
      "model_module": "@jupyter-widgets/base",
      "model_module_version": "1.2.0",
      "model_name": "LayoutModel",
      "state": {
       "width": "20%"
      }
     },
     "bfe2e0512e6744169f9a3bda69e051bb": {
      "model_module": "@jupyter-widgets/controls",
      "model_module_version": "1.5.0",
      "model_name": "CheckboxModel",
      "state": {
       "description": "Test me",
       "disabled": false,
       "layout": "IPY_MODEL_a82f33a85aaa4bf0a915b4df377ed37e",
       "style": "IPY_MODEL_9f7443e2f0dd47b5b98e04f9c7b0f1a4",
       "value": false
      }
     },
     "c1bb1257b6084cc49e9fcc02a18430a5": {
      "model_module": "@jupyter-widgets/base",
      "model_module_version": "1.2.0",
      "model_name": "LayoutModel",
      "state": {
       "width": "40%"
      }
     },
     "c1ec03c744674a5096167733a72aff1d": {
      "model_module": "@jupyter-widgets/controls",
      "model_module_version": "1.5.0",
      "model_name": "IntSliderModel",
      "state": {
       "continuous_update": false,
       "description": "Fastest time (0s - 20s):",
       "layout": "IPY_MODEL_ddd9979b2bab4ff998abad9b0946851c",
       "max": 20,
       "style": "IPY_MODEL_31d7a401ca614890ba909d8138fa5787",
       "value": 10
      }
     },
     "c1ff7b7724914428a0a7903fefbc0f91": {
      "model_module": "@jupyter-widgets/base",
      "model_module_version": "1.2.0",
      "model_name": "LayoutModel",
      "state": {}
     },
     "c450a9b9449c4c9197772df015ca6c10": {
      "model_module": "@jupyter-widgets/base",
      "model_module_version": "1.2.0",
      "model_name": "LayoutModel",
      "state": {}
     },
     "c46655e342214c3591c85dfdcee5a9eb": {
      "model_module": "@jupyter-widgets/controls",
      "model_module_version": "1.5.0",
      "model_name": "ButtonModel",
      "state": {
       "description": "Submit",
       "icon": "check",
       "layout": "IPY_MODEL_61c7a579368844cf9c8da9a2be7de65e",
       "style": "IPY_MODEL_e26a5fa8304b43fa84e467c620408725"
      }
     },
     "c5f7de2eb9f144f3b5939ef8e9feeaa2": {
      "model_module": "@jupyter-widgets/controls",
      "model_module_version": "1.5.0",
      "model_name": "CheckboxModel",
      "state": {
       "description": "Sam's speed",
       "disabled": false,
       "layout": "IPY_MODEL_76653f001bca4e7b9fd8917dbcccfbad",
       "style": "IPY_MODEL_3192219919a0411bad59486134ac9bc4",
       "value": false
      }
     },
     "c699b2bcecfb41b1b5d6318b9e43c325": {
      "model_module": "@jupyter-widgets/base",
      "model_module_version": "1.2.0",
      "model_name": "LayoutModel",
      "state": {}
     },
     "c6b22e51e6c74e80bf3a51840dd48eb7": {
      "model_module": "@jupyter-widgets/controls",
      "model_module_version": "1.5.0",
      "model_name": "CheckboxModel",
      "state": {
       "disabled": false,
       "layout": "IPY_MODEL_5794b76a254f4fdfac3e1c429483ce76",
       "style": "IPY_MODEL_b529aaefd4474aaf8dfb375a308536f9",
       "value": false
      }
     },
     "c70a90e99caa4ea4b8072d672cd03e4b": {
      "model_module": "@jupyter-widgets/base",
      "model_module_version": "1.2.0",
      "model_name": "LayoutModel",
      "state": {
       "width": "40%"
      }
     },
     "c73ca3051d5f4c4bb2d2f60aaf1d8ba6": {
      "model_module": "@jupyter-widgets/controls",
      "model_module_version": "1.5.0",
      "model_name": "SliderStyleModel",
      "state": {
       "description_width": ""
      }
     },
     "c7e6d4c0701544efb63f6026e11d9027": {
      "model_module": "@jupyter-widgets/base",
      "model_module_version": "1.2.0",
      "model_name": "LayoutModel",
      "state": {}
     },
     "c81de5c99d59401fa03369f1a6695f40": {
      "model_module": "@jupyter-widgets/controls",
      "model_module_version": "1.5.0",
      "model_name": "IntSliderModel",
      "state": {
       "continuous_update": false,
       "description": "(WIP WIDGET - SEE CELL COMMENTS) Slowest time (0s - 20s):",
       "layout": "IPY_MODEL_3beecbb1f1d443359f47a93eeab25577",
       "max": 20,
       "style": "IPY_MODEL_6513fa3d47ea46f2967c5ffff0b0f22f",
       "value": 10
      }
     },
     "c88e9f01d523461d8f4c01a1cdc44cb0": {
      "model_module": "@jupyter-widgets/output",
      "model_module_version": "1.0.0",
      "model_name": "OutputModel",
      "state": {
       "layout": "IPY_MODEL_88b2d2b0e6b74667bfe0afd3b858b868"
      }
     },
     "c9e1245ccbff4be48222d69abc8cd191": {
      "model_module": "@jupyter-widgets/controls",
      "model_module_version": "1.5.0",
      "model_name": "BoundedIntTextModel",
      "state": {
       "description": "Difference between fastest and slowest time:",
       "layout": "IPY_MODEL_b3248b51e63b44fc92466308e57f3e8b",
       "max": 20,
       "style": "IPY_MODEL_d754d6808a904e89aac7d4f0c3fea038"
      }
     },
     "caeb5bde00be4d209efa4b55b2f074b7": {
      "model_module": "@jupyter-widgets/base",
      "model_module_version": "1.2.0",
      "model_name": "LayoutModel",
      "state": {
       "width": "100%"
      }
     },
     "cb84e0ee5cc149e19fa72206b3691cd6": {
      "model_module": "@jupyter-widgets/controls",
      "model_module_version": "1.5.0",
      "model_name": "CheckboxModel",
      "state": {
       "description": "Sam's shoe color",
       "disabled": false,
       "layout": "IPY_MODEL_0f0423cf58d94dac84b81ba4dd89c0b5",
       "style": "IPY_MODEL_e722bd36a0104180a55958e74c8b8834",
       "value": true
      }
     },
     "ccc9152101d84130ade7e276af0150de": {
      "model_module": "@jupyter-widgets/base",
      "model_module_version": "1.2.0",
      "model_name": "LayoutModel",
      "state": {}
     },
     "cd07128c208e4d8780f8f8acd7892deb": {
      "model_module": "@jupyter-widgets/controls",
      "model_module_version": "1.5.0",
      "model_name": "DescriptionStyleModel",
      "state": {
       "description_width": ""
      }
     },
     "cda9ca3fc6f542bea7fb99a2e1ceed1f": {
      "model_module": "@jupyter-widgets/base",
      "model_module_version": "1.2.0",
      "model_name": "LayoutModel",
      "state": {}
     },
     "d14739ac3ac14c74a1ba33fee79cc658": {
      "model_module": "@jupyter-widgets/controls",
      "model_module_version": "1.5.0",
      "model_name": "DescriptionStyleModel",
      "state": {
       "description_width": ""
      }
     },
     "d29bde80afaa4d3483356ab8df564e55": {
      "model_module": "@jupyter-widgets/base",
      "model_module_version": "1.2.0",
      "model_name": "LayoutModel",
      "state": {}
     },
     "d31a134d8fff40c283da36850a10104a": {
      "model_module": "@jupyter-widgets/controls",
      "model_module_version": "1.5.0",
      "model_name": "SliderStyleModel",
      "state": {
       "description_width": "initial"
      }
     },
     "d328ad9219344e4a8ba135534f50aff2": {
      "model_module": "@jupyter-widgets/base",
      "model_module_version": "1.2.0",
      "model_name": "LayoutModel",
      "state": {}
     },
     "d3d62d939bed45cd823a17d30fcb53fc": {
      "model_module": "@jupyter-widgets/controls",
      "model_module_version": "1.5.0",
      "model_name": "CheckboxModel",
      "state": {
       "description": "Sam's speed",
       "disabled": false,
       "layout": "IPY_MODEL_3ef6435dfff549f8975dfde82ec9da1e",
       "style": "IPY_MODEL_08ba70c7d1294594ac73c05d7d86d00a",
       "value": false
      }
     },
     "d5d25eea0d8141998fabcc48dd4b657e": {
      "model_module": "@jupyter-widgets/controls",
      "model_module_version": "1.5.0",
      "model_name": "DescriptionStyleModel",
      "state": {
       "description_width": ""
      }
     },
     "d65f959b27ce4b79b2db56ef32526f64": {
      "model_module": "@jupyter-widgets/base",
      "model_module_version": "1.2.0",
      "model_name": "LayoutModel",
      "state": {}
     },
     "d67ebd3fae494eccb74898e8abc16829": {
      "model_module": "@jupyter-widgets/base",
      "model_module_version": "1.2.0",
      "model_name": "LayoutModel",
      "state": {}
     },
     "d754d6808a904e89aac7d4f0c3fea038": {
      "model_module": "@jupyter-widgets/controls",
      "model_module_version": "1.5.0",
      "model_name": "DescriptionStyleModel",
      "state": {
       "description_width": "initial"
      }
     },
     "d7669cf9ba0547f0b716a44dcb42b8f7": {
      "model_module": "@jupyter-widgets/controls",
      "model_module_version": "1.5.0",
      "model_name": "BoundedIntTextModel",
      "state": {
       "description": "Text:",
       "layout": "IPY_MODEL_fb85641f186f48bbad1bad070524fc56",
       "max": 10,
       "style": "IPY_MODEL_f8f1f21caf6840b085fad082b141c882"
      }
     },
     "d7816788aac24596a693ae0295152546": {
      "model_module": "@jupyter-widgets/controls",
      "model_module_version": "1.5.0",
      "model_name": "ButtonModel",
      "state": {
       "description": "Submit",
       "icon": "check",
       "layout": "IPY_MODEL_92223ef9756540d58bcf0d4ae2034f36",
       "style": "IPY_MODEL_e966bd6ad8714a01bb6224f8cba128d6"
      }
     },
     "d8213a73560147dca027fc48c29eb75a": {
      "model_module": "@jupyter-widgets/base",
      "model_module_version": "1.2.0",
      "model_name": "LayoutModel",
      "state": {}
     },
     "d935dde7ace2497d97b89b2607da455b": {
      "model_module": "@jupyter-widgets/controls",
      "model_module_version": "1.5.0",
      "model_name": "DescriptionStyleModel",
      "state": {
       "description_width": "initial"
      }
     },
     "db0e983938984791877a7d1fd28f90ba": {
      "model_module": "@jupyter-widgets/controls",
      "model_module_version": "1.5.0",
      "model_name": "DescriptionStyleModel",
      "state": {
       "description_width": ""
      }
     },
     "dc93ff46fab04bf6abb0af7db025026b": {
      "model_module": "@jupyter-widgets/controls",
      "model_module_version": "1.5.0",
      "model_name": "ButtonStyleModel",
      "state": {}
     },
     "dcdac7bea94d422e8af5b795adfd83be": {
      "model_module": "@jupyter-widgets/controls",
      "model_module_version": "1.5.0",
      "model_name": "SliderStyleModel",
      "state": {
       "description_width": "initial"
      }
     },
     "ddd9979b2bab4ff998abad9b0946851c": {
      "model_module": "@jupyter-widgets/base",
      "model_module_version": "1.2.0",
      "model_name": "LayoutModel",
      "state": {
       "width": "50%"
      }
     },
     "de2c2d5d3d104270892f663a079457ce": {
      "model_module": "@jupyter-widgets/controls",
      "model_module_version": "1.5.0",
      "model_name": "DescriptionStyleModel",
      "state": {
       "description_width": ""
      }
     },
     "ded4951aa060426c84b51c40d3f466c9": {
      "model_module": "@jupyter-widgets/output",
      "model_module_version": "1.0.0",
      "model_name": "OutputModel",
      "state": {
       "layout": "IPY_MODEL_7a85e9893dec44e99a1fc6bf3a509652",
       "outputs": [
        {
         "name": "stdout",
         "output_type": "stream",
         "text": "Correct!\n"
        }
       ]
      }
     },
     "df2428f370164b0aa7225ce3954d925a": {
      "model_module": "@jupyter-widgets/controls",
      "model_module_version": "1.5.0",
      "model_name": "DescriptionStyleModel",
      "state": {
       "description_width": ""
      }
     },
     "df27af7ef1654ec99c852eb1b67198f0": {
      "model_module": "@jupyter-widgets/controls",
      "model_module_version": "1.5.0",
      "model_name": "BoundedIntTextModel",
      "state": {
       "description": "(WIP) Difference between fastest and slowest time:",
       "layout": "IPY_MODEL_37b5bb60b1fc401793a774ef5961af39",
       "max": 20,
       "style": "IPY_MODEL_42ad9eaa00ba4fc0b223c703f1d3ded5"
      }
     },
     "e00b2212c0eb411ba62c17375b2e0c89": {
      "model_module": "@jupyter-widgets/controls",
      "model_module_version": "1.5.0",
      "model_name": "CheckboxModel",
      "state": {
       "description": "Test me",
       "disabled": false,
       "layout": "IPY_MODEL_a001e8c82aee4dd396adbeed009835ec",
       "style": "IPY_MODEL_1a9c443d68834ab1a963d9cd1260bacc",
       "value": false
      }
     },
     "e0a34052d6a943f997ba8a8911e4d88e": {
      "model_module": "@jupyter-widgets/base",
      "model_module_version": "1.2.0",
      "model_name": "LayoutModel",
      "state": {}
     },
     "e0b0645e14a24eff8660c92b218940df": {
      "model_module": "@jupyter-widgets/base",
      "model_module_version": "1.2.0",
      "model_name": "LayoutModel",
      "state": {}
     },
     "e0b8b7892bdb4f32b8b23655c6dac31a": {
      "model_module": "@jupyter-widgets/base",
      "model_module_version": "1.2.0",
      "model_name": "LayoutModel",
      "state": {
       "width": "20%"
      }
     },
     "e0f30dea8a4e4f939d80c09dba7cd4d8": {
      "model_module": "@jupyter-widgets/controls",
      "model_module_version": "1.5.0",
      "model_name": "DescriptionStyleModel",
      "state": {
       "description_width": ""
      }
     },
     "e255717b61504643bf98a4a908142670": {
      "model_module": "@jupyter-widgets/base",
      "model_module_version": "1.2.0",
      "model_name": "LayoutModel",
      "state": {
       "width": "60%"
      }
     },
     "e26a5fa8304b43fa84e467c620408725": {
      "model_module": "@jupyter-widgets/controls",
      "model_module_version": "1.5.0",
      "model_name": "ButtonStyleModel",
      "state": {}
     },
     "e308ff64431644138bd4aa4f45e1dbb2": {
      "model_module": "@jupyter-widgets/base",
      "model_module_version": "1.2.0",
      "model_name": "LayoutModel",
      "state": {
       "width": "40%"
      }
     },
     "e353684aad0d4f1f9d146439dce8391e": {
      "model_module": "@jupyter-widgets/controls",
      "model_module_version": "1.5.0",
      "model_name": "SliderStyleModel",
      "state": {
       "description_width": "initial"
      }
     },
     "e380988fc45c42f6b8ac09a8c2077f32": {
      "model_module": "@jupyter-widgets/controls",
      "model_module_version": "1.5.0",
      "model_name": "ButtonStyleModel",
      "state": {}
     },
     "e43a90d52f04429a85e77a25d0bff484": {
      "model_module": "@jupyter-widgets/controls",
      "model_module_version": "1.5.0",
      "model_name": "CheckboxModel",
      "state": {
       "description": "Sam's shoe color",
       "disabled": false,
       "layout": "IPY_MODEL_97b7feaa7d8847d88f4994c58cae429f",
       "style": "IPY_MODEL_bf192ba99ed4445390d9d128a35c3274",
       "value": false
      }
     },
     "e4e2d7f55628442eb6e93d33b9afb3a2": {
      "model_module": "@jupyter-widgets/controls",
      "model_module_version": "1.5.0",
      "model_name": "DescriptionStyleModel",
      "state": {
       "description_width": ""
      }
     },
     "e722bd36a0104180a55958e74c8b8834": {
      "model_module": "@jupyter-widgets/controls",
      "model_module_version": "1.5.0",
      "model_name": "DescriptionStyleModel",
      "state": {
       "description_width": ""
      }
     },
     "e73c23775ae442ef9c6bff740b79524f": {
      "model_module": "@jupyter-widgets/controls",
      "model_module_version": "1.5.0",
      "model_name": "DescriptionStyleModel",
      "state": {
       "description_width": ""
      }
     },
     "e79019b80b24418aa967fed3b9dfb1da": {
      "model_module": "@jupyter-widgets/controls",
      "model_module_version": "1.5.0",
      "model_name": "SliderStyleModel",
      "state": {
       "description_width": "initial"
      }
     },
     "e864c1f4ba0a4476a394e2bff8b9b292": {
      "model_module": "@jupyter-widgets/controls",
      "model_module_version": "1.5.0",
      "model_name": "DescriptionStyleModel",
      "state": {
       "description_width": ""
      }
     },
     "e954207e0fd14d28a83fca094c35f2d4": {
      "model_module": "@jupyter-widgets/controls",
      "model_module_version": "1.5.0",
      "model_name": "IntSliderModel",
      "state": {
       "continuous_update": false,
       "description": "(WIP WIDGET - SEE CELL COMMENTS) Fastest time (0s - 20s):",
       "layout": "IPY_MODEL_18b1b770ed5b4f4898739adf8914d149",
       "max": 20,
       "style": "IPY_MODEL_92f7aef690614262be143a70b9528fd5",
       "value": 10
      }
     },
     "e966bd6ad8714a01bb6224f8cba128d6": {
      "model_module": "@jupyter-widgets/controls",
      "model_module_version": "1.5.0",
      "model_name": "ButtonStyleModel",
      "state": {}
     },
     "e9baf601afc94c2883e6f049cb5dafa2": {
      "model_module": "@jupyter-widgets/base",
      "model_module_version": "1.2.0",
      "model_name": "LayoutModel",
      "state": {}
     },
     "ea354be540c84709890cf4206b41a5bb": {
      "model_module": "@jupyter-widgets/controls",
      "model_module_version": "1.5.0",
      "model_name": "ButtonStyleModel",
      "state": {}
     },
     "ea453c0aea824d73b4ba9f75ff269020": {
      "model_module": "@jupyter-widgets/controls",
      "model_module_version": "1.5.0",
      "model_name": "DescriptionStyleModel",
      "state": {
       "description_width": ""
      }
     },
     "eabe8f34e499433fbdbb59b64810a25b": {
      "model_module": "@jupyter-widgets/base",
      "model_module_version": "1.2.0",
      "model_name": "LayoutModel",
      "state": {}
     },
     "eadff858790d433594b7062423164899": {
      "model_module": "@jupyter-widgets/controls",
      "model_module_version": "1.5.0",
      "model_name": "DescriptionStyleModel",
      "state": {
       "description_width": ""
      }
     },
     "eb5ac54a5be94d519a9635bdc310f8fa": {
      "model_module": "@jupyter-widgets/base",
      "model_module_version": "1.2.0",
      "model_name": "LayoutModel",
      "state": {}
     },
     "ebbcab317ad24964870fbceb41ebbc8e": {
      "model_module": "@jupyter-widgets/base",
      "model_module_version": "1.2.0",
      "model_name": "LayoutModel",
      "state": {}
     },
     "ecac892e850b404cbeaf57c3e5b50bf6": {
      "model_module": "@jupyter-widgets/controls",
      "model_module_version": "1.5.0",
      "model_name": "ButtonModel",
      "state": {
       "description": "Submit",
       "icon": "check",
       "layout": "IPY_MODEL_38eed77c9cd94fd4bc600e06c903288d",
       "style": "IPY_MODEL_74fcf1d57b0445218cf2ea15a2881407"
      }
     },
     "ecb6d4cb22d0415d80b6c5bca0dcb4c1": {
      "model_module": "@jupyter-widgets/base",
      "model_module_version": "1.2.0",
      "model_name": "LayoutModel",
      "state": {
       "width": "50%"
      }
     },
     "ecd35815d4db4038a8386f0bca320776": {
      "model_module": "@jupyter-widgets/controls",
      "model_module_version": "1.5.0",
      "model_name": "DescriptionStyleModel",
      "state": {
       "description_width": ""
      }
     },
     "ed72a95f97de4379807301199a899316": {
      "model_module": "@jupyter-widgets/controls",
      "model_module_version": "1.5.0",
      "model_name": "RadioButtonsModel",
      "state": {
       "_options_labels": [
        "Sam's speed",
        "The number of spots to plant",
        "Sam's shoe color"
       ],
       "index": null,
       "layout": "IPY_MODEL_691064aa53cc4e19a93a8a3ab1d43790",
       "style": "IPY_MODEL_de2c2d5d3d104270892f663a079457ce"
      }
     },
     "edb377784f7e43a780506de581117ea1": {
      "model_module": "@jupyter-widgets/controls",
      "model_module_version": "1.5.0",
      "model_name": "DescriptionStyleModel",
      "state": {
       "description_width": ""
      }
     },
     "ee28996807fd47738eebd2ad91433280": {
      "model_module": "@jupyter-widgets/base",
      "model_module_version": "1.2.0",
      "model_name": "LayoutModel",
      "state": {
       "width": "40%"
      }
     },
     "ee83cb3d7f1d448691cd77d83441455c": {
      "model_module": "@jupyter-widgets/base",
      "model_module_version": "1.2.0",
      "model_name": "LayoutModel",
      "state": {}
     },
     "ef907f7caf134c8c8514beff23520d23": {
      "model_module": "@jupyter-widgets/base",
      "model_module_version": "1.2.0",
      "model_name": "LayoutModel",
      "state": {}
     },
     "f0496b9998f14d55a20120b5f279e250": {
      "model_module": "@jupyter-widgets/base",
      "model_module_version": "1.2.0",
      "model_name": "LayoutModel",
      "state": {
       "width": "100%"
      }
     },
     "f05b92e37dc84fd8a1ebaddc53d05282": {
      "model_module": "@jupyter-widgets/controls",
      "model_module_version": "1.5.0",
      "model_name": "CheckboxModel",
      "state": {
       "description": "Check me",
       "disabled": false,
       "layout": "IPY_MODEL_0b57babeacd641e5b0d2b6ebaf26d243",
       "style": "IPY_MODEL_8ce8e2f1316b45ae9868cc1dd73d0485",
       "value": false
      }
     },
     "f0e265ce0a29447cabbb2b687b81516d": {
      "model_module": "@jupyter-widgets/controls",
      "model_module_version": "1.5.0",
      "model_name": "ButtonStyleModel",
      "state": {}
     },
     "f38bc8bb6f17447e9b734b7bf72426f8": {
      "model_module": "@jupyter-widgets/controls",
      "model_module_version": "1.5.0",
      "model_name": "DescriptionStyleModel",
      "state": {
       "description_width": ""
      }
     },
     "f576bf55836d45b99fc82209e33b5bd0": {
      "model_module": "@jupyter-widgets/controls",
      "model_module_version": "1.5.0",
      "model_name": "CheckboxModel",
      "state": {
       "description": "Sam's speed",
       "disabled": false,
       "layout": "IPY_MODEL_23792974c74e40c88c0cc5700f436307",
       "style": "IPY_MODEL_3001694cb53542faa854cf34f2da6902",
       "value": false
      }
     },
     "f5ac8bdd6b444550b49aadf5164eecd4": {
      "model_module": "@jupyter-widgets/controls",
      "model_module_version": "1.5.0",
      "model_name": "CheckboxModel",
      "state": {
       "description": "Sam's shoe color",
       "disabled": false,
       "layout": "IPY_MODEL_bbd6874bfb8a4a8b84c7a885c122481e",
       "style": "IPY_MODEL_285495cecb504cfcb4b8d216dac2dcb7",
       "value": false
      }
     },
     "f78ab0460565485298140ba401b913d5": {
      "model_module": "@jupyter-widgets/controls",
      "model_module_version": "1.5.0",
      "model_name": "DescriptionStyleModel",
      "state": {
       "description_width": ""
      }
     },
     "f85af8dd531c45ebb092bc3860fdce83": {
      "model_module": "@jupyter-widgets/controls",
      "model_module_version": "1.5.0",
      "model_name": "IntSliderModel",
      "state": {
       "continuous_update": false,
       "description": "Fastest time (0s - 20s):",
       "layout": "IPY_MODEL_125ac8159fef42d8a125fb29aa8973ee",
       "max": 20,
       "style": "IPY_MODEL_248fccca3ddf4a38b30f6dc49e884105",
       "value": 10
      }
     },
     "f8f1f21caf6840b085fad082b141c882": {
      "model_module": "@jupyter-widgets/controls",
      "model_module_version": "1.5.0",
      "model_name": "DescriptionStyleModel",
      "state": {
       "description_width": ""
      }
     },
     "f9557feeeff848eea781888cc2ffdbc3": {
      "model_module": "@jupyter-widgets/base",
      "model_module_version": "1.2.0",
      "model_name": "LayoutModel",
      "state": {}
     },
     "fa3f82981ea649ff9c10855391f49df9": {
      "model_module": "@jupyter-widgets/controls",
      "model_module_version": "1.5.0",
      "model_name": "SliderStyleModel",
      "state": {
       "description_width": ""
      }
     },
     "fb28ee73851e4648b6d6ce7d180afecb": {
      "model_module": "@jupyter-widgets/controls",
      "model_module_version": "1.5.0",
      "model_name": "DescriptionStyleModel",
      "state": {
       "description_width": ""
      }
     },
     "fb85641f186f48bbad1bad070524fc56": {
      "model_module": "@jupyter-widgets/base",
      "model_module_version": "1.2.0",
      "model_name": "LayoutModel",
      "state": {}
     },
     "fb957f066ff045aaa19d3b906eaa8f58": {
      "model_module": "@jupyter-widgets/base",
      "model_module_version": "1.2.0",
      "model_name": "LayoutModel",
      "state": {
       "width": "40%"
      }
     },
     "fcb0d0c4f55a4d06867b5825f3b07274": {
      "model_module": "@jupyter-widgets/base",
      "model_module_version": "1.2.0",
      "model_name": "LayoutModel",
      "state": {}
     },
     "fccbbc5e93ca41c3a7a378668d5f00ad": {
      "model_module": "@jupyter-widgets/base",
      "model_module_version": "1.2.0",
      "model_name": "LayoutModel",
      "state": {}
     },
     "fcdba88101354a15aad94adb14beade1": {
      "model_module": "@jupyter-widgets/controls",
      "model_module_version": "1.5.0",
      "model_name": "CheckboxModel",
      "state": {
       "description": "Sam's shoe color",
       "disabled": false,
       "layout": "IPY_MODEL_0e422452907e40b296343729e61da3de",
       "style": "IPY_MODEL_41fa3fd79abf4dc181030a30ec42d8c3",
       "value": false
      }
     },
     "feaf989c481846bd828075fc5ece9d63": {
      "model_module": "@jupyter-widgets/controls",
      "model_module_version": "1.5.0",
      "model_name": "CheckboxModel",
      "state": {
       "description": "Sam's shoe color",
       "disabled": false,
       "layout": "IPY_MODEL_45dbf1ca4e444f9c9f2547fd0e5f9f17",
       "style": "IPY_MODEL_7fcb63df6adc43628b4b7e53c0f4802f",
       "value": true
      }
     },
     "fef1ee491bd64452b3e166f860e771a8": {
      "model_module": "@jupyter-widgets/controls",
      "model_module_version": "1.5.0",
      "model_name": "DescriptionStyleModel",
      "state": {
       "description_width": "initial"
      }
     },
     "ffdfb72a8d4c412f8c37fd287492d7c1": {
      "model_module": "@jupyter-widgets/base",
      "model_module_version": "1.2.0",
      "model_name": "LayoutModel",
      "state": {}
     },
     "ffe47e16bd2c4353bf12faa29047e007": {
      "model_module": "@jupyter-widgets/controls",
      "model_module_version": "1.5.0",
      "model_name": "DescriptionStyleModel",
      "state": {
       "description_width": "initial"
      }
     },
     "fff08562275e48ac8e248fc9e973e882": {
      "model_module": "@jupyter-widgets/controls",
      "model_module_version": "1.5.0",
      "model_name": "ButtonModel",
      "state": {
       "description": "Submit",
       "icon": "check",
       "layout": "IPY_MODEL_026048f530024e3d8ffb29c47d6e79ce",
       "style": "IPY_MODEL_2cdc48db0db5435aa7f031d3915773a0"
      }
     }
    },
    "version_major": 2,
    "version_minor": 0
   }
  }
 },
 "nbformat": 4,
 "nbformat_minor": 2
}
