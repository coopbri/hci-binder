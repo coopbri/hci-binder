{
 "cells": [
  {
   "cell_type": "markdown",
   "metadata": {
    "slideshow": {
     "slide_type": "slide"
    }
   },
   "source": [
    "# Parallel Computation\n",
    "## Parallelism\n",
    "*Lesson Developer: Eric Shook eshook@umn.edu*\n"
   ]
  },
  {
   "cell_type": "code",
   "execution_count": 149,
   "metadata": {
    "init_cell": true,
    "slideshow": {
     "slide_type": "skip"
    }
   },
   "outputs": [
    {
     "data": {
      "text/html": [
       "\n",
       "    <script>\n",
       "        display = true; \n",
       "        function toggle() {\n",
       "            var input = $(\"div.input\");\n",
       "            if (display) { input.hide(); }\n",
       "            else { input.show(); }\n",
       "            display = !display;\n",
       "        }\n",
       "        $(document).ready(toggle);\n",
       "    </script>\n",
       "    \n",
       "    <form action=\"javascript:toggle()\">\n",
       "        <input type=\"submit\" value=\"Toggle raw code\">\n",
       "    </form>\n"
      ],
      "text/plain": [
       "<IPython.core.display.HTML object>"
      ]
     },
     "execution_count": 149,
     "metadata": {},
     "output_type": "execute_result"
    }
   ],
   "source": [
    "from IPython.display import HTML, IFrame, Javascript, SVG\n",
    "from ipywidgets import interactive, Layout\n",
    "import ipywidgets as widgets\n",
    "\n",
    "# hide code output\n",
    "HTML('''\n",
    "    <script>\n",
    "        display = true; \n",
    "        function toggle() {\n",
    "            var input = $(\"div.input\");\n",
    "            if (display) { input.hide(); }\n",
    "            else { input.show(); }\n",
    "            display = !display;\n",
    "        }\n",
    "        $(document).ready(toggle);\n",
    "    </script>\n",
    "    \n",
    "    <form action=\"javascript:toggle()\">\n",
    "        <input type=\"submit\" value=\"Toggle raw code\">\n",
    "    </form>\n",
    "''')"
   ]
  },
  {
   "cell_type": "markdown",
   "metadata": {
    "slideshow": {
     "slide_type": "slide"
    }
   },
   "source": [
    "### Purpose of Parallel Computation\n",
    "Almost every desktop computer, laptop computer, cellphone, and server has more that one processing **core** used to make sense of data, and they are called **multi-core processors.** These cores can help you find the nearest \"Hip Po Coffee\" location, estimate tomorrow's weather forecast, or calculate where stones thrown by a catapult will land. We use lots of terms for making sense of data: processing data, filtering data, querying data, analyzing data, data munging, and visualizing data are just a few examples. \n",
    "\n",
    "What if we have lots and lots of data? So much data that it takes one processing core hours, days, weeks, or even years to filter, query, analyze, or visualize it? Parallel computation is a special type of computation that enables multiple calculations to be performed simultanously using multiple processing cores.\n",
    "\n",
    "Before we get into parallel computation. First, let's have a little race."
   ]
  },
  {
   "cell_type": "markdown",
   "metadata": {
    "slideshow": {
     "slide_type": "slide"
    },
    "variables": {
     "IFrame(\"supplementary/field-manual.html\", width=\"600\", height=\"350\")": "\n        <iframe\n            width=\"600\"\n            height=\"350\"\n            src=\"supplementary/field-manual.html\"\n            frameborder=\"0\"\n            allowfullscreen\n        ></iframe>\n        "
    }
   },
   "source": [
    "### The race is on! How fast can you plant a field?\n",
    "\n",
    "Click on each cell to plant one seed. Let's see how fast you can do it.\n",
    "\n",
    "{{IFrame(\"supplementary/field-manual.html\", width=\"600\", height=\"350\")}}"
   ]
  },
  {
   "cell_type": "markdown",
   "metadata": {
    "slideshow": {
     "slide_type": "slide"
    }
   },
   "source": [
    "### Meet Sam.\n",
    "\n",
    "Sam is grumpy and works alone. In fact, he will only do his work when no one else is in the field.\n",
    "\n",
    "<img src=\"https://rawcdn.githack.com/coopbri/hci-binder/0a0f8e02e3a3e7429f881b69634200d671c0f560/notebooks/parallel-computation/supplementary/farmer.svg\" width=\"150\" height=\"150\">"
   ]
  },
  {
   "cell_type": "markdown",
   "metadata": {
    "slideshow": {
     "slide_type": "slide"
    },
    "variables": {
     "IFrame(\"supplementary/field-one.html\", width=\"600\", height=\"350\")": "\n        <iframe\n            width=\"600\"\n            height=\"350\"\n            src=\"supplementary/field-one.html\"\n            frameborder=\"0\"\n            allowfullscreen\n        ></iframe>\n        "
    }
   },
   "source": [
    "{{IFrame(\"supplementary/field-one.html\", width=\"600\", height=\"350\")}}\n",
    "\n",
    "How quickly can Sam plant the entire field if he has all the seeds?"
   ]
  },
  {
   "cell_type": "code",
   "execution_count": 126,
   "metadata": {},
   "outputs": [
    {
     "data": {
      "application/vnd.jupyter.widget-view+json": {
       "model_id": "22464aa63cd1429a8e6b639f304845ea",
       "version_major": 2,
       "version_minor": 0
      },
      "text/plain": [
       "BoundedIntText(value=0, description=\"(WIP) Sam's fastest time (seconds):\", layout=Layout(width='40%'), style=D…"
      ]
     },
     "metadata": {},
     "output_type": "display_data"
    }
   ],
   "source": [
    "widgets.BoundedIntText(\n",
    "    value=0,\n",
    "    min=0,\n",
    "    max=100,\n",
    "    step=1,\n",
    "    description='(WIP) Sam\\'s fastest time (seconds):', style={'description_width': 'initial'},\n",
    "    layout = Layout(width='40%'),\n",
    ")"
   ]
  },
  {
   "cell_type": "markdown",
   "metadata": {
    "slideshow": {
     "slide_type": "slide"
    }
   },
   "source": [
    "What is the fundamental limitation in the planting time? Check all that apply."
   ]
  },
  {
   "cell_type": "code",
   "execution_count": 147,
   "metadata": {},
   "outputs": [
    {
     "data": {
      "application/vnd.jupyter.widget-view+json": {
       "model_id": "f576bf55836d45b99fc82209e33b5bd0",
       "version_major": 2,
       "version_minor": 0
      },
      "text/plain": [
       "Checkbox(value=False, description=\"Sam's speed\")"
      ]
     },
     "metadata": {},
     "output_type": "display_data"
    },
    {
     "data": {
      "application/vnd.jupyter.widget-view+json": {
       "model_id": "02c82b014c104711bffbdc94ff85ac5b",
       "version_major": 2,
       "version_minor": 0
      },
      "text/plain": [
       "Checkbox(value=False, description='The number of spots to plant')"
      ]
     },
     "metadata": {},
     "output_type": "display_data"
    },
    {
     "data": {
      "application/vnd.jupyter.widget-view+json": {
       "model_id": "057ff0fdf56c4127aa08b0ae3b4de7e5",
       "version_major": 2,
       "version_minor": 0
      },
      "text/plain": [
       "Checkbox(value=False, description=\"Sam's shoe color\")"
      ]
     },
     "metadata": {},
     "output_type": "display_data"
    },
    {
     "data": {
      "application/vnd.jupyter.widget-view+json": {
       "model_id": "70313648d1ee496db6487bdaf4c62069",
       "version_major": 2,
       "version_minor": 0
      },
      "text/plain": [
       "Button(description='Submit', icon='check', style=ButtonStyle())"
      ]
     },
     "metadata": {},
     "output_type": "display_data"
    },
    {
     "data": {
      "application/vnd.jupyter.widget-view+json": {
       "model_id": "b2b3353807374be2b41506253f13d980",
       "version_major": 2,
       "version_minor": 0
      },
      "text/plain": [
       "Output()"
      ]
     },
     "metadata": {},
     "output_type": "display_data"
    }
   ],
   "source": [
    "check1 = widgets.Checkbox(\n",
    "    value=False,\n",
    "    description='Sam\\'s speed',\n",
    "    disabled=False\n",
    ")\n",
    "check2 = widgets.Checkbox(\n",
    "    value=False,\n",
    "    description='The number of spots to plant',\n",
    "    disabled=False\n",
    ")\n",
    "check3 = widgets.Checkbox(\n",
    "    value=False,\n",
    "    description='Sam\\'s shoe color',\n",
    "    disabled=False\n",
    ")\n",
    "\n",
    "# Submit button\n",
    "button1 = widgets.Button(\n",
    "    description = 'Submit',\n",
    "    disabled = False,\n",
    "    button_style = '',\n",
    "    icon = 'check'\n",
    ")\n",
    "\n",
    "# Output\n",
    "output1 = widgets.Output()\n",
    "\n",
    "display(check1, check2, check3, button1, output1)\n",
    "\n",
    "# Output function\n",
    "def out(b):\n",
    "    with output1:\n",
    "        output1.clear_output()\n",
    "        if (check1.value and check2.value):\n",
    "            print(\"Correct!\")\n",
    "        else:\n",
    "            print(\"Not quite!\")\n",
    "\n",
    "# Handle click event\n",
    "button1.on_click(out)"
   ]
  },
  {
   "cell_type": "markdown",
   "metadata": {
    "slideshow": {
     "slide_type": "slide"
    }
   },
   "source": [
    "Sam's speed gives us an example of **processing speed.** How fast can a core process data? This is usually measured in clock cycles per second (or Hertz/Hz) and is the [Clock Rate](https://en.wikipedia.org/wiki/Clock_rate) of a processor. Today, most processors are between 1.8 and 3.0 Gigahertz/GHz. This means that processors have a clock speed between 1,800,000,000 to 3,000,000,000 clock cycles per second! The clock rate of a processor can tell you roughly how fast it can process data.\n",
    "\n",
    "The number of spots to plant gives us an example of **data to process.** How much data do we need to crunch before it is all done?\n",
    "\n",
    "Sam's shoe color is just a stylish choice so while it may help Sam feel cool. It won't get the field planted any faster."
   ]
  },
  {
   "cell_type": "markdown",
   "metadata": {
    "slideshow": {
     "slide_type": "slide"
    }
   },
   "source": [
    "How did you compare?\n",
    "\n",
    "**Show the time for person and time for sam.**\n",
    "\n",
    "Compared to Sam planting the field, I was: faster/slower/about the speed (dropdown menu with those 3 choices)"
   ]
  },
  {
   "cell_type": "markdown",
   "metadata": {
    "slideshow": {
     "slide_type": "slide"
    }
   },
   "source": [
    "Sam is an example of what is known as **serial computation**. He will only work alone and does his tasks one step at a time. When anyone learns how to program they learn how to write a program for serial computation. The next step in programming is **parallel computation.**"
   ]
  },
  {
   "cell_type": "markdown",
   "metadata": {
    "slideshow": {
     "slide_type": "slide"
    },
    "variables": {
     "IFrame(\"supplementary/field-two.html\", width=\"600\", height=\"520\")": "\n        <iframe\n            width=\"600\"\n            height=\"520\"\n            src=\"supplementary/field-two.html\"\n            frameborder=\"0\"\n            allowfullscreen\n        ></iframe>\n        "
    }
   },
   "source": [
    "### Meet Parker and Patricia. \n",
    "\n",
    "Parker and Patricia love to share, and they will work in the field at the same time. Move the BLUE? bar to adjust how many seeds they will each plant. Use the dropdown menu to adjust their planting speed.\n",
    "\n",
    "{{IFrame(\"supplementary/field-two.html\", width=\"600\", height=\"520\")}}\n",
    "\n",
    "How quickly can Parker and Patricia plant the entire field if they split all the seeds evenly?"
   ]
  },
  {
   "cell_type": "markdown",
   "metadata": {
    "slideshow": {
     "slide_type": "slide"
    },
    "variables": {
     "IFrame(\"supplementary/field-two.html\", width=\"600\", height=\"520\")": "\n        <iframe\n            width=\"600\"\n            height=\"520\"\n            src=\"supplementary/field-two.html\"\n            frameborder=\"0\"\n            allowfullscreen\n        ></iframe>\n        "
    }
   },
   "source": [
    "{{IFrame(\"supplementary/field-two.html\", width=\"600\", height=\"520\")}}\n",
    "\n",
    "When working together what is the fastest time that Parker and Patricia can plant the field?"
   ]
  },
  {
   "cell_type": "code",
   "execution_count": 120,
   "metadata": {},
   "outputs": [
    {
     "data": {
      "application/vnd.jupyter.widget-view+json": {
       "model_id": "e954207e0fd14d28a83fca094c35f2d4",
       "version_major": 2,
       "version_minor": 0
      },
      "text/plain": [
       "IntSlider(value=10, continuous_update=False, description='(WIP WIDGET - SEE CELL COMMENTS) Fastest time (0s - …"
      ]
     },
     "metadata": {},
     "output_type": "display_data"
    }
   ],
   "source": [
    "# TODO: Style the widget better, there's no easy way unfortunately\n",
    "# Add end values, add units ('seconds') to current value, etc.\n",
    "widgets.IntSlider(\n",
    "    value=10,\n",
    "    min=0,\n",
    "    max=20,\n",
    "    step=1,\n",
    "    description='(WIP WIDGET - SEE CELL COMMENTS) Fastest time (0s - 20s):', style={'description_width': 'initial'},\n",
    "    layout = Layout(width='60%'),\n",
    "    disabled=False,\n",
    "    continuous_update=False,\n",
    "    orientation='horizontal',\n",
    "    readout=True,\n",
    "    readout_format='d'\n",
    ")"
   ]
  },
  {
   "cell_type": "markdown",
   "metadata": {
    "slideshow": {
     "slide_type": "fragment"
    }
   },
   "source": [
    "What is the slowest time?"
   ]
  },
  {
   "cell_type": "code",
   "execution_count": 119,
   "metadata": {},
   "outputs": [
    {
     "data": {
      "application/vnd.jupyter.widget-view+json": {
       "model_id": "b6e8105094c44e3bb309f11b8ab6427f",
       "version_major": 2,
       "version_minor": 0
      },
      "text/plain": [
       "IntSlider(value=10, continuous_update=False, description='(WIP WIDGET - SEE CELL COMMENTS) Slowest time (0s - …"
      ]
     },
     "metadata": {},
     "output_type": "display_data"
    }
   ],
   "source": [
    "# TODO: Style the widget better, there's no easy way unfortunately\n",
    "# Add end values, add units ('seconds') to current value, etc.\n",
    "widgets.IntSlider(\n",
    "    value=10,\n",
    "    min=0,\n",
    "    max=20,\n",
    "    step=1,\n",
    "    description='(WIP WIDGET - SEE CELL COMMENTS) Slowest time (0s - 20s):', style={'description_width': 'initial'},\n",
    "    layout = Layout(width='60%'),\n",
    "    disabled=False,\n",
    "    continuous_update=False,\n",
    "    orientation='horizontal',\n",
    "    readout=True,\n",
    "    readout_format='d'\n",
    ")"
   ]
  },
  {
   "cell_type": "markdown",
   "metadata": {
    "slideshow": {
     "slide_type": "fragment"
    }
   },
   "source": [
    "What is the difference between the fastest and slowest time?"
   ]
  },
  {
   "cell_type": "code",
   "execution_count": 116,
   "metadata": {},
   "outputs": [
    {
     "data": {
      "application/vnd.jupyter.widget-view+json": {
       "model_id": "5196f4eb504945359fc5ddc17a1b9600",
       "version_major": 2,
       "version_minor": 0
      },
      "text/plain": [
       "BoundedIntText(value=0, description='(WIP) Difference between fastest and slowest time:', layout=Layout(width=…"
      ]
     },
     "metadata": {},
     "output_type": "display_data"
    }
   ],
   "source": [
    "widgets.BoundedIntText(\n",
    "    value=0,\n",
    "    min=0,\n",
    "    max=20,\n",
    "    step=1,\n",
    "    description='(WIP) Difference between fastest and slowest time:', style={'description_width': 'initial'},\n",
    "    layout = Layout(width='40%'),\n",
    ")"
   ]
  },
  {
   "cell_type": "markdown",
   "metadata": {
    "slideshow": {
     "slide_type": "slide"
    }
   },
   "source": [
    "To get the fastest time in this scenario requires two things. First, both Parker and Patricia need to be moving as quickly as possible, which means they are going the same speed: fast. Second, they need to have the same amount of work. \n",
    "\n",
    "The first requirement gives us an example of **processing speed** that we learned about earlier.\n",
    "\n",
    "The second requirement gives us an example of **load balancing.** Load balancing ensures that each core is processing its fair share of data, which will make parallel computation faster. Just as we saw with Parker and Patricia if they are both working to plant their portion of the field simultaneously the entire field is planted faster. If only Patricia is planting the field and Parker is not helping, then it takes longer because she is doing all of the work and Parker is doing no work. This is improper load balancing. The same is true in parallel computation. If we have two or more cores that are capable of processing data and we only use one core, then the other cores are not helping to speed up the computation."
   ]
  },
  {
   "cell_type": "markdown",
   "metadata": {
    "slideshow": {
     "slide_type": "slide"
    }
   },
   "source": [
    "**Continue the journey: [Next Example](pc-2.ipynb)**"
   ]
  }
 ],
 "metadata": {
  "celltoolbar": "Initialization Cell",
  "kernelspec": {
   "display_name": "Python 3",
   "language": "python",
   "name": "python3"
  },
  "language_info": {
   "codemirror_mode": {
    "name": "ipython",
    "version": 3
   },
   "file_extension": ".py",
   "mimetype": "text/x-python",
   "name": "python",
   "nbconvert_exporter": "python",
   "pygments_lexer": "ipython3",
   "version": "3.8.0"
  },
  "rise": {
   "autolaunch": true
  },
  "widgets": {
   "application/vnd.jupyter.widget-state+json": {
    "state": {
     "0037c3cb01114cb481b3832ca813c700": {
      "model_module": "@jupyter-widgets/controls",
      "model_module_version": "1.5.0",
      "model_name": "DescriptionStyleModel",
      "state": {
       "description_width": ""
      }
     },
     "00ce6b3aa9084f529af067ace954f937": {
      "model_module": "@jupyter-widgets/controls",
      "model_module_version": "1.5.0",
      "model_name": "ButtonModel",
      "state": {
       "description": "Submit",
       "icon": "check",
       "layout": "IPY_MODEL_0d17a58b2a0947a88e8170375acc81c6",
       "style": "IPY_MODEL_e380988fc45c42f6b8ac09a8c2077f32"
      }
     },
     "01115b52b6ff4db8a29b120aaf3c515f": {
      "model_module": "@jupyter-widgets/controls",
      "model_module_version": "1.5.0",
      "model_name": "IntSliderModel",
      "state": {
       "continuous_update": false,
       "description": "(WIP WIDGET - SEE CELL COMMENTS) Fastest time (0s - 20s):",
       "layout": "IPY_MODEL_c70a90e99caa4ea4b8072d672cd03e4b",
       "max": 20,
       "style": "IPY_MODEL_4f2d7a953f7848169aa0b33119232485",
       "value": 10
      }
     },
     "017ce4ca8351445f849edf6e7e704252": {
      "model_module": "@jupyter-widgets/base",
      "model_module_version": "1.2.0",
      "model_name": "LayoutModel",
      "state": {
       "width": "20%"
      }
     },
     "01e0a1e882024908a6be75a64668e96b": {
      "model_module": "@jupyter-widgets/controls",
      "model_module_version": "1.5.0",
      "model_name": "IntSliderModel",
      "state": {
       "continuous_update": false,
       "description": "Test:",
       "layout": "IPY_MODEL_7c77ef31a4284cac8595e0dd301629d5",
       "max": 10,
       "style": "IPY_MODEL_c73ca3051d5f4c4bb2d2f60aaf1d8ba6",
       "value": 7
      }
     },
     "065fb197630f4f0d9c20a3e13b78bfe6": {
      "model_module": "@jupyter-widgets/controls",
      "model_module_version": "1.5.0",
      "model_name": "IntSliderModel",
      "state": {
       "continuous_update": false,
       "description": "Fastest time (0s - 20s):",
       "layout": "IPY_MODEL_1ef0ecffb85145f0877f3ca11f6f8eee",
       "max": 20,
       "style": "IPY_MODEL_3a4ff6695036431998ff3edc14825231",
       "value": 10
      }
     },
     "0b1718b0f112402b89b62315cfad70a3": {
      "model_module": "@jupyter-widgets/output",
      "model_module_version": "1.0.0",
      "model_name": "OutputModel",
      "state": {
       "layout": "IPY_MODEL_68257a41f86c4b7da212bfdba31bebed"
      }
     },
     "0c08343ac1d645d6bc108cc0a6a94821": {
      "model_module": "@jupyter-widgets/controls",
      "model_module_version": "1.5.0",
      "model_name": "BoundedIntTextModel",
      "state": {
       "description": "Text:",
       "layout": "IPY_MODEL_31c95949bf9842288a995f3ce079694b",
       "max": 10,
       "style": "IPY_MODEL_d5d25eea0d8141998fabcc48dd4b657e",
       "value": 7
      }
     },
     "0d1296c76f234ee1bfe6a87b194ff639": {
      "model_module": "@jupyter-widgets/controls",
      "model_module_version": "1.5.0",
      "model_name": "BoundedIntTextModel",
      "state": {
       "description": "Difference between fastest and slowest time:",
       "layout": "IPY_MODEL_bf38a758011c4bed93774c3da7573b22",
       "max": 20,
       "style": "IPY_MODEL_a9e3fdcc7a834ddbba51387b7b5ef00e"
      }
     },
     "0d17a58b2a0947a88e8170375acc81c6": {
      "model_module": "@jupyter-widgets/base",
      "model_module_version": "1.2.0",
      "model_name": "LayoutModel",
      "state": {}
     },
     "11eed445fa2442a6b8d6d8fcd144c5df": {
      "model_module": "@jupyter-widgets/controls",
      "model_module_version": "1.5.0",
      "model_name": "IntSliderModel",
      "state": {
       "continuous_update": false,
       "description": "(WIP WIDGET - SEE CELL COMMENTS) Slowest time (0s - 20s):",
       "layout": "IPY_MODEL_ee28996807fd47738eebd2ad91433280",
       "max": 20,
       "style": "IPY_MODEL_d31a134d8fff40c283da36850a10104a",
       "value": 10
      }
     },
     "125ac8159fef42d8a125fb29aa8973ee": {
      "model_module": "@jupyter-widgets/base",
      "model_module_version": "1.2.0",
      "model_name": "LayoutModel",
      "state": {
       "width": "20%"
      }
     },
     "1482096cfc6146c3bc77aaf535a6879b": {
      "model_module": "@jupyter-widgets/controls",
      "model_module_version": "1.5.0",
      "model_name": "DescriptionStyleModel",
      "state": {
       "description_width": "initial"
      }
     },
     "18b1b770ed5b4f4898739adf8914d149": {
      "model_module": "@jupyter-widgets/base",
      "model_module_version": "1.2.0",
      "model_name": "LayoutModel",
      "state": {
       "width": "60%"
      }
     },
     "19206f1df298466e8b1865ca9a524a1e": {
      "model_module": "@jupyter-widgets/controls",
      "model_module_version": "1.5.0",
      "model_name": "DescriptionStyleModel",
      "state": {
       "description_width": "initial"
      }
     },
     "19f6f6f7071841d68db375bcaeb96cf6": {
      "model_module": "@jupyter-widgets/controls",
      "model_module_version": "1.5.0",
      "model_name": "SliderStyleModel",
      "state": {
       "description_width": ""
      }
     },
     "1a548f808f264e83a5a8d025056e524e": {
      "model_module": "@jupyter-widgets/controls",
      "model_module_version": "1.5.0",
      "model_name": "DescriptionStyleModel",
      "state": {
       "description_width": ""
      }
     },
     "1c611e7137db48dca04ccf8972b5fa4a": {
      "model_module": "@jupyter-widgets/controls",
      "model_module_version": "1.5.0",
      "model_name": "BoundedIntTextModel",
      "state": {
       "description": "(WIP WIDGET - SEE CELL COMMENTS) Difference between fastest and slowest time:",
       "layout": "IPY_MODEL_cda9ca3fc6f542bea7fb99a2e1ceed1f",
       "max": 20,
       "style": "IPY_MODEL_d935dde7ace2497d97b89b2607da455b"
      }
     },
     "1e154e0a036849b088b306b2e2951326": {
      "model_module": "@jupyter-widgets/controls",
      "model_module_version": "1.5.0",
      "model_name": "SliderStyleModel",
      "state": {
       "description_width": "initial"
      }
     },
     "1ef0ecffb85145f0877f3ca11f6f8eee": {
      "model_module": "@jupyter-widgets/base",
      "model_module_version": "1.2.0",
      "model_name": "LayoutModel",
      "state": {}
     },
     "244363706a2643c08219db0b806e397d": {
      "model_module": "@jupyter-widgets/controls",
      "model_module_version": "1.5.0",
      "model_name": "IntSliderModel",
      "state": {
       "continuous_update": false,
       "description": "Fastest time (0s - 20s):",
       "layout": "IPY_MODEL_017ce4ca8351445f849edf6e7e704252",
       "max": 20,
       "style": "IPY_MODEL_729ec583f8c0444895dabfdb76d5bfbc",
       "value": 10
      }
     },
     "248fccca3ddf4a38b30f6dc49e884105": {
      "model_module": "@jupyter-widgets/controls",
      "model_module_version": "1.5.0",
      "model_name": "SliderStyleModel",
      "state": {
       "description_width": "initial"
      }
     },
     "2574d397e85d4b1a9fd7c75868b6f180": {
      "model_module": "@jupyter-widgets/base",
      "model_module_version": "1.2.0",
      "model_name": "LayoutModel",
      "state": {}
     },
     "259808caf83b4264b3715862012c8c47": {
      "model_module": "@jupyter-widgets/base",
      "model_module_version": "1.2.0",
      "model_name": "LayoutModel",
      "state": {
       "width": "40%"
      }
     },
     "28d5045226ce47d1aca5d5b0d958352d": {
      "model_module": "@jupyter-widgets/controls",
      "model_module_version": "1.5.0",
      "model_name": "DescriptionStyleModel",
      "state": {
       "description_width": "initial"
      }
     },
     "2a150056ce7841efb14c1db12382a804": {
      "model_module": "@jupyter-widgets/controls",
      "model_module_version": "1.5.0",
      "model_name": "BoundedIntTextModel",
      "state": {
       "description": "Difference between fastest and slowest time:",
       "layout": "IPY_MODEL_c7e6d4c0701544efb63f6026e11d9027",
       "max": 20,
       "style": "IPY_MODEL_19206f1df298466e8b1865ca9a524a1e"
      }
     },
     "2a675ecc308c478aa5aef92563466924": {
      "model_module": "@jupyter-widgets/controls",
      "model_module_version": "1.5.0",
      "model_name": "IntSliderModel",
      "state": {
       "continuous_update": false,
       "description": "Fastest time (0s - 20s):",
       "layout": "IPY_MODEL_bfb65da46c9e4a159af8772dfb82e815",
       "max": 20,
       "style": "IPY_MODEL_afaf6530fdb545a1bed557e20ebe5d16",
       "value": 10
      }
     },
     "2cc99975af9d44a1b0669adba8cc2618": {
      "model_module": "@jupyter-widgets/controls",
      "model_module_version": "1.5.0",
      "model_name": "ButtonModel",
      "state": {
       "description": "Submit",
       "icon": "check",
       "layout": "IPY_MODEL_ebbcab317ad24964870fbceb41ebbc8e",
       "style": "IPY_MODEL_43e5aa02e2d04e88813963a355d12b04"
      }
     },
     "2d4042d0b990488c9e16daad9ba9e7f7": {
      "model_module": "@jupyter-widgets/base",
      "model_module_version": "1.2.0",
      "model_name": "LayoutModel",
      "state": {}
     },
     "2d5b1a2a252f4d2590f99147fb01dfae": {
      "model_module": "@jupyter-widgets/controls",
      "model_module_version": "1.5.0",
      "model_name": "IntSliderModel",
      "state": {
       "continuous_update": false,
       "description": "Fastest time (0s - 20s):",
       "layout": "IPY_MODEL_ef907f7caf134c8c8514beff23520d23",
       "max": 20,
       "style": "IPY_MODEL_e79019b80b24418aa967fed3b9dfb1da",
       "value": 20
      }
     },
     "3192219919a0411bad59486134ac9bc4": {
      "model_module": "@jupyter-widgets/controls",
      "model_module_version": "1.5.0",
      "model_name": "DescriptionStyleModel",
      "state": {
       "description_width": ""
      }
     },
     "31c95949bf9842288a995f3ce079694b": {
      "model_module": "@jupyter-widgets/base",
      "model_module_version": "1.2.0",
      "model_name": "LayoutModel",
      "state": {}
     },
     "31d7a401ca614890ba909d8138fa5787": {
      "model_module": "@jupyter-widgets/controls",
      "model_module_version": "1.5.0",
      "model_name": "SliderStyleModel",
      "state": {
       "description_width": ""
      }
     },
     "333aef02689d4d17b1cf4a984bff48d6": {
      "model_module": "@jupyter-widgets/controls",
      "model_module_version": "1.5.0",
      "model_name": "BoundedIntTextModel",
      "state": {
       "description": "Difference between fastest and slowest time:",
       "layout": "IPY_MODEL_fcb0d0c4f55a4d06867b5825f3b07274",
       "max": 20,
       "style": "IPY_MODEL_1a548f808f264e83a5a8d025056e524e",
       "value": 20
      }
     },
     "338535c671494db395c6f2ae4bb74f30": {
      "model_module": "@jupyter-widgets/controls",
      "model_module_version": "1.5.0",
      "model_name": "IntSliderModel",
      "state": {
       "continuous_update": false,
       "description": "(WIP WIDGET - SEE CELL COMMENTS) Fastest time (0s - 20s):",
       "layout": "IPY_MODEL_c1bb1257b6084cc49e9fcc02a18430a5",
       "max": 20,
       "style": "IPY_MODEL_511b7569b5e4482ea8c08c2a0dafcfa2",
       "value": 10
      }
     },
     "341b94a3709148599a1ea0c4ad472a47": {
      "model_module": "@jupyter-widgets/controls",
      "model_module_version": "1.5.0",
      "model_name": "IntSliderModel",
      "state": {
       "continuous_update": false,
       "description": "(WIP WIDGET) Fastest time (0s - 20s):",
       "layout": "IPY_MODEL_953a7397a6a9456aa1e557ffdcfae52a",
       "max": 20,
       "style": "IPY_MODEL_a6f6bd6e843e4b36b64c8293bfd38f78",
       "value": 10
      }
     },
     "347c8bc406d6401eb95d28ddcdcd4aeb": {
      "model_module": "@jupyter-widgets/controls",
      "model_module_version": "1.5.0",
      "model_name": "BoundedIntTextModel",
      "state": {
       "description": "(WIP) Difference between fastest and slowest time:",
       "layout": "IPY_MODEL_51b11a2da6b7469f90b9c095f1926afc",
       "max": 20,
       "style": "IPY_MODEL_411199d86f41422bb78e6ab6db9db0af"
      }
     },
     "3a4ff6695036431998ff3edc14825231": {
      "model_module": "@jupyter-widgets/controls",
      "model_module_version": "1.5.0",
      "model_name": "SliderStyleModel",
      "state": {
       "description_width": ""
      }
     },
     "3b6be185359a4e7591c5d45fdfaa0727": {
      "model_module": "@jupyter-widgets/controls",
      "model_module_version": "1.5.0",
      "model_name": "SliderStyleModel",
      "state": {
       "description_width": "initial"
      }
     },
     "3bef558cc3b64048963877acb09cad20": {
      "model_module": "@jupyter-widgets/controls",
      "model_module_version": "1.5.0",
      "model_name": "IntSliderModel",
      "state": {
       "continuous_update": false,
       "description": "Test:",
       "layout": "IPY_MODEL_e9baf601afc94c2883e6f049cb5dafa2",
       "max": 20,
       "style": "IPY_MODEL_89bd0354c96d4fc78a70f4a37835311e",
       "value": 10
      }
     },
     "3c16c9564cff477fa1a641d7a31319b4": {
      "model_module": "@jupyter-widgets/controls",
      "model_module_version": "1.5.0",
      "model_name": "BoundedIntTextModel",
      "state": {
       "description": "Difference between fastest and slowest time:",
       "layout": "IPY_MODEL_b8008d104cb04c0c960905f98c85db8e",
       "max": 10,
       "style": "IPY_MODEL_db0e983938984791877a7d1fd28f90ba"
      }
     },
     "3e48263ab15f436fa74001e311193da3": {
      "model_module": "@jupyter-widgets/base",
      "model_module_version": "1.2.0",
      "model_name": "LayoutModel",
      "state": {
       "width": "40%"
      }
     },
     "3f9cac081ffd47b89e8a0e9c4682399a": {
      "model_module": "@jupyter-widgets/controls",
      "model_module_version": "1.5.0",
      "model_name": "IntSliderModel",
      "state": {
       "continuous_update": false,
       "description": "(WIP WIDGET - SEE CELL COMMENTS) Slowest time (0s - 20s):",
       "layout": "IPY_MODEL_ecb6d4cb22d0415d80b6c5bca0dcb4c1",
       "max": 20,
       "style": "IPY_MODEL_e353684aad0d4f1f9d146439dce8391e",
       "value": 10
      }
     },
     "409e1d5fe44243e1a9360e0c647b6c4b": {
      "model_module": "@jupyter-widgets/controls",
      "model_module_version": "1.5.0",
      "model_name": "IntSliderModel",
      "state": {
       "continuous_update": false,
       "description": "Fastest time (0s - 20s):",
       "layout": "IPY_MODEL_42a6207b046a418294683628749c4b07",
       "max": 20,
       "style": "IPY_MODEL_3b6be185359a4e7591c5d45fdfaa0727",
       "value": 10
      }
     },
     "411199d86f41422bb78e6ab6db9db0af": {
      "model_module": "@jupyter-widgets/controls",
      "model_module_version": "1.5.0",
      "model_name": "DescriptionStyleModel",
      "state": {
       "description_width": "initial"
      }
     },
     "428d31adcc304e57a8d13ec66ec1d37e": {
      "model_module": "@jupyter-widgets/controls",
      "model_module_version": "1.5.0",
      "model_name": "RadioButtonsModel",
      "state": {
       "_options_labels": [
        "Sam's speed",
        "The number of spots to plant",
        "Sam's shoe color"
       ],
       "index": 2,
       "layout": "IPY_MODEL_95f9d2987cc14a62ba694f77fa470ce9",
       "style": "IPY_MODEL_0037c3cb01114cb481b3832ca813c700"
      }
     },
     "42a6207b046a418294683628749c4b07": {
      "model_module": "@jupyter-widgets/base",
      "model_module_version": "1.2.0",
      "model_name": "LayoutModel",
      "state": {
       "width": "50%"
      }
     },
     "431feb9ae43a4ffda63895b464d8009b": {
      "model_module": "@jupyter-widgets/controls",
      "model_module_version": "1.5.0",
      "model_name": "BoundedIntTextModel",
      "state": {
       "description": "Difference between fastest and slowest time:",
       "layout": "IPY_MODEL_a5309371d6c048aaad621210c9a512b4",
       "max": 20,
       "style": "IPY_MODEL_fef1ee491bd64452b3e166f860e771a8"
      }
     },
     "43bd986bb0934430819e0178bb24ba5b": {
      "model_module": "@jupyter-widgets/base",
      "model_module_version": "1.2.0",
      "model_name": "LayoutModel",
      "state": {}
     },
     "43e5aa02e2d04e88813963a355d12b04": {
      "model_module": "@jupyter-widgets/controls",
      "model_module_version": "1.5.0",
      "model_name": "ButtonStyleModel",
      "state": {}
     },
     "446f5fbe35554ffea9296152ffdcc281": {
      "model_module": "@jupyter-widgets/controls",
      "model_module_version": "1.5.0",
      "model_name": "IntSliderModel",
      "state": {
       "continuous_update": false,
       "description": "Fastest time",
       "layout": "IPY_MODEL_9fd6778c417e402ca0576159856cea47",
       "max": 20,
       "style": "IPY_MODEL_19f6f6f7071841d68db375bcaeb96cf6",
       "value": 20
      }
     },
     "449c9bfc10b5468ebdff9a590a3be6dc": {
      "model_module": "@jupyter-widgets/controls",
      "model_module_version": "1.5.0",
      "model_name": "CheckboxModel",
      "state": {
       "description": "Sam's speed, ",
       "disabled": false,
       "layout": "IPY_MODEL_c699b2bcecfb41b1b5d6318b9e43c325",
       "style": "IPY_MODEL_f78ab0460565485298140ba401b913d5",
       "value": false
      }
     },
     "44e85c500b7446288cf515ec333a672c": {
      "model_module": "@jupyter-widgets/output",
      "model_module_version": "1.0.0",
      "model_name": "OutputModel",
      "state": {
       "layout": "IPY_MODEL_5869598493e248808d0a5a2ddc73f41f"
      }
     },
     "476d741020e74470ad53fe230a09cb51": {
      "model_module": "@jupyter-widgets/output",
      "model_module_version": "1.0.0",
      "model_name": "OutputModel",
      "state": {
       "layout": "IPY_MODEL_9632fc9782d3485ebc81b6879905855e"
      }
     },
     "4f2d7a953f7848169aa0b33119232485": {
      "model_module": "@jupyter-widgets/controls",
      "model_module_version": "1.5.0",
      "model_name": "SliderStyleModel",
      "state": {
       "description_width": "initial"
      }
     },
     "511b7569b5e4482ea8c08c2a0dafcfa2": {
      "model_module": "@jupyter-widgets/controls",
      "model_module_version": "1.5.0",
      "model_name": "SliderStyleModel",
      "state": {
       "description_width": "initial"
      }
     },
     "5196f4eb504945359fc5ddc17a1b9600": {
      "model_module": "@jupyter-widgets/controls",
      "model_module_version": "1.5.0",
      "model_name": "BoundedIntTextModel",
      "state": {
       "description": "(WIP) Difference between fastest and slowest time:",
       "layout": "IPY_MODEL_3e48263ab15f436fa74001e311193da3",
       "max": 20,
       "style": "IPY_MODEL_1482096cfc6146c3bc77aaf535a6879b"
      }
     },
     "51b11a2da6b7469f90b9c095f1926afc": {
      "model_module": "@jupyter-widgets/base",
      "model_module_version": "1.2.0",
      "model_name": "LayoutModel",
      "state": {}
     },
     "52245c95e5fa491e90402a0a17b1c4d6": {
      "model_module": "@jupyter-widgets/base",
      "model_module_version": "1.2.0",
      "model_name": "LayoutModel",
      "state": {}
     },
     "5567fa19371a41cca3eb532a4906d817": {
      "model_module": "@jupyter-widgets/output",
      "model_module_version": "1.0.0",
      "model_name": "OutputModel",
      "state": {
       "layout": "IPY_MODEL_76d92afec2444272b5e0acd6eed2a2c8",
       "outputs": [
        {
         "name": "stdout",
         "output_type": "stream",
         "text": "Sam's shoe color\n"
        }
       ]
      }
     },
     "56be4999f4b044c18edbe32b05ad05e3": {
      "model_module": "@jupyter-widgets/controls",
      "model_module_version": "1.5.0",
      "model_name": "ButtonStyleModel",
      "state": {}
     },
     "5730b568b77f4777aad17f1487e9a94a": {
      "model_module": "@jupyter-widgets/base",
      "model_module_version": "1.2.0",
      "model_name": "LayoutModel",
      "state": {
       "width": "40%"
      }
     },
     "5794b76a254f4fdfac3e1c429483ce76": {
      "model_module": "@jupyter-widgets/base",
      "model_module_version": "1.2.0",
      "model_name": "LayoutModel",
      "state": {
       "width": "100%"
      }
     },
     "5869598493e248808d0a5a2ddc73f41f": {
      "model_module": "@jupyter-widgets/base",
      "model_module_version": "1.2.0",
      "model_name": "LayoutModel",
      "state": {}
     },
     "5a3f574e427e46de9056c3e225692ff2": {
      "model_module": "@jupyter-widgets/controls",
      "model_module_version": "1.5.0",
      "model_name": "BoundedIntTextModel",
      "state": {
       "description": "(WIP WIDGETDifference between fastest and slowest time:",
       "layout": "IPY_MODEL_9f2d9048f7a2407dabaac73961593302",
       "max": 20,
       "style": "IPY_MODEL_846fd185e8cc4d36a70112d154e9408b"
      }
     },
     "5f788cf0460f4b489b5988415daccfca": {
      "model_module": "@jupyter-widgets/controls",
      "model_module_version": "1.5.0",
      "model_name": "ButtonModel",
      "state": {
       "description": "Submit",
       "icon": "check",
       "layout": "IPY_MODEL_d29bde80afaa4d3483356ab8df564e55",
       "style": "IPY_MODEL_9551598f937d466cbd7c54c6a0aa980e"
      }
     },
     "68257a41f86c4b7da212bfdba31bebed": {
      "model_module": "@jupyter-widgets/base",
      "model_module_version": "1.2.0",
      "model_name": "LayoutModel",
      "state": {}
     },
     "6d88e89ea9b74a0e93d9f3b7dc726bcd": {
      "model_module": "@jupyter-widgets/base",
      "model_module_version": "1.2.0",
      "model_name": "LayoutModel",
      "state": {
       "width": "30%"
      }
     },
     "729ec583f8c0444895dabfdb76d5bfbc": {
      "model_module": "@jupyter-widgets/controls",
      "model_module_version": "1.5.0",
      "model_name": "SliderStyleModel",
      "state": {
       "description_width": "initial"
      }
     },
     "73a50dd541c04e10b4626c3bf666606e": {
      "model_module": "@jupyter-widgets/base",
      "model_module_version": "1.2.0",
      "model_name": "LayoutModel",
      "state": {
       "width": "100%"
      }
     },
     "76653f001bca4e7b9fd8917dbcccfbad": {
      "model_module": "@jupyter-widgets/base",
      "model_module_version": "1.2.0",
      "model_name": "LayoutModel",
      "state": {}
     },
     "76d92afec2444272b5e0acd6eed2a2c8": {
      "model_module": "@jupyter-widgets/base",
      "model_module_version": "1.2.0",
      "model_name": "LayoutModel",
      "state": {}
     },
     "7c77ef31a4284cac8595e0dd301629d5": {
      "model_module": "@jupyter-widgets/base",
      "model_module_version": "1.2.0",
      "model_name": "LayoutModel",
      "state": {}
     },
     "7cd261231219419e926740d070e9127d": {
      "model_module": "@jupyter-widgets/controls",
      "model_module_version": "1.5.0",
      "model_name": "SliderStyleModel",
      "state": {
       "description_width": "initial"
      }
     },
     "7dfbac3bf28c47f9b13a674e17025c86": {
      "model_module": "@jupyter-widgets/controls",
      "model_module_version": "1.5.0",
      "model_name": "DescriptionStyleModel",
      "state": {
       "description_width": ""
      }
     },
     "80f18565822c4a4fa38b8cf0f1235a92": {
      "model_module": "@jupyter-widgets/base",
      "model_module_version": "1.2.0",
      "model_name": "LayoutModel",
      "state": {
       "width": "40%"
      }
     },
     "827dd955100e4f8886584f4f47b0aecf": {
      "model_module": "@jupyter-widgets/controls",
      "model_module_version": "1.5.0",
      "model_name": "SliderStyleModel",
      "state": {
       "description_width": "initial"
      }
     },
     "82a906fcf19044839955f4a1566ec8e5": {
      "model_module": "@jupyter-widgets/controls",
      "model_module_version": "1.5.0",
      "model_name": "IntSliderModel",
      "state": {
       "continuous_update": false,
       "description": "Fastest time (0s - 20s):",
       "layout": "IPY_MODEL_caeb5bde00be4d209efa4b55b2f074b7",
       "max": 20,
       "style": "IPY_MODEL_fa3f82981ea649ff9c10855391f49df9",
       "value": 10
      }
     },
     "846fd185e8cc4d36a70112d154e9408b": {
      "model_module": "@jupyter-widgets/controls",
      "model_module_version": "1.5.0",
      "model_name": "DescriptionStyleModel",
      "state": {
       "description_width": "initial"
      }
     },
     "84a260530c7241569e84a80b4900a3d4": {
      "model_module": "@jupyter-widgets/controls",
      "model_module_version": "1.5.0",
      "model_name": "BoundedIntTextModel",
      "state": {
       "description": "Difference between fastest and slowest time:",
       "layout": "IPY_MODEL_e0b8b7892bdb4f32b8b23655c6dac31a",
       "max": 20,
       "style": "IPY_MODEL_bdcd0f0fa58745d2b330b2feef200355"
      }
     },
     "867784c9368c448c98c04bf806bca102": {
      "model_module": "@jupyter-widgets/controls",
      "model_module_version": "1.5.0",
      "model_name": "IntSliderModel",
      "state": {
       "continuous_update": false,
       "description": "(WIP WIDGET) Fastest time (0s - 20s):",
       "layout": "IPY_MODEL_80f18565822c4a4fa38b8cf0f1235a92",
       "max": 20,
       "style": "IPY_MODEL_1e154e0a036849b088b306b2e2951326",
       "value": 10
      }
     },
     "8816b52094c44fbe956936e972036e78": {
      "model_module": "@jupyter-widgets/output",
      "model_module_version": "1.0.0",
      "model_name": "OutputModel",
      "state": {
       "layout": "IPY_MODEL_43bd986bb0934430819e0178bb24ba5b"
      }
     },
     "88947b8e26684153bd8e30f4beb686ad": {
      "model_module": "@jupyter-widgets/controls",
      "model_module_version": "1.5.0",
      "model_name": "SliderStyleModel",
      "state": {
       "description_width": "initial"
      }
     },
     "89b4a2479e45495bbf66f7dba94ac8be": {
      "model_module": "@jupyter-widgets/base",
      "model_module_version": "1.2.0",
      "model_name": "LayoutModel",
      "state": {}
     },
     "89bd0354c96d4fc78a70f4a37835311e": {
      "model_module": "@jupyter-widgets/controls",
      "model_module_version": "1.5.0",
      "model_name": "SliderStyleModel",
      "state": {
       "description_width": ""
      }
     },
     "92223ef9756540d58bcf0d4ae2034f36": {
      "model_module": "@jupyter-widgets/base",
      "model_module_version": "1.2.0",
      "model_name": "LayoutModel",
      "state": {}
     },
     "92f7aef690614262be143a70b9528fd5": {
      "model_module": "@jupyter-widgets/controls",
      "model_module_version": "1.5.0",
      "model_name": "SliderStyleModel",
      "state": {
       "description_width": "initial"
      }
     },
     "9305b379788240f8ba28548f767359ff": {
      "model_module": "@jupyter-widgets/base",
      "model_module_version": "1.2.0",
      "model_name": "LayoutModel",
      "state": {
       "width": "40%"
      }
     },
     "9390bb98e2874a9986b1870d700688c1": {
      "model_module": "@jupyter-widgets/controls",
      "model_module_version": "1.5.0",
      "model_name": "IntSliderModel",
      "state": {
       "continuous_update": false,
       "description": "Fastest time (0s - 20s):",
       "layout": "IPY_MODEL_a83e737342c143278bce9630f025254f",
       "max": 20,
       "style": "IPY_MODEL_827dd955100e4f8886584f4f47b0aecf",
       "value": 10
      }
     },
     "953a7397a6a9456aa1e557ffdcfae52a": {
      "model_module": "@jupyter-widgets/base",
      "model_module_version": "1.2.0",
      "model_name": "LayoutModel",
      "state": {
       "width": "40%"
      }
     },
     "9551598f937d466cbd7c54c6a0aa980e": {
      "model_module": "@jupyter-widgets/controls",
      "model_module_version": "1.5.0",
      "model_name": "ButtonStyleModel",
      "state": {}
     },
     "95f9d2987cc14a62ba694f77fa470ce9": {
      "model_module": "@jupyter-widgets/base",
      "model_module_version": "1.2.0",
      "model_name": "LayoutModel",
      "state": {
       "width": "100%"
      }
     },
     "9632fc9782d3485ebc81b6879905855e": {
      "model_module": "@jupyter-widgets/base",
      "model_module_version": "1.2.0",
      "model_name": "LayoutModel",
      "state": {}
     },
     "99f3c6fadbde484ebca07b49c6eebe83": {
      "model_module": "@jupyter-widgets/controls",
      "model_module_version": "1.5.0",
      "model_name": "DescriptionStyleModel",
      "state": {
       "description_width": "initial"
      }
     },
     "9bc313804cee45f596c02ee217bc87e8": {
      "model_module": "@jupyter-widgets/controls",
      "model_module_version": "1.5.0",
      "model_name": "CheckboxModel",
      "state": {
       "description": "Sam's speed",
       "disabled": false,
       "layout": "IPY_MODEL_2d4042d0b990488c9e16daad9ba9e7f7",
       "style": "IPY_MODEL_7dfbac3bf28c47f9b13a674e17025c86",
       "value": false
      }
     },
     "9e5b25dfa9f34b41be8fd0a010cf4634": {
      "model_module": "@jupyter-widgets/controls",
      "model_module_version": "1.5.0",
      "model_name": "DescriptionStyleModel",
      "state": {
       "description_width": ""
      }
     },
     "9f2d1ffb41b4478e88cd4ab9da13e41e": {
      "model_module": "@jupyter-widgets/controls",
      "model_module_version": "1.5.0",
      "model_name": "ButtonModel",
      "state": {
       "description": "Submit",
       "icon": "check",
       "layout": "IPY_MODEL_52245c95e5fa491e90402a0a17b1c4d6",
       "style": "IPY_MODEL_aa081ec3d7914a2bb2032766039b6f34"
      }
     },
     "9f2d9048f7a2407dabaac73961593302": {
      "model_module": "@jupyter-widgets/base",
      "model_module_version": "1.2.0",
      "model_name": "LayoutModel",
      "state": {}
     },
     "9fd6778c417e402ca0576159856cea47": {
      "model_module": "@jupyter-widgets/base",
      "model_module_version": "1.2.0",
      "model_name": "LayoutModel",
      "state": {}
     },
     "a015147e10134b5ea9a96bbf4729119f": {
      "model_module": "@jupyter-widgets/base",
      "model_module_version": "1.2.0",
      "model_name": "LayoutModel",
      "state": {
       "width": "40%"
      }
     },
     "a31f947e9cfe4ff8be8fa3ac0f7d58ce": {
      "model_module": "@jupyter-widgets/controls",
      "model_module_version": "1.5.0",
      "model_name": "IntSliderModel",
      "state": {
       "continuous_update": false,
       "description": "Fastest time (0s - 20s):",
       "layout": "IPY_MODEL_73a50dd541c04e10b4626c3bf666606e",
       "max": 20,
       "style": "IPY_MODEL_7cd261231219419e926740d070e9127d",
       "value": 10
      }
     },
     "a3f52163c91141a89a6b031a31dc7ba5": {
      "model_module": "@jupyter-widgets/controls",
      "model_module_version": "1.5.0",
      "model_name": "SliderStyleModel",
      "state": {
       "description_width": "initial"
      }
     },
     "a414bb84d0844ae193b0f5736eb7de12": {
      "model_module": "@jupyter-widgets/controls",
      "model_module_version": "1.5.0",
      "model_name": "BoundedIntTextModel",
      "state": {
       "description": "Difference between fastest and slowest time:",
       "layout": "IPY_MODEL_259808caf83b4264b3715862012c8c47",
       "max": 20,
       "style": "IPY_MODEL_28d5045226ce47d1aca5d5b0d958352d"
      }
     },
     "a5309371d6c048aaad621210c9a512b4": {
      "model_module": "@jupyter-widgets/base",
      "model_module_version": "1.2.0",
      "model_name": "LayoutModel",
      "state": {
       "width": "100%"
      }
     },
     "a5340107c2be44efbf8fbdc93a19ccac": {
      "model_module": "@jupyter-widgets/controls",
      "model_module_version": "1.5.0",
      "model_name": "BoundedIntTextModel",
      "state": {
       "description": "Difference between fastest and slowest time:",
       "layout": "IPY_MODEL_6d88e89ea9b74a0e93d9f3b7dc726bcd",
       "max": 20,
       "style": "IPY_MODEL_ffe47e16bd2c4353bf12faa29047e007"
      }
     },
     "a6f6bd6e843e4b36b64c8293bfd38f78": {
      "model_module": "@jupyter-widgets/controls",
      "model_module_version": "1.5.0",
      "model_name": "SliderStyleModel",
      "state": {
       "description_width": "initial"
      }
     },
     "a83e737342c143278bce9630f025254f": {
      "model_module": "@jupyter-widgets/base",
      "model_module_version": "1.2.0",
      "model_name": "LayoutModel",
      "state": {}
     },
     "a9e3fdcc7a834ddbba51387b7b5ef00e": {
      "model_module": "@jupyter-widgets/controls",
      "model_module_version": "1.5.0",
      "model_name": "DescriptionStyleModel",
      "state": {
       "description_width": ""
      }
     },
     "aa0325770cea4a4ab88decd83b766621": {
      "model_module": "@jupyter-widgets/controls",
      "model_module_version": "1.5.0",
      "model_name": "ButtonModel",
      "state": {
       "description": "Submit",
       "icon": "check",
       "layout": "IPY_MODEL_fccbbc5e93ca41c3a7a378668d5f00ad",
       "style": "IPY_MODEL_56be4999f4b044c18edbe32b05ad05e3"
      }
     },
     "aa081ec3d7914a2bb2032766039b6f34": {
      "model_module": "@jupyter-widgets/controls",
      "model_module_version": "1.5.0",
      "model_name": "ButtonStyleModel",
      "state": {}
     },
     "aa84dc9b9b2b41c69ca9fb0e7ecd9c0d": {
      "model_module": "@jupyter-widgets/controls",
      "model_module_version": "1.5.0",
      "model_name": "IntSliderModel",
      "state": {
       "continuous_update": false,
       "description": "(WIP WIDGET - SEE CELL COMMENTS) Slowest time (0s - 20s):",
       "layout": "IPY_MODEL_a015147e10134b5ea9a96bbf4729119f",
       "max": 20,
       "style": "IPY_MODEL_a3f52163c91141a89a6b031a31dc7ba5",
       "value": 10
      }
     },
     "afaf6530fdb545a1bed557e20ebe5d16": {
      "model_module": "@jupyter-widgets/controls",
      "model_module_version": "1.5.0",
      "model_name": "SliderStyleModel",
      "state": {
       "description_width": "initial"
      }
     },
     "b3248b51e63b44fc92466308e57f3e8b": {
      "model_module": "@jupyter-widgets/base",
      "model_module_version": "1.2.0",
      "model_name": "LayoutModel",
      "state": {}
     },
     "b529aaefd4474aaf8dfb375a308536f9": {
      "model_module": "@jupyter-widgets/controls",
      "model_module_version": "1.5.0",
      "model_name": "DescriptionStyleModel",
      "state": {
       "description_width": ""
      }
     },
     "b6e8105094c44e3bb309f11b8ab6427f": {
      "model_module": "@jupyter-widgets/controls",
      "model_module_version": "1.5.0",
      "model_name": "IntSliderModel",
      "state": {
       "continuous_update": false,
       "description": "(WIP WIDGET - SEE CELL COMMENTS) Slowest time (0s - 20s):",
       "layout": "IPY_MODEL_b73bfba9799540408ab4d27e80e51014",
       "max": 20,
       "style": "IPY_MODEL_bf94d5d37dcf4a41833cfcac34fdf4cc",
       "value": 10
      }
     },
     "b73bfba9799540408ab4d27e80e51014": {
      "model_module": "@jupyter-widgets/base",
      "model_module_version": "1.2.0",
      "model_name": "LayoutModel",
      "state": {
       "width": "60%"
      }
     },
     "b8008d104cb04c0c960905f98c85db8e": {
      "model_module": "@jupyter-widgets/base",
      "model_module_version": "1.2.0",
      "model_name": "LayoutModel",
      "state": {}
     },
     "ba40fcb10e7e48b382e8fb69db7c6e53": {
      "model_module": "@jupyter-widgets/output",
      "model_module_version": "1.0.0",
      "model_name": "OutputModel",
      "state": {
       "layout": "IPY_MODEL_2574d397e85d4b1a9fd7c75868b6f180",
       "outputs": [
        {
         "name": "stdout",
         "output_type": "stream",
         "text": "False\n"
        }
       ]
      }
     },
     "ba83347e00ea427faa60c77606a45af7": {
      "model_module": "@jupyter-widgets/controls",
      "model_module_version": "1.5.0",
      "model_name": "CheckboxModel",
      "state": {
       "description": "Sam's speed",
       "disabled": false,
       "layout": "IPY_MODEL_f0496b9998f14d55a20120b5f279e250",
       "style": "IPY_MODEL_9e5b25dfa9f34b41be8fd0a010cf4634",
       "value": false
      }
     },
     "bae806150a844e04ae3141d1447665f0": {
      "model_module": "@jupyter-widgets/controls",
      "model_module_version": "1.5.0",
      "model_name": "BoundedIntTextModel",
      "state": {
       "description": "Difference between fastest and slowest time:",
       "layout": "IPY_MODEL_89b4a2479e45495bbf66f7dba94ac8be",
       "max": 20,
       "style": "IPY_MODEL_99f3c6fadbde484ebca07b49c6eebe83"
      }
     },
     "bd889ce3052e4a38bab09f48825f801b": {
      "model_module": "@jupyter-widgets/controls",
      "model_module_version": "1.5.0",
      "model_name": "IntSliderModel",
      "state": {
       "continuous_update": false,
       "description": "Fastest time (0s - 20s):",
       "layout": "IPY_MODEL_9305b379788240f8ba28548f767359ff",
       "max": 20,
       "style": "IPY_MODEL_88947b8e26684153bd8e30f4beb686ad",
       "value": 20
      }
     },
     "bdcd0f0fa58745d2b330b2feef200355": {
      "model_module": "@jupyter-widgets/controls",
      "model_module_version": "1.5.0",
      "model_name": "DescriptionStyleModel",
      "state": {
       "description_width": "initial"
      }
     },
     "bf1a78a60bc94847a84ed9f12056ef98": {
      "model_module": "@jupyter-widgets/controls",
      "model_module_version": "1.5.0",
      "model_name": "IntSliderModel",
      "state": {
       "continuous_update": false,
       "description": "Fastest time (0s - 20s):",
       "layout": "IPY_MODEL_5730b568b77f4777aad17f1487e9a94a",
       "max": 20,
       "style": "IPY_MODEL_dcdac7bea94d422e8af5b795adfd83be",
       "value": 10
      }
     },
     "bf38a758011c4bed93774c3da7573b22": {
      "model_module": "@jupyter-widgets/base",
      "model_module_version": "1.2.0",
      "model_name": "LayoutModel",
      "state": {}
     },
     "bf94d5d37dcf4a41833cfcac34fdf4cc": {
      "model_module": "@jupyter-widgets/controls",
      "model_module_version": "1.5.0",
      "model_name": "SliderStyleModel",
      "state": {
       "description_width": "initial"
      }
     },
     "bfb65da46c9e4a159af8772dfb82e815": {
      "model_module": "@jupyter-widgets/base",
      "model_module_version": "1.2.0",
      "model_name": "LayoutModel",
      "state": {
       "width": "20%"
      }
     },
     "c1bb1257b6084cc49e9fcc02a18430a5": {
      "model_module": "@jupyter-widgets/base",
      "model_module_version": "1.2.0",
      "model_name": "LayoutModel",
      "state": {
       "width": "40%"
      }
     },
     "c1ec03c744674a5096167733a72aff1d": {
      "model_module": "@jupyter-widgets/controls",
      "model_module_version": "1.5.0",
      "model_name": "IntSliderModel",
      "state": {
       "continuous_update": false,
       "description": "Fastest time (0s - 20s):",
       "layout": "IPY_MODEL_ddd9979b2bab4ff998abad9b0946851c",
       "max": 20,
       "style": "IPY_MODEL_31d7a401ca614890ba909d8138fa5787",
       "value": 10
      }
     },
     "c5f7de2eb9f144f3b5939ef8e9feeaa2": {
      "model_module": "@jupyter-widgets/controls",
      "model_module_version": "1.5.0",
      "model_name": "CheckboxModel",
      "state": {
       "description": "Sam's speed",
       "disabled": false,
       "layout": "IPY_MODEL_76653f001bca4e7b9fd8917dbcccfbad",
       "style": "IPY_MODEL_3192219919a0411bad59486134ac9bc4",
       "value": false
      }
     },
     "c699b2bcecfb41b1b5d6318b9e43c325": {
      "model_module": "@jupyter-widgets/base",
      "model_module_version": "1.2.0",
      "model_name": "LayoutModel",
      "state": {}
     },
     "c6b22e51e6c74e80bf3a51840dd48eb7": {
      "model_module": "@jupyter-widgets/controls",
      "model_module_version": "1.5.0",
      "model_name": "CheckboxModel",
      "state": {
       "disabled": false,
       "layout": "IPY_MODEL_5794b76a254f4fdfac3e1c429483ce76",
       "style": "IPY_MODEL_b529aaefd4474aaf8dfb375a308536f9",
       "value": false
      }
     },
     "c70a90e99caa4ea4b8072d672cd03e4b": {
      "model_module": "@jupyter-widgets/base",
      "model_module_version": "1.2.0",
      "model_name": "LayoutModel",
      "state": {
       "width": "40%"
      }
     },
     "c73ca3051d5f4c4bb2d2f60aaf1d8ba6": {
      "model_module": "@jupyter-widgets/controls",
      "model_module_version": "1.5.0",
      "model_name": "SliderStyleModel",
      "state": {
       "description_width": ""
      }
     },
     "c7e6d4c0701544efb63f6026e11d9027": {
      "model_module": "@jupyter-widgets/base",
      "model_module_version": "1.2.0",
      "model_name": "LayoutModel",
      "state": {}
     },
     "c9e1245ccbff4be48222d69abc8cd191": {
      "model_module": "@jupyter-widgets/controls",
      "model_module_version": "1.5.0",
      "model_name": "BoundedIntTextModel",
      "state": {
       "description": "Difference between fastest and slowest time:",
       "layout": "IPY_MODEL_b3248b51e63b44fc92466308e57f3e8b",
       "max": 20,
       "style": "IPY_MODEL_d754d6808a904e89aac7d4f0c3fea038"
      }
     },
     "caeb5bde00be4d209efa4b55b2f074b7": {
      "model_module": "@jupyter-widgets/base",
      "model_module_version": "1.2.0",
      "model_name": "LayoutModel",
      "state": {
       "width": "100%"
      }
     },
     "cda9ca3fc6f542bea7fb99a2e1ceed1f": {
      "model_module": "@jupyter-widgets/base",
      "model_module_version": "1.2.0",
      "model_name": "LayoutModel",
      "state": {}
     },
     "d29bde80afaa4d3483356ab8df564e55": {
      "model_module": "@jupyter-widgets/base",
      "model_module_version": "1.2.0",
      "model_name": "LayoutModel",
      "state": {}
     },
     "d31a134d8fff40c283da36850a10104a": {
      "model_module": "@jupyter-widgets/controls",
      "model_module_version": "1.5.0",
      "model_name": "SliderStyleModel",
      "state": {
       "description_width": "initial"
      }
     },
     "d5d25eea0d8141998fabcc48dd4b657e": {
      "model_module": "@jupyter-widgets/controls",
      "model_module_version": "1.5.0",
      "model_name": "DescriptionStyleModel",
      "state": {
       "description_width": ""
      }
     },
     "d754d6808a904e89aac7d4f0c3fea038": {
      "model_module": "@jupyter-widgets/controls",
      "model_module_version": "1.5.0",
      "model_name": "DescriptionStyleModel",
      "state": {
       "description_width": "initial"
      }
     },
     "d7669cf9ba0547f0b716a44dcb42b8f7": {
      "model_module": "@jupyter-widgets/controls",
      "model_module_version": "1.5.0",
      "model_name": "BoundedIntTextModel",
      "state": {
       "description": "Text:",
       "layout": "IPY_MODEL_fb85641f186f48bbad1bad070524fc56",
       "max": 10,
       "style": "IPY_MODEL_f8f1f21caf6840b085fad082b141c882"
      }
     },
     "d7816788aac24596a693ae0295152546": {
      "model_module": "@jupyter-widgets/controls",
      "model_module_version": "1.5.0",
      "model_name": "ButtonModel",
      "state": {
       "description": "Submit",
       "icon": "check",
       "layout": "IPY_MODEL_92223ef9756540d58bcf0d4ae2034f36",
       "style": "IPY_MODEL_e966bd6ad8714a01bb6224f8cba128d6"
      }
     },
     "d935dde7ace2497d97b89b2607da455b": {
      "model_module": "@jupyter-widgets/controls",
      "model_module_version": "1.5.0",
      "model_name": "DescriptionStyleModel",
      "state": {
       "description_width": "initial"
      }
     },
     "db0e983938984791877a7d1fd28f90ba": {
      "model_module": "@jupyter-widgets/controls",
      "model_module_version": "1.5.0",
      "model_name": "DescriptionStyleModel",
      "state": {
       "description_width": ""
      }
     },
     "dcdac7bea94d422e8af5b795adfd83be": {
      "model_module": "@jupyter-widgets/controls",
      "model_module_version": "1.5.0",
      "model_name": "SliderStyleModel",
      "state": {
       "description_width": "initial"
      }
     },
     "ddd9979b2bab4ff998abad9b0946851c": {
      "model_module": "@jupyter-widgets/base",
      "model_module_version": "1.2.0",
      "model_name": "LayoutModel",
      "state": {
       "width": "50%"
      }
     },
     "e0b8b7892bdb4f32b8b23655c6dac31a": {
      "model_module": "@jupyter-widgets/base",
      "model_module_version": "1.2.0",
      "model_name": "LayoutModel",
      "state": {
       "width": "20%"
      }
     },
     "e353684aad0d4f1f9d146439dce8391e": {
      "model_module": "@jupyter-widgets/controls",
      "model_module_version": "1.5.0",
      "model_name": "SliderStyleModel",
      "state": {
       "description_width": "initial"
      }
     },
     "e380988fc45c42f6b8ac09a8c2077f32": {
      "model_module": "@jupyter-widgets/controls",
      "model_module_version": "1.5.0",
      "model_name": "ButtonStyleModel",
      "state": {}
     },
     "e79019b80b24418aa967fed3b9dfb1da": {
      "model_module": "@jupyter-widgets/controls",
      "model_module_version": "1.5.0",
      "model_name": "SliderStyleModel",
      "state": {
       "description_width": "initial"
      }
     },
     "e954207e0fd14d28a83fca094c35f2d4": {
      "model_module": "@jupyter-widgets/controls",
      "model_module_version": "1.5.0",
      "model_name": "IntSliderModel",
      "state": {
       "continuous_update": false,
       "description": "(WIP WIDGET - SEE CELL COMMENTS) Fastest time (0s - 20s):",
       "layout": "IPY_MODEL_18b1b770ed5b4f4898739adf8914d149",
       "max": 20,
       "style": "IPY_MODEL_92f7aef690614262be143a70b9528fd5",
       "value": 10
      }
     },
     "e966bd6ad8714a01bb6224f8cba128d6": {
      "model_module": "@jupyter-widgets/controls",
      "model_module_version": "1.5.0",
      "model_name": "ButtonStyleModel",
      "state": {}
     },
     "e9baf601afc94c2883e6f049cb5dafa2": {
      "model_module": "@jupyter-widgets/base",
      "model_module_version": "1.2.0",
      "model_name": "LayoutModel",
      "state": {}
     },
     "ebbcab317ad24964870fbceb41ebbc8e": {
      "model_module": "@jupyter-widgets/base",
      "model_module_version": "1.2.0",
      "model_name": "LayoutModel",
      "state": {}
     },
     "ecb6d4cb22d0415d80b6c5bca0dcb4c1": {
      "model_module": "@jupyter-widgets/base",
      "model_module_version": "1.2.0",
      "model_name": "LayoutModel",
      "state": {
       "width": "50%"
      }
     },
     "ee28996807fd47738eebd2ad91433280": {
      "model_module": "@jupyter-widgets/base",
      "model_module_version": "1.2.0",
      "model_name": "LayoutModel",
      "state": {
       "width": "40%"
      }
     },
     "ef907f7caf134c8c8514beff23520d23": {
      "model_module": "@jupyter-widgets/base",
      "model_module_version": "1.2.0",
      "model_name": "LayoutModel",
      "state": {}
     },
     "f0496b9998f14d55a20120b5f279e250": {
      "model_module": "@jupyter-widgets/base",
      "model_module_version": "1.2.0",
      "model_name": "LayoutModel",
      "state": {
       "width": "100%"
      }
     },
     "f78ab0460565485298140ba401b913d5": {
      "model_module": "@jupyter-widgets/controls",
      "model_module_version": "1.5.0",
      "model_name": "DescriptionStyleModel",
      "state": {
       "description_width": ""
      }
     },
     "f85af8dd531c45ebb092bc3860fdce83": {
      "model_module": "@jupyter-widgets/controls",
      "model_module_version": "1.5.0",
      "model_name": "IntSliderModel",
      "state": {
       "continuous_update": false,
       "description": "Fastest time (0s - 20s):",
       "layout": "IPY_MODEL_125ac8159fef42d8a125fb29aa8973ee",
       "max": 20,
       "style": "IPY_MODEL_248fccca3ddf4a38b30f6dc49e884105",
       "value": 10
      }
     },
     "f8f1f21caf6840b085fad082b141c882": {
      "model_module": "@jupyter-widgets/controls",
      "model_module_version": "1.5.0",
      "model_name": "DescriptionStyleModel",
      "state": {
       "description_width": ""
      }
     },
     "fa3f82981ea649ff9c10855391f49df9": {
      "model_module": "@jupyter-widgets/controls",
      "model_module_version": "1.5.0",
      "model_name": "SliderStyleModel",
      "state": {
       "description_width": ""
      }
     },
     "fb85641f186f48bbad1bad070524fc56": {
      "model_module": "@jupyter-widgets/base",
      "model_module_version": "1.2.0",
      "model_name": "LayoutModel",
      "state": {}
     },
     "fcb0d0c4f55a4d06867b5825f3b07274": {
      "model_module": "@jupyter-widgets/base",
      "model_module_version": "1.2.0",
      "model_name": "LayoutModel",
      "state": {}
     },
     "fccbbc5e93ca41c3a7a378668d5f00ad": {
      "model_module": "@jupyter-widgets/base",
      "model_module_version": "1.2.0",
      "model_name": "LayoutModel",
      "state": {}
     },
     "fef1ee491bd64452b3e166f860e771a8": {
      "model_module": "@jupyter-widgets/controls",
      "model_module_version": "1.5.0",
      "model_name": "DescriptionStyleModel",
      "state": {
       "description_width": "initial"
      }
     },
     "ffe47e16bd2c4353bf12faa29047e007": {
      "model_module": "@jupyter-widgets/controls",
      "model_module_version": "1.5.0",
      "model_name": "DescriptionStyleModel",
      "state": {
       "description_width": "initial"
      }
     }
    },
    "version_major": 2,
    "version_minor": 0
   }
  }
 },
 "nbformat": 4,
 "nbformat_minor": 2
}
