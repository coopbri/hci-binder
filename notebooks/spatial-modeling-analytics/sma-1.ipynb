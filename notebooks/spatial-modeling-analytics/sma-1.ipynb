{
 "cells": [
  {
   "cell_type": "markdown",
   "metadata": {
    "slideshow": {
     "slide_type": "slide"
    }
   },
   "source": [
    "# Spatial Modeling and Analytics\n",
    "## Overview\n",
    "*Lesson Developer: Nafiseh Haghtalab haghtala@msu.edu*\n"
   ]
  },
  {
   "cell_type": "code",
   "execution_count": 1,
   "metadata": {
    "init_cell": true,
    "slideshow": {
     "slide_type": "skip"
    }
   },
   "outputs": [
    {
     "data": {
      "text/html": [
       "\n",
       "    <script>\n",
       "        display = true; \n",
       "        function toggle() {\n",
       "            var input = $(\"div.input\");\n",
       "            if (display) { input.hide(); }\n",
       "            else { input.show(); }\n",
       "            display = !display;\n",
       "        }\n",
       "        $(document).ready(toggle);\n",
       "    </script>\n",
       "    \n",
       "    <form action=\"javascript:toggle()\">\n",
       "        <input type=\"submit\" value=\"Toggle raw code\">\n",
       "    </form>\n"
      ],
      "text/plain": [
       "<IPython.core.display.HTML object>"
      ]
     },
     "execution_count": 1,
     "metadata": {},
     "output_type": "execute_result"
    }
   ],
   "source": [
    "from IPython.display import HTML, IFrame\n",
    "\n",
    "# hide code output\n",
    "HTML('''\n",
    "    <script>\n",
    "        display = true; \n",
    "        function toggle() {\n",
    "            var input = $(\"div.input\");\n",
    "            if (display) { input.hide(); }\n",
    "            else { input.show(); }\n",
    "            display = !display;\n",
    "        }\n",
    "        $(document).ready(toggle);\n",
    "    </script>\n",
    "    \n",
    "    <form action=\"javascript:toggle()\">\n",
    "        <input type=\"submit\" value=\"Toggle raw code\">\n",
    "    </form>\n",
    "''')"
   ]
  },
  {
   "cell_type": "markdown",
   "metadata": {
    "slideshow": {
     "slide_type": "slide"
    }
   },
   "source": [
    "# What does Spatial Modeling mean? \n",
    "Spatial modeling is an analytical process conducted in conjunction with a geographical information system (GIS) in order to describe basic processes and properties for a given set of spatial features.\n",
    "\n",
    "The objective of spatial modeling is to be able to study and simulate spatial objects or phenomena that occur in the real world and facilitate problem solving and planning.\n",
    "\n",
    "Spatial modeling is an essential process of spatial analysis. With the use of models or special rules and procedures for analyzing spatial data, it is used in conjunction with a GIS to properly analyze and visually lay out data for better understanding by human readers. Its visual nature helps researchers more quickly understand the data and reach conclusions that are difficult to formulate with simple numerical and textual data.\n",
    "\n",
    "Manipulation of information occurs in multiple steps, each representing a stage in a complex analysis procedure. Spatial modeling is object-oriented with coverage and concerned with how the physical world works or looks. The resulting model represents either a set of objects or real-world process.\n",
    "\n",
    "For example, spatial modeling can be used to analyze the projected path of tornadoes by layering a map with different spatial data, like roads, houses, the path of the tornado and even its intensity at different points. This allows researchers to determine a tornado's real path of destruction. When juxtaposed with other models from tornadoes that have affected the area, this model can be used to show path correlations and geographical factors.\n",
    "\n",
    "With that said, let's start with some basic and foundamental concepts in spatail modeling and analytics. "
   ]
  },
  {
   "cell_type": "markdown",
   "metadata": {
    "slideshow": {
     "slide_type": "slide"
    }
   },
   "source": [
    "\n",
    "# Activities based on daily life\n",
    "\n",
    "Imagine you want to do some specific activities during a day, for instance, you want to go to work, also do grocery shopping, gas up the car, pick up clothing, and take kids and dog to a park. How would you manage all these choir to be done in a very efficient and covenient way? \n",
    "So, now in the following example choose the most convenient way of doing all things. \n",
    "Perhaps the most conveniet way can be translated into: being in the closest distance from one another and being at the same route.\n",
    "Draw a line to connect the activities or number them."
   ]
  },
  {
   "cell_type": "code",
   "execution_count": 3,
   "metadata": {
    "init_cell": true,
    "slideshow": {
     "slide_type": "fragment"
    }
   },
   "outputs": [
    {
     "data": {
      "text/html": [
       "\n",
       "        <iframe\n",
       "            width=\"920\"\n",
       "            height=\"620\"\n",
       "            src=\"supplementary/neighborhood.html\"\n",
       "            frameborder=\"0\"\n",
       "            allowfullscreen\n",
       "        ></iframe>\n",
       "        "
      ],
      "text/plain": [
       "<IPython.lib.display.IFrame at 0x7f160333c2b0>"
      ]
     },
     "execution_count": 3,
     "metadata": {},
     "output_type": "execute_result"
    }
   ],
   "source": [
    "IFrame(\"supplementary/neighborhood.html\", width=920, height=620)"
   ]
  },
  {
   "cell_type": "markdown",
   "metadata": {
    "slideshow": {
     "slide_type": "slide"
    }
   },
   "source": [
    "\n",
    "![congrats popup](supplementary/congrats.png)\n",
    "In this example you learned and applied:\n",
    "\n",
    "- Proximity analysis\n",
    "- Decay rate in spatial data\n",
    "- Nearest neighbor analysis\n",
    "\n",
    "**Now let’s go through them one by one.**\n",
    "\n",
    "\n"
   ]
  },
  {
   "cell_type": "markdown",
   "metadata": {
    "slideshow": {
     "slide_type": "fragment"
    }
   },
   "source": [
    "**Continue the journey: [Next Example](sma-2.ipynb)**"
   ]
  }
 ],
 "metadata": {
  "celltoolbar": "Slideshow",
  "kernelspec": {
   "display_name": "Python 3",
   "language": "python",
   "name": "python3"
  },
  "language_info": {
   "codemirror_mode": {
    "name": "ipython",
    "version": 3
   },
   "file_extension": ".py",
   "mimetype": "text/x-python",
   "name": "python",
   "nbconvert_exporter": "python",
   "pygments_lexer": "ipython3",
   "version": "3.8.0"
  },
  "rise": {
   "autolaunch": true
  }
 },
 "nbformat": 4,
 "nbformat_minor": 2
}
