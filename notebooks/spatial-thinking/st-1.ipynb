{
 "cells": [
  {
   "cell_type": "markdown",
   "metadata": {
    "slideshow": {
     "slide_type": "slide"
    }
   },
   "source": [
    "# Spatial Thinking\n",
    "## Mental Maps\n",
    "*Lesson Developer: Michael Page michael.page@emory.edu*"
   ]
  },
  {
   "cell_type": "code",
   "execution_count": 2,
   "metadata": {
    "init_cell": true,
    "slideshow": {
     "slide_type": "skip"
    }
   },
   "outputs": [
    {
     "data": {
      "text/html": [
       "\n",
       "    <script>\n",
       "        display = true; \n",
       "        function toggle() {\n",
       "            var input = $(\"div.input\");\n",
       "            if (display) { input.hide(); }\n",
       "            else { input.show(); }\n",
       "            display = !display;\n",
       "        }\n",
       "        $(document).ready(toggle);\n",
       "    </script>\n",
       "    \n",
       "    <form action=\"javascript:toggle()\">\n",
       "        <input type=\"submit\" value=\"Toggle raw code\">\n",
       "    </form>\n"
      ],
      "text/plain": [
       "<IPython.core.display.HTML object>"
      ]
     },
     "execution_count": 2,
     "metadata": {},
     "output_type": "execute_result"
    }
   ],
   "source": [
    "from IPython.display import HTML, IFrame\n",
    "\n",
    "# hide code output\n",
    "HTML('''\n",
    "    <script>\n",
    "        display = true; \n",
    "        function toggle() {\n",
    "            var input = $(\"div.input\");\n",
    "            if (display) { input.hide(); }\n",
    "            else { input.show(); }\n",
    "            display = !display;\n",
    "        }\n",
    "        $(document).ready(toggle);\n",
    "    </script>\n",
    "    \n",
    "    <form action=\"javascript:toggle()\">\n",
    "        <input type=\"submit\" value=\"Toggle raw code\">\n",
    "    </form>\n",
    "''')"
   ]
  },
  {
   "cell_type": "markdown",
   "metadata": {
    "slideshow": {
     "slide_type": "slide"
    }
   },
   "source": [
    "### Mental Maps (Spatial Cognition)\n",
    "\n",
    "Mental maps are a mix of objective knowledge and subjective perceptions from a person’s point of view of a particular place. They are built from our knowledge about the location of geographic features as well as impressions of places, rough estimates of size and location, and a general sense of the connections between places. Therefore places are unique to our perception and build from experience and engagement with a place. In this exercise we will explore the mental maps of four individuals knowledge and perception of the island of Samothrace in Northeastern Greece. \n",
    "\n",
    "TODO: Add background image?"
   ]
  },
  {
   "cell_type": "markdown",
   "metadata": {
    "slideshow": {
     "slide_type": "fragment"
    }
   },
   "source": [
    "**Districts** - relatively large sections of the city distinguished by some identity or character\n",
    "\n",
    "**Paths** - the streets, sidewalks, trails, and other channels in which people travel\n",
    "\n",
    "**Centers (nodes)** -  focal points and intersections \n",
    "\n",
    "**Landmarks** - readily identifiable objects which serve as external reference points\n",
    "\n",
    "**Edges** -  perceived boundaries/barriers such as walls, buildings, and shorelines\n",
    "\n",
    "![examples](st-image-1.png)"
   ]
  },
  {
   "cell_type": "markdown",
   "metadata": {
    "slideshow": {
     "slide_type": "skip"
    }
   },
   "source": [
    "### Compare Mental Maps\n",
    "\n",
    "TODO: 4 map example using D3. Unclear what the assessment/interaction will be be. More detail needed."
   ]
  },
  {
   "cell_type": "markdown",
   "metadata": {
    "slideshow": {
     "slide_type": "slide"
    }
   },
   "source": [
    "### Explore web map layers and compare them to the maps drawn by the mapmakers\n",
    "\n",
    "Samothrace is a rugged Greek island in the northern Aegean Sea. The island is 17 km (11 mi) long and is 178 km2 (69 sq mi) in size and has a population of almost 3,000 persons with its main industries being tourism and fishing. Mt. Saos and its tip Fengari rising to 1,611 m (5,285 ft). It is famous for the statue Nike, The Winged Victory, that is now located at the Louvre Museum in Paris. It's principal settlements are Kamariotissa, Chora, and Therma on the North side and Alonia, Lakkoma, and Profitis Ilias on the South. \n",
    "\n",
    "![map examples, standin for webmap version](st-image-2.png)"
   ]
  },
  {
   "cell_type": "markdown",
   "metadata": {
    "slideshow": {
     "slide_type": "notes"
    }
   },
   "source": [
    "### Review Questions\n",
    "\n",
    "TODO: Note. I'm not sure how we can actually gauge a correct answer for these assessment questions? We won't have you to read the answers and respond to them. So they need to be clearer questions potentially with multiple choice answers. It might be worth thinking about ways to interact with the map to get at these rather than having a short quiz at the end.\n",
    "\n",
    "What do you think the map authors considered the most important features of their map?\n",
    "\n",
    "What mode of transportation (car, subway, bike) do you imagine the author uses the most?\n",
    "\n",
    "How might this influence the proximity of places on the map?\n",
    "\n",
    "Are there any blank spaces on the maps and by reviewing the web map where are these places?\n",
    "\n",
    "How do these maps compare with the web map? Consider differences in detail, direction, distance, etc. \n"
   ]
  },
  {
   "cell_type": "markdown",
   "metadata": {
    "slideshow": {
     "slide_type": "slide"
    }
   },
   "source": [
    "**Continue the journey: [Next Example](st-2.ipynb)**"
   ]
  }
 ],
 "metadata": {
  "celltoolbar": "Slideshow",
  "kernelspec": {
   "display_name": "Python 3",
   "language": "python",
   "name": "python3"
  },
  "language_info": {
   "codemirror_mode": {
    "name": "ipython",
    "version": 3
   },
   "file_extension": ".py",
   "mimetype": "text/x-python",
   "name": "python",
   "nbconvert_exporter": "python",
   "pygments_lexer": "ipython3",
   "version": "3.7.4"
  },
  "rise": {
   "autolaunch": true
  }
 },
 "nbformat": 4,
 "nbformat_minor": 2
}
