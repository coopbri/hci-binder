{
 "cells": [
  {
   "cell_type": "markdown",
   "metadata": {},
   "source": [
    "# Geospatial Data\n",
    "## Introduction\n",
    "*Lesson Developer: Coline Dony cdony@aag.org*\n"
   ]
  },
  {
   "cell_type": "markdown",
   "metadata": {},
   "source": [
    "TODO: Add an introduction paragraph maybe to orient people?"
   ]
  },
  {
   "cell_type": "code",
   "execution_count": 1,
   "metadata": {
    "init_cell": true
   },
   "outputs": [],
   "source": [
    "from IPython.display import IFrame"
   ]
  },
  {
   "cell_type": "markdown",
   "metadata": {},
   "source": [
    "### Can you drag the position of each data point to its correct location?\n",
    "\n",
    "Data point 1 (Middle, Middle)\n",
    "Data point 2 (Middle, Right)\n",
    "Data point 3 (Lower, Left)\n",
    "Data point 4 (Upper, Right)\n",
    "Etc.\n",
    "\n",
    "__TODO:__ Add details about where to drag data points<br>\n",
    "__TODO:__ Add congratulations message after successful completion<br>\n",
    "__TODO:__ Change where data points need to go (instead of 1:1 mapping)"
   ]
  },
  {
   "cell_type": "code",
   "execution_count": 2,
   "metadata": {
    "init_cell": true
   },
   "outputs": [
    {
     "data": {
      "text/html": [
       "\n",
       "        <iframe\n",
       "            width=\"650\"\n",
       "            height=\"490\"\n",
       "            src=\"grid-1.html\"\n",
       "            frameborder=\"0\"\n",
       "            allowfullscreen\n",
       "        ></iframe>\n",
       "        "
      ],
      "text/plain": [
       "<IPython.lib.display.IFrame at 0x5938eb0>"
      ]
     },
     "execution_count": 2,
     "metadata": {},
     "output_type": "execute_result"
    }
   ],
   "source": [
    "IFrame(\"grid-1.html\", width=650, height=490)"
   ]
  },
  {
   "cell_type": "markdown",
   "metadata": {},
   "source": [
    "![congrats popup](congrats.png)\n",
    "You were able to drop them all in the right location!\n"
   ]
  },
  {
   "cell_type": "markdown",
   "metadata": {},
   "source": [
    "### A different coordinate system\n",
    "\n",
    "Now let’s use a different coordinate system this time that may be a little less easy:\n",
    "Data point 1 (1,1)\n",
    "Data point 2 (0,1)\n",
    "Data point 3 (2,1)\n",
    "Data point 4 (1,2)\n",
    "Etc.\n",
    "\n",
    "__TODO:__ Add details about where to drag data points<br>\n",
    "__TODO:__ Add congratulations message after successful completion<br>\n",
    "__TODO:__ Change where data points need to go (instead of 1:1 mapping)"
   ]
  },
  {
   "cell_type": "code",
   "execution_count": 3,
   "metadata": {
    "init_cell": true
   },
   "outputs": [
    {
     "data": {
      "text/html": [
       "\n",
       "        <iframe\n",
       "            width=\"650\"\n",
       "            height=\"490\"\n",
       "            src=\"grid-2.html\"\n",
       "            frameborder=\"0\"\n",
       "            allowfullscreen\n",
       "        ></iframe>\n",
       "        "
      ],
      "text/plain": [
       "<IPython.lib.display.IFrame at 0x5938750>"
      ]
     },
     "execution_count": 3,
     "metadata": {},
     "output_type": "execute_result"
    }
   ],
   "source": [
    "IFrame(\"grid-2.html\", width=650, height=490)"
   ]
  },
  {
   "cell_type": "markdown",
   "metadata": {},
   "source": [
    "Coordinate systems are **everywhere** and they are used to label the location of things, so that we can find them again!\n",
    "\n",
    "This dresser has a coordinate system!\n",
    "- Your hippo is in the lower right drawer, go get it!\n",
    "- Hippo (lower drawer, right drawer)"
   ]
  },
  {
   "cell_type": "code",
   "execution_count": 4,
   "metadata": {
    "init_cell": true
   },
   "outputs": [
    {
     "data": {
      "text/html": [
       "\n",
       "        <iframe\n",
       "            width=\"620\"\n",
       "            height=\"620\"\n",
       "            src=\"dresser.html\"\n",
       "            frameborder=\"0\"\n",
       "            allowfullscreen\n",
       "        ></iframe>\n",
       "        "
      ],
      "text/plain": [
       "<IPython.lib.display.IFrame at 0x59385d0>"
      ]
     },
     "execution_count": 4,
     "metadata": {},
     "output_type": "execute_result"
    }
   ],
   "source": [
    "IFrame(\"dresser.html\", width=620, height=620)"
   ]
  },
  {
   "cell_type": "markdown",
   "metadata": {},
   "source": [
    "Coordinate systems are **everywhere** and they are used to label the location of things, so that we can find them again!\n",
    "\n",
    "This library has a coordinate system!\n",
    "Your book about hippos is at 1A on the upper shelf!\n",
    "Hippo Book (1A isle, upper shelf)"
   ]
  },
  {
   "cell_type": "code",
   "execution_count": 5,
   "metadata": {
    "init_cell": true
   },
   "outputs": [
    {
     "data": {
      "text/html": [
       "\n",
       "        <iframe\n",
       "            width=\"620\"\n",
       "            height=\"420\"\n",
       "            src=\"bookshelf.html\"\n",
       "            frameborder=\"0\"\n",
       "            allowfullscreen\n",
       "        ></iframe>\n",
       "        "
      ],
      "text/plain": [
       "<IPython.lib.display.IFrame at 0x59602b0>"
      ]
     },
     "execution_count": 5,
     "metadata": {},
     "output_type": "execute_result"
    }
   ],
   "source": [
    "IFrame(\"bookshelf.html\", width=620, height=420)"
   ]
  },
  {
   "cell_type": "markdown",
   "metadata": {},
   "source": [
    "Some coordinate systems get so popular, and are used in so many different settings, that they are sometimes given names!\n",
    "\n",
    "This is the “Cartesian” coordinate system, it was thought of by René Descartes.\n",
    "Draw the trajectory of the hippo\n",
    "Hippo trajectory [(-4,6), (0,5), (3,-2)]\n",
    "\n",
    "![standin for D3 interactive piece](gd-image-5.png)"
   ]
  },
  {
   "cell_type": "markdown",
   "metadata": {},
   "source": [
    "### WGS (World Geodetic System)\n",
    "This is the \"World Geodetic System\" or WGS, it was developed by geographers to locate things on Earth.\n",
    "\n",
    "TODO: We can probably add more information about it here. Talk about lat/lon concepts here too?\n",
    "\n",
    "There are hippos at 30°E and 15°N\n",
    "Hippo family (30°E, 15°N)\n",
    "\n",
    "![standin for D3 interactive piece](gd-image-6.png)\n"
   ]
  },
  {
   "cell_type": "markdown",
   "metadata": {},
   "source": [
    "**Continue the journey: [Next Example](gd-2.ipynb)**"
   ]
  }
 ],
 "metadata": {
  "celltoolbar": "Initialization Cell",
  "kernelspec": {
   "display_name": "Python 3",
   "language": "python",
   "name": "python3"
  },
  "language_info": {
   "codemirror_mode": {
    "name": "ipython",
    "version": 3
   },
   "file_extension": ".py",
   "mimetype": "text/x-python",
   "name": "python",
   "nbconvert_exporter": "python",
   "pygments_lexer": "ipython3",
   "version": "3.7.4"
  }
 },
 "nbformat": 4,
 "nbformat_minor": 2
}
