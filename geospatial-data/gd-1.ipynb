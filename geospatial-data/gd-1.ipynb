{
 "cells": [
  {
   "cell_type": "markdown",
   "metadata": {},
   "source": [
    "# Geospatial Data\n",
    "## Introduction\n",
    "*Lesson Developer: Coline Dony cdony@aag.org*\n"
   ]
  },
  {
   "cell_type": "code",
   "execution_count": 1,
   "metadata": {
    "init_cell": true
   },
   "outputs": [],
   "source": [
    "from IPython.display import HTML, IFrame\n",
    "\n",
    "# hide code output\n",
    "HTML('''\n",
    "    <script>\n",
    "        display = true; \n",
    "        function toggle() {\n",
    "            var input = $(\"div.input\");\n",
    "            if (display) { input.hide(); }\n",
    "            else { input.show(); }\n",
    "            display = !display;\n",
    "        }\n",
    "        $(document).ready(toggle);\n",
    "    </script>\n",
    "    \n",
    "    <form action=\"javascript:toggle()\">\n",
    "        <input type=\"submit\" value=\"Toggle raw code\">\n",
    "    </form>\n",
    "''')"
   ]
  },
  {
   "cell_type": "markdown",
   "metadata": {},
   "source": [
    "TODO: Add an introduction paragraph maybe to orient people?"
   ]
  },
  {
   "cell_type": "markdown",
   "metadata": {},
   "source": [
    "### Can you drag the position of each data point to its correct location?\n",
    "\n",
    "<table align=\"left\" style=\"width:40%; font-size:14px\">\n",
    "    <tr style=\"height:40px\">\n",
    "        <th style=\"text-align:center\">Data Point</th>\n",
    "        <th style=\"text-align:center\">Location</th>\n",
    "    </tr>\n",
    "    <tr style=\"height:40px\">\n",
    "        <td style=\"text-align:center\">1 (Circle)</td>\n",
    "        <td style=\"text-align:center\">(Middle, Middle)</td>\n",
    "    </tr>\n",
    "    <tr style=\"height:40px\">\n",
    "        <td style=\"text-align:center\">2 (Star)</td>\n",
    "        <td style=\"text-align:center\">(Middle, Right)</td>\n",
    "    </tr>\n",
    "    <tr style=\"height:40px\">\n",
    "        <td style=\"text-align:center\">3 (Square)</td>\n",
    "        <td style=\"text-align:center\">(Upper, Left)</td>\n",
    "    </tr>\n",
    "    <tr style=\"height:40px\">\n",
    "        <td style=\"text-align:center\">4 (Hexagon)</td>\n",
    "        <td style=\"text-align:center\">(Upper, Middle)</td>\n",
    "    </tr>\n",
    "    <tr style=\"height:40px\">\n",
    "        <td style=\"text-align:center\">5 (Diamond)</td>\n",
    "        <td style=\"text-align:center\">(Lower, Middle)</td>\n",
    "    </tr>\n",
    "    <tr style=\"height:40px\">\n",
    "        <td style=\"text-align:center\">6 (Ellipse)</td>\n",
    "        <td style=\"text-align:center\">(Lower, Left)</td>\n",
    "    </tr>\n",
    "    <tr style=\"height:40px\">\n",
    "        <td style=\"text-align:center\">7 (Triangle)</td>\n",
    "        <td style=\"text-align:center\">(Lower, Right)</td>\n",
    "    </tr>\n",
    "    <tr style=\"height:40px\">\n",
    "        <td style=\"text-align:center\">8 (Pentagon)</td>\n",
    "        <td style=\"text-align:center\">(Middle, Left)</td>\n",
    "    </tr>\n",
    "    <tr style=\"height:40px\">\n",
    "        <td style=\"text-align:center\">9 (Decagon)</td>\n",
    "        <td style=\"text-align:center\">(Upper, Right)</td>\n",
    "    </tr>\n",
    "</table>"
   ]
  },
  {
   "cell_type": "markdown",
   "metadata": {},
   "source": [
    "__TODO:__ Align table and activity (maybe add table to activity) for smoother UX"
   ]
  },
  {
   "cell_type": "code",
   "execution_count": 2,
   "metadata": {
    "init_cell": true
   },
   "outputs": [
    {
     "data": {
      "text/html": [
       "\n",
       "        <iframe\n",
       "            width=\"650\"\n",
       "            height=\"490\"\n",
       "            src=\"grid-1.html\"\n",
       "            frameborder=\"0\"\n",
       "            allowfullscreen\n",
       "        ></iframe>\n",
       "        "
      ],
      "text/plain": [
       "<IPython.lib.display.IFrame at 0x5779490>"
      ]
     },
     "execution_count": 2,
     "metadata": {},
     "output_type": "execute_result"
    }
   ],
   "source": [
    "IFrame(\"grid-1.html\", width=650, height=490)"
   ]
  },
  {
   "cell_type": "markdown",
   "metadata": {},
   "source": [
    "![congrats popup](congrats.png)\n",
    "You were able to drop them all in the right location!\n"
   ]
  },
  {
   "cell_type": "markdown",
   "metadata": {},
   "source": [
    "### A different coordinate system\n",
    "\n",
    "Now let’s use a different coordinate system this time that may be a little less easy:\n",
    "\n",
    "<table align=\"left\" style=\"width:40%; font-size:14px\">\n",
    "    <tr style=\"height:40px\">\n",
    "        <th style=\"text-align:center\">Data Point</th>\n",
    "        <th style=\"text-align:center\">Location</th>\n",
    "    </tr>\n",
    "    <tr style=\"height:40px\">\n",
    "        <td style=\"text-align:center\">1 (Circle)</td>\n",
    "        <td style=\"text-align:center\">(2, 0)</td>\n",
    "    </tr>\n",
    "    <tr style=\"height:40px\">\n",
    "        <td style=\"text-align:center\">2 (Star)</td>\n",
    "        <td style=\"text-align:center\">(0, 2)</td>\n",
    "    </tr>\n",
    "    <tr style=\"height:40px\">\n",
    "        <td style=\"text-align:center\">3 (Square)</td>\n",
    "        <td style=\"text-align:center\">(0, 0)</td>\n",
    "    </tr>\n",
    "    <tr style=\"height:40px\">\n",
    "        <td style=\"text-align:center\">4 (Hexagon)</td>\n",
    "        <td style=\"text-align:center\">(1, 0)</td>\n",
    "    </tr>\n",
    "    <tr style=\"height:40px\">\n",
    "        <td style=\"text-align:center\">5 (Diamond)</td>\n",
    "        <td style=\"text-align:center\">(0, 1)</td>\n",
    "    </tr>\n",
    "    <tr style=\"height:40px\">\n",
    "        <td style=\"text-align:center\">6 (Ellipse)</td>\n",
    "        <td style=\"text-align:center\">(1, 2)</td>\n",
    "    </tr>\n",
    "    <tr style=\"height:40px\">\n",
    "        <td style=\"text-align:center\">7 (Triangle)</td>\n",
    "        <td style=\"text-align:center\">(1, 1)</td>\n",
    "    </tr>\n",
    "    <tr style=\"height:40px\">\n",
    "        <td style=\"text-align:center\">8 (Pentagon)</td>\n",
    "        <td style=\"text-align:center\">(2, 2)</td>\n",
    "    </tr>\n",
    "    <tr style=\"height:40px\">\n",
    "        <td style=\"text-align:center\">9 (Decagon)</td>\n",
    "        <td style=\"text-align:center\">(2, 1)</td>\n",
    "    </tr>\n",
    "</table>\n",
    "\n"
   ]
  },
  {
   "cell_type": "markdown",
   "metadata": {},
   "source": [
    "__TODO:__ Align table and activity (maybe add table to activity) for smoother UX"
   ]
  },
  {
   "cell_type": "code",
   "execution_count": 3,
   "metadata": {
    "init_cell": true
   },
   "outputs": [
    {
     "data": {
      "text/html": [
       "\n",
       "        <iframe\n",
       "            width=\"650\"\n",
       "            height=\"490\"\n",
       "            src=\"grid-2.html\"\n",
       "            frameborder=\"0\"\n",
       "            allowfullscreen\n",
       "        ></iframe>\n",
       "        "
      ],
      "text/plain": [
       "<IPython.lib.display.IFrame at 0x5779f90>"
      ]
     },
     "execution_count": 3,
     "metadata": {},
     "output_type": "execute_result"
    }
   ],
   "source": [
    "IFrame(\"grid-2.html\", width=650, height=490)"
   ]
  },
  {
   "cell_type": "markdown",
   "metadata": {},
   "source": [
    "Coordinate systems are **everywhere** and they are used to label the location of things, so that we can find them again!\n",
    "\n",
    "This dresser has a coordinate system!\n",
    "- Your hippo is in the lower right drawer, go get it!\n",
    "- Hippo (lower drawer, right drawer)"
   ]
  },
  {
   "cell_type": "code",
   "execution_count": 4,
   "metadata": {
    "init_cell": true
   },
   "outputs": [
    {
     "data": {
      "text/html": [
       "\n",
       "        <iframe\n",
       "            width=\"620\"\n",
       "            height=\"620\"\n",
       "            src=\"dresser.html\"\n",
       "            frameborder=\"0\"\n",
       "            allowfullscreen\n",
       "        ></iframe>\n",
       "        "
      ],
      "text/plain": [
       "<IPython.lib.display.IFrame at 0x57a4110>"
      ]
     },
     "execution_count": 4,
     "metadata": {},
     "output_type": "execute_result"
    }
   ],
   "source": [
    "IFrame(\"dresser.html\", width=620, height=620)"
   ]
  },
  {
   "cell_type": "markdown",
   "metadata": {},
   "source": [
    "Coordinate systems are **everywhere** and they are used to label the location of things, so that we can find them again!\n",
    "\n",
    "This library has a coordinate system!\n",
    "Your book about hippos is at 1A on the upper shelf!\n",
    "Hippo Book (1A isle, upper shelf)"
   ]
  },
  {
   "cell_type": "code",
   "execution_count": 5,
   "metadata": {
    "init_cell": true
   },
   "outputs": [
    {
     "data": {
      "text/html": [
       "\n",
       "        <iframe\n",
       "            width=\"620\"\n",
       "            height=\"420\"\n",
       "            src=\"bookshelf.html\"\n",
       "            frameborder=\"0\"\n",
       "            allowfullscreen\n",
       "        ></iframe>\n",
       "        "
      ],
      "text/plain": [
       "<IPython.lib.display.IFrame at 0x57a4370>"
      ]
     },
     "execution_count": 5,
     "metadata": {},
     "output_type": "execute_result"
    }
   ],
   "source": [
    "IFrame(\"bookshelf.html\", width=620, height=420)"
   ]
  },
  {
   "cell_type": "markdown",
   "metadata": {},
   "source": [
    "Some coordinate systems get so popular, and are used in so many different settings, that they are sometimes given names!\n",
    "\n",
    "This is the “Cartesian” coordinate system, it was thought of by René Descartes.\n",
    "Draw the trajectory of the hippo: [(-4,6), (0,5), (3,-2)]\n",
    "\n",
    "![standin for D3 interactive piece](gd-image-5.png)"
   ]
  },
  {
   "cell_type": "markdown",
   "metadata": {},
   "source": [
    "### WGS (World Geodetic System)\n",
    "This is the \"World Geodetic System\" or WGS, it was developed by geographers to locate things on Earth.\n",
    "\n",
    "TODO: We can probably add more information about it here. Talk about lat/lon concepts here too?\n",
    "\n",
    "There is a hippo family at (30°E, 15°N)"
   ]
  },
  {
   "cell_type": "code",
   "execution_count": 6,
   "metadata": {
    "init_cell": true
   },
   "outputs": [
    {
     "data": {
      "text/html": [
       "\n",
       "        <iframe\n",
       "            width=\"650\"\n",
       "            height=\"520\"\n",
       "            src=\"geodetic.html\"\n",
       "            frameborder=\"0\"\n",
       "            allowfullscreen\n",
       "        ></iframe>\n",
       "        "
      ],
      "text/plain": [
       "<IPython.lib.display.IFrame at 0x57a45f0>"
      ]
     },
     "execution_count": 6,
     "metadata": {},
     "output_type": "execute_result"
    }
   ],
   "source": [
    "IFrame(\"geodetic.html\", width=650, height=520)"
   ]
  },
  {
   "cell_type": "markdown",
   "metadata": {},
   "source": [
    "**Continue the journey: [Next Example](gd-2.ipynb)**"
   ]
  }
 ],
 "metadata": {
  "celltoolbar": "Initialization Cell",
  "kernelspec": {
   "display_name": "Python 3",
   "language": "python",
   "name": "python3"
  },
  "language_info": {
   "codemirror_mode": {
    "name": "ipython",
    "version": 3
   },
   "file_extension": ".py",
   "mimetype": "text/x-python",
   "name": "python",
   "nbconvert_exporter": "python",
   "pygments_lexer": "ipython3",
   "version": "3.7.4"
  }
 },
 "nbformat": 4,
 "nbformat_minor": 2
}
