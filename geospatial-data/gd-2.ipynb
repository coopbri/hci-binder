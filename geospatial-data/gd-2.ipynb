{
 "cells": [
  {
   "cell_type": "markdown",
   "metadata": {},
   "source": [
    "# Geospatial Data\n",
    "## Create Geospatial Data\n",
    "*Lesson Developer: Coline Dony cdony@aag.org*"
   ]
  },
  {
   "cell_type": "markdown",
   "metadata": {},
   "source": [
    "Let’s create our own Geospatial Data!\n",
    "\n",
    "You see this aerial photo of a hippo family? Let’s write the location of each hippo!\n",
    "\n",
    "![hippo family](gd-image-7.png)\n"
   ]
  },
  {
   "cell_type": "code",
   "execution_count": 4,
   "metadata": {
    "init_cell": true
   },
   "outputs": [
    {
     "name": "stdout",
     "output_type": "stream",
     "text": [
      "We’ve learned so far that geospatial data cannot exist without ...\n"
     ]
    },
    {
     "data": {
      "application/vnd.jupyter.widget-view+json": {
       "model_id": "a515bfb4a850478ab38e8785f8e62f57",
       "version_major": 2,
       "version_minor": 0
      },
      "text/plain": [
       "RadioButtons(description='Select:', options=('something', 'Coordinate System', 'something else'), value='somet…"
      ]
     },
     "metadata": {},
     "output_type": "display_data"
    }
   ],
   "source": [
    "# FIXME: This will get cleaned up, just as an example.\n",
    "import ipywidgets as widgets\n",
    "print(\"We’ve learned so far that geospatial data cannot exist without ...\")\n",
    "widgets.RadioButtons(\n",
    "    options=['something', 'Coordinate System', 'something else'],\n",
    "    description='Select:',\n",
    "    disabled=False\n",
    ")"
   ]
  },
  {
   "cell_type": "markdown",
   "metadata": {},
   "source": [
    "TODO: Need to add the D3 pieces, but I think the lesson changed based on discussions in DC. \n",
    "So I'm not going to copy/paste these pieces yet. Feel free to build from here!"
   ]
  }
 ],
 "metadata": {
  "celltoolbar": "Initialization Cell",
  "kernelspec": {
   "display_name": "Python 3",
   "language": "python",
   "name": "python3"
  },
  "language_info": {
   "codemirror_mode": {
    "name": "ipython",
    "version": 3
   },
   "file_extension": ".py",
   "mimetype": "text/x-python",
   "name": "python",
   "nbconvert_exporter": "python",
   "pygments_lexer": "ipython3",
   "version": "3.7.4"
  }
 },
 "nbformat": 4,
 "nbformat_minor": 2
}
