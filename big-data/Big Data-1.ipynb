{
 "cells": [
  {
   "cell_type": "markdown",
   "metadata": {},
   "source": [
    "# Big Data\n",
    "## Overview\n",
    "*Lesson Developer: Jennifer Swift jswift@usc.edu*"
   ]
  },
  {
   "cell_type": "markdown",
   "metadata": {},
   "source": [
    "### Big Data!\n",
    "TODO: Add D3 elementation / naimnation to allow users to zoom from global to local.\n",
    "**Note:** This slide could be similar to the version in the gateway lesson. Optional: animation where user clicks to zoom from a global perspective (globe+satellites) into local [real] person perspective (person+cell+sun), and 2 way data lines between cell and globe emerge, colored dots representing apps emerge on the the cell phone. This slide is intended to represent global connectedness via big data (used every day to come up in next slide), in a positive way.\n"
   ]
  },
  {
   "cell_type": "markdown",
   "metadata": {},
   "source": [
    "### Big Data Examples\n",
    "\n",
    "TODO: Add D3 Click/Click/Click example\n",
    "\n",
    "![big data image selection standin for D3 interactive element](big-data-image-1.png)\n",
    "\n",
    "With every click we make decisions about what data is created/generated and collected, adding to the billions of records to create Terabytes of data every second. Click on each of the four different Big Data examples to find the answers. [clicking on an I/O parallelogram leads to a [next 4 slides] scenario that generates and uses Big Data].\n",
    "\n"
   ]
  },
  {
   "cell_type": "markdown",
   "metadata": {},
   "source": [
    "How Many Megabytes (MB) in a Gigabyte (GB)? There are 1,024 MB in 1 GB….How Many Gigabytes (GB) in a Terabyte (TB)?...There are 1,024 GB in 1 TB…. How Many Terabytes (TB) in a petabyte (PB)?...There are 1,024 TB in 1 PB…and beyond!\n"
   ]
  },
  {
   "cell_type": "markdown",
   "metadata": {},
   "source": [
    "Fun facts:\n",
    "\n",
    "- The terabyte (TB) is the most common unit used to measure hard drive size and a number you might actually run into from time to time.\n",
    "- The Hubble Space Telescope generates about 10 TB of new data every year.\n",
    "- Around 130,000 digital photos would require 1 TB of space...close to 400 photos every day for a year!\n",
    "- The movie Avatar needed about 1 PB of storage to render those graphics.\n",
    "- It's estimated that the human brain can store around 2.5 PB of memory data!\n"
   ]
  }
 ],
 "metadata": {
  "kernelspec": {
   "display_name": "Python 3",
   "language": "python",
   "name": "python3"
  },
  "language_info": {
   "codemirror_mode": {
    "name": "ipython",
    "version": 3
   },
   "file_extension": ".py",
   "mimetype": "text/x-python",
   "name": "python",
   "nbconvert_exporter": "python",
   "pygments_lexer": "ipython3",
   "version": "3.7.0"
  }
 },
 "nbformat": 4,
 "nbformat_minor": 2
}
