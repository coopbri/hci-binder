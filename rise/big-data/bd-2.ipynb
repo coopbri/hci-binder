{
 "cells": [
  {
   "cell_type": "markdown",
   "metadata": {
    "slideshow": {
     "slide_type": "slide"
    }
   },
   "source": [
    "# Big Data\n",
    "## Routing: Big Data Example\n",
    "*Lesson Developer: Jennifer Swift jswift@usc.edu*"
   ]
  },
  {
   "cell_type": "code",
   "execution_count": 2,
   "metadata": {
    "init_cell": true,
    "slideshow": {
     "slide_type": "skip"
    }
   },
   "outputs": [
    {
     "data": {
      "text/html": [
       "\n",
       "    <script>\n",
       "        display = true; \n",
       "        function toggle() {\n",
       "            var input = $(\"div.input\");\n",
       "            if (display) { input.hide(); }\n",
       "            else { input.show(); }\n",
       "            display = !display;\n",
       "        }\n",
       "        $(document).ready(toggle);\n",
       "    </script>\n",
       "    \n",
       "    <form action=\"javascript:toggle()\">\n",
       "        <input type=\"submit\" value=\"Toggle raw code\">\n",
       "    </form>\n"
      ],
      "text/plain": [
       "<IPython.core.display.HTML object>"
      ]
     },
     "execution_count": 2,
     "metadata": {},
     "output_type": "execute_result"
    }
   ],
   "source": [
    "from IPython.display import HTML, IFrame\n",
    "\n",
    "# hide code output\n",
    "HTML('''\n",
    "    <script>\n",
    "        display = true; \n",
    "        function toggle() {\n",
    "            var input = $(\"div.input\");\n",
    "            if (display) { input.hide(); }\n",
    "            else { input.show(); }\n",
    "            display = !display;\n",
    "        }\n",
    "        $(document).ready(toggle);\n",
    "    </script>\n",
    "    \n",
    "    <form action=\"javascript:toggle()\">\n",
    "        <input type=\"submit\" value=\"Toggle raw code\">\n",
    "    </form>\n",
    "''')"
   ]
  },
  {
   "cell_type": "markdown",
   "metadata": {
    "slideshow": {
     "slide_type": "slide"
    }
   },
   "source": [
    "### Jupyter Notebook Routing Exercise: Variety, Velocity and Volume\n",
    "\n",
    "- What kind of big data is involved in a seemingly simple request to find a route to find a store?\n",
    "- How does a data provider manage 10 million requests like this per minute (velocity) from users searching for locations and/or routes?\n",
    "\n",
    "![big data image selection standin for D3 interactive element](big-data-image-2.png)"
   ]
  },
  {
   "cell_type": "markdown",
   "metadata": {
    "slideshow": {
     "slide_type": "notes"
    }
   },
   "source": [
    "Describe the characteristics of routing data in terms of “three V’s”: volume, variety, and velocity\n",
    "\n",
    "? Will this be a textbox entry for assessment?\n"
   ]
  },
  {
   "cell_type": "markdown",
   "metadata": {
    "slideshow": {
     "slide_type": "notes"
    }
   },
   "source": [
    "Big Data analysis definitions: Accessibility [of a big data store], Geoprocessing [GIS geoprocessing tools [used for spatial analysis of big data]\n",
    "\n",
    "This slide includes Big Data example of routing, covers definitions for LO 3: Explain common big data infrastructures involved in this example, several of these:\n",
    "\n",
    "Big data storage\n",
    "Big data management\n",
    "Desktop / local computing\n",
    "Cloud computing\n",
    "Big data framework\n",
    "Cyberinfrastructure\n",
    "High-Performance Computing (HPC)\n",
    "High-Throughput Computing (HTC)\n",
    "Software used to collect big data\n",
    "Software used to store big data\n",
    "Computing languages used to process big data\n",
    "Geospatial software used to analyze big data\n",
    "Geospatial software can be used to map big data\n",
    "Software used to visualize big data in graphics (e.g. charts) other than maps\n",
    "\n"
   ]
  }
 ],
 "metadata": {
  "celltoolbar": "Slideshow",
  "kernelspec": {
   "display_name": "Python 3",
   "language": "python",
   "name": "python3"
  },
  "language_info": {
   "codemirror_mode": {
    "name": "ipython",
    "version": 3
   },
   "file_extension": ".py",
   "mimetype": "text/x-python",
   "name": "python",
   "nbconvert_exporter": "python",
   "pygments_lexer": "ipython3",
   "version": "3.7.4"
  }
 },
 "nbformat": 4,
 "nbformat_minor": 2
}
