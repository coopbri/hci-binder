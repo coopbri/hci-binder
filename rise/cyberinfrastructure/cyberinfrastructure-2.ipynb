{
 "cells": [
  {
   "cell_type": "markdown",
   "metadata": {
    "slideshow": {
     "slide_type": "skip"
    }
   },
   "source": [
    "# Cyberinfrastructure\n",
    "## History of Computation\n",
    "*Lesson Developer: Craig A. Stewart stewart@iu.edu*"
   ]
  },
  {
   "cell_type": "code",
   "execution_count": 1,
   "metadata": {
    "init_cell": true,
    "slideshow": {
     "slide_type": "skip"
    }
   },
   "outputs": [
    {
     "data": {
      "text/html": [
       "\n",
       "    <script>\n",
       "        display = true; \n",
       "        function toggle() {\n",
       "            var input = $(\"div.input\");\n",
       "            if (display) { input.hide(); }\n",
       "            else { input.show(); }\n",
       "            display = !display;\n",
       "        }\n",
       "        $(document).ready(toggle);\n",
       "    </script>\n",
       "    \n",
       "    <form action=\"javascript:toggle()\">\n",
       "        <input type=\"submit\" value=\"Toggle raw code\">\n",
       "    </form>\n"
      ],
      "text/plain": [
       "<IPython.core.display.HTML object>"
      ]
     },
     "execution_count": 1,
     "metadata": {},
     "output_type": "execute_result"
    }
   ],
   "source": [
    "from IPython.display import HTML, IFrame\n",
    "\n",
    "# hide code output\n",
    "HTML('''\n",
    "    <script>\n",
    "        display = true; \n",
    "        function toggle() {\n",
    "            var input = $(\"div.input\");\n",
    "            if (display) { input.hide(); }\n",
    "            else { input.show(); }\n",
    "            display = !display;\n",
    "        }\n",
    "        $(document).ready(toggle);\n",
    "    </script>\n",
    "    \n",
    "    <form action=\"javascript:toggle()\">\n",
    "        <input type=\"submit\" value=\"Toggle raw code\">\n",
    "    </form>\n",
    "''')"
   ]
  },
  {
   "cell_type": "markdown",
   "metadata": {
    "slideshow": {
     "slide_type": "slide"
    }
   },
   "source": [
    "### The first fully electronic computer\n",
    "- The Z3, invented by Konrad Zuse, in Berlin, Germany in 1941\n",
    "- It could accept any program and took about 1 second per addition and 3 seconds per multiplication of a 22 bit number. Faster than an abacus but not much!\n",
    "- We’re not quite sure what the I/O rates were - but input was with a keyboard and output with lights, so … pretty slow\n",
    "\n",
    "\n",
    "![Z3 computer](https://upload.wikimedia.org/wikipedia/commons/4/4c/Z3_Deutsches_Museum.JPG)\n",
    "credit: https://upload.wikimedia.org/wikipedia/commons/4/4c/Z3_Deutsches_Museum.JPG\n"
   ]
  },
  {
   "cell_type": "markdown",
   "metadata": {
    "slideshow": {
     "slide_type": "slide"
    }
   },
   "source": [
    "### Supercomputers!\n",
    "\n",
    "- In the 1970s and 1980s there were lots of different labels for computers. Mainframe computers, minicomputers, workstations.\n",
    "- The label “supercomputers” was invented for several reasons:\n",
    "  - This word distinguished the most powerful computers on earth from \n",
    "  - It sounds cool\n",
    "- What makes a supercomputer?\n",
    "  - There is no fixed and agreed on definition. The general idea is that a supercomputer is one of the most powerful computers around\n",
    "  - One of the general characteristics of supercomputers is that they break computational problems up into many parts and work on those problems in parallel – many different processors each analyzing a part of a problem\n",
    "  - If you have a computer and it costs more than $1,000,000 and you want to call it “super” then go ahead!\n",
    "- And at this point\n",
    "  - If you have not done the introductory lessons on computation and on parallel computing, just remember this material when you do. These three lessons all cover slightly different aspects of some very important material\n"
   ]
  },
  {
   "cell_type": "markdown",
   "metadata": {
    "slideshow": {
     "slide_type": "slide"
    }
   },
   "source": [
    "### The first supercomputer\n",
    "\n",
    "- The first supercomputer which was both “super” and called a supercomputer was the Control Data 6600, designed by Seymour Cray. The first system was delivered to a commercial customer in 1964\n",
    "- This supercomputer could do 3,000 calculations per second\n",
    "- I/O Rate. Because of the way the system was designed, it’s tricky to calculate an input rate. But output was with a teletype, so output was no more than about 10 characters per second\n",
    "\n",
    "![Control Data 6600 Supercomputer]()\n",
    "\n",
    "TODO: Image link missing ..."
   ]
  },
  {
   "cell_type": "markdown",
   "metadata": {
    "slideshow": {
     "slide_type": "slide"
    }
   },
   "source": [
    "### Today’s fastest supercomputer\n",
    "- The fastest (unclassified) supercomputer in the world today is called Summit, at Oak Ridge National Labs in the US.\n",
    "- It has achieved a calculation speed of 148,600,000,000,000 calculations per second. (Calculations are measured now in “FLOPS” - floating point operations per second - and that’s 148 PetaFLOPS. Or, in round numbers, really fast. \n",
    "- I/O rate is 100 GigaBytes per second from an external network (that’s 1,000,000,000 Bytes per second). Local output - to a local file system - is 2.5 TByte / second, or 2,500,000,000,000 Bytes per second\n",
    "\n",
    "![Summit Supercomputer]()\n",
    "\n",
    "TODO: Image link missing ...                                                                                  \n"
   ]
  },
  {
   "cell_type": "markdown",
   "metadata": {
    "slideshow": {
     "slide_type": "slide"
    }
   },
   "source": [
    "### Supercomputers help people do cool stuff\n",
    "\n",
    "- Many discoveries were made with supercomputers, including:\n",
    "  - Solving the four color problem. This is a mathematical problem that is hundreds of years old. The problem is this: prove that any map can be colored with four colors and no two adjoining countries on the map will be colored the same. Supercomputers were used to solve this problem in the mid 1970s\n",
    "  - Calculate the mass of subatomic particles\n",
    "  - Simulate how suns form\n",
    "  - Simulate how tornadoes form\n",
    "\n",
    "![Four Color Map](https://upload.wikimedia.org/wikipedia/commons/8/8a/Four_Colour_Map_Example.svg)\n",
    "image credit: https://commons.wikimedia.org/wiki/File:Four_Colour_Map_Example.svg\n"
   ]
  },
  {
   "cell_type": "markdown",
   "metadata": {
    "slideshow": {
     "slide_type": "slide"
    }
   },
   "source": [
    "### Can you solve the four color problem?"
   ]
  },
  {
   "cell_type": "code",
   "execution_count": 2,
   "metadata": {
    "init_cell": true
   },
   "outputs": [
    {
     "data": {
      "text/html": [
       "\n",
       "        <iframe\n",
       "            width=\"970\"\n",
       "            height=\"730\"\n",
       "            src=\"fourcolor.html\"\n",
       "            frameborder=\"0\"\n",
       "            allowfullscreen\n",
       "        ></iframe>\n",
       "        "
      ],
      "text/plain": [
       "<IPython.lib.display.IFrame at 0x7fc93af67c10>"
      ]
     },
     "execution_count": 2,
     "metadata": {},
     "output_type": "execute_result"
    }
   ],
   "source": [
    "IFrame(\"fourcolor.html\", width=\"970\", height=\"730\")"
   ]
  },
  {
   "cell_type": "markdown",
   "metadata": {
    "slideshow": {
     "slide_type": "slide"
    }
   },
   "source": [
    "### One step further: what was the evolution o f I/O rates of computing devices?\n",
    "\n",
    "TODO: Insert table using Markdown Table format.\n"
   ]
  },
  {
   "cell_type": "markdown",
   "metadata": {
    "slideshow": {
     "slide_type": "slide"
    }
   },
   "source": [
    "## Congratulations!\n",
    "TODO: Need to make a popup congratulations sign here...\n",
    "\n",
    "- You now understand two very important concepts\n",
    "- The early history of computation\n",
    "- Compute / bandwidth ratios – the ratio of amount of computational work done to the amount of bandwidth (amount of data to be transferred). In early computing devices, up to early supercomputers, the ratio of Compute / bandwidth was very high.\n",
    "\n"
   ]
  }
 ],
 "metadata": {
  "celltoolbar": "Slideshow",
  "kernelspec": {
   "display_name": "Python 3",
   "language": "python",
   "name": "python3"
  },
  "language_info": {
   "codemirror_mode": {
    "name": "ipython",
    "version": 3
   },
   "file_extension": ".py",
   "mimetype": "text/x-python",
   "name": "python",
   "nbconvert_exporter": "python",
   "pygments_lexer": "ipython3",
   "version": "3.7.4"
  }
 },
 "nbformat": 4,
 "nbformat_minor": 2
}
